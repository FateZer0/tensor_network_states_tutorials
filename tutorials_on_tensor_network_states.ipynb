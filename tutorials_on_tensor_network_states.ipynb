{
 "cells": [
  {
   "cell_type": "markdown",
   "id": "437245c2",
   "metadata": {},
   "source": [
    "# Tutorial on Tensor Network States Algorithms\n",
    "1. Review of numerical methods to solve quantum manybody systems\n",
    "2. Brief introduction on tensor network states algorithms\n",
    "3. Implementation of variational matrix product states algorithm from scratch\n",
    "4. Implementation of time-evolving block decimation (TEBD) algorithm from scratch\n",
    "5. More advanced topics"
   ]
  },
  {
   "cell_type": "markdown",
   "id": "dd212b77",
   "metadata": {},
   "source": [
    "## Part 1: Review of numerical methods to solve large-scale quantum manybody systems"
   ]
  },
  {
   "cell_type": "markdown",
   "id": "fcb54952",
   "metadata": {},
   "source": [
    "### An extremely important quantum manybody system: the motion of interacting electrons in solids\n",
    "- Model from __first principle__ $\\hat{H} = \\sum_{i} \\left( -\\frac{\\hbar^2}{2m} \\right)\\nabla_i^2 + \\frac{1}{2}\\sum_{i, j} \\frac{e^2}{\\vert r_i - r_j\\vert } - \\sum_{i, l} \\frac{Z e^2}{\\vert r_i - R_l\\vert } $\n",
    "- Strongly corrected lattice models\n",
    "    - Hubbard model\n",
    "    - Anderson impurity model\n",
    "    - Kondo model\n",
    "    - Heisenberg spin chain\n",
    "    - ..."
   ]
  },
  {
   "cell_type": "markdown",
   "id": "3bf92673",
   "metadata": {},
   "source": [
    "### An overview of existing numerical methods\n",
    "- Weakly correlated quantum manybody systems\n",
    "    - Density functional theory (DFT), suitable for __nearly free__ electrons  \n",
    "- Strongly correlated quantum manybody systems\n",
    "    - 2D and above\n",
    "        - Mean field theory (can not get dynamical information)\n",
    "        - Monte Carlo algorithm (suffer from sign problem)\n",
    "        - Infinite projected entangled pair states (iPEPS, tensor network states in 2D)\n",
    "        - Dynamical mean field theory (DMFT) \n",
    "    - 1D\n",
    "        - Matrix product states (MPS, tensor network states in 1D)\n",
    "        - Infinite matrix product states (for infinite system)"
   ]
  },
  {
   "cell_type": "markdown",
   "id": "93552e36",
   "metadata": {},
   "source": [
    "### Additional notes on numerical methods for strongly correlated quantum manybody systems\n",
    "- MPS is usually the **algorithm of choice** for strongly correlated quantum manybody system in 1D\n",
    "- Strongly correlated quantum manybody system beyond 2D are generally __very difficult__ to solve, currently DMFT, iPEPS and Monte Carlo (if there is no sign problem) are the most popular algorithms\n",
    "- The performance of DMFT is strongly dependent on an efficient impurity solver, which is often implemented using either Monte Carlo or MPS algorithm."
   ]
  },
  {
   "cell_type": "markdown",
   "id": "f067b9bd",
   "metadata": {},
   "source": [
    "## Part 2: Brief introduction on tensor network states algorithms"
   ]
  },
  {
   "cell_type": "markdown",
   "id": "2904279c",
   "metadata": {},
   "source": [
    "### History of TNS algorithms\n",
    "- K. G. Wilson __numerical renormalization group__ theory for solving Kondo model (1961)\n",
    "- Steve White invented __Density Matrix Renormalization Group__ method, with two versions for both finite and infinite systems. The __finite version__ has achieved great success very soon for many one-dimensional systems (PRL, 69, 19, 1992 and PRB 48, 14, 1993)\n",
    "- D. Vidal et.al introduced the __Matrix Product States__ representation of quantum many-body states (MPS is equivalent to DMRG in 1D, but allows more elegant coding as well as easier generalization to high dimensions) (PRL, 91, 147902, 2003)\n",
    "- Infinite MPS, Variational uniform MPS, Tree Tensor Network, MERA, PEPS, iPEPS..."
   ]
  },
  {
   "cell_type": "markdown",
   "id": "c0985926",
   "metadata": {},
   "source": [
    "## Part 3: Implementation of variational matrix product states algorithm from scratch"
   ]
  },
  {
   "cell_type": "markdown",
   "id": "410ad8bf",
   "metadata": {},
   "source": [
    "### Main knowledge required from linear algebra:\n",
    "1. Tensor contract (Einstein summation)\n",
    "2. Singular value decomposition $svd(A) = U * S * V$\n",
    "3. (Sparse) eigenvalue decomposition $A x = x \\lambda$"
   ]
  },
  {
   "cell_type": "code",
   "execution_count": 1,
   "id": "ed5fc340",
   "metadata": {},
   "outputs": [],
   "source": [
    "using LinearAlgebra\n",
    "using TensorOperations # used for tensor contrac"
   ]
  },
  {
   "cell_type": "code",
   "execution_count": 2,
   "id": "564462de",
   "metadata": {},
   "outputs": [
    {
     "data": {
      "text/plain": [
       "(4, 2, 7)"
      ]
     },
     "execution_count": 2,
     "metadata": {},
     "output_type": "execute_result"
    }
   ],
   "source": [
    "a = randn(3,4,5)\n",
    "b = randn(2,3,5,7)\n",
    "\n",
    "@tensor r[y, u, w] := a[x, y, z] * b[u, x, z, w]\n",
    "\n",
    "size(r)"
   ]
  },
  {
   "cell_type": "code",
   "execution_count": 3,
   "id": "6c11141f",
   "metadata": {},
   "outputs": [
    {
     "name": "stdout",
     "output_type": "stream",
     "text": [
      "u size = (3, 3), s size = (3,), v size = (4, 3)\n",
      "true\n"
     ]
    }
   ],
   "source": [
    "a = rand(3, 4)\n",
    "u, s, v = svd(a)\n",
    "println(\"u size = $(size(u)), s size = $(size(s)), v size = $(size(v))\")\n",
    "println(isapprox(u * Diagonal(s) * v', a))"
   ]
  },
  {
   "cell_type": "markdown",
   "id": "f03b6a79",
   "metadata": {},
   "source": [
    "The svd convention for v maybe different from other language!!!, I prefer to use the following convention."
   ]
  },
  {
   "cell_type": "code",
   "execution_count": 4,
   "id": "79fe8df2",
   "metadata": {},
   "outputs": [
    {
     "data": {
      "text/plain": [
       "mysvd (generic function with 1 method)"
      ]
     },
     "execution_count": 4,
     "metadata": {},
     "output_type": "execute_result"
    }
   ],
   "source": [
    "function mysvd(a)\n",
    "    u, s, v = svd(a)\n",
    "    return u, s, v'\n",
    "end"
   ]
  },
  {
   "cell_type": "code",
   "execution_count": 5,
   "id": "23072dc3",
   "metadata": {},
   "outputs": [
    {
     "name": "stdout",
     "output_type": "stream",
     "text": [
      "true\n"
     ]
    }
   ],
   "source": [
    "a = randn(4, 4)\n",
    "a = a + a'\n",
    "\n",
    "lambdas, x = eigen(Symmetric(a))\n",
    "\n",
    "println(isapprox(a * x, x * Diagonal(lambdas)))"
   ]
  },
  {
   "cell_type": "markdown",
   "id": "ce51dad7",
   "metadata": {},
   "source": [
    "#### Sparse eigensolver"
   ]
  },
  {
   "cell_type": "code",
   "execution_count": 6,
   "id": "381a52a2",
   "metadata": {},
   "outputs": [],
   "source": [
    "using KrylovKit"
   ]
  },
  {
   "cell_type": "code",
   "execution_count": 7,
   "id": "e814eb1b",
   "metadata": {},
   "outputs": [
    {
     "name": "stdout",
     "output_type": "stream",
     "text": [
      "number of converged eigenpairs is 2, the lowest eigenvalues are [-7.762135009299872, -7.585366345476228]\n"
     ]
    }
   ],
   "source": [
    "a = rand(100, 100)\n",
    "a = a + a'\n",
    "\n",
    "lambdas, x, info = eigsolve(a, randn(size(a, 1)), 2, :SR, ishermitian=true)\n",
    "println(\"number of converged eigenpairs is $(info.converged), the lowest eigenvalues are $(lambdas)\")"
   ]
  },
  {
   "cell_type": "markdown",
   "id": "767fa3e7",
   "metadata": {},
   "source": [
    "### A. Matrix product states representation of quantum state"
   ]
  },
  {
   "cell_type": "markdown",
   "id": "f62bdf1e",
   "metadata": {},
   "source": [
    "MPS is a chain of three-dimensional tensors, written as ${\\rm MPS} = \\sum_{a_1, a_2, \\dots, a_L}M^{\\sigma_1}_{a_1, a_{2}} M^{\\sigma_2}_{a_2, a_3} \\dots M^{\\sigma_L}_{a_L, a_{L+1}}$, with each tensor represented as\n",
    "$M^{\\sigma_l}_{a_l, a_{l+1}}$ = <img src=\"mpstensor.png\" width=\"200\" height=\"200\" />. We will use <span style=\"color:red\">$\\sigma_l$</span> to represent the __<span style=\"color:red\">physical</span>__ indices, and $a_l$ for the __auxiliary__ indices. The maximum size of the auxiliary indices $a_l$ is refered to as the __bond dimension__, writte as $D$."
   ]
  },
  {
   "cell_type": "markdown",
   "id": "267993a2",
   "metadata": {},
   "source": [
    "#### Why MPS is useful?\n",
    "\n",
    "- An $n$-qubit quantum state does not have to be stored in the standard way as an $n$-dimensional tensor\n",
    "- MPS can efficiently (polynomial) represent a class of quantum states with __a finite amount of entanglement__"
   ]
  },
  {
   "cell_type": "markdown",
   "id": "d9c9f452",
   "metadata": {},
   "source": [
    "#### Examples of MPS\n",
    "An elegant way to write down an MPS analytically - write each 3-dimensional tensor as a matrix, with entry to be a vector\n",
    "- Product state with no entanglement, for example for $\\vert 00\\dots 0 \\rangle = [\\vert 0\\rangle]\\times[\\vert 0\\rangle] \\dots \\times[\\vert 0\\rangle] $ with $D=1$\n",
    "- GHZ state $\\vert 00\\dots 0 \\rangle + \\vert 11 \\dots 1 \\rangle = \\left[\\begin{array}{cc} \\vert 0\\rangle & \\vert 1\\rangle \\end{array}\\right] \\times \\left[\\begin{array}{cc} \\vert 0\\rangle & 0 \\\\ 0 & \\vert 1\\rangle \\end{array}\\right] \\dots \\times \\left[\\begin{array}{cc} \\vert 0\\rangle \\\\ \\vert 1\\rangle \\end{array}\\right] $ with $D=2$\n",
    "\n",
    "Only $D^2L$ complex numbers needs to be stored for an $L$-qubit MPS!"
   ]
  },
  {
   "cell_type": "markdown",
   "id": "d911cf90",
   "metadata": {},
   "source": [
    "MPS representation is not unique, several __Canonical form__ of MPS are often used\n",
    "- MPS is said to be __left-canonical__ if each tensor $M^{\\sigma_l}_{a_l, a_{l+1}}$ satisfied $\\sum_{\\sigma_l, a_l}M^{\\sigma_l}_{a_l, a_{l+1}} {\\rm conj}(M^{\\sigma_l}_{a_l, a'_{l+1}}) = I_{a_{l+1}, a'_{l+1}}$. In this case we often write ${\\rm MPS} = \\sum_{a_1, a_2, \\dots, a_L}A^{\\sigma_1}_{a_1, a_{2}} A^{\\sigma_2}_{a_2, a_3} \\dots A^{\\sigma_L}_{a_L, a_{L+1}}$\n",
    "- MPS is said to be __right-canonical__ if each tensor $M^{\\sigma_l}_{a_l, a_{l+1}}$ satisfied $\\sum_{\\sigma_l, a_{l+1}}M^{\\sigma_l}_{a_l, a_{l+1}} {\\rm conj}(M^{\\sigma_l}_{a'_l, a_{l+1}}) = I_{a_{l}, a'_{l}}$. In this case we often write ${\\rm MPS} = \\sum_{a_1, a_2, \\dots, a_L}B^{\\sigma_1}_{a_1, a_{2}} B^{\\sigma_2}_{a_2, a_3} \\dots B^{\\sigma_L}_{a_L, a_{L+1}}$\n",
    "- MPS is said to be __mixed-canonical on site l__ if ${\\rm MPS} = \\sum_{a_1, a_2, \\dots, a_L}A^{\\sigma_1}_{a_1, a_{2}} \\dots A^{\\sigma_{l-1}}_{a_{l-1}, a_l} M^{\\sigma_{l}}_{a_{l}, a_{l+1}} B^{\\sigma_{l+1}}_{a_{l+1}, a_{l+2}}  \\dots B^{\\sigma_L}_{a_L, a_{L+1}}$\n",
    "\n",
    "For reasons that will become clear later, for variational MPS algorithm mixed-canonical is used, while for TEBD algorithm either left-canonical or right-canonical form is used."
   ]
  },
  {
   "cell_type": "markdown",
   "id": "f2dc1d43",
   "metadata": {},
   "source": [
    "#### In practice the MPS is random generated, which can be done as"
   ]
  },
  {
   "cell_type": "code",
   "execution_count": 8,
   "id": "61fd3fed",
   "metadata": {},
   "outputs": [
    {
     "name": "stdout",
     "output_type": "stream",
     "text": [
      "size of mps tensor on site 1 is (1, 2, 2)\n",
      "size of mps tensor on site 2 is (2, 2, 2)\n",
      "size of mps tensor on site 3 is (2, 2, 2)\n",
      "size of mps tensor on site 4 is (2, 2, 1)\n"
     ]
    }
   ],
   "source": [
    "function generate_random_mps(::Type{T}, L::Int, d::Int, D::Int) where {T <: Number}\n",
    "    (L >= 2) || error(\"number of sites must be larger than 1\")\n",
    "    mps = Vector{Array{T, 3}}(undef, L)\n",
    "    mps[1] = randn(T, 1, d, D)\n",
    "    mps[L] = randn(T, D, d, 1)\n",
    "    for i in 2:L-1\n",
    "        mps[i] = randn(T, D, d, D) / D\n",
    "    end\n",
    "    return mps\n",
    "end\n",
    "\n",
    "mps = generate_random_mps(ComplexF64, 4, 2, 2)\n",
    "for (site, item) in enumerate(mps)\n",
    "    println(\"size of mps tensor on site $site is $(size(item))\")\n",
    "end"
   ]
  },
  {
   "cell_type": "markdown",
   "id": "237c2717",
   "metadata": {},
   "source": [
    "#### An important operation on MPS is to bring an arbitrary form of MPS into a canonical form "
   ]
  },
  {
   "cell_type": "markdown",
   "id": "f38e2242",
   "metadata": {},
   "source": [
    "Prepare a single 3-dimensional tensor on a single site into canonical form"
   ]
  },
  {
   "cell_type": "code",
   "execution_count": 9,
   "id": "e7c79255",
   "metadata": {},
   "outputs": [
    {
     "name": "stdout",
     "output_type": "stream",
     "text": [
      "prepare left, U size = (4, 2, 5), S size = (5,), V size = (5, 5), U is left canonical? true\n",
      "prepare right, U size = (4, 4), S size = (4,), V size = (4, 2, 5), V is right canonical? true\n"
     ]
    }
   ],
   "source": [
    "using LinearAlgebra\n",
    "using TensorOperations\n",
    "\n",
    "function prepare_left(Mj::AbstractArray{<:Number, 3})\n",
    "    a_j, sigma_j, a_j_1 = size(Mj)\n",
    "    U, S, V = mysvd(reshape(Mj, a_j * sigma_j, a_j_1))\n",
    "    return reshape(U, a_j, sigma_j, length(S)), S, V\n",
    "end\n",
    "\n",
    "function is_left_canonical(Mj::AbstractArray{<:Number, 3})\n",
    "    @tensor r[c, d] := conj(Mj[a, b, c]) * Mj[a, b, d]\n",
    "    return isapprox(r, I)\n",
    "end \n",
    "\n",
    "function prepare_right(Mj::AbstractArray{<:Number, 3})\n",
    "    a_j, sigma_j, a_j_1 = size(Mj)\n",
    "    U, S, V = mysvd(reshape(Mj, a_j, sigma_j * a_j_1))\n",
    "    return U, S, reshape(V, length(S), sigma_j, a_j_1)\n",
    "end\n",
    "\n",
    "function is_right_canonical(Mj::AbstractArray{<:Number, 3})\n",
    "    @tensor r[a, b] := conj(Mj[a, c, d]) * Mj[b, c, d]\n",
    "    return isapprox(r, I)\n",
    "end\n",
    "\n",
    "mj = randn(ComplexF64, 4, 2, 5)\n",
    "mj_new, s, v = prepare_left(mj)\n",
    "println(\"prepare left, U size = $(size(mj_new)), S size = $(size(s)), V size = $(size(v)), U is left canonical? $(is_left_canonical(mj_new))\")\n",
    "\n",
    "u, s, mj_new = prepare_right(mj)\n",
    "println(\"prepare right, U size = $(size(u)), S size = $(size(s)), V size = $(size(mj_new)), V is right canonical? $(is_right_canonical(mj_new))\")"
   ]
  },
  {
   "cell_type": "markdown",
   "id": "02c2db4c",
   "metadata": {},
   "source": [
    "#### Prepare an MPS into left-canonical form"
   ]
  },
  {
   "cell_type": "code",
   "execution_count": 10,
   "id": "8ceeb41e",
   "metadata": {},
   "outputs": [
    {
     "data": {
      "text/plain": [
       "true"
      ]
     },
     "execution_count": 10,
     "metadata": {},
     "output_type": "execute_result"
    }
   ],
   "source": [
    "function prepare_left!(mps::Vector{<:AbstractArray{T, 3}}) where {T <: Number}\n",
    "    isempty(mps) && error(\"input mps is empty.\")\n",
    "    L = length(mps)\n",
    "    svectors = Vector{real(T)}[]\n",
    "    for i in 1:L\n",
    "        mps[i], s, v = prepare_left(mps[i])\n",
    "        if i != L\n",
    "            v = Diagonal(s) * v\n",
    "            @tensor mpsj[a, c, d] := v[a, b] * mps[i+1][b, c, d]\n",
    "            mps[i+1] = mpsj\n",
    "            push!(svectors, s)\n",
    "        end\n",
    "    end\n",
    "    return svectors\n",
    "end\n",
    "\n",
    "function is_left_canonical(mps::Vector{<:AbstractArray{T, 3}}) where {T <: Number}\n",
    "    for i in 1:length(mps)\n",
    "        is_left_canonical(mps[i]) || return false\n",
    "    end\n",
    "    return true\n",
    "end\n",
    "\n",
    "\n",
    "mps = generate_random_mps(ComplexF64, 4, 2, 3)\n",
    "svectors = prepare_left!(mps)\n",
    "\n",
    "is_left_canonical(mps)"
   ]
  },
  {
   "cell_type": "markdown",
   "id": "b9fce3e4",
   "metadata": {},
   "source": [
    "#### Prepare an MPS into right-canonical form"
   ]
  },
  {
   "cell_type": "code",
   "execution_count": 11,
   "id": "49d9e5fd",
   "metadata": {},
   "outputs": [
    {
     "data": {
      "text/plain": [
       "true"
      ]
     },
     "execution_count": 11,
     "metadata": {},
     "output_type": "execute_result"
    }
   ],
   "source": [
    "function prepare_right!(mps::Vector{<:AbstractArray{T, 3}}) where {T <: Number}\n",
    "    isempty(mps) && error(\"input mps is empty.\")\n",
    "    L = length(mps)\n",
    "    svectors = Vector{real(T)}[]\n",
    "    for i in L:-1:1\n",
    "        u, s, mps[i] = prepare_right(mps[i])\n",
    "        if i != 1\n",
    "            u = u * Diagonal(s)\n",
    "            @tensor mpsj[a, b, d] := mps[i-1][a, b, c] * u[c, d]\n",
    "            mps[i-1] = mpsj\n",
    "            push!(svectors, s)\n",
    "        end\n",
    "    end\n",
    "    return reverse(svectors)\n",
    "end\n",
    "\n",
    "function is_right_canonical(mps::Vector{<:AbstractArray{T, 3}}) where {T <: Number}\n",
    "    for i in length(mps):-1:1\n",
    "        is_right_canonical(mps[i]) || return false\n",
    "    end\n",
    "    return true\n",
    "end\n",
    "\n",
    "\n",
    "mps = generate_random_mps(ComplexF64, 4, 2, 3)\n",
    "svectors = prepare_right!(mps)\n",
    "\n",
    "is_right_canonical(mps)"
   ]
  },
  {
   "cell_type": "markdown",
   "id": "f27495be",
   "metadata": {},
   "source": [
    "Mixed-canonical form does not required to be particularly prepared, it is usually satisfied within the algorithm"
   ]
  },
  {
   "cell_type": "markdown",
   "id": "128e2ebc",
   "metadata": {},
   "source": [
    "### B. Matrix product operator representation of Hamiltonian"
   ]
  },
  {
   "cell_type": "markdown",
   "id": "895e8f96",
   "metadata": {},
   "source": [
    "MPO is stored as a chain of 4-dimensional tensors, written as ${\\rm MPO} = \\sum_{b_1, \\dots b_{L+1}}W_{b_1, b_2}^{\\sigma_1, \\sigma_1'} W_{b_2, b_3}^{\\sigma_2, \\sigma_2'} \\dots W_{b_L, b_{L+1}}^{\\sigma_L, \\sigma_L'}$, with each tensor represented $W_{b_l, b_{l+1}}^{\\sigma_l, \\sigma_l'} =$<img src=\"mpotensor.png\" width=\"200\" height=\"200\" />\n",
    "The maximum size of the auxiliary indices $b_l$ is refered to as the __bond dimension__ of MPO, often writte as $D_w$."
   ]
  },
  {
   "cell_type": "markdown",
   "id": "3756f5b7",
   "metadata": {},
   "source": [
    "#### Why MPO is useful\n",
    "- MPO is only developed in recent 10 years, while MPS has been developed for close to 20 years\n",
    "- MPO is not necessary for many problems, but is very elegant for coding"
   ]
  },
  {
   "cell_type": "markdown",
   "id": "414663c8",
   "metadata": {},
   "source": [
    "#### Examples of MPO\n",
    "An elegant way to write down an MPS analytically - write each 4-dimensional tensor as a matrix, with entry to be a matrix\n",
    "- Product MPO, for example for $\\hat{\\sigma}^x \\otimes \\hat{\\sigma}^x \\otimes \\hat{\\sigma}^x = [\\hat{\\sigma}^x]\\times[\\hat{\\sigma}^x] \\dots \\times[\\hat{\\sigma}^x] $ with $D_w=1$\n",
    "- $\\hat{\\sigma}^x \\otimes \\hat{\\sigma}^x \\otimes \\dots \\hat{\\sigma}^x + \\hat{\\sigma}^y \\otimes \\hat{\\sigma}^y \\otimes \\dots \\hat{\\sigma}^y = \\left[\\begin{array}{cc} \\hat{\\sigma}^x & \\hat{\\sigma}^y \\end{array}\\right] \\times \\left[\\begin{array}{cc} \\hat{\\sigma}^x & 0 \\\\ 0 & \\hat{\\sigma}^y \\end{array}\\right] \\dots \\times \\left[\\begin{array}{cc} \\hat{\\sigma}^x \\\\ \\hat{\\sigma}^y \\end{array}\\right] $ with $D_w=2$\n",
    "\n",
    "MPO for nearest neighbour Hamiltonian:\n",
    "\n",
    "In this tutorial we will take the Heisenberg XXZ chain as our example Hamiltonian, which can be written as $\\hat{H}_{XXZ} = \\sum_{l=1}^{L-1}(J\\hat{\\sigma}^x_l \\hat{\\sigma}^x_{l+1} + J\\hat{\\sigma}^y_l \\hat{\\sigma}^y_{l+1} + \\Delta\\hat{\\sigma}^z_l \\hat{\\sigma}^z_{l+1} ) + h_z \\sum_{l=1}^L \\hat{\\sigma}^z_{l} $, thus we have \n",
    "\n",
    "${\\rm MPO}_{XXZ} = \\left[\\begin{array}{ccccc} 1 & \\hat{\\sigma}^x & \\hat{\\sigma}^y & \\hat{\\sigma}^z & h_z \\hat{\\sigma}^z \\end{array}\\right] \\times \\left[\\begin{array}{ccccc} 1 & \\hat{\\sigma}^x & \\hat{\\sigma}^y & \\hat{\\sigma}^z & h_z \\hat{\\sigma}^z  \\\\ 0 & 0 & 0 & 0 & J\\hat{\\sigma}^x \\\\ 0 & 0 & 0 & 0 & J\\hat{\\sigma}^y \\\\ 0 & 0 & 0 & 0 & \\Delta\\hat{\\sigma}^z \\\\ 0 & 0 & 0 & 0 & 1 \\end{array}\\right] \\dots \\times \\left[\\begin{array}{cc} h_z \\hat{\\sigma}^z \\\\ J\\hat{\\sigma}^x \\\\ J\\hat{\\sigma}^y \\\\ \\Delta\\hat{\\sigma}^z \\\\ 1 \\end{array}\\right]  $"
   ]
  },
  {
   "cell_type": "code",
   "execution_count": 12,
   "id": "3e04bce1",
   "metadata": {},
   "outputs": [
    {
     "name": "stdout",
     "output_type": "stream",
     "text": [
      "size of mpo tensor on site 1 is (2, 1, 5, 2)\n",
      "size of mpo tensor on site 2 is (2, 5, 5, 2)\n",
      "size of mpo tensor on site 3 is (2, 5, 5, 2)\n",
      "size of mpo tensor on site 4 is (2, 5, 1, 2)\n"
     ]
    }
   ],
   "source": [
    "function pauli_operators()\n",
    "    sigma_x = [0. 1; 1 0]\n",
    "    sigma_y = [0 -im; im 0]\n",
    "    sigma_z = [1. 0; 0 -1]\n",
    "    return sigma_x, sigma_y, sigma_z\n",
    "end\n",
    "\n",
    "function xxz_mpo(L::Int, J::Real, Delta::Real, hz::Real=0.)\n",
    "    (L >= 2) || error(\"number of sites must be larger than 2.\")\n",
    "    sigma_x, sigma_y, sigma_z = pauli_operators()\n",
    "    I2 = Matrix{ComplexF64}(I, 2, 2)\n",
    "    mpo = Vector{Array{ComplexF64, 4}}(undef, L)\n",
    "    mpoj = zeros(ComplexF64, 2, 1, 5, 2)\n",
    "    mpoj[:, 1, 1, :] = I2\n",
    "    mpoj[:, 1, 2, :] = sigma_x\n",
    "    mpoj[:, 1, 3, :] = sigma_y\n",
    "    mpoj[:, 1, 4, :] = sigma_z\n",
    "    mpoj[:, 1, 5, :] = hz .* sigma_z\n",
    "    mpo[1] = mpoj\n",
    "    for i in 2:L-1\n",
    "        mpoj = zeros(ComplexF64, 2,5,5,2)\n",
    "        mpoj[:,1,1,:] = I2\n",
    "        mpoj[:,1,2,:] = sigma_x\n",
    "        mpoj[:,1,3,:] = sigma_y\n",
    "        mpoj[:,1,4,:] = sigma_z\n",
    "        mpoj[:,1,5,:] = hz .* sigma_z\n",
    "        mpoj[:,2,5,:] = J .* sigma_x\n",
    "        mpoj[:,3,5,:] = J .* sigma_y\n",
    "        mpoj[:,4,5,:] = Delta .* sigma_z\n",
    "        mpoj[:,5,5,:] = I2\n",
    "        mpo[i] = mpoj\n",
    "    end\n",
    "    mpoj = zeros(ComplexF64, 2, 5, 1, 2)\n",
    "    mpoj[:, 1, 1, :] = hz .* sigma_z\n",
    "    mpoj[:, 2, 1, :] = J .* sigma_x\n",
    "    mpoj[:, 3, 1, :] = J .* sigma_y\n",
    "    mpoj[:, 4, 1, :] = Delta .* sigma_z\n",
    "    mpoj[:, 5, 1, :] = I2\n",
    "    mpo[L] = mpoj\n",
    "    return mpo\n",
    "end\n",
    "\n",
    "mpo = xxz_mpo(4, 1., 1.2)\n",
    "\n",
    "for (site, item) in enumerate(mpo)\n",
    "    println(\"size of mpo tensor on site $site is $(size(item))\")\n",
    "end"
   ]
  },
  {
   "cell_type": "markdown",
   "id": "8330ec79",
   "metadata": {},
   "source": [
    "### C. Variational MPS algorithm\n",
    "1. Initialize Hamiltonian as MPO\n",
    "2. Generate a random MPS and prepare it into right-canonical form\n",
    "3. Compute Hstorage based on MPO and MPS\n",
    "4. Left to right sweep: minimize local energy from $1$ to $L-1$-th and update the local MPS tensor\n",
    "5. Right to left sweep: minimize local energy from $L$ to $2$-th and update the local MPS tensor"
   ]
  },
  {
   "cell_type": "markdown",
   "id": "e7b16293",
   "metadata": {},
   "source": [
    "#### Compute Hstorage\n",
    "\n",
    "Convention for each tensor of Hstorage <img src=\"hstoragetensor.png\" width=\"100\" height=\"100\" />"
   ]
  },
  {
   "cell_type": "markdown",
   "id": "b44c7d33",
   "metadata": {},
   "source": [
    "Update Hstorage from left to right <img src=\"updatehstorage.png\" width=\"400\" height=\"400\" />"
   ]
  },
  {
   "cell_type": "code",
   "execution_count": 13,
   "id": "ef4f112c",
   "metadata": {},
   "outputs": [
    {
     "name": "stdout",
     "output_type": "stream",
     "text": [
      "size of Storage tensor on site 1 is (1, 1, 1)\n",
      "size of Storage tensor on site 2 is (2, 5, 2)\n",
      "size of Storage tensor on site 3 is (2, 5, 2)\n",
      "size of Storage tensor on site 4 is (2, 5, 2)\n",
      "size of Storage tensor on site 5 is (1, 1, 1)\n"
     ]
    }
   ],
   "source": [
    "function updateHleft(hold::AbstractArray{<:Number, 3}, mpoj::AbstractArray{<:Number, 4}, mpsj::AbstractArray{<:Number, 3})\n",
    "    @tensor h1[b,c,d,e] := conj(mpsj[a, b, c]) * hold[a, d, e]\n",
    "    @tensor h2[b,e,d,f] := h1[a,b,c,d] * mpoj[a,c,e,f]\n",
    "    @tensor hnew[a,b,e] := h2[a,b,c,d] * mpsj[c,d,e]\n",
    "    return hnew\n",
    "end\n",
    "\n",
    "function updateHright(hold::AbstractArray{<:Number, 3}, mpoj::AbstractArray{<:Number, 4}, mpsj::AbstractArray{<:Number, 3})\n",
    "    @tensor h1[a,b,d,e] := conj(mpsj[a, b, c]) * hold[c, d, e]\n",
    "    @tensor h2[a,e,f,d] := h1[a,b,c,d] * mpoj[b,e,c,f]\n",
    "    @tensor hnew[a,b,e] := h2[a,b,c,d] * mpsj[e,c,d]\n",
    "    return hnew\n",
    "end\n",
    "\n",
    "function initialize_Hstorage_right(mpo, mps)\n",
    "    (length(mpo) == length(mps)) || error(\"mpo mps size mismatch.\")\n",
    "    L = length(mpo)\n",
    "    hstorage = Vector{Any}(undef, L+1)\n",
    "    hstorage[L+1] = ones(1, 1, 1)\n",
    "    hstorage[1] = ones(1, 1, 1)\n",
    "    for i in L:-1:2\n",
    "        hstorage[i] = updateHright(hstorage[i+1], mpo[i], mps[i])\n",
    "    end\n",
    "    return [hstorage...]\n",
    "end\n",
    "\n",
    "mpo = xxz_mpo(4, 1., 1.1)\n",
    "mps = generate_random_mps(ComplexF64, 4, 2, 2)\n",
    "prepare_right!(mps)\n",
    "hstorage = initialize_Hstorage_right(mpo, mps)\n",
    "\n",
    "for (site, item) in enumerate(hstorage)\n",
    "    println(\"size of Storage tensor on site $site is $(size(item))\")\n",
    "end\n"
   ]
  },
  {
   "cell_type": "markdown",
   "id": "2a95bbc9",
   "metadata": {},
   "source": [
    "#### Local effective Hamiltonian"
   ]
  },
  {
   "cell_type": "code",
   "execution_count": 14,
   "id": "3d387372",
   "metadata": {},
   "outputs": [],
   "source": [
    "struct EffectiveHamiltonian{T<:Number}\n",
    "    mpoj::Array{T, 4}\n",
    "    hleft::Array{T, 3}\n",
    "    hright::Array{T, 3}\n",
    "end\n",
    "\n",
    "function (op::EffectiveHamiltonian)(mpsj::AbstractArray{<:Number, 3})\n",
    "    mpoj = op.mpoj\n",
    "    hleft = op.hleft\n",
    "    hright = op.hright\n",
    "    @tensor h1[a, b, d, e] := hleft[a, b, c] * mpsj[c, d, e]\n",
    "    @tensor h2[a, e, f, d] := h1[a, b, c, d] * mpoj[e, b, f, c]\n",
    "    @tensor mpsj_new[a, b, e] := h2[a, b, c, d] * hright[e, c, d]\n",
    "    return mpsj_new\n",
    "end"
   ]
  },
  {
   "cell_type": "code",
   "execution_count": 15,
   "id": "5de90929",
   "metadata": {},
   "outputs": [
    {
     "data": {
      "text/plain": [
       "DMRG{ComplexF64}"
      ]
     },
     "execution_count": 15,
     "metadata": {},
     "output_type": "execute_result"
    }
   ],
   "source": [
    "struct DMRG{T<:Number}\n",
    "    mpo::Vector{Array{T, 4}}\n",
    "    mps::Vector{Array{T, 3}}\n",
    "    hstorage::Vector{Array{T, 3}}\n",
    "end\n",
    "\n",
    "function DMRG(mpo::Vector{<:AbstractArray{<:Number, 4}}, mps::Vector{<:AbstractArray{<:Number, 3}})\n",
    "    (length(mpo) == length(mps)) || error(\"mpo mps size mismatch.\")\n",
    "    isempty(mpo) && error(\"mpo is empty.\")\n",
    "    hstorage = initialize_Hstorage_right(mpo, mps)\n",
    "    return DMRG(mpo, mps, hstorage)\n",
    "end\n",
    "\n",
    "function DMRG(mpo::Vector{<:AbstractArray{<:Number, 4}}; D::Int)\n",
    "    isempty(mpo) && error(\"mpo is empty.\")\n",
    "    L = length(mpo)\n",
    "    d = size(mpo[1], 1)\n",
    "    mps = generate_random_mps(ComplexF64, L, d, D)\n",
    "    prepare_right!(mps)\n",
    "    return DMRG(mpo, mps)\n",
    "end\n",
    "\n",
    "num_sites(m::DMRG) = length(m.mpo)\n",
    "\n",
    "\n",
    "\n",
    "mpo = xxz_mpo(4, 1., 1.1)\n",
    "mps = generate_random_mps(ComplexF64, 4, 2, 2)\n",
    "prepare_right!(mps)\n",
    "\n",
    "dmrg = DMRG(mpo, mps)\n",
    "typeof(dmrg)"
   ]
  },
  {
   "cell_type": "markdown",
   "id": "50f3e70c",
   "metadata": {},
   "source": [
    "#### Sweep from left to right"
   ]
  },
  {
   "cell_type": "code",
   "execution_count": 16,
   "id": "2ee74442",
   "metadata": {},
   "outputs": [
    {
     "name": "stdout",
     "output_type": "stream",
     "text": [
      "we are sweep from left to right on site 1...\n",
      "lowest eigenvalue at site 1 is -1.7936112698306457\n",
      "we are sweep from left to right on site 2...\n",
      "lowest eigenvalue at site 2 is -3.5921321187817328\n",
      "we are sweep from left to right on site 3...\n",
      "lowest eigenvalue at site 3 is -6.309442386488376\n"
     ]
    },
    {
     "data": {
      "text/plain": [
       "3-element Vector{Float64}:\n",
       " -1.7936112698306457\n",
       " -3.5921321187817328\n",
       " -6.309442386488376"
      ]
     },
     "execution_count": 16,
     "metadata": {},
     "output_type": "execute_result"
    }
   ],
   "source": [
    "function sweep_left_to_right!(m::DMRG)\n",
    "#     here mps is right canonical \n",
    "    Eigenvalues = Float64[]\n",
    "    mpo = m.mpo\n",
    "    mps = m.mps\n",
    "    hstorage = m.hstorage\n",
    "    for site in 1:num_sites(m)-1\n",
    "        println(\"we are sweep from left to right on site $site...\")\n",
    "#         build effective Hamiltonian on site i\n",
    "        hleft = hstorage[site]\n",
    "        hright = hstorage[site+1]\n",
    "        heff = EffectiveHamiltonian(mpo[site], hleft, hright)\n",
    "        evals, evecs = eigsolve(heff, mps[site], 1, :SR, ishermitian=true)\n",
    "        mpsj = evecs[1]\n",
    "        evals_j = evals[1]\n",
    "        push!(Eigenvalues, evals_j)\n",
    "        println(\"lowest eigenvalue at site $site is $(evals_j)\")\n",
    "#         update mps[site] with the current optimal and then prepare it into left-canonical form\n",
    "        mps[site], s, v = prepare_left(mpsj)\n",
    "        v = Diagonal(s) * v\n",
    "        @tensor mpsj1[a, c, d] := v[a, b] * mps[site+1][b, c, d]\n",
    "        mps[site+1] = mpsj1\n",
    "        \n",
    "#         update Hstorage from left\n",
    "        hstorage[site+1] = updateHleft(hstorage[site], mpo[site], mps[site])\n",
    "    end\n",
    "    return Eigenvalues\n",
    "end\n",
    "\n",
    "sweep_left_to_right!(dmrg)"
   ]
  },
  {
   "cell_type": "markdown",
   "id": "4f75323b",
   "metadata": {},
   "source": [
    "#### Sweep from right to left"
   ]
  },
  {
   "cell_type": "code",
   "execution_count": 17,
   "id": "3fc94d98",
   "metadata": {},
   "outputs": [
    {
     "name": "stdout",
     "output_type": "stream",
     "text": [
      "we are sweep from right to left on site 4...\n",
      "lowest eigenvalue at site 4 is -6.309442386488388\n",
      "we are sweep from right to left on site 3...\n",
      "lowest eigenvalue at site 3 is -6.309442386488386\n",
      "we are sweep from right to left on site 2...\n",
      "lowest eigenvalue at site 2 is -6.3483616308909925\n"
     ]
    },
    {
     "data": {
      "text/plain": [
       "3-element Vector{Float64}:\n",
       " -6.309442386488388\n",
       " -6.309442386488386\n",
       " -6.3483616308909925"
      ]
     },
     "execution_count": 17,
     "metadata": {},
     "output_type": "execute_result"
    }
   ],
   "source": [
    "function sweep_right_to_left!(m::DMRG)\n",
    "#     here mps is right canonical \n",
    "    Eigenvalues = Float64[]\n",
    "    mpo = m.mpo\n",
    "    mps = m.mps\n",
    "    hstorage = m.hstorage\n",
    "    for site in num_sites(m):-1:2\n",
    "        println(\"we are sweep from right to left on site $site...\")\n",
    "#         build effective Hamiltonian on site i\n",
    "        hleft = hstorage[site]\n",
    "        hright = hstorage[site+1]\n",
    "        heff = EffectiveHamiltonian(mpo[site], hleft, hright)\n",
    "        evals, evecs = eigsolve(heff, mps[site], 1, :SR, ishermitian=true)\n",
    "        mpsj = evecs[1]\n",
    "        evals_j = evals[1]\n",
    "        push!(Eigenvalues, evals_j)\n",
    "        println(\"lowest eigenvalue at site $site is $(evals_j)\")\n",
    "#         update mps[site] with the current optimal and then prepare it into right-canonical form\n",
    "        u, s, mps[site] = prepare_right(mpsj)\n",
    "        u = u * Diagonal(s) \n",
    "        @tensor mpsj1[a, b, d] := mps[site-1][a, b, c] * u[c, d]\n",
    "        mps[site-1] = mpsj1\n",
    "        \n",
    "#         update Hstorage from left\n",
    "        hstorage[site] = updateHright(hstorage[site+1], mpo[site], mps[site])\n",
    "    end\n",
    "    return Eigenvalues\n",
    "end\n",
    "\n",
    "sweep_right_to_left!(dmrg)"
   ]
  },
  {
   "cell_type": "markdown",
   "id": "b401a0d7",
   "metadata": {},
   "source": [
    "#### Make a full sweep"
   ]
  },
  {
   "cell_type": "code",
   "execution_count": 18,
   "id": "f2a5cc83",
   "metadata": {},
   "outputs": [
    {
     "name": "stdout",
     "output_type": "stream",
     "text": [
      "we are sweep from left to right on site 1...\n",
      "lowest eigenvalue at site 1 is -6.348361630890999\n",
      "we are sweep from left to right on site 2...\n",
      "lowest eigenvalue at site 2 is -6.348361630890999\n",
      "we are sweep from left to right on site 3...\n",
      "lowest eigenvalue at site 3 is -6.357240950447623\n",
      "\n",
      "\n",
      "we are sweep from right to left on site 4...\n",
      "lowest eigenvalue at site 4 is -6.357240950447626\n",
      "we are sweep from right to left on site 3...\n",
      "lowest eigenvalue at site 3 is -6.357240950447622\n",
      "we are sweep from right to left on site 2...\n",
      "lowest eigenvalue at site 2 is -6.360250439332114\n"
     ]
    },
    {
     "data": {
      "text/plain": [
       "6-element Vector{Float64}:\n",
       " -6.348361630890999\n",
       " -6.348361630890999\n",
       " -6.357240950447623\n",
       " -6.357240950447626\n",
       " -6.357240950447622\n",
       " -6.360250439332114"
      ]
     },
     "execution_count": 18,
     "metadata": {},
     "output_type": "execute_result"
    }
   ],
   "source": [
    "sweep!(m::DMRG) = begin\n",
    "    v1 = sweep_left_to_right!(m)\n",
    "    println(\"\\n\")\n",
    "    v2 = sweep_right_to_left!(m)\n",
    "    return vcat(v1, v2)\n",
    "end\n",
    "\n",
    "sweep!(dmrg)"
   ]
  },
  {
   "cell_type": "code",
   "execution_count": 19,
   "id": "705f6dd2",
   "metadata": {},
   "outputs": [
    {
     "name": "stdout",
     "output_type": "stream",
     "text": [
      "we are at the 1-th sweep.\n",
      "we are sweep from left to right on site 1...\n",
      "lowest eigenvalue at site 1 is -6.36025043933212\n",
      "we are sweep from left to right on site 2...\n",
      "lowest eigenvalue at site 2 is -6.360250439332117\n",
      "we are sweep from left to right on site 3...\n",
      "lowest eigenvalue at site 3 is -6.361608643958558\n",
      "\n",
      "\n",
      "we are sweep from right to left on site 4...\n",
      "lowest eigenvalue at site 4 is -6.361608643958561\n",
      "we are sweep from right to left on site 3...\n",
      "lowest eigenvalue at site 3 is -6.3616086439585615\n",
      "we are sweep from right to left on site 2...\n",
      "lowest eigenvalue at site 2 is -6.362486600619489\n",
      "we are at the 2-th sweep.\n",
      "we are sweep from left to right on site 1...\n",
      "lowest eigenvalue at site 1 is -6.362486600619491\n",
      "we are sweep from left to right on site 2...\n",
      "lowest eigenvalue at site 2 is -6.3624866006194924\n",
      "we are sweep from left to right on site 3...\n",
      "lowest eigenvalue at site 3 is -6.36324207644697\n",
      "\n",
      "\n",
      "we are sweep from right to left on site 4...\n",
      "lowest eigenvalue at site 4 is -6.363242076446972\n",
      "we are sweep from right to left on site 3...\n",
      "lowest eigenvalue at site 3 is -6.363242076446971\n",
      "we are sweep from right to left on site 2...\n",
      "lowest eigenvalue at site 2 is -6.363984122753928\n",
      "we are at the 3-th sweep.\n",
      "we are sweep from left to right on site 1...\n",
      "lowest eigenvalue at site 1 is -6.3639841227539256\n",
      "we are sweep from left to right on site 2...\n",
      "lowest eigenvalue at site 2 is -6.363984122753926\n",
      "we are sweep from left to right on site 3...\n",
      "lowest eigenvalue at site 3 is -6.364741445383576\n",
      "\n",
      "\n",
      "we are sweep from right to left on site 4...\n",
      "lowest eigenvalue at site 4 is -6.364741445383577\n",
      "we are sweep from right to left on site 3...\n",
      "lowest eigenvalue at site 3 is -6.36474144538358\n",
      "we are sweep from right to left on site 2...\n",
      "lowest eigenvalue at site 2 is -6.365515758578972\n",
      "we are at the 4-th sweep.\n",
      "we are sweep from left to right on site 1...\n",
      "lowest eigenvalue at site 1 is -6.36551575857898\n",
      "we are sweep from left to right on site 2...\n",
      "lowest eigenvalue at site 2 is -6.3655157585789786\n",
      "we are sweep from left to right on site 3...\n",
      "lowest eigenvalue at site 3 is -6.366299341437006\n",
      "\n",
      "\n",
      "we are sweep from right to left on site 4...\n",
      "lowest eigenvalue at site 4 is -6.366299341437013\n",
      "we are sweep from right to left on site 3...\n",
      "lowest eigenvalue at site 3 is -6.366299341437009\n",
      "we are sweep from right to left on site 2...\n",
      "lowest eigenvalue at site 2 is -6.367081183251976\n",
      "we are at the 5-th sweep.\n",
      "we are sweep from left to right on site 1...\n",
      "lowest eigenvalue at site 1 is -6.367081183251978\n",
      "we are sweep from left to right on site 2...\n",
      "lowest eigenvalue at site 2 is -6.367081183251977\n",
      "we are sweep from left to right on site 3...\n",
      "lowest eigenvalue at site 3 is -6.367849471586607\n",
      "\n",
      "\n",
      "we are sweep from right to left on site 4...\n",
      "lowest eigenvalue at site 4 is -6.367849471586604\n",
      "we are sweep from right to left on site 3...\n",
      "lowest eigenvalue at site 3 is -6.367849471586607\n",
      "we are sweep from right to left on site 2...\n",
      "lowest eigenvalue at site 2 is -6.368592878153413\n",
      "we are at the 6-th sweep.\n",
      "we are sweep from left to right on site 1...\n",
      "lowest eigenvalue at site 1 is -6.368592878153407\n",
      "we are sweep from left to right on site 2...\n",
      "lowest eigenvalue at site 2 is -6.368592878153413\n",
      "we are sweep from left to right on site 3...\n",
      "lowest eigenvalue at site 3 is -6.3693013793071405\n",
      "\n",
      "\n",
      "we are sweep from right to left on site 4...\n",
      "lowest eigenvalue at site 4 is -6.369301379307145\n",
      "we are sweep from right to left on site 3...\n",
      "lowest eigenvalue at site 3 is -6.36930137930714\n",
      "we are sweep from right to left on site 2...\n",
      "lowest eigenvalue at site 2 is -6.369966801730993\n",
      "we are at the 7-th sweep.\n",
      "we are sweep from left to right on site 1...\n",
      "lowest eigenvalue at site 1 is -6.369966801730995\n",
      "we are sweep from left to right on site 2...\n",
      "lowest eigenvalue at site 2 is -6.369966801730998\n",
      "we are sweep from left to right on site 3...\n",
      "lowest eigenvalue at site 3 is -6.370583130343313\n",
      "\n",
      "\n",
      "we are sweep from right to left on site 4...\n",
      "lowest eigenvalue at site 4 is -6.370583130343318\n",
      "we are sweep from right to left on site 3...\n",
      "lowest eigenvalue at site 3 is -6.370583130343319\n",
      "we are sweep from right to left on site 2...\n",
      "lowest eigenvalue at site 2 is -6.371146592679974\n",
      "we are at the 8-th sweep.\n",
      "we are sweep from left to right on site 1...\n",
      "lowest eigenvalue at site 1 is -6.371146592679973\n",
      "we are sweep from left to right on site 2...\n",
      "lowest eigenvalue at site 2 is -6.37114659267997\n",
      "we are sweep from left to right on site 3...\n",
      "lowest eigenvalue at site 3 is -6.371655549113354\n",
      "\n",
      "\n",
      "we are sweep from right to left on site 4...\n",
      "lowest eigenvalue at site 4 is -6.371655549113358\n",
      "we are sweep from right to left on site 3...\n",
      "lowest eigenvalue at site 3 is -6.371655549113359\n",
      "we are sweep from right to left on site 2...\n",
      "lowest eigenvalue at site 2 is -6.372110236482991\n",
      "we are at the 9-th sweep.\n",
      "we are sweep from left to right on site 1...\n",
      "lowest eigenvalue at site 1 is -6.372110236482992\n",
      "we are sweep from left to right on site 2...\n",
      "lowest eigenvalue at site 2 is -6.37211023648299\n",
      "we are sweep from left to right on site 3...\n",
      "lowest eigenvalue at site 3 is -6.372512421863027\n",
      "\n",
      "\n",
      "we are sweep from right to left on site 4...\n",
      "lowest eigenvalue at site 4 is -6.372512421863035\n",
      "we are sweep from right to left on site 3...\n",
      "lowest eigenvalue at site 3 is -6.372512421863027\n",
      "we are sweep from right to left on site 2...\n",
      "lowest eigenvalue at site 2 is -6.372865021354325\n",
      "we are at the 10-th sweep.\n",
      "we are sweep from left to right on site 1...\n",
      "lowest eigenvalue at site 1 is -6.372865021354332\n",
      "we are sweep from left to right on site 2...\n",
      "lowest eigenvalue at site 2 is -6.372865021354327\n",
      "we are sweep from left to right on site 3...\n",
      "lowest eigenvalue at site 3 is -6.3731717287635945\n",
      "\n",
      "\n",
      "we are sweep from right to left on site 4...\n",
      "lowest eigenvalue at site 4 is -6.373171728763596\n",
      "we are sweep from right to left on site 3...\n",
      "lowest eigenvalue at site 3 is -6.373171728763597\n",
      "we are sweep from right to left on site 2...\n",
      "lowest eigenvalue at site 2 is -6.373436685100523\n",
      "we are at the 11-th sweep.\n",
      "we are sweep from left to right on site 1...\n",
      "lowest eigenvalue at site 1 is -6.3734366851005255\n",
      "we are sweep from left to right on site 2...\n",
      "lowest eigenvalue at site 2 is -6.373436685100525\n",
      "we are sweep from left to right on site 3...\n",
      "lowest eigenvalue at site 3 is -6.373664205798752\n",
      "\n",
      "\n",
      "we are sweep from right to left on site 4...\n",
      "lowest eigenvalue at site 4 is -6.37366420579875\n",
      "we are sweep from right to left on site 3...\n",
      "lowest eigenvalue at site 3 is -6.373664205798752\n",
      "we are sweep from right to left on site 2...\n",
      "lowest eigenvalue at site 2 is -6.3738585709165685\n",
      "we are at the 12-th sweep.\n",
      "we are sweep from left to right on site 1...\n",
      "lowest eigenvalue at site 1 is -6.373858570916569\n",
      "we are sweep from left to right on site 2...\n",
      "lowest eigenvalue at site 2 is -6.373858570916569\n",
      "we are sweep from left to right on site 3...\n",
      "lowest eigenvalue at site 3 is -6.3740238753401135\n",
      "\n",
      "\n",
      "we are sweep from right to left on site 4...\n",
      "lowest eigenvalue at site 4 is -6.374023875340109\n",
      "we are sweep from right to left on site 3...\n",
      "lowest eigenvalue at site 3 is -6.374023875340114\n",
      "we are sweep from right to left on site 2...\n",
      "lowest eigenvalue at site 2 is -6.374163931163417\n",
      "we are at the 13-th sweep.\n",
      "we are sweep from left to right on site 1...\n",
      "lowest eigenvalue at site 1 is -6.374163931163417\n",
      "we are sweep from left to right on site 2...\n",
      "lowest eigenvalue at site 2 is -6.374163931163419\n",
      "we are sweep from left to right on site 3...\n",
      "lowest eigenvalue at site 3 is -6.37428221232493\n",
      "\n",
      "\n",
      "we are sweep from right to left on site 4...\n",
      "lowest eigenvalue at site 4 is -6.374282212324927\n",
      "we are sweep from right to left on site 3...\n",
      "lowest eigenvalue at site 3 is -6.3742822123249265\n",
      "we are sweep from right to left on site 2...\n",
      "lowest eigenvalue at site 2 is -6.374381831407387\n",
      "we are at the 14-th sweep.\n",
      "we are sweep from left to right on site 1...\n",
      "lowest eigenvalue at site 1 is -6.374381831407389\n",
      "we are sweep from left to right on site 2...\n",
      "lowest eigenvalue at site 2 is -6.374381831407389\n",
      "we are sweep from left to right on site 3...\n",
      "lowest eigenvalue at site 3 is -6.374465539478763\n",
      "\n",
      "\n",
      "we are sweep from right to left on site 4...\n",
      "lowest eigenvalue at site 4 is -6.374465539478764\n",
      "we are sweep from right to left on site 3...\n",
      "lowest eigenvalue at site 3 is -6.3744655394787655\n",
      "we are sweep from right to left on site 2...\n",
      "lowest eigenvalue at site 2 is -6.374535741360869\n",
      "we are at the 15-th sweep.\n",
      "we are sweep from left to right on site 1...\n",
      "lowest eigenvalue at site 1 is -6.3745357413608685\n",
      "we are sweep from left to right on site 2...\n",
      "lowest eigenvalue at site 2 is -6.37453574136087\n",
      "we are sweep from left to right on site 3...\n",
      "lowest eigenvalue at site 3 is -6.37459452034944\n",
      "\n",
      "\n",
      "we are sweep from right to left on site 4...\n",
      "lowest eigenvalue at site 4 is -6.374594520349436\n",
      "we are sweep from right to left on site 3...\n",
      "lowest eigenvalue at site 3 is -6.3745945203494365\n",
      "we are sweep from right to left on site 2...\n",
      "lowest eigenvalue at site 2 is -6.374643667933896\n",
      "we are at the 16-th sweep.\n",
      "we are sweep from left to right on site 1...\n",
      "lowest eigenvalue at site 1 is -6.374643667933896\n",
      "we are sweep from left to right on site 2...\n",
      "lowest eigenvalue at site 2 is -6.3746436679338965\n",
      "we are sweep from left to right on site 3...\n",
      "lowest eigenvalue at site 3 is -6.374684715362532\n",
      "\n",
      "\n",
      "we are sweep from right to left on site 4...\n",
      "lowest eigenvalue at site 4 is -6.374684715362543\n",
      "we are sweep from right to left on site 3...\n",
      "lowest eigenvalue at site 3 is -6.3746847153625374\n",
      "we are sweep from right to left on site 2...\n",
      "lowest eigenvalue at site 2 is -6.374718964934292\n",
      "we are at the 17-th sweep.\n",
      "we are sweep from left to right on site 1...\n",
      "lowest eigenvalue at site 1 is -6.374718964934293\n",
      "we are sweep from left to right on site 2...\n",
      "lowest eigenvalue at site 2 is -6.374718964934292\n",
      "we are sweep from left to right on site 3...\n",
      "lowest eigenvalue at site 3 is -6.374747519685572\n",
      "\n",
      "\n",
      "we are sweep from right to left on site 4...\n",
      "lowest eigenvalue at site 4 is -6.37474751968557\n",
      "we are sweep from right to left on site 3...\n",
      "lowest eigenvalue at site 3 is -6.3747475196855765\n",
      "we are sweep from right to left on site 2...\n",
      "lowest eigenvalue at site 2 is -6.374771310713223\n",
      "we are at the 18-th sweep.\n",
      "we are sweep from left to right on site 1...\n"
     ]
    },
    {
     "name": "stdout",
     "output_type": "stream",
     "text": [
      "lowest eigenvalue at site 1 is -6.374771310713222\n",
      "we are sweep from left to right on site 2...\n",
      "lowest eigenvalue at site 2 is -6.3747713107132205\n",
      "we are sweep from left to right on site 3...\n",
      "lowest eigenvalue at site 3 is -6.374791121774974\n",
      "\n",
      "\n",
      "we are sweep from right to left on site 4...\n",
      "lowest eigenvalue at site 4 is -6.374791121774978\n",
      "we are sweep from right to left on site 3...\n",
      "lowest eigenvalue at site 3 is -6.374791121774974\n",
      "we are sweep from right to left on site 2...\n",
      "lowest eigenvalue at site 2 is -6.374807611076587\n",
      "we are at the 19-th sweep.\n",
      "we are sweep from left to right on site 1...\n",
      "lowest eigenvalue at site 1 is -6.374807611076591\n",
      "we are sweep from left to right on site 2...\n",
      "lowest eigenvalue at site 2 is -6.37480761107659\n",
      "we are sweep from left to right on site 3...\n",
      "lowest eigenvalue at site 3 is -6.374821330324615\n",
      "\n",
      "\n",
      "we are sweep from right to left on site 4...\n",
      "lowest eigenvalue at site 4 is -6.3748213303246155\n",
      "we are sweep from right to left on site 3...\n",
      "lowest eigenvalue at site 3 is -6.374821330324616\n",
      "we are sweep from right to left on site 2...\n",
      "lowest eigenvalue at site 2 is -6.3748327412241785\n",
      "we are at the 20-th sweep.\n",
      "we are sweep from left to right on site 1...\n",
      "lowest eigenvalue at site 1 is -6.37483274122418\n",
      "we are sweep from left to right on site 2...\n",
      "lowest eigenvalue at site 2 is -6.374832741224182\n",
      "we are sweep from left to right on site 3...\n",
      "lowest eigenvalue at site 3 is -6.374842229653176\n",
      "\n",
      "\n",
      "we are sweep from right to left on site 4...\n",
      "lowest eigenvalue at site 4 is -6.374842229653175\n",
      "we are sweep from right to left on site 3...\n",
      "lowest eigenvalue at site 3 is -6.374842229653176\n",
      "we are sweep from right to left on site 2...\n",
      "lowest eigenvalue at site 2 is -6.374850117764192\n",
      "DMRG fail to converge to relative precision 1.0e-6 within 20 iterations.\n"
     ]
    },
    {
     "data": {
      "text/plain": [
       "120-element Vector{Float64}:\n",
       " -6.36025043933212\n",
       " -6.360250439332117\n",
       " -6.361608643958558\n",
       " -6.361608643958561\n",
       " -6.3616086439585615\n",
       " -6.362486600619489\n",
       " -6.362486600619491\n",
       " -6.3624866006194924\n",
       " -6.36324207644697\n",
       " -6.363242076446972\n",
       " -6.363242076446971\n",
       " -6.363984122753928\n",
       " -6.3639841227539256\n",
       "  ⋮\n",
       " -6.374807611076591\n",
       " -6.37480761107659\n",
       " -6.374821330324615\n",
       " -6.3748213303246155\n",
       " -6.374821330324616\n",
       " -6.3748327412241785\n",
       " -6.37483274122418\n",
       " -6.374832741224182\n",
       " -6.374842229653176\n",
       " -6.374842229653175\n",
       " -6.374842229653176\n",
       " -6.374850117764192"
      ]
     },
     "execution_count": 19,
     "metadata": {},
     "output_type": "execute_result"
    }
   ],
   "source": [
    "using Statistics\n",
    "sweeps!(m::DMRG; maxitr::Int=20, rtol::Real=1.0e-6) = begin\n",
    "    Eigenvalues = Float64[]\n",
    "    for i in 1:maxitr\n",
    "        println(\"we are at the $i-th sweep.\")\n",
    "        v = sweep!(m)\n",
    "        append!(Eigenvalues, v)\n",
    "        if abs(std(v) / mean(v)) < rtol\n",
    "            println(\"DMRG converged in $i sweeps.\")\n",
    "            return Eigenvalues\n",
    "        end\n",
    "    end\n",
    "    println(\"DMRG fail to converge to relative precision $rtol within $maxitr iterations.\")\n",
    "    return Eigenvalues \n",
    "end \n",
    "\n",
    "Eigenvalues = sweeps!(dmrg, maxitr=20)"
   ]
  },
  {
   "cell_type": "markdown",
   "id": "70e6f229",
   "metadata": {},
   "source": [
    "#### Integrate into a single function"
   ]
  },
  {
   "cell_type": "code",
   "execution_count": 20,
   "id": "8a7230ea",
   "metadata": {},
   "outputs": [
    {
     "name": "stdout",
     "output_type": "stream",
     "text": [
      "we are at the 1-th sweep.\n",
      "we are sweep from left to right on site 1...\n",
      "lowest eigenvalue at site 1 is -4.07234961467765\n",
      "we are sweep from left to right on site 2...\n",
      "lowest eigenvalue at site 2 is -6.963891892154354\n",
      "we are sweep from left to right on site 3...\n",
      "lowest eigenvalue at site 3 is -8.629289195568717\n",
      "we are sweep from left to right on site 4...\n",
      "lowest eigenvalue at site 4 is -9.890661207029268\n",
      "we are sweep from left to right on site 5...\n",
      "lowest eigenvalue at site 5 is -12.249760698210249\n",
      "we are sweep from left to right on site 6...\n",
      "lowest eigenvalue at site 6 is -15.145652155762306\n",
      "we are sweep from left to right on site 7...\n",
      "lowest eigenvalue at site 7 is -16.22635164431061\n",
      "we are sweep from left to right on site 8...\n",
      "lowest eigenvalue at site 8 is -18.04698324202357\n",
      "we are sweep from left to right on site 9...\n",
      "lowest eigenvalue at site 9 is -18.04698324202356\n",
      "\n",
      "\n",
      "we are sweep from right to left on site 10...\n",
      "lowest eigenvalue at site 10 is -18.046983242023572\n",
      "we are sweep from right to left on site 9...\n",
      "lowest eigenvalue at site 9 is -18.046983242023565\n",
      "we are sweep from right to left on site 8...\n",
      "lowest eigenvalue at site 8 is -18.046983242023583\n",
      "we are sweep from right to left on site 7...\n",
      "lowest eigenvalue at site 7 is -18.082119653713153\n",
      "we are sweep from right to left on site 6...\n",
      "lowest eigenvalue at site 6 is -18.082999173259783\n",
      "we are sweep from right to left on site 5...\n",
      "lowest eigenvalue at site 5 is -18.121452343154868\n",
      "we are sweep from right to left on site 4...\n",
      "lowest eigenvalue at site 4 is -18.130709959681806\n",
      "we are sweep from right to left on site 3...\n",
      "lowest eigenvalue at site 3 is -18.161867815464635\n",
      "we are sweep from right to left on site 2...\n",
      "lowest eigenvalue at site 2 is -18.16186781546461\n",
      "we are at the 2-th sweep.\n",
      "we are sweep from left to right on site 1...\n",
      "lowest eigenvalue at site 1 is -18.161867815464618\n",
      "we are sweep from left to right on site 2...\n",
      "lowest eigenvalue at site 2 is -18.161867815464618\n",
      "we are sweep from left to right on site 3...\n",
      "lowest eigenvalue at site 3 is -18.161867815464625\n",
      "we are sweep from left to right on site 4...\n",
      "lowest eigenvalue at site 4 is -18.164068751259858\n",
      "we are sweep from left to right on site 5...\n",
      "lowest eigenvalue at site 5 is -18.164196266077006\n",
      "we are sweep from left to right on site 6...\n",
      "lowest eigenvalue at site 6 is -18.169863532498454\n",
      "we are sweep from left to right on site 7...\n",
      "lowest eigenvalue at site 7 is -18.170140329121587\n",
      "we are sweep from left to right on site 8...\n",
      "lowest eigenvalue at site 8 is -18.171618006088064\n",
      "we are sweep from left to right on site 9...\n",
      "lowest eigenvalue at site 9 is -18.171618006088067\n",
      "\n",
      "\n",
      "we are sweep from right to left on site 10...\n",
      "lowest eigenvalue at site 10 is -18.171618006088064\n",
      "we are sweep from right to left on site 9...\n",
      "lowest eigenvalue at site 9 is -18.171618006088067\n",
      "we are sweep from right to left on site 8...\n",
      "lowest eigenvalue at site 8 is -18.171618006088053\n",
      "we are sweep from right to left on site 7...\n",
      "lowest eigenvalue at site 7 is -18.171708575266763\n",
      "we are sweep from right to left on site 6...\n",
      "lowest eigenvalue at site 6 is -18.171714904907898\n",
      "we are sweep from right to left on site 5...\n",
      "lowest eigenvalue at site 5 is -18.17254584890401\n",
      "we are sweep from right to left on site 4...\n",
      "lowest eigenvalue at site 4 is -18.1725706698329\n",
      "we are sweep from right to left on site 3...\n",
      "lowest eigenvalue at site 3 is -18.17339134512624\n",
      "we are sweep from right to left on site 2...\n",
      "lowest eigenvalue at site 2 is -18.173391345126245\n",
      "we are at the 3-th sweep.\n",
      "we are sweep from left to right on site 1...\n",
      "lowest eigenvalue at site 1 is -18.173391345126234\n",
      "we are sweep from left to right on site 2...\n",
      "lowest eigenvalue at site 2 is -18.173391345126234\n",
      "we are sweep from left to right on site 3...\n",
      "lowest eigenvalue at site 3 is -18.17339134512624\n",
      "we are sweep from left to right on site 4...\n",
      "lowest eigenvalue at site 4 is -18.173779254906854\n",
      "we are sweep from left to right on site 5...\n",
      "lowest eigenvalue at site 5 is -18.17379877285478\n",
      "we are sweep from left to right on site 6...\n",
      "lowest eigenvalue at site 6 is -18.173999050249513\n",
      "we are sweep from left to right on site 7...\n",
      "lowest eigenvalue at site 7 is -18.174003290871532\n",
      "we are sweep from left to right on site 8...\n",
      "lowest eigenvalue at site 8 is -18.17403236840858\n",
      "we are sweep from left to right on site 9...\n",
      "lowest eigenvalue at site 9 is -18.174032368408593\n",
      "\n",
      "\n",
      "we are sweep from right to left on site 10...\n",
      "lowest eigenvalue at site 10 is -18.17403236840859\n",
      "we are sweep from right to left on site 9...\n",
      "lowest eigenvalue at site 9 is -18.1740323684086\n",
      "we are sweep from right to left on site 8...\n",
      "lowest eigenvalue at site 8 is -18.174032368408586\n",
      "we are sweep from right to left on site 7...\n",
      "lowest eigenvalue at site 7 is -18.174042838988836\n",
      "we are sweep from right to left on site 6...\n",
      "lowest eigenvalue at site 6 is -18.174044164998424\n",
      "we are sweep from right to left on site 5...\n",
      "lowest eigenvalue at site 5 is -18.174105094956104\n",
      "we are sweep from right to left on site 4...\n",
      "lowest eigenvalue at site 4 is -18.174116867223944\n",
      "we are sweep from right to left on site 3...\n",
      "lowest eigenvalue at site 3 is -18.174361306938067\n",
      "we are sweep from right to left on site 2...\n",
      "lowest eigenvalue at site 2 is -18.174361306938067\n",
      "we are at the 4-th sweep.\n",
      "we are sweep from left to right on site 1...\n",
      "lowest eigenvalue at site 1 is -18.174361306938074\n",
      "we are sweep from left to right on site 2...\n",
      "lowest eigenvalue at site 2 is -18.174361306938064\n",
      "we are sweep from left to right on site 3...\n",
      "lowest eigenvalue at site 3 is -18.174361306938064\n",
      "we are sweep from left to right on site 4...\n",
      "lowest eigenvalue at site 4 is -18.174500355320312\n",
      "we are sweep from left to right on site 5...\n",
      "lowest eigenvalue at site 5 is -18.17450769182323\n",
      "we are sweep from left to right on site 6...\n",
      "lowest eigenvalue at site 6 is -18.174531802227385\n",
      "we are sweep from left to right on site 7...\n",
      "lowest eigenvalue at site 7 is -18.174532550307877\n",
      "we are sweep from left to right on site 8...\n",
      "lowest eigenvalue at site 8 is -18.174538387246393\n",
      "we are sweep from left to right on site 9...\n",
      "lowest eigenvalue at site 9 is -18.174538387246404\n",
      "\n",
      "\n",
      "we are sweep from right to left on site 10...\n",
      "lowest eigenvalue at site 10 is -18.174538387246386\n",
      "we are sweep from right to left on site 9...\n",
      "lowest eigenvalue at site 9 is -18.17453838724639\n",
      "we are sweep from right to left on site 8...\n",
      "lowest eigenvalue at site 8 is -18.174538387246386\n",
      "we are sweep from right to left on site 7...\n",
      "lowest eigenvalue at site 7 is -18.17454166257896\n",
      "we are sweep from right to left on site 6...\n",
      "lowest eigenvalue at site 6 is -18.17454196100847\n",
      "we are sweep from right to left on site 5...\n",
      "lowest eigenvalue at site 5 is -18.174554413020694\n",
      "we are sweep from right to left on site 4...\n",
      "lowest eigenvalue at site 4 is -18.174557606370286\n",
      "we are sweep from right to left on site 3...\n",
      "lowest eigenvalue at site 3 is -18.174631042497033\n",
      "we are sweep from right to left on site 2...\n",
      "lowest eigenvalue at site 2 is -18.17463104249703\n",
      "we are at the 5-th sweep.\n",
      "we are sweep from left to right on site 1...\n",
      "lowest eigenvalue at site 1 is -18.174631042497037\n",
      "we are sweep from left to right on site 2...\n",
      "lowest eigenvalue at site 2 is -18.17463104249703\n",
      "we are sweep from left to right on site 3...\n",
      "lowest eigenvalue at site 3 is -18.174631042497037\n",
      "we are sweep from left to right on site 4...\n",
      "lowest eigenvalue at site 4 is -18.174667588450728\n",
      "we are sweep from left to right on site 5...\n",
      "lowest eigenvalue at site 5 is -18.174668920342345\n",
      "we are sweep from left to right on site 6...\n",
      "lowest eigenvalue at site 6 is -18.174677225703153\n",
      "we are sweep from left to right on site 7...\n",
      "lowest eigenvalue at site 7 is -18.174677396051585\n",
      "we are sweep from left to right on site 8...\n",
      "lowest eigenvalue at site 8 is -18.174679827558982\n",
      "we are sweep from left to right on site 9...\n",
      "lowest eigenvalue at site 9 is -18.174679827558972\n",
      "\n",
      "\n",
      "we are sweep from right to left on site 10...\n",
      "lowest eigenvalue at site 10 is -18.174679827558975\n",
      "we are sweep from right to left on site 9...\n",
      "lowest eigenvalue at site 9 is -18.174679827558982\n",
      "we are sweep from right to left on site 8...\n",
      "lowest eigenvalue at site 8 is -18.174679827558986\n",
      "we are sweep from right to left on site 7...\n",
      "lowest eigenvalue at site 7 is -18.174681581325984\n",
      "we are sweep from right to left on site 6...\n",
      "lowest eigenvalue at site 6 is -18.17468165739274\n",
      "we are sweep from right to left on site 5...\n",
      "lowest eigenvalue at site 5 is -18.174687677947592\n",
      "we are sweep from right to left on site 4...\n"
     ]
    },
    {
     "name": "stdout",
     "output_type": "stream",
     "text": [
      "lowest eigenvalue at site 4 is -18.174688231614446\n",
      "we are sweep from right to left on site 3...\n",
      "lowest eigenvalue at site 3 is -18.174707291240974\n",
      "we are sweep from right to left on site 2...\n",
      "lowest eigenvalue at site 2 is -18.174707291240967\n",
      "we are at the 6-th sweep.\n",
      "we are sweep from left to right on site 1...\n",
      "lowest eigenvalue at site 1 is -18.17470729124097\n",
      "we are sweep from left to right on site 2...\n",
      "lowest eigenvalue at site 2 is -18.174707291240967\n",
      "we are sweep from left to right on site 3...\n",
      "lowest eigenvalue at site 3 is -18.174707291240974\n",
      "we are sweep from left to right on site 4...\n",
      "lowest eigenvalue at site 4 is -18.17471759643909\n",
      "we are sweep from left to right on site 5...\n",
      "lowest eigenvalue at site 5 is -18.17471784780442\n",
      "we are sweep from left to right on site 6...\n",
      "lowest eigenvalue at site 6 is -18.17472275059291\n",
      "we are sweep from left to right on site 7...\n",
      "lowest eigenvalue at site 7 is -18.17472280351266\n",
      "we are sweep from left to right on site 8...\n",
      "lowest eigenvalue at site 8 is -18.17472432300103\n",
      "we are sweep from left to right on site 9...\n",
      "lowest eigenvalue at site 9 is -18.17472432300103\n",
      "\n",
      "\n",
      "we are sweep from right to left on site 10...\n",
      "lowest eigenvalue at site 10 is -18.174724323001023\n",
      "we are sweep from right to left on site 9...\n",
      "lowest eigenvalue at site 9 is -18.17472432300103\n",
      "we are sweep from right to left on site 8...\n",
      "lowest eigenvalue at site 8 is -18.17472432300103\n",
      "we are sweep from right to left on site 7...\n",
      "lowest eigenvalue at site 7 is -18.174725534575163\n",
      "we are sweep from right to left on site 6...\n",
      "lowest eigenvalue at site 6 is -18.174725560637448\n",
      "we are sweep from right to left on site 5...\n",
      "lowest eigenvalue at site 5 is -18.174729406246897\n",
      "we are sweep from right to left on site 4...\n",
      "lowest eigenvalue at site 4 is -18.174729524192774\n",
      "we are sweep from right to left on site 3...\n",
      "lowest eigenvalue at site 3 is -18.174735977746206\n",
      "we are sweep from right to left on site 2...\n",
      "lowest eigenvalue at site 2 is -18.174735977746213\n",
      "DMRG converged in 6 sweeps.\n",
      "ground state energy is -18.174735977746213\n"
     ]
    }
   ],
   "source": [
    "function ground_state(mpo::Vector{<:AbstractArray{<:Number, 4}}; D::Int, maxitr::Int=20, rtol::Real=1.0e-6)\n",
    "    dmrg = DMRG(mpo, D=D)\n",
    "    Eigenvalues = sweeps!(dmrg, maxitr = maxitr, rtol=rtol)\n",
    "    return Eigenvalues, dmrg.mps\n",
    "end\n",
    "\n",
    "mpo = xxz_mpo(10, 1., 1.2)\n",
    "bond_dimension = 5 \n",
    "Eigenvalues, state = ground_state(mpo, D=bond_dimension)\n",
    "println(\"ground state energy is $(Eigenvalues[end])\")"
   ]
  },
  {
   "cell_type": "code",
   "execution_count": 21,
   "id": "27f085bf",
   "metadata": {},
   "outputs": [
    {
     "name": "stdout",
     "output_type": "stream",
     "text": [
      "we are at the 1-th sweep.\n",
      "we are sweep from left to right on site 1...\n",
      "lowest eigenvalue at site 1 is -3.7297469130314402\n",
      "we are sweep from left to right on site 2...\n",
      "lowest eigenvalue at site 2 is -6.083013335657852\n",
      "we are sweep from left to right on site 3...\n",
      "lowest eigenvalue at site 3 is -8.238276580322594\n",
      "we are sweep from left to right on site 4...\n",
      "lowest eigenvalue at site 4 is -10.282186943951919\n",
      "we are sweep from left to right on site 5...\n",
      "lowest eigenvalue at site 5 is -13.287162225563689\n",
      "we are sweep from left to right on site 6...\n",
      "lowest eigenvalue at site 6 is -16.597695868404458\n",
      "we are sweep from left to right on site 7...\n",
      "lowest eigenvalue at site 7 is -18.189974333968866\n",
      "we are sweep from left to right on site 8...\n",
      "lowest eigenvalue at site 8 is -18.189974333968866\n",
      "we are sweep from left to right on site 9...\n",
      "lowest eigenvalue at site 9 is -18.18997433396886\n",
      "\n",
      "\n",
      "we are sweep from right to left on site 10...\n",
      "lowest eigenvalue at site 10 is -18.18997433396886\n",
      "we are sweep from right to left on site 9...\n",
      "lowest eigenvalue at site 9 is -18.18997433396886\n",
      "we are sweep from right to left on site 8...\n",
      "lowest eigenvalue at site 8 is -18.189974333968856\n",
      "we are sweep from right to left on site 7...\n",
      "lowest eigenvalue at site 7 is -18.18997433396885\n",
      "we are sweep from right to left on site 6...\n",
      "lowest eigenvalue at site 6 is -18.191442228198188\n",
      "we are sweep from right to left on site 5...\n",
      "lowest eigenvalue at site 5 is -18.19181432469183\n",
      "we are sweep from right to left on site 4...\n",
      "lowest eigenvalue at site 4 is -18.193361750571817\n",
      "we are sweep from right to left on site 3...\n",
      "lowest eigenvalue at site 3 is -18.193361750571867\n",
      "we are sweep from right to left on site 2...\n",
      "lowest eigenvalue at site 2 is -18.193361750571857\n",
      "we are at the 2-th sweep.\n",
      "we are sweep from left to right on site 1...\n",
      "lowest eigenvalue at site 1 is -18.193361750571853\n",
      "we are sweep from left to right on site 2...\n",
      "lowest eigenvalue at site 2 is -18.193361750571867\n",
      "we are sweep from left to right on site 3...\n",
      "lowest eigenvalue at site 3 is -18.19336175057187\n",
      "we are sweep from left to right on site 4...\n",
      "lowest eigenvalue at site 4 is -18.193361750571857\n",
      "we are sweep from left to right on site 5...\n",
      "lowest eigenvalue at site 5 is -18.193364945076105\n",
      "we are sweep from left to right on site 6...\n",
      "lowest eigenvalue at site 6 is -18.19336530356237\n",
      "we are sweep from left to right on site 7...\n",
      "lowest eigenvalue at site 7 is -18.19336797053732\n",
      "we are sweep from left to right on site 8...\n",
      "lowest eigenvalue at site 8 is -18.193367970537338\n",
      "we are sweep from left to right on site 9...\n",
      "lowest eigenvalue at site 9 is -18.193367970537352\n",
      "\n",
      "\n",
      "we are sweep from right to left on site 10...\n",
      "lowest eigenvalue at site 10 is -18.19336797053736\n",
      "we are sweep from right to left on site 9...\n",
      "lowest eigenvalue at site 9 is -18.193367970537356\n",
      "we are sweep from right to left on site 8...\n",
      "lowest eigenvalue at site 8 is -18.19336797053735\n",
      "we are sweep from right to left on site 7...\n",
      "lowest eigenvalue at site 7 is -18.193367970537352\n",
      "we are sweep from right to left on site 6...\n",
      "lowest eigenvalue at site 6 is -18.193368189870082\n",
      "we are sweep from right to left on site 5...\n",
      "lowest eigenvalue at site 5 is -18.193368237619726\n",
      "we are sweep from right to left on site 4...\n",
      "lowest eigenvalue at site 4 is -18.19336892975542\n",
      "we are sweep from right to left on site 3...\n",
      "lowest eigenvalue at site 3 is -18.193368929755405\n",
      "we are sweep from right to left on site 2...\n",
      "lowest eigenvalue at site 2 is -18.193368929755426\n",
      "DMRG converged in 2 sweeps.\n"
     ]
    },
    {
     "data": {
      "text/plain": [
       "36-element Vector{Float64}:\n",
       "  -3.7297469130314402\n",
       "  -6.083013335657852\n",
       "  -8.238276580322594\n",
       " -10.282186943951919\n",
       " -13.287162225563689\n",
       " -16.597695868404458\n",
       " -18.189974333968866\n",
       " -18.189974333968866\n",
       " -18.18997433396886\n",
       " -18.18997433396886\n",
       " -18.18997433396886\n",
       " -18.189974333968856\n",
       " -18.18997433396885\n",
       "   ⋮\n",
       " -18.19336797053732\n",
       " -18.193367970537338\n",
       " -18.193367970537352\n",
       " -18.19336797053736\n",
       " -18.193367970537356\n",
       " -18.19336797053735\n",
       " -18.193367970537352\n",
       " -18.193368189870082\n",
       " -18.193368237619726\n",
       " -18.19336892975542\n",
       " -18.193368929755405\n",
       " -18.193368929755426"
      ]
     },
     "execution_count": 21,
     "metadata": {},
     "output_type": "execute_result"
    }
   ],
   "source": [
    "larger_bond_dimension = 10\n",
    "Eigenvalues2, state = ground_state(mpo, D=larger_bond_dimension)\n",
    "Eigenvalues2"
   ]
  },
  {
   "cell_type": "code",
   "execution_count": 22,
   "id": "f5c62d00",
   "metadata": {
    "scrolled": true
   },
   "outputs": [
    {
     "data": {
      "image/svg+xml": [
       "<?xml version=\"1.0\" encoding=\"utf-8\"?>\n",
       "<svg xmlns=\"http://www.w3.org/2000/svg\" xmlns:xlink=\"http://www.w3.org/1999/xlink\" width=\"600\" height=\"400\" viewBox=\"0 0 2400 1600\">\n",
       "<defs>\n",
       "  <clipPath id=\"clip470\">\n",
       "    <rect x=\"0\" y=\"0\" width=\"2400\" height=\"1600\"/>\n",
       "  </clipPath>\n",
       "</defs>\n",
       "<path clip-path=\"url(#clip470)\" d=\"\n",
       "M0 1600 L2400 1600 L2400 0 L0 0  Z\n",
       "  \" fill=\"#ffffff\" fill-rule=\"evenodd\" fill-opacity=\"1\"/>\n",
       "<defs>\n",
       "  <clipPath id=\"clip471\">\n",
       "    <rect x=\"480\" y=\"0\" width=\"1681\" height=\"1600\"/>\n",
       "  </clipPath>\n",
       "</defs>\n",
       "<path clip-path=\"url(#clip470)\" d=\"\n",
       "M178.774 1486.45 L2352.76 1486.45 L2352.76 47.2441 L178.774 47.2441  Z\n",
       "  \" fill=\"#ffffff\" fill-rule=\"evenodd\" fill-opacity=\"1\"/>\n",
       "<defs>\n",
       "  <clipPath id=\"clip472\">\n",
       "    <rect x=\"178\" y=\"47\" width=\"2175\" height=\"1440\"/>\n",
       "  </clipPath>\n",
       "</defs>\n",
       "<polyline clip-path=\"url(#clip472)\" style=\"stroke:#000000; stroke-linecap:butt; stroke-linejoin:round; stroke-width:2; stroke-opacity:0.1; fill:none\" points=\"\n",
       "  221.134,1486.45 221.134,47.2441 \n",
       "  \"/>\n",
       "<polyline clip-path=\"url(#clip472)\" style=\"stroke:#000000; stroke-linecap:butt; stroke-linejoin:round; stroke-width:2; stroke-opacity:0.1; fill:none\" points=\"\n",
       "  700.323,1486.45 700.323,47.2441 \n",
       "  \"/>\n",
       "<polyline clip-path=\"url(#clip472)\" style=\"stroke:#000000; stroke-linecap:butt; stroke-linejoin:round; stroke-width:2; stroke-opacity:0.1; fill:none\" points=\"\n",
       "  1179.51,1486.45 1179.51,47.2441 \n",
       "  \"/>\n",
       "<polyline clip-path=\"url(#clip472)\" style=\"stroke:#000000; stroke-linecap:butt; stroke-linejoin:round; stroke-width:2; stroke-opacity:0.1; fill:none\" points=\"\n",
       "  1658.7,1486.45 1658.7,47.2441 \n",
       "  \"/>\n",
       "<polyline clip-path=\"url(#clip472)\" style=\"stroke:#000000; stroke-linecap:butt; stroke-linejoin:round; stroke-width:2; stroke-opacity:0.1; fill:none\" points=\"\n",
       "  2137.89,1486.45 2137.89,47.2441 \n",
       "  \"/>\n",
       "<polyline clip-path=\"url(#clip470)\" style=\"stroke:#000000; stroke-linecap:butt; stroke-linejoin:round; stroke-width:4; stroke-opacity:1; fill:none\" points=\"\n",
       "  178.774,1486.45 2352.76,1486.45 \n",
       "  \"/>\n",
       "<polyline clip-path=\"url(#clip470)\" style=\"stroke:#000000; stroke-linecap:butt; stroke-linejoin:round; stroke-width:4; stroke-opacity:1; fill:none\" points=\"\n",
       "  221.134,1486.45 221.134,1469.18 \n",
       "  \"/>\n",
       "<polyline clip-path=\"url(#clip470)\" style=\"stroke:#000000; stroke-linecap:butt; stroke-linejoin:round; stroke-width:4; stroke-opacity:1; fill:none\" points=\"\n",
       "  700.323,1486.45 700.323,1469.18 \n",
       "  \"/>\n",
       "<polyline clip-path=\"url(#clip470)\" style=\"stroke:#000000; stroke-linecap:butt; stroke-linejoin:round; stroke-width:4; stroke-opacity:1; fill:none\" points=\"\n",
       "  1179.51,1486.45 1179.51,1469.18 \n",
       "  \"/>\n",
       "<polyline clip-path=\"url(#clip470)\" style=\"stroke:#000000; stroke-linecap:butt; stroke-linejoin:round; stroke-width:4; stroke-opacity:1; fill:none\" points=\"\n",
       "  1658.7,1486.45 1658.7,1469.18 \n",
       "  \"/>\n",
       "<polyline clip-path=\"url(#clip470)\" style=\"stroke:#000000; stroke-linecap:butt; stroke-linejoin:round; stroke-width:4; stroke-opacity:1; fill:none\" points=\"\n",
       "  2137.89,1486.45 2137.89,1469.18 \n",
       "  \"/>\n",
       "<path clip-path=\"url(#clip470)\" d=\"M221.134 1515.64 Q217.523 1515.64 215.695 1519.2 Q213.889 1522.75 213.889 1529.87 Q213.889 1536.98 215.695 1540.55 Q217.523 1544.09 221.134 1544.09 Q224.769 1544.09 226.574 1540.55 Q228.403 1536.98 228.403 1529.87 Q228.403 1522.75 226.574 1519.2 Q224.769 1515.64 221.134 1515.64 M221.134 1511.93 Q226.944 1511.93 230 1516.54 Q233.079 1521.12 233.079 1529.87 Q233.079 1538.6 230 1543.21 Q226.944 1547.79 221.134 1547.79 Q215.324 1547.79 212.245 1543.21 Q209.19 1538.6 209.19 1529.87 Q209.19 1521.12 212.245 1516.54 Q215.324 1511.93 221.134 1511.93 Z\" fill=\"#000000\" fill-rule=\"evenodd\" fill-opacity=\"1\" /><path clip-path=\"url(#clip470)\" d=\"M679.594 1543.18 L695.913 1543.18 L695.913 1547.12 L673.969 1547.12 L673.969 1543.18 Q676.631 1540.43 681.214 1535.8 Q685.82 1531.15 687.001 1529.81 Q689.246 1527.28 690.126 1525.55 Q691.029 1523.79 691.029 1522.1 Q691.029 1519.34 689.084 1517.61 Q687.163 1515.87 684.061 1515.87 Q681.862 1515.87 679.408 1516.63 Q676.978 1517.4 674.2 1518.95 L674.2 1514.23 Q677.024 1513.09 679.478 1512.51 Q681.932 1511.93 683.969 1511.93 Q689.339 1511.93 692.533 1514.62 Q695.728 1517.31 695.728 1521.8 Q695.728 1523.93 694.918 1525.85 Q694.131 1527.74 692.024 1530.34 Q691.445 1531.01 688.344 1534.23 Q685.242 1537.42 679.594 1543.18 Z\" fill=\"#000000\" fill-rule=\"evenodd\" fill-opacity=\"1\" /><path clip-path=\"url(#clip470)\" d=\"M705.774 1512.56 L724.13 1512.56 L724.13 1516.5 L710.056 1516.5 L710.056 1524.97 Q711.075 1524.62 712.093 1524.46 Q713.112 1524.27 714.13 1524.27 Q719.917 1524.27 723.297 1527.44 Q726.677 1530.62 726.677 1536.03 Q726.677 1541.61 723.205 1544.71 Q719.732 1547.79 713.413 1547.79 Q711.237 1547.79 708.968 1547.42 Q706.723 1547.05 704.316 1546.31 L704.316 1541.61 Q706.399 1542.74 708.621 1543.3 Q710.843 1543.86 713.32 1543.86 Q717.325 1543.86 719.663 1541.75 Q722.001 1539.64 722.001 1536.03 Q722.001 1532.42 719.663 1530.31 Q717.325 1528.21 713.32 1528.21 Q711.445 1528.21 709.57 1528.62 Q707.718 1529.04 705.774 1529.92 L705.774 1512.56 Z\" fill=\"#000000\" fill-rule=\"evenodd\" fill-opacity=\"1\" /><path clip-path=\"url(#clip470)\" d=\"M1154.21 1512.56 L1172.57 1512.56 L1172.57 1516.5 L1158.49 1516.5 L1158.49 1524.97 Q1159.51 1524.62 1160.53 1524.46 Q1161.55 1524.27 1162.57 1524.27 Q1168.35 1524.27 1171.73 1527.44 Q1175.11 1530.62 1175.11 1536.03 Q1175.11 1541.61 1171.64 1544.71 Q1168.17 1547.79 1161.85 1547.79 Q1159.67 1547.79 1157.4 1547.42 Q1155.16 1547.05 1152.75 1546.31 L1152.75 1541.61 Q1154.84 1542.74 1157.06 1543.3 Q1159.28 1543.86 1161.76 1543.86 Q1165.76 1543.86 1168.1 1541.75 Q1170.44 1539.64 1170.44 1536.03 Q1170.44 1532.42 1168.1 1530.31 Q1165.76 1528.21 1161.76 1528.21 Q1159.88 1528.21 1158.01 1528.62 Q1156.15 1529.04 1154.21 1529.92 L1154.21 1512.56 Z\" fill=\"#000000\" fill-rule=\"evenodd\" fill-opacity=\"1\" /><path clip-path=\"url(#clip470)\" d=\"M1194.33 1515.64 Q1190.71 1515.64 1188.89 1519.2 Q1187.08 1522.75 1187.08 1529.87 Q1187.08 1536.98 1188.89 1540.55 Q1190.71 1544.09 1194.33 1544.09 Q1197.96 1544.09 1199.77 1540.55 Q1201.59 1536.98 1201.59 1529.87 Q1201.59 1522.75 1199.77 1519.2 Q1197.96 1515.64 1194.33 1515.64 M1194.33 1511.93 Q1200.14 1511.93 1203.19 1516.54 Q1206.27 1521.12 1206.27 1529.87 Q1206.27 1538.6 1203.19 1543.21 Q1200.14 1547.79 1194.33 1547.79 Q1188.52 1547.79 1185.44 1543.21 Q1182.38 1538.6 1182.38 1529.87 Q1182.38 1521.12 1185.44 1516.54 Q1188.52 1511.93 1194.33 1511.93 Z\" fill=\"#000000\" fill-rule=\"evenodd\" fill-opacity=\"1\" /><path clip-path=\"url(#clip470)\" d=\"M1632.55 1512.56 L1654.78 1512.56 L1654.78 1514.55 L1642.23 1547.12 L1637.35 1547.12 L1649.15 1516.5 L1632.55 1516.5 L1632.55 1512.56 Z\" fill=\"#000000\" fill-rule=\"evenodd\" fill-opacity=\"1\" /><path clip-path=\"url(#clip470)\" d=\"M1663.94 1512.56 L1682.3 1512.56 L1682.3 1516.5 L1668.22 1516.5 L1668.22 1524.97 Q1669.24 1524.62 1670.26 1524.46 Q1671.28 1524.27 1672.3 1524.27 Q1678.09 1524.27 1681.47 1527.44 Q1684.85 1530.62 1684.85 1536.03 Q1684.85 1541.61 1681.37 1544.71 Q1677.9 1547.79 1671.58 1547.79 Q1669.41 1547.79 1667.14 1547.42 Q1664.89 1547.05 1662.48 1546.31 L1662.48 1541.61 Q1664.57 1542.74 1666.79 1543.3 Q1669.01 1543.86 1671.49 1543.86 Q1675.49 1543.86 1677.83 1541.75 Q1680.17 1539.64 1680.17 1536.03 Q1680.17 1532.42 1677.83 1530.31 Q1675.49 1528.21 1671.49 1528.21 Q1669.61 1528.21 1667.74 1528.62 Q1665.89 1529.04 1663.94 1529.92 L1663.94 1512.56 Z\" fill=\"#000000\" fill-rule=\"evenodd\" fill-opacity=\"1\" /><path clip-path=\"url(#clip470)\" d=\"M2097.49 1543.18 L2105.13 1543.18 L2105.13 1516.82 L2096.82 1518.49 L2096.82 1514.23 L2105.09 1512.56 L2109.76 1512.56 L2109.76 1543.18 L2117.4 1543.18 L2117.4 1547.12 L2097.49 1547.12 L2097.49 1543.18 Z\" fill=\"#000000\" fill-rule=\"evenodd\" fill-opacity=\"1\" /><path clip-path=\"url(#clip470)\" d=\"M2136.85 1515.64 Q2133.24 1515.64 2131.41 1519.2 Q2129.6 1522.75 2129.6 1529.87 Q2129.6 1536.98 2131.41 1540.55 Q2133.24 1544.09 2136.85 1544.09 Q2140.48 1544.09 2142.29 1540.55 Q2144.11 1536.98 2144.11 1529.87 Q2144.11 1522.75 2142.29 1519.2 Q2140.48 1515.64 2136.85 1515.64 M2136.85 1511.93 Q2142.66 1511.93 2145.71 1516.54 Q2148.79 1521.12 2148.79 1529.87 Q2148.79 1538.6 2145.71 1543.21 Q2142.66 1547.79 2136.85 1547.79 Q2131.04 1547.79 2127.96 1543.21 Q2124.9 1538.6 2124.9 1529.87 Q2124.9 1521.12 2127.96 1516.54 Q2131.04 1511.93 2136.85 1511.93 Z\" fill=\"#000000\" fill-rule=\"evenodd\" fill-opacity=\"1\" /><path clip-path=\"url(#clip470)\" d=\"M2167.01 1515.64 Q2163.4 1515.64 2161.57 1519.2 Q2159.76 1522.75 2159.76 1529.87 Q2159.76 1536.98 2161.57 1540.55 Q2163.4 1544.09 2167.01 1544.09 Q2170.64 1544.09 2172.45 1540.55 Q2174.28 1536.98 2174.28 1529.87 Q2174.28 1522.75 2172.45 1519.2 Q2170.64 1515.64 2167.01 1515.64 M2167.01 1511.93 Q2172.82 1511.93 2175.87 1516.54 Q2178.95 1521.12 2178.95 1529.87 Q2178.95 1538.6 2175.87 1543.21 Q2172.82 1547.79 2167.01 1547.79 Q2161.2 1547.79 2158.12 1543.21 Q2155.06 1538.6 2155.06 1529.87 Q2155.06 1521.12 2158.12 1516.54 Q2161.2 1511.93 2167.01 1511.93 Z\" fill=\"#000000\" fill-rule=\"evenodd\" fill-opacity=\"1\" /><polyline clip-path=\"url(#clip472)\" style=\"stroke:#000000; stroke-linecap:butt; stroke-linejoin:round; stroke-width:2; stroke-opacity:0.1; fill:none\" points=\"\n",
       "  178.774,1427.56 2352.76,1427.56 \n",
       "  \"/>\n",
       "<polyline clip-path=\"url(#clip472)\" style=\"stroke:#000000; stroke-linecap:butt; stroke-linejoin:round; stroke-width:2; stroke-opacity:0.1; fill:none\" points=\"\n",
       "  178.774,1145.95 2352.76,1145.95 \n",
       "  \"/>\n",
       "<polyline clip-path=\"url(#clip472)\" style=\"stroke:#000000; stroke-linecap:butt; stroke-linejoin:round; stroke-width:2; stroke-opacity:0.1; fill:none\" points=\"\n",
       "  178.774,864.327 2352.76,864.327 \n",
       "  \"/>\n",
       "<polyline clip-path=\"url(#clip472)\" style=\"stroke:#000000; stroke-linecap:butt; stroke-linejoin:round; stroke-width:2; stroke-opacity:0.1; fill:none\" points=\"\n",
       "  178.774,582.709 2352.76,582.709 \n",
       "  \"/>\n",
       "<polyline clip-path=\"url(#clip472)\" style=\"stroke:#000000; stroke-linecap:butt; stroke-linejoin:round; stroke-width:2; stroke-opacity:0.1; fill:none\" points=\"\n",
       "  178.774,301.091 2352.76,301.091 \n",
       "  \"/>\n",
       "<polyline clip-path=\"url(#clip470)\" style=\"stroke:#000000; stroke-linecap:butt; stroke-linejoin:round; stroke-width:4; stroke-opacity:1; fill:none\" points=\"\n",
       "  178.774,1486.45 178.774,47.2441 \n",
       "  \"/>\n",
       "<polyline clip-path=\"url(#clip470)\" style=\"stroke:#000000; stroke-linecap:butt; stroke-linejoin:round; stroke-width:4; stroke-opacity:1; fill:none\" points=\"\n",
       "  178.774,1427.56 204.862,1427.56 \n",
       "  \"/>\n",
       "<polyline clip-path=\"url(#clip470)\" style=\"stroke:#000000; stroke-linecap:butt; stroke-linejoin:round; stroke-width:4; stroke-opacity:1; fill:none\" points=\"\n",
       "  178.774,1145.95 204.862,1145.95 \n",
       "  \"/>\n",
       "<polyline clip-path=\"url(#clip470)\" style=\"stroke:#000000; stroke-linecap:butt; stroke-linejoin:round; stroke-width:4; stroke-opacity:1; fill:none\" points=\"\n",
       "  178.774,864.327 204.862,864.327 \n",
       "  \"/>\n",
       "<polyline clip-path=\"url(#clip470)\" style=\"stroke:#000000; stroke-linecap:butt; stroke-linejoin:round; stroke-width:4; stroke-opacity:1; fill:none\" points=\"\n",
       "  178.774,582.709 204.862,582.709 \n",
       "  \"/>\n",
       "<polyline clip-path=\"url(#clip470)\" style=\"stroke:#000000; stroke-linecap:butt; stroke-linejoin:round; stroke-width:4; stroke-opacity:1; fill:none\" points=\"\n",
       "  178.774,301.091 204.862,301.091 \n",
       "  \"/>\n",
       "<path clip-path=\"url(#clip470)\" d=\"M50.9921 1428.02 L80.6679 1428.02 L80.6679 1431.95 L50.9921 1431.95 L50.9921 1428.02 Z\" fill=\"#000000\" fill-rule=\"evenodd\" fill-opacity=\"1\" /><path clip-path=\"url(#clip470)\" d=\"M91.5706 1440.91 L99.2095 1440.91 L99.2095 1414.54 L90.8993 1416.21 L90.8993 1411.95 L99.1632 1410.28 L103.839 1410.28 L103.839 1440.91 L111.478 1440.91 L111.478 1444.84 L91.5706 1444.84 L91.5706 1440.91 Z\" fill=\"#000000\" fill-rule=\"evenodd\" fill-opacity=\"1\" /><path clip-path=\"url(#clip470)\" d=\"M130.922 1428.43 Q127.589 1428.43 125.668 1430.21 Q123.77 1432 123.77 1435.12 Q123.77 1438.25 125.668 1440.03 Q127.589 1441.81 130.922 1441.81 Q134.256 1441.81 136.177 1440.03 Q138.098 1438.22 138.098 1435.12 Q138.098 1432 136.177 1430.21 Q134.279 1428.43 130.922 1428.43 M126.246 1426.44 Q123.237 1425.7 121.547 1423.64 Q119.881 1421.58 119.881 1418.62 Q119.881 1414.47 122.82 1412.07 Q125.783 1409.66 130.922 1409.66 Q136.084 1409.66 139.024 1412.07 Q141.964 1414.47 141.964 1418.62 Q141.964 1421.58 140.274 1423.64 Q138.607 1425.7 135.621 1426.44 Q139.001 1427.23 140.876 1429.52 Q142.774 1431.81 142.774 1435.12 Q142.774 1440.14 139.695 1442.83 Q136.64 1445.51 130.922 1445.51 Q125.205 1445.51 122.126 1442.83 Q119.07 1440.14 119.07 1435.12 Q119.07 1431.81 120.969 1429.52 Q122.867 1427.23 126.246 1426.44 M124.533 1419.06 Q124.533 1421.74 126.2 1423.25 Q127.89 1424.75 130.922 1424.75 Q133.931 1424.75 135.621 1423.25 Q137.334 1421.74 137.334 1419.06 Q137.334 1416.37 135.621 1414.87 Q133.931 1413.36 130.922 1413.36 Q127.89 1413.36 126.2 1414.87 Q124.533 1416.37 124.533 1419.06 Z\" fill=\"#000000\" fill-rule=\"evenodd\" fill-opacity=\"1\" /><path clip-path=\"url(#clip470)\" d=\"M51.8949 1146.4 L81.5707 1146.4 L81.5707 1150.33 L51.8949 1150.33 L51.8949 1146.4 Z\" fill=\"#000000\" fill-rule=\"evenodd\" fill-opacity=\"1\" /><path clip-path=\"url(#clip470)\" d=\"M92.4734 1159.29 L100.112 1159.29 L100.112 1132.92 L91.8021 1134.59 L91.8021 1130.33 L100.066 1128.67 L104.742 1128.67 L104.742 1159.29 L112.381 1159.29 L112.381 1163.23 L92.4734 1163.23 L92.4734 1159.29 Z\" fill=\"#000000\" fill-rule=\"evenodd\" fill-opacity=\"1\" /><path clip-path=\"url(#clip470)\" d=\"M121.871 1128.67 L140.228 1128.67 L140.228 1132.6 L126.154 1132.6 L126.154 1141.07 Q127.172 1140.73 128.191 1140.56 Q129.209 1140.38 130.228 1140.38 Q136.015 1140.38 139.394 1143.55 Q142.774 1146.72 142.774 1152.14 Q142.774 1157.72 139.302 1160.82 Q135.83 1163.9 129.51 1163.9 Q127.334 1163.9 125.066 1163.53 Q122.82 1163.16 120.413 1162.42 L120.413 1157.72 Q122.496 1158.85 124.719 1159.41 Q126.941 1159.96 129.418 1159.96 Q133.422 1159.96 135.76 1157.86 Q138.098 1155.75 138.098 1152.14 Q138.098 1148.53 135.76 1146.42 Q133.422 1144.31 129.418 1144.31 Q127.543 1144.31 125.668 1144.73 Q123.816 1145.15 121.871 1146.03 L121.871 1128.67 Z\" fill=\"#000000\" fill-rule=\"evenodd\" fill-opacity=\"1\" /><path clip-path=\"url(#clip470)\" d=\"M52.4967 864.779 L82.1725 864.779 L82.1725 868.714 L52.4967 868.714 L52.4967 864.779 Z\" fill=\"#000000\" fill-rule=\"evenodd\" fill-opacity=\"1\" /><path clip-path=\"url(#clip470)\" d=\"M93.0752 877.672 L100.714 877.672 L100.714 851.307 L92.4039 852.973 L92.4039 848.714 L100.668 847.047 L105.344 847.047 L105.344 877.672 L112.983 877.672 L112.983 881.607 L93.0752 881.607 L93.0752 877.672 Z\" fill=\"#000000\" fill-rule=\"evenodd\" fill-opacity=\"1\" /><path clip-path=\"url(#clip470)\" d=\"M126.455 877.672 L142.774 877.672 L142.774 881.607 L120.83 881.607 L120.83 877.672 Q123.492 874.918 128.075 870.288 Q132.682 865.635 133.862 864.293 Q136.107 861.77 136.987 860.033 Q137.89 858.274 137.89 856.584 Q137.89 853.83 135.945 852.094 Q134.024 850.358 130.922 850.358 Q128.723 850.358 126.27 851.121 Q123.839 851.885 121.061 853.436 L121.061 848.714 Q123.885 847.58 126.339 847.001 Q128.793 846.422 130.83 846.422 Q136.2 846.422 139.394 849.108 Q142.589 851.793 142.589 856.283 Q142.589 858.413 141.779 860.334 Q140.992 862.232 138.885 864.825 Q138.306 865.496 135.205 868.714 Q132.103 871.908 126.455 877.672 Z\" fill=\"#000000\" fill-rule=\"evenodd\" fill-opacity=\"1\" /><path clip-path=\"url(#clip470)\" d=\"M81.2466 583.161 L110.922 583.161 L110.922 587.096 L81.2466 587.096 L81.2466 583.161 Z\" fill=\"#000000\" fill-rule=\"evenodd\" fill-opacity=\"1\" /><path clip-path=\"url(#clip470)\" d=\"M121.154 599.272 L121.154 595.012 Q122.913 595.846 124.719 596.286 Q126.524 596.725 128.26 596.725 Q132.89 596.725 135.32 593.624 Q137.774 590.499 138.121 584.156 Q136.779 586.147 134.719 587.212 Q132.658 588.276 130.158 588.276 Q124.973 588.276 121.941 585.151 Q118.932 582.003 118.932 576.563 Q118.932 571.239 122.08 568.022 Q125.228 564.804 130.459 564.804 Q136.455 564.804 139.603 569.411 Q142.774 573.994 142.774 582.744 Q142.774 590.915 138.885 595.799 Q135.019 600.661 128.469 600.661 Q126.709 600.661 124.904 600.313 Q123.098 599.966 121.154 599.272 M130.459 584.619 Q133.607 584.619 135.436 582.466 Q137.288 580.313 137.288 576.563 Q137.288 572.837 135.436 570.684 Q133.607 568.508 130.459 568.508 Q127.311 568.508 125.459 570.684 Q123.631 572.837 123.631 576.563 Q123.631 580.313 125.459 582.466 Q127.311 584.619 130.459 584.619 Z\" fill=\"#000000\" fill-rule=\"evenodd\" fill-opacity=\"1\" /><path clip-path=\"url(#clip470)\" d=\"M80.8994 301.542 L110.575 301.542 L110.575 305.478 L80.8994 305.478 L80.8994 301.542 Z\" fill=\"#000000\" fill-rule=\"evenodd\" fill-opacity=\"1\" /><path clip-path=\"url(#clip470)\" d=\"M131.246 299.228 Q128.098 299.228 126.246 301.38 Q124.418 303.533 124.418 307.283 Q124.418 311.01 126.246 313.186 Q128.098 315.339 131.246 315.339 Q134.394 315.339 136.223 313.186 Q138.075 311.01 138.075 307.283 Q138.075 303.533 136.223 301.38 Q134.394 299.228 131.246 299.228 M140.529 284.575 L140.529 288.834 Q138.769 288.001 136.964 287.561 Q135.181 287.121 133.422 287.121 Q128.793 287.121 126.339 290.246 Q123.908 293.371 123.561 299.691 Q124.927 297.677 126.987 296.612 Q129.047 295.524 131.524 295.524 Q136.732 295.524 139.742 298.695 Q142.774 301.843 142.774 307.283 Q142.774 312.607 139.626 315.825 Q136.478 319.042 131.246 319.042 Q125.251 319.042 122.08 314.459 Q118.908 309.853 118.908 301.126 Q118.908 292.931 122.797 288.07 Q126.686 283.186 133.237 283.186 Q134.996 283.186 136.779 283.533 Q138.584 283.881 140.529 284.575 Z\" fill=\"#000000\" fill-rule=\"evenodd\" fill-opacity=\"1\" /><polyline clip-path=\"url(#clip472)\" style=\"stroke:#009af9; stroke-linecap:butt; stroke-linejoin:round; stroke-width:12; stroke-opacity:1; fill:none\" points=\"\n",
       "  240.302,120.137 259.469,391.574 278.637,547.91 297.804,666.318 316.972,887.773 336.14,1159.62 355.307,1261.07 374.475,1431.97 393.642,1431.97 412.81,1431.97 \n",
       "  431.977,1431.97 451.145,1431.97 470.312,1435.27 489.48,1435.35 508.647,1438.96 527.815,1439.83 546.982,1442.76 566.15,1442.76 585.317,1442.76 604.485,1442.76 \n",
       "  623.653,1442.76 642.82,1442.97 661.988,1442.98 681.155,1443.51 700.323,1443.54 719.49,1443.67 738.658,1443.67 757.825,1443.67 776.993,1443.67 796.16,1443.67 \n",
       "  815.328,1443.68 834.495,1443.68 853.663,1443.76 872.83,1443.76 891.998,1443.84 911.166,1443.84 930.333,1443.84 949.501,1443.84 968.668,1443.84 987.836,1443.88 \n",
       "  1007,1443.88 1026.17,1443.9 1045.34,1443.9 1064.51,1443.9 1083.67,1443.9 1102.84,1443.9 1122.01,1443.9 1141.18,1443.9 1160.34,1443.9 1179.51,1443.9 \n",
       "  1198.68,1443.91 1217.85,1443.91 1237.01,1443.93 1256.18,1443.93 1275.35,1443.93 1294.52,1443.93 1313.68,1443.93 1332.85,1443.94 1352.02,1443.95 1371.19,1443.95 \n",
       "  1390.35,1443.95 1409.52,1443.95 1428.69,1443.95 1447.86,1443.95 1467.02,1443.95 1486.19,1443.95 1505.36,1443.95 1524.53,1443.95 1543.69,1443.95 1562.86,1443.95 \n",
       "  1582.03,1443.96 1601.2,1443.96 1620.36,1443.96 1639.53,1443.96 1658.7,1443.96 1677.87,1443.96 1697.03,1443.96 1716.2,1443.96 1735.37,1443.96 1754.54,1443.96 \n",
       "  1773.7,1443.96 1792.87,1443.96 1812.04,1443.96 1831.21,1443.96 1850.37,1443.96 1869.54,1443.96 1888.71,1443.96 1907.88,1443.96 1927.04,1443.96 1946.21,1443.96 \n",
       "  1965.38,1443.96 1984.55,1443.96 2003.72,1443.96 2022.88,1443.96 2042.05,1443.96 2061.22,1443.97 2080.39,1443.97 2099.55,1443.97 2118.72,1443.97 2137.89,1443.97 \n",
       "  2157.06,1443.97 2176.22,1443.97 2195.39,1443.97 2214.56,1443.97 2233.73,1443.97 2252.89,1443.97 2272.06,1443.97 2291.23,1443.97 \n",
       "  \"/>\n",
       "<polyline clip-path=\"url(#clip472)\" style=\"stroke:#e26f46; stroke-linecap:butt; stroke-linejoin:round; stroke-width:12; stroke-opacity:1; fill:none\" points=\"\n",
       "  240.302,87.9763 259.469,308.884 278.637,511.204 297.804,703.072 316.972,985.157 336.14,1295.93 355.307,1445.4 374.475,1445.4 393.642,1445.4 412.81,1445.4 \n",
       "  431.977,1445.4 451.145,1445.4 470.312,1445.4 489.48,1445.53 508.647,1445.57 527.815,1445.72 546.982,1445.72 566.15,1445.72 585.317,1445.72 604.485,1445.72 \n",
       "  623.653,1445.72 642.82,1445.72 661.988,1445.72 681.155,1445.72 700.323,1445.72 719.49,1445.72 738.658,1445.72 757.825,1445.72 776.993,1445.72 796.16,1445.72 \n",
       "  815.328,1445.72 834.495,1445.72 853.663,1445.72 872.83,1445.72 891.998,1445.72 911.166,1445.72 \n",
       "  \"/>\n",
       "<path clip-path=\"url(#clip470)\" d=\"\n",
       "M1909.99 250.738 L2280.29 250.738 L2280.29 95.2176 L1909.99 95.2176  Z\n",
       "  \" fill=\"#ffffff\" fill-rule=\"evenodd\" fill-opacity=\"1\"/>\n",
       "<polyline clip-path=\"url(#clip470)\" style=\"stroke:#000000; stroke-linecap:butt; stroke-linejoin:round; stroke-width:4; stroke-opacity:1; fill:none\" points=\"\n",
       "  1909.99,250.738 2280.29,250.738 2280.29,95.2176 1909.99,95.2176 1909.99,250.738 \n",
       "  \"/>\n",
       "<polyline clip-path=\"url(#clip470)\" style=\"stroke:#009af9; stroke-linecap:butt; stroke-linejoin:round; stroke-width:4; stroke-opacity:1; fill:none\" points=\"\n",
       "  1934.14,147.058 2079.07,147.058 \n",
       "  \"/>\n",
       "<path clip-path=\"url(#clip470)\" d=\"M2107.91 133.62 L2107.91 160.495 L2113.55 160.495 Q2120.71 160.495 2124.02 157.254 Q2127.35 154.014 2127.35 147.023 Q2127.35 140.078 2124.02 136.861 Q2120.71 133.62 2113.55 133.62 L2107.91 133.62 M2103.23 129.778 L2112.84 129.778 Q2122.88 129.778 2127.58 133.967 Q2132.28 138.134 2132.28 147.023 Q2132.28 155.958 2127.56 160.148 Q2122.84 164.338 2112.84 164.338 L2103.23 164.338 L2103.23 129.778 Z\" fill=\"#000000\" fill-rule=\"evenodd\" fill-opacity=\"1\" /><path clip-path=\"url(#clip470)\" d=\"M2140.1 142.81 L2169.78 142.81 L2169.78 146.699 L2140.1 146.699 L2140.1 142.81 M2140.1 152.254 L2169.78 152.254 L2169.78 156.189 L2140.1 156.189 L2140.1 152.254 Z\" fill=\"#000000\" fill-rule=\"evenodd\" fill-opacity=\"1\" /><path clip-path=\"url(#clip470)\" d=\"M2179.92 129.778 L2198.28 129.778 L2198.28 133.713 L2184.2 133.713 L2184.2 142.185 Q2185.22 141.838 2186.24 141.676 Q2187.26 141.49 2188.28 141.49 Q2194.06 141.49 2197.44 144.662 Q2200.82 147.833 2200.82 153.25 Q2200.82 158.828 2197.35 161.93 Q2193.88 165.009 2187.56 165.009 Q2185.38 165.009 2183.11 164.638 Q2180.87 164.268 2178.46 163.527 L2178.46 158.828 Q2180.54 159.963 2182.77 160.518 Q2184.99 161.074 2187.47 161.074 Q2191.47 161.074 2193.81 158.967 Q2196.15 156.861 2196.15 153.25 Q2196.15 149.639 2193.81 147.532 Q2191.47 145.426 2187.47 145.426 Q2185.59 145.426 2183.72 145.842 Q2181.86 146.259 2179.92 147.139 L2179.92 129.778 Z\" fill=\"#000000\" fill-rule=\"evenodd\" fill-opacity=\"1\" /><polyline clip-path=\"url(#clip470)\" style=\"stroke:#e26f46; stroke-linecap:butt; stroke-linejoin:round; stroke-width:4; stroke-opacity:1; fill:none\" points=\"\n",
       "  1934.14,198.898 2079.07,198.898 \n",
       "  \"/>\n",
       "<path clip-path=\"url(#clip470)\" d=\"M2107.91 185.46 L2107.91 212.335 L2113.55 212.335 Q2120.71 212.335 2124.02 209.094 Q2127.35 205.854 2127.35 198.863 Q2127.35 191.918 2124.02 188.701 Q2120.71 185.46 2113.55 185.46 L2107.91 185.46 M2103.23 181.618 L2112.84 181.618 Q2122.88 181.618 2127.58 185.807 Q2132.28 189.974 2132.28 198.863 Q2132.28 207.798 2127.56 211.988 Q2122.84 216.178 2112.84 216.178 L2103.23 216.178 L2103.23 181.618 Z\" fill=\"#000000\" fill-rule=\"evenodd\" fill-opacity=\"1\" /><path clip-path=\"url(#clip470)\" d=\"M2140.1 194.65 L2169.78 194.65 L2169.78 198.539 L2140.1 198.539 L2140.1 194.65 M2140.1 204.094 L2169.78 204.094 L2169.78 208.029 L2140.1 208.029 L2140.1 204.094 Z\" fill=\"#000000\" fill-rule=\"evenodd\" fill-opacity=\"1\" /><path clip-path=\"url(#clip470)\" d=\"M2180.68 212.242 L2188.32 212.242 L2188.32 185.877 L2180.01 187.543 L2180.01 183.284 L2188.28 181.618 L2192.95 181.618 L2192.95 212.242 L2200.59 212.242 L2200.59 216.178 L2180.68 216.178 L2180.68 212.242 Z\" fill=\"#000000\" fill-rule=\"evenodd\" fill-opacity=\"1\" /><path clip-path=\"url(#clip470)\" d=\"M2220.03 184.696 Q2216.42 184.696 2214.59 188.261 Q2212.79 191.803 2212.79 198.932 Q2212.79 206.039 2214.59 209.604 Q2216.42 213.145 2220.03 213.145 Q2223.67 213.145 2225.47 209.604 Q2227.3 206.039 2227.3 198.932 Q2227.3 191.803 2225.47 188.261 Q2223.67 184.696 2220.03 184.696 M2220.03 180.993 Q2225.84 180.993 2228.9 185.599 Q2231.98 190.182 2231.98 198.932 Q2231.98 207.659 2228.9 212.266 Q2225.84 216.849 2220.03 216.849 Q2214.22 216.849 2211.15 212.266 Q2208.09 207.659 2208.09 198.932 Q2208.09 190.182 2211.15 185.599 Q2214.22 180.993 2220.03 180.993 Z\" fill=\"#000000\" fill-rule=\"evenodd\" fill-opacity=\"1\" /></svg>\n"
      ]
     },
     "execution_count": 22,
     "metadata": {},
     "output_type": "execute_result"
    }
   ],
   "source": [
    "using Plots\n",
    "\n",
    "fig = plot(Eigenvalues, linewidth=3, label=\"D=$bond_dimension\")\n",
    "plot!(fig, Eigenvalues2, linewidth=3, label=\"D=$larger_bond_dimension\")"
   ]
  },
  {
   "cell_type": "markdown",
   "id": "23b962d1",
   "metadata": {},
   "source": [
    "#### Try a larger problem"
   ]
  },
  {
   "cell_type": "code",
   "execution_count": 23,
   "id": "5f20dc4d",
   "metadata": {},
   "outputs": [
    {
     "name": "stdout",
     "output_type": "stream",
     "text": [
      "we are at the 1-th sweep.\n",
      "we are sweep from left to right on site 1...\n",
      "lowest eigenvalue at site 1 is -6.541385635162545\n",
      "we are sweep from left to right on site 2...\n",
      "lowest eigenvalue at site 2 is -8.903174513373594\n",
      "we are sweep from left to right on site 3...\n",
      "lowest eigenvalue at site 3 is -10.791380259432087\n",
      "we are sweep from left to right on site 4...\n",
      "lowest eigenvalue at site 4 is -12.895014865323832\n",
      "we are sweep from left to right on site 5...\n",
      "lowest eigenvalue at site 5 is -15.094301750198941\n",
      "we are sweep from left to right on site 6...\n",
      "lowest eigenvalue at site 6 is -17.33056566520483\n",
      "we are sweep from left to right on site 7...\n",
      "lowest eigenvalue at site 7 is -19.19813415182543\n",
      "we are sweep from left to right on site 8...\n",
      "lowest eigenvalue at site 8 is -21.329056799280806\n",
      "we are sweep from left to right on site 9...\n",
      "lowest eigenvalue at site 9 is -23.55517394761868\n",
      "we are sweep from left to right on site 10...\n",
      "lowest eigenvalue at site 10 is -25.28915928142728\n",
      "we are sweep from left to right on site 11...\n",
      "lowest eigenvalue at site 11 is -27.065074765302676\n",
      "we are sweep from left to right on site 12...\n",
      "lowest eigenvalue at site 12 is -29.318570944137267\n",
      "we are sweep from left to right on site 13...\n",
      "lowest eigenvalue at site 13 is -31.265362209259074\n",
      "we are sweep from left to right on site 14...\n",
      "lowest eigenvalue at site 14 is -33.368277429684646\n",
      "we are sweep from left to right on site 15...\n",
      "lowest eigenvalue at site 15 is -35.36876974553694\n",
      "we are sweep from left to right on site 16...\n",
      "lowest eigenvalue at site 16 is -37.528571227856496\n",
      "we are sweep from left to right on site 17...\n",
      "lowest eigenvalue at site 17 is -39.81353141281489\n",
      "we are sweep from left to right on site 18...\n",
      "lowest eigenvalue at site 18 is -41.94820911993414\n",
      "we are sweep from left to right on site 19...\n",
      "lowest eigenvalue at site 19 is -44.29740355366138\n",
      "we are sweep from left to right on site 20...\n",
      "lowest eigenvalue at site 20 is -46.428600312821665\n",
      "we are sweep from left to right on site 21...\n",
      "lowest eigenvalue at site 21 is -48.597250031810496\n",
      "we are sweep from left to right on site 22...\n",
      "lowest eigenvalue at site 22 is -50.30598249376863\n",
      "we are sweep from left to right on site 23...\n",
      "lowest eigenvalue at site 23 is -52.670404405593914\n",
      "we are sweep from left to right on site 24...\n",
      "lowest eigenvalue at site 24 is -54.69320837106887\n",
      "we are sweep from left to right on site 25...\n",
      "lowest eigenvalue at site 25 is -57.05672722148231\n",
      "we are sweep from left to right on site 26...\n",
      "lowest eigenvalue at site 26 is -59.25268194372454\n",
      "we are sweep from left to right on site 27...\n",
      "lowest eigenvalue at site 27 is -60.90547962951484\n",
      "we are sweep from left to right on site 28...\n",
      "lowest eigenvalue at site 28 is -62.94408707379065\n",
      "we are sweep from left to right on site 29...\n",
      "lowest eigenvalue at site 29 is -65.00701743866699\n",
      "we are sweep from left to right on site 30...\n",
      "lowest eigenvalue at site 30 is -67.20320959433833\n",
      "we are sweep from left to right on site 31...\n",
      "lowest eigenvalue at site 31 is -69.37745577409878\n",
      "we are sweep from left to right on site 32...\n",
      "lowest eigenvalue at site 32 is -71.52092130821379\n",
      "we are sweep from left to right on site 33...\n",
      "lowest eigenvalue at site 33 is -73.77448117998371\n",
      "we are sweep from left to right on site 34...\n",
      "lowest eigenvalue at site 34 is -75.75949812952214\n",
      "we are sweep from left to right on site 35...\n",
      "lowest eigenvalue at site 35 is -77.96689357643025\n",
      "we are sweep from left to right on site 36...\n",
      "lowest eigenvalue at site 36 is -80.1380621978577\n",
      "we are sweep from left to right on site 37...\n",
      "lowest eigenvalue at site 37 is -82.28839154533264\n",
      "we are sweep from left to right on site 38...\n",
      "lowest eigenvalue at site 38 is -84.21519750815281\n",
      "we are sweep from left to right on site 39...\n",
      "lowest eigenvalue at site 39 is -86.6253333753629\n",
      "we are sweep from left to right on site 40...\n",
      "lowest eigenvalue at site 40 is -88.72993735803432\n",
      "we are sweep from left to right on site 41...\n",
      "lowest eigenvalue at site 41 is -91.27392147775242\n",
      "we are sweep from left to right on site 42...\n",
      "lowest eigenvalue at site 42 is -94.23015388953232\n",
      "we are sweep from left to right on site 43...\n",
      "lowest eigenvalue at site 43 is -97.77190885323958\n",
      "we are sweep from left to right on site 44...\n",
      "lowest eigenvalue at site 44 is -101.64378170927353\n",
      "we are sweep from left to right on site 45...\n",
      "lowest eigenvalue at site 45 is -104.18951082951018\n",
      "we are sweep from left to right on site 46...\n",
      "lowest eigenvalue at site 46 is -104.18951082951011\n",
      "we are sweep from left to right on site 47...\n",
      "lowest eigenvalue at site 47 is -104.18951082951013\n",
      "we are sweep from left to right on site 48...\n",
      "lowest eigenvalue at site 48 is -104.18951082951024\n",
      "we are sweep from left to right on site 49...\n",
      "lowest eigenvalue at site 49 is -104.18951082951037\n",
      "\n",
      "\n",
      "we are sweep from right to left on site 50...\n",
      "lowest eigenvalue at site 50 is -104.18951082951035\n",
      "we are sweep from right to left on site 49...\n",
      "lowest eigenvalue at site 49 is -104.18951082951038\n",
      "we are sweep from right to left on site 48...\n",
      "lowest eigenvalue at site 48 is -104.18951082951028\n",
      "we are sweep from right to left on site 47...\n",
      "lowest eigenvalue at site 47 is -104.1895108295103\n",
      "we are sweep from right to left on site 46...\n",
      "lowest eigenvalue at site 46 is -104.1895108295103\n",
      "we are sweep from right to left on site 45...\n",
      "lowest eigenvalue at site 45 is -104.18951082951016\n",
      "we are sweep from right to left on site 44...\n",
      "lowest eigenvalue at site 44 is -104.18980757353965\n",
      "we are sweep from right to left on site 43...\n",
      "lowest eigenvalue at site 43 is -104.19203977725623\n",
      "we are sweep from right to left on site 42...\n",
      "lowest eigenvalue at site 42 is -104.19229769746323\n",
      "we are sweep from right to left on site 41...\n",
      "lowest eigenvalue at site 41 is -104.19230213912488\n",
      "we are sweep from right to left on site 40...\n",
      "lowest eigenvalue at site 40 is -104.19240722521299\n",
      "we are sweep from right to left on site 39...\n",
      "lowest eigenvalue at site 39 is -104.19278099763983\n",
      "we are sweep from right to left on site 38...\n",
      "lowest eigenvalue at site 38 is -104.1928120338006\n",
      "we are sweep from right to left on site 37...\n",
      "lowest eigenvalue at site 37 is -104.19304866346914\n",
      "we are sweep from right to left on site 36...\n",
      "lowest eigenvalue at site 36 is -104.19357911227172\n",
      "we are sweep from right to left on site 35...\n",
      "lowest eigenvalue at site 35 is -104.19384447967543\n",
      "we are sweep from right to left on site 34...\n",
      "lowest eigenvalue at site 34 is -104.19394625582326\n",
      "we are sweep from right to left on site 33...\n",
      "lowest eigenvalue at site 33 is -104.19398005027092\n",
      "we are sweep from right to left on site 32...\n",
      "lowest eigenvalue at site 32 is -104.19400869961603\n",
      "we are sweep from right to left on site 31...\n",
      "lowest eigenvalue at site 31 is -104.19422189662782\n",
      "we are sweep from right to left on site 30...\n",
      "lowest eigenvalue at site 30 is -104.19422841494746\n",
      "we are sweep from right to left on site 29...\n",
      "lowest eigenvalue at site 29 is -104.19424921366534\n",
      "we are sweep from right to left on site 28...\n",
      "lowest eigenvalue at site 28 is -104.19431854347305\n",
      "we are sweep from right to left on site 27...\n",
      "lowest eigenvalue at site 27 is -104.19436126211255\n",
      "we are sweep from right to left on site 26...\n",
      "lowest eigenvalue at site 26 is -104.19443085399774\n",
      "we are sweep from right to left on site 25...\n",
      "lowest eigenvalue at site 25 is -104.19444450634876\n",
      "we are sweep from right to left on site 24...\n",
      "lowest eigenvalue at site 24 is -104.194478817431\n",
      "we are sweep from right to left on site 23...\n",
      "lowest eigenvalue at site 23 is -104.19448641694024\n",
      "we are sweep from right to left on site 22...\n",
      "lowest eigenvalue at site 22 is -104.19449129024522\n",
      "we are sweep from right to left on site 21...\n",
      "lowest eigenvalue at site 21 is -104.19450381028967\n",
      "we are sweep from right to left on site 20...\n",
      "lowest eigenvalue at site 20 is -104.19452330986454\n",
      "we are sweep from right to left on site 19...\n",
      "lowest eigenvalue at site 19 is -104.19453092049037\n",
      "we are sweep from right to left on site 18...\n",
      "lowest eigenvalue at site 18 is -104.19455264024282\n",
      "we are sweep from right to left on site 17...\n",
      "lowest eigenvalue at site 17 is -104.1945575476948\n",
      "we are sweep from right to left on site 16...\n",
      "lowest eigenvalue at site 16 is -104.19455937945695\n",
      "we are sweep from right to left on site 15...\n"
     ]
    },
    {
     "name": "stdout",
     "output_type": "stream",
     "text": [
      "lowest eigenvalue at site 15 is -104.19455996426352\n",
      "we are sweep from right to left on site 14...\n",
      "lowest eigenvalue at site 14 is -104.19456063823628\n",
      "we are sweep from right to left on site 13...\n",
      "lowest eigenvalue at site 13 is -104.19456201274949\n",
      "we are sweep from right to left on site 12...\n",
      "lowest eigenvalue at site 12 is -104.19456396133198\n",
      "we are sweep from right to left on site 11...\n",
      "lowest eigenvalue at site 11 is -104.19456432012514\n",
      "we are sweep from right to left on site 10...\n",
      "lowest eigenvalue at site 10 is -104.19456513671429\n",
      "we are sweep from right to left on site 9...\n",
      "lowest eigenvalue at site 9 is -104.19456557567962\n",
      "we are sweep from right to left on site 8...\n",
      "lowest eigenvalue at site 8 is -104.19456561984721\n",
      "we are sweep from right to left on site 7...\n",
      "lowest eigenvalue at site 7 is -104.19456562883335\n",
      "we are sweep from right to left on site 6...\n",
      "lowest eigenvalue at site 6 is -104.19456563078542\n",
      "we are sweep from right to left on site 5...\n",
      "lowest eigenvalue at site 5 is -104.19456563078548\n",
      "we are sweep from right to left on site 4...\n",
      "lowest eigenvalue at site 4 is -104.1945656307854\n",
      "we are sweep from right to left on site 3...\n",
      "lowest eigenvalue at site 3 is -104.19456563078529\n",
      "we are sweep from right to left on site 2...\n",
      "lowest eigenvalue at site 2 is -104.19456563078523\n",
      "we are at the 2-th sweep.\n",
      "we are sweep from left to right on site 1...\n",
      "lowest eigenvalue at site 1 is -104.19456563078525\n",
      "we are sweep from left to right on site 2...\n",
      "lowest eigenvalue at site 2 is -104.19456563078533\n",
      "we are sweep from left to right on site 3...\n",
      "lowest eigenvalue at site 3 is -104.19456563078529\n",
      "we are sweep from left to right on site 4...\n",
      "lowest eigenvalue at site 4 is -104.19456563078535\n",
      "we are sweep from left to right on site 5...\n",
      "lowest eigenvalue at site 5 is -104.1945656307854\n",
      "we are sweep from left to right on site 6...\n",
      "lowest eigenvalue at site 6 is -104.19456563078538\n",
      "we are sweep from left to right on site 7...\n",
      "lowest eigenvalue at site 7 is -104.19456563078558\n",
      "we are sweep from left to right on site 8...\n",
      "lowest eigenvalue at site 8 is -104.19456563079132\n",
      "we are sweep from left to right on site 9...\n",
      "lowest eigenvalue at site 9 is -104.1945656308801\n",
      "we are sweep from left to right on site 10...\n",
      "lowest eigenvalue at site 10 is -104.19456563094532\n",
      "we are sweep from left to right on site 11...\n",
      "lowest eigenvalue at site 11 is -104.19456563126802\n",
      "we are sweep from left to right on site 12...\n",
      "lowest eigenvalue at site 12 is -104.19456563170014\n",
      "we are sweep from left to right on site 13...\n",
      "lowest eigenvalue at site 13 is -104.19456563259088\n",
      "we are sweep from left to right on site 14...\n",
      "lowest eigenvalue at site 14 is -104.19456563327138\n",
      "we are sweep from left to right on site 15...\n",
      "lowest eigenvalue at site 15 is -104.19456563431476\n",
      "we are sweep from left to right on site 16...\n",
      "lowest eigenvalue at site 16 is -104.19456563582547\n",
      "we are sweep from left to right on site 17...\n",
      "lowest eigenvalue at site 17 is -104.19456563731276\n",
      "we are sweep from left to right on site 18...\n",
      "lowest eigenvalue at site 18 is -104.19456563990012\n",
      "we are sweep from left to right on site 19...\n",
      "lowest eigenvalue at site 19 is -104.19456564333473\n",
      "we are sweep from left to right on site 20...\n",
      "lowest eigenvalue at site 20 is -104.19456564602895\n",
      "we are sweep from left to right on site 21...\n",
      "lowest eigenvalue at site 21 is -104.19456565001278\n",
      "we are sweep from left to right on site 22...\n",
      "lowest eigenvalue at site 22 is -104.19456565389483\n",
      "we are sweep from left to right on site 23...\n",
      "lowest eigenvalue at site 23 is -104.19456565945868\n",
      "we are sweep from left to right on site 24...\n",
      "lowest eigenvalue at site 24 is -104.19456566334294\n",
      "we are sweep from left to right on site 25...\n",
      "lowest eigenvalue at site 25 is -104.19456567086243\n",
      "we are sweep from left to right on site 26...\n",
      "lowest eigenvalue at site 26 is -104.19456567703067\n",
      "we are sweep from left to right on site 27...\n",
      "lowest eigenvalue at site 27 is -104.19456568638456\n",
      "we are sweep from left to right on site 28...\n",
      "lowest eigenvalue at site 28 is -104.19456569219555\n",
      "we are sweep from left to right on site 29...\n",
      "lowest eigenvalue at site 29 is -104.1945656983966\n",
      "we are sweep from left to right on site 30...\n",
      "lowest eigenvalue at site 30 is -104.19456570296947\n",
      "we are sweep from left to right on site 31...\n",
      "lowest eigenvalue at site 31 is -104.19456570863103\n",
      "we are sweep from left to right on site 32...\n",
      "lowest eigenvalue at site 32 is -104.19456571156898\n",
      "we are sweep from left to right on site 33...\n",
      "lowest eigenvalue at site 33 is -104.19456571579214\n",
      "we are sweep from left to right on site 34...\n",
      "lowest eigenvalue at site 34 is -104.19456571836514\n",
      "we are sweep from left to right on site 35...\n",
      "lowest eigenvalue at site 35 is -104.19456572328448\n",
      "we are sweep from left to right on site 36...\n",
      "lowest eigenvalue at site 36 is -104.19456572596458\n",
      "we are sweep from left to right on site 37...\n",
      "lowest eigenvalue at site 37 is -104.19456573115596\n",
      "we are sweep from left to right on site 38...\n",
      "lowest eigenvalue at site 38 is -104.19456573377208\n",
      "we are sweep from left to right on site 39...\n",
      "lowest eigenvalue at site 39 is -104.19456573511071\n",
      "we are sweep from left to right on site 40...\n",
      "lowest eigenvalue at site 40 is -104.19456573564717\n",
      "we are sweep from left to right on site 41...\n",
      "lowest eigenvalue at site 41 is -104.19456573658498\n",
      "we are sweep from left to right on site 42...\n",
      "lowest eigenvalue at site 42 is -104.19456573670593\n",
      "we are sweep from left to right on site 43...\n",
      "lowest eigenvalue at site 43 is -104.19456573700596\n",
      "we are sweep from left to right on site 44...\n",
      "lowest eigenvalue at site 44 is -104.19456573709378\n",
      "we are sweep from left to right on site 45...\n",
      "lowest eigenvalue at site 45 is -104.19456573709435\n",
      "we are sweep from left to right on site 46...\n",
      "lowest eigenvalue at site 46 is -104.19456573709442\n",
      "we are sweep from left to right on site 47...\n",
      "lowest eigenvalue at site 47 is -104.19456573709425\n",
      "we are sweep from left to right on site 48...\n",
      "lowest eigenvalue at site 48 is -104.19456573709432\n",
      "we are sweep from left to right on site 49...\n",
      "lowest eigenvalue at site 49 is -104.19456573709438\n",
      "\n",
      "\n",
      "we are sweep from right to left on site 50...\n",
      "lowest eigenvalue at site 50 is -104.19456573709438\n",
      "we are sweep from right to left on site 49...\n",
      "lowest eigenvalue at site 49 is -104.19456573709442\n",
      "we are sweep from right to left on site 48...\n",
      "lowest eigenvalue at site 48 is -104.19456573709435\n",
      "we are sweep from right to left on site 47...\n",
      "lowest eigenvalue at site 47 is -104.19456573709432\n",
      "we are sweep from right to left on site 46...\n",
      "lowest eigenvalue at site 46 is -104.19456573709434\n",
      "we are sweep from right to left on site 45...\n",
      "lowest eigenvalue at site 45 is -104.19456573709445\n",
      "we are sweep from right to left on site 44...\n",
      "lowest eigenvalue at site 44 is -104.19456573709448\n",
      "we are sweep from right to left on site 43...\n",
      "lowest eigenvalue at site 43 is -104.19456573709971\n",
      "we are sweep from right to left on site 42...\n",
      "lowest eigenvalue at site 42 is -104.19456573712809\n",
      "we are sweep from right to left on site 41...\n",
      "lowest eigenvalue at site 41 is -104.19456573714999\n",
      "we are sweep from right to left on site 40...\n",
      "lowest eigenvalue at site 40 is -104.19456573725552\n",
      "we are sweep from right to left on site 39...\n",
      "lowest eigenvalue at site 39 is -104.19456573729767\n",
      "we are sweep from right to left on site 38...\n",
      "lowest eigenvalue at site 38 is -104.19456573752863\n",
      "we are sweep from right to left on site 37...\n",
      "lowest eigenvalue at site 37 is -104.19456573768154\n",
      "we are sweep from right to left on site 36...\n",
      "lowest eigenvalue at site 36 is -104.19456573830445\n",
      "we are sweep from right to left on site 35...\n",
      "lowest eigenvalue at site 35 is -104.19456573862072\n",
      "we are sweep from right to left on site 34...\n",
      "lowest eigenvalue at site 34 is -104.19456573938848\n",
      "we are sweep from right to left on site 33...\n",
      "lowest eigenvalue at site 33 is -104.19456573976464\n",
      "we are sweep from right to left on site 32...\n",
      "lowest eigenvalue at site 32 is -104.19456574051618\n",
      "we are sweep from right to left on site 31...\n",
      "lowest eigenvalue at site 31 is -104.19456574088045\n",
      "we are sweep from right to left on site 30...\n",
      "lowest eigenvalue at site 30 is -104.19456574190781\n",
      "we are sweep from right to left on site 29...\n"
     ]
    },
    {
     "name": "stdout",
     "output_type": "stream",
     "text": [
      "lowest eigenvalue at site 29 is -104.19456574232126\n",
      "we are sweep from right to left on site 28...\n",
      "lowest eigenvalue at site 28 is -104.19456574354705\n",
      "we are sweep from right to left on site 27...\n",
      "lowest eigenvalue at site 27 is -104.19456574436505\n",
      "we are sweep from right to left on site 26...\n",
      "lowest eigenvalue at site 26 is -104.1945657461279\n",
      "we are sweep from right to left on site 25...\n",
      "lowest eigenvalue at site 25 is -104.19456574713413\n",
      "we are sweep from right to left on site 24...\n",
      "lowest eigenvalue at site 24 is -104.19456574917271\n",
      "we are sweep from right to left on site 23...\n",
      "lowest eigenvalue at site 23 is -104.19456575005803\n",
      "we are sweep from right to left on site 22...\n",
      "lowest eigenvalue at site 22 is -104.19456575141967\n",
      "we are sweep from right to left on site 21...\n",
      "lowest eigenvalue at site 21 is -104.19456575201453\n",
      "we are sweep from right to left on site 20...\n",
      "lowest eigenvalue at site 20 is -104.19456575305371\n",
      "we are sweep from right to left on site 19...\n",
      "lowest eigenvalue at site 19 is -104.19456575347323\n",
      "we are sweep from right to left on site 18...\n",
      "lowest eigenvalue at site 18 is -104.19456575414128\n",
      "we are sweep from right to left on site 17...\n",
      "lowest eigenvalue at site 17 is -104.1945657545227\n",
      "we are sweep from right to left on site 16...\n",
      "lowest eigenvalue at site 16 is -104.1945657548706\n",
      "we are sweep from right to left on site 15...\n",
      "lowest eigenvalue at site 15 is -104.19456575499875\n",
      "we are sweep from right to left on site 14...\n",
      "lowest eigenvalue at site 14 is -104.19456575522797\n",
      "we are sweep from right to left on site 13...\n",
      "lowest eigenvalue at site 13 is -104.19456575528685\n",
      "we are sweep from right to left on site 12...\n",
      "lowest eigenvalue at site 12 is -104.194565755385\n",
      "we are sweep from right to left on site 11...\n",
      "lowest eigenvalue at site 11 is -104.19456575547525\n",
      "we are sweep from right to left on site 10...\n",
      "lowest eigenvalue at site 10 is -104.19456575553613\n",
      "we are sweep from right to left on site 9...\n",
      "lowest eigenvalue at site 9 is -104.19456575555597\n",
      "we are sweep from right to left on site 8...\n",
      "lowest eigenvalue at site 8 is -104.19456575557575\n",
      "we are sweep from right to left on site 7...\n",
      "lowest eigenvalue at site 7 is -104.19456575557649\n",
      "we are sweep from right to left on site 6...\n",
      "lowest eigenvalue at site 6 is -104.19456575557643\n",
      "we are sweep from right to left on site 5...\n",
      "lowest eigenvalue at site 5 is -104.19456575557645\n",
      "we are sweep from right to left on site 4...\n",
      "lowest eigenvalue at site 4 is -104.19456575557648\n",
      "we are sweep from right to left on site 3...\n",
      "lowest eigenvalue at site 3 is -104.19456575557646\n",
      "we are sweep from right to left on site 2...\n",
      "lowest eigenvalue at site 2 is -104.19456575557655\n",
      "DMRG converged in 2 sweeps.\n",
      " 72.813201 seconds (75.94 M allocations: 15.858 GiB, 6.03% gc time)\n"
     ]
    },
    {
     "data": {
      "image/svg+xml": [
       "<?xml version=\"1.0\" encoding=\"utf-8\"?>\n",
       "<svg xmlns=\"http://www.w3.org/2000/svg\" xmlns:xlink=\"http://www.w3.org/1999/xlink\" width=\"600\" height=\"400\" viewBox=\"0 0 2400 1600\">\n",
       "<defs>\n",
       "  <clipPath id=\"clip510\">\n",
       "    <rect x=\"0\" y=\"0\" width=\"2400\" height=\"1600\"/>\n",
       "  </clipPath>\n",
       "</defs>\n",
       "<path clip-path=\"url(#clip510)\" d=\"\n",
       "M0 1600 L2400 1600 L2400 0 L0 0  Z\n",
       "  \" fill=\"#ffffff\" fill-rule=\"evenodd\" fill-opacity=\"1\"/>\n",
       "<defs>\n",
       "  <clipPath id=\"clip511\">\n",
       "    <rect x=\"480\" y=\"0\" width=\"1681\" height=\"1600\"/>\n",
       "  </clipPath>\n",
       "</defs>\n",
       "<path clip-path=\"url(#clip510)\" d=\"\n",
       "M209.029 1486.45 L2352.76 1486.45 L2352.76 47.2441 L209.029 47.2441  Z\n",
       "  \" fill=\"#ffffff\" fill-rule=\"evenodd\" fill-opacity=\"1\"/>\n",
       "<defs>\n",
       "  <clipPath id=\"clip512\">\n",
       "    <rect x=\"209\" y=\"47\" width=\"2145\" height=\"1440\"/>\n",
       "  </clipPath>\n",
       "</defs>\n",
       "<polyline clip-path=\"url(#clip512)\" style=\"stroke:#000000; stroke-linecap:butt; stroke-linejoin:round; stroke-width:2; stroke-opacity:0.1; fill:none\" points=\"\n",
       "  259.329,1486.45 259.329,47.2441 \n",
       "  \"/>\n",
       "<polyline clip-path=\"url(#clip512)\" style=\"stroke:#000000; stroke-linecap:butt; stroke-linejoin:round; stroke-width:2; stroke-opacity:0.1; fill:none\" points=\"\n",
       "  777.889,1486.45 777.889,47.2441 \n",
       "  \"/>\n",
       "<polyline clip-path=\"url(#clip512)\" style=\"stroke:#000000; stroke-linecap:butt; stroke-linejoin:round; stroke-width:2; stroke-opacity:0.1; fill:none\" points=\"\n",
       "  1296.45,1486.45 1296.45,47.2441 \n",
       "  \"/>\n",
       "<polyline clip-path=\"url(#clip512)\" style=\"stroke:#000000; stroke-linecap:butt; stroke-linejoin:round; stroke-width:2; stroke-opacity:0.1; fill:none\" points=\"\n",
       "  1815.01,1486.45 1815.01,47.2441 \n",
       "  \"/>\n",
       "<polyline clip-path=\"url(#clip512)\" style=\"stroke:#000000; stroke-linecap:butt; stroke-linejoin:round; stroke-width:2; stroke-opacity:0.1; fill:none\" points=\"\n",
       "  2333.57,1486.45 2333.57,47.2441 \n",
       "  \"/>\n",
       "<polyline clip-path=\"url(#clip510)\" style=\"stroke:#000000; stroke-linecap:butt; stroke-linejoin:round; stroke-width:4; stroke-opacity:1; fill:none\" points=\"\n",
       "  209.029,1486.45 2352.76,1486.45 \n",
       "  \"/>\n",
       "<polyline clip-path=\"url(#clip510)\" style=\"stroke:#000000; stroke-linecap:butt; stroke-linejoin:round; stroke-width:4; stroke-opacity:1; fill:none\" points=\"\n",
       "  259.329,1486.45 259.329,1469.18 \n",
       "  \"/>\n",
       "<polyline clip-path=\"url(#clip510)\" style=\"stroke:#000000; stroke-linecap:butt; stroke-linejoin:round; stroke-width:4; stroke-opacity:1; fill:none\" points=\"\n",
       "  777.889,1486.45 777.889,1469.18 \n",
       "  \"/>\n",
       "<polyline clip-path=\"url(#clip510)\" style=\"stroke:#000000; stroke-linecap:butt; stroke-linejoin:round; stroke-width:4; stroke-opacity:1; fill:none\" points=\"\n",
       "  1296.45,1486.45 1296.45,1469.18 \n",
       "  \"/>\n",
       "<polyline clip-path=\"url(#clip510)\" style=\"stroke:#000000; stroke-linecap:butt; stroke-linejoin:round; stroke-width:4; stroke-opacity:1; fill:none\" points=\"\n",
       "  1815.01,1486.45 1815.01,1469.18 \n",
       "  \"/>\n",
       "<polyline clip-path=\"url(#clip510)\" style=\"stroke:#000000; stroke-linecap:butt; stroke-linejoin:round; stroke-width:4; stroke-opacity:1; fill:none\" points=\"\n",
       "  2333.57,1486.45 2333.57,1469.18 \n",
       "  \"/>\n",
       "<path clip-path=\"url(#clip510)\" d=\"M259.329 1515.64 Q255.718 1515.64 253.889 1519.2 Q252.084 1522.75 252.084 1529.87 Q252.084 1536.98 253.889 1540.55 Q255.718 1544.09 259.329 1544.09 Q262.963 1544.09 264.769 1540.55 Q266.597 1536.98 266.597 1529.87 Q266.597 1522.75 264.769 1519.2 Q262.963 1515.64 259.329 1515.64 M259.329 1511.93 Q265.139 1511.93 268.195 1516.54 Q271.273 1521.12 271.273 1529.87 Q271.273 1538.6 268.195 1543.21 Q265.139 1547.79 259.329 1547.79 Q253.519 1547.79 250.44 1543.21 Q247.384 1538.6 247.384 1529.87 Q247.384 1521.12 250.44 1516.54 Q253.519 1511.93 259.329 1511.93 Z\" fill=\"#000000\" fill-rule=\"evenodd\" fill-opacity=\"1\" /><path clip-path=\"url(#clip510)\" d=\"M752.588 1512.56 L770.945 1512.56 L770.945 1516.5 L756.871 1516.5 L756.871 1524.97 Q757.889 1524.62 758.908 1524.46 Q759.926 1524.27 760.945 1524.27 Q766.732 1524.27 770.111 1527.44 Q773.491 1530.62 773.491 1536.03 Q773.491 1541.61 770.019 1544.71 Q766.546 1547.79 760.227 1547.79 Q758.051 1547.79 755.783 1547.42 Q753.537 1547.05 751.13 1546.31 L751.13 1541.61 Q753.213 1542.74 755.435 1543.3 Q757.658 1543.86 760.134 1543.86 Q764.139 1543.86 766.477 1541.75 Q768.815 1539.64 768.815 1536.03 Q768.815 1532.42 766.477 1530.31 Q764.139 1528.21 760.134 1528.21 Q758.259 1528.21 756.384 1528.62 Q754.533 1529.04 752.588 1529.92 L752.588 1512.56 Z\" fill=\"#000000\" fill-rule=\"evenodd\" fill-opacity=\"1\" /><path clip-path=\"url(#clip510)\" d=\"M792.704 1515.64 Q789.093 1515.64 787.264 1519.2 Q785.458 1522.75 785.458 1529.87 Q785.458 1536.98 787.264 1540.55 Q789.093 1544.09 792.704 1544.09 Q796.338 1544.09 798.143 1540.55 Q799.972 1536.98 799.972 1529.87 Q799.972 1522.75 798.143 1519.2 Q796.338 1515.64 792.704 1515.64 M792.704 1511.93 Q798.514 1511.93 801.569 1516.54 Q804.648 1521.12 804.648 1529.87 Q804.648 1538.6 801.569 1543.21 Q798.514 1547.79 792.704 1547.79 Q786.894 1547.79 783.815 1543.21 Q780.759 1538.6 780.759 1529.87 Q780.759 1521.12 783.815 1516.54 Q786.894 1511.93 792.704 1511.93 Z\" fill=\"#000000\" fill-rule=\"evenodd\" fill-opacity=\"1\" /><path clip-path=\"url(#clip510)\" d=\"M1256.06 1543.18 L1263.69 1543.18 L1263.69 1516.82 L1255.38 1518.49 L1255.38 1514.23 L1263.65 1512.56 L1268.32 1512.56 L1268.32 1543.18 L1275.96 1543.18 L1275.96 1547.12 L1256.06 1547.12 L1256.06 1543.18 Z\" fill=\"#000000\" fill-rule=\"evenodd\" fill-opacity=\"1\" /><path clip-path=\"url(#clip510)\" d=\"M1295.41 1515.64 Q1291.8 1515.64 1289.97 1519.2 Q1288.16 1522.75 1288.16 1529.87 Q1288.16 1536.98 1289.97 1540.55 Q1291.8 1544.09 1295.41 1544.09 Q1299.04 1544.09 1300.85 1540.55 Q1302.68 1536.98 1302.68 1529.87 Q1302.68 1522.75 1300.85 1519.2 Q1299.04 1515.64 1295.41 1515.64 M1295.41 1511.93 Q1301.22 1511.93 1304.27 1516.54 Q1307.35 1521.12 1307.35 1529.87 Q1307.35 1538.6 1304.27 1543.21 Q1301.22 1547.79 1295.41 1547.79 Q1289.6 1547.79 1286.52 1543.21 Q1283.46 1538.6 1283.46 1529.87 Q1283.46 1521.12 1286.52 1516.54 Q1289.6 1511.93 1295.41 1511.93 Z\" fill=\"#000000\" fill-rule=\"evenodd\" fill-opacity=\"1\" /><path clip-path=\"url(#clip510)\" d=\"M1325.57 1515.64 Q1321.96 1515.64 1320.13 1519.2 Q1318.32 1522.75 1318.32 1529.87 Q1318.32 1536.98 1320.13 1540.55 Q1321.96 1544.09 1325.57 1544.09 Q1329.2 1544.09 1331.01 1540.55 Q1332.84 1536.98 1332.84 1529.87 Q1332.84 1522.75 1331.01 1519.2 Q1329.2 1515.64 1325.57 1515.64 M1325.57 1511.93 Q1331.38 1511.93 1334.43 1516.54 Q1337.51 1521.12 1337.51 1529.87 Q1337.51 1538.6 1334.43 1543.21 Q1331.38 1547.79 1325.57 1547.79 Q1319.76 1547.79 1316.68 1543.21 Q1313.62 1538.6 1313.62 1529.87 Q1313.62 1521.12 1316.68 1516.54 Q1319.76 1511.93 1325.57 1511.93 Z\" fill=\"#000000\" fill-rule=\"evenodd\" fill-opacity=\"1\" /><path clip-path=\"url(#clip510)\" d=\"M1774.62 1543.18 L1782.25 1543.18 L1782.25 1516.82 L1773.94 1518.49 L1773.94 1514.23 L1782.21 1512.56 L1786.88 1512.56 L1786.88 1543.18 L1794.52 1543.18 L1794.52 1547.12 L1774.62 1547.12 L1774.62 1543.18 Z\" fill=\"#000000\" fill-rule=\"evenodd\" fill-opacity=\"1\" /><path clip-path=\"url(#clip510)\" d=\"M1804.01 1512.56 L1822.37 1512.56 L1822.37 1516.5 L1808.3 1516.5 L1808.3 1524.97 Q1809.31 1524.62 1810.33 1524.46 Q1811.35 1524.27 1812.37 1524.27 Q1818.16 1524.27 1821.54 1527.44 Q1824.92 1530.62 1824.92 1536.03 Q1824.92 1541.61 1821.44 1544.71 Q1817.97 1547.79 1811.65 1547.79 Q1809.48 1547.79 1807.21 1547.42 Q1804.96 1547.05 1802.56 1546.31 L1802.56 1541.61 Q1804.64 1542.74 1806.86 1543.3 Q1809.08 1543.86 1811.56 1543.86 Q1815.56 1543.86 1817.9 1541.75 Q1820.24 1539.64 1820.24 1536.03 Q1820.24 1532.42 1817.9 1530.31 Q1815.56 1528.21 1811.56 1528.21 Q1809.69 1528.21 1807.81 1528.62 Q1805.96 1529.04 1804.01 1529.92 L1804.01 1512.56 Z\" fill=\"#000000\" fill-rule=\"evenodd\" fill-opacity=\"1\" /><path clip-path=\"url(#clip510)\" d=\"M1844.13 1515.64 Q1840.52 1515.64 1838.69 1519.2 Q1836.88 1522.75 1836.88 1529.87 Q1836.88 1536.98 1838.69 1540.55 Q1840.52 1544.09 1844.13 1544.09 Q1847.76 1544.09 1849.57 1540.55 Q1851.4 1536.98 1851.4 1529.87 Q1851.4 1522.75 1849.57 1519.2 Q1847.76 1515.64 1844.13 1515.64 M1844.13 1511.93 Q1849.94 1511.93 1853 1516.54 Q1856.07 1521.12 1856.07 1529.87 Q1856.07 1538.6 1853 1543.21 Q1849.94 1547.79 1844.13 1547.79 Q1838.32 1547.79 1835.24 1543.21 Q1832.18 1538.6 1832.18 1529.87 Q1832.18 1521.12 1835.24 1516.54 Q1838.32 1511.93 1844.13 1511.93 Z\" fill=\"#000000\" fill-rule=\"evenodd\" fill-opacity=\"1\" /><path clip-path=\"url(#clip510)\" d=\"M2297.26 1543.18 L2313.58 1543.18 L2313.58 1547.12 L2291.64 1547.12 L2291.64 1543.18 Q2294.3 1540.43 2298.88 1535.8 Q2303.49 1531.15 2304.67 1529.81 Q2306.91 1527.28 2307.79 1525.55 Q2308.7 1523.79 2308.7 1522.1 Q2308.7 1519.34 2306.75 1517.61 Q2304.83 1515.87 2301.73 1515.87 Q2299.53 1515.87 2297.08 1516.63 Q2294.65 1517.4 2291.87 1518.95 L2291.87 1514.23 Q2294.69 1513.09 2297.15 1512.51 Q2299.6 1511.93 2301.64 1511.93 Q2307.01 1511.93 2310.2 1514.62 Q2313.4 1517.31 2313.4 1521.8 Q2313.4 1523.93 2312.59 1525.85 Q2311.8 1527.74 2309.69 1530.34 Q2309.11 1531.01 2306.01 1534.23 Q2302.91 1537.42 2297.26 1543.18 Z\" fill=\"#000000\" fill-rule=\"evenodd\" fill-opacity=\"1\" /><path clip-path=\"url(#clip510)\" d=\"M2333.4 1515.64 Q2329.78 1515.64 2327.96 1519.2 Q2326.15 1522.75 2326.15 1529.87 Q2326.15 1536.98 2327.96 1540.55 Q2329.78 1544.09 2333.4 1544.09 Q2337.03 1544.09 2338.84 1540.55 Q2340.66 1536.98 2340.66 1529.87 Q2340.66 1522.75 2338.84 1519.2 Q2337.03 1515.64 2333.4 1515.64 M2333.4 1511.93 Q2339.21 1511.93 2342.26 1516.54 Q2345.34 1521.12 2345.34 1529.87 Q2345.34 1538.6 2342.26 1543.21 Q2339.21 1547.79 2333.4 1547.79 Q2327.59 1547.79 2324.51 1543.21 Q2321.45 1538.6 2321.45 1529.87 Q2321.45 1521.12 2324.51 1516.54 Q2327.59 1511.93 2333.4 1511.93 Z\" fill=\"#000000\" fill-rule=\"evenodd\" fill-opacity=\"1\" /><path clip-path=\"url(#clip510)\" d=\"M2363.56 1515.64 Q2359.95 1515.64 2358.12 1519.2 Q2356.31 1522.75 2356.31 1529.87 Q2356.31 1536.98 2358.12 1540.55 Q2359.95 1544.09 2363.56 1544.09 Q2367.19 1544.09 2369 1540.55 Q2370.83 1536.98 2370.83 1529.87 Q2370.83 1522.75 2369 1519.2 Q2367.19 1515.64 2363.56 1515.64 M2363.56 1511.93 Q2369.37 1511.93 2372.42 1516.54 Q2375.5 1521.12 2375.5 1529.87 Q2375.5 1538.6 2372.42 1543.21 Q2369.37 1547.79 2363.56 1547.79 Q2357.75 1547.79 2354.67 1543.21 Q2351.61 1538.6 2351.61 1529.87 Q2351.61 1521.12 2354.67 1516.54 Q2357.75 1511.93 2363.56 1511.93 Z\" fill=\"#000000\" fill-rule=\"evenodd\" fill-opacity=\"1\" /><polyline clip-path=\"url(#clip512)\" style=\"stroke:#000000; stroke-linecap:butt; stroke-linejoin:round; stroke-width:2; stroke-opacity:0.1; fill:none\" points=\"\n",
       "  209.029,1387.4 2352.76,1387.4 \n",
       "  \"/>\n",
       "<polyline clip-path=\"url(#clip512)\" style=\"stroke:#000000; stroke-linecap:butt; stroke-linejoin:round; stroke-width:2; stroke-opacity:0.1; fill:none\" points=\"\n",
       "  209.029,1109.32 2352.76,1109.32 \n",
       "  \"/>\n",
       "<polyline clip-path=\"url(#clip512)\" style=\"stroke:#000000; stroke-linecap:butt; stroke-linejoin:round; stroke-width:2; stroke-opacity:0.1; fill:none\" points=\"\n",
       "  209.029,831.248 2352.76,831.248 \n",
       "  \"/>\n",
       "<polyline clip-path=\"url(#clip512)\" style=\"stroke:#000000; stroke-linecap:butt; stroke-linejoin:round; stroke-width:2; stroke-opacity:0.1; fill:none\" points=\"\n",
       "  209.029,553.174 2352.76,553.174 \n",
       "  \"/>\n",
       "<polyline clip-path=\"url(#clip512)\" style=\"stroke:#000000; stroke-linecap:butt; stroke-linejoin:round; stroke-width:2; stroke-opacity:0.1; fill:none\" points=\"\n",
       "  209.029,275.101 2352.76,275.101 \n",
       "  \"/>\n",
       "<polyline clip-path=\"url(#clip510)\" style=\"stroke:#000000; stroke-linecap:butt; stroke-linejoin:round; stroke-width:4; stroke-opacity:1; fill:none\" points=\"\n",
       "  209.029,1486.45 209.029,47.2441 \n",
       "  \"/>\n",
       "<polyline clip-path=\"url(#clip510)\" style=\"stroke:#000000; stroke-linecap:butt; stroke-linejoin:round; stroke-width:4; stroke-opacity:1; fill:none\" points=\"\n",
       "  209.029,1387.4 234.753,1387.4 \n",
       "  \"/>\n",
       "<polyline clip-path=\"url(#clip510)\" style=\"stroke:#000000; stroke-linecap:butt; stroke-linejoin:round; stroke-width:4; stroke-opacity:1; fill:none\" points=\"\n",
       "  209.029,1109.32 234.753,1109.32 \n",
       "  \"/>\n",
       "<polyline clip-path=\"url(#clip510)\" style=\"stroke:#000000; stroke-linecap:butt; stroke-linejoin:round; stroke-width:4; stroke-opacity:1; fill:none\" points=\"\n",
       "  209.029,831.248 234.753,831.248 \n",
       "  \"/>\n",
       "<polyline clip-path=\"url(#clip510)\" style=\"stroke:#000000; stroke-linecap:butt; stroke-linejoin:round; stroke-width:4; stroke-opacity:1; fill:none\" points=\"\n",
       "  209.029,553.174 234.753,553.174 \n",
       "  \"/>\n",
       "<polyline clip-path=\"url(#clip510)\" style=\"stroke:#000000; stroke-linecap:butt; stroke-linejoin:round; stroke-width:4; stroke-opacity:1; fill:none\" points=\"\n",
       "  209.029,275.101 234.753,275.101 \n",
       "  \"/>\n",
       "<path clip-path=\"url(#clip510)\" d=\"M50.9921 1387.85 L80.6679 1387.85 L80.6679 1391.78 L50.9921 1391.78 L50.9921 1387.85 Z\" fill=\"#000000\" fill-rule=\"evenodd\" fill-opacity=\"1\" /><path clip-path=\"url(#clip510)\" d=\"M91.5706 1400.74 L99.2095 1400.74 L99.2095 1374.37 L90.8993 1376.04 L90.8993 1371.78 L99.1632 1370.12 L103.839 1370.12 L103.839 1400.74 L111.478 1400.74 L111.478 1404.68 L91.5706 1404.68 L91.5706 1400.74 Z\" fill=\"#000000\" fill-rule=\"evenodd\" fill-opacity=\"1\" /><path clip-path=\"url(#clip510)\" d=\"M130.922 1373.19 Q127.311 1373.19 125.482 1376.76 Q123.677 1380.3 123.677 1387.43 Q123.677 1394.54 125.482 1398.1 Q127.311 1401.64 130.922 1401.64 Q134.556 1401.64 136.362 1398.1 Q138.191 1394.54 138.191 1387.43 Q138.191 1380.3 136.362 1376.76 Q134.556 1373.19 130.922 1373.19 M130.922 1369.49 Q136.732 1369.49 139.788 1374.1 Q142.867 1378.68 142.867 1387.43 Q142.867 1396.16 139.788 1400.76 Q136.732 1405.35 130.922 1405.35 Q125.112 1405.35 122.033 1400.76 Q118.978 1396.16 118.978 1387.43 Q118.978 1378.68 122.033 1374.1 Q125.112 1369.49 130.922 1369.49 Z\" fill=\"#000000\" fill-rule=\"evenodd\" fill-opacity=\"1\" /><path clip-path=\"url(#clip510)\" d=\"M161.084 1373.19 Q157.473 1373.19 155.644 1376.76 Q153.839 1380.3 153.839 1387.43 Q153.839 1394.54 155.644 1398.1 Q157.473 1401.64 161.084 1401.64 Q164.718 1401.64 166.524 1398.1 Q168.353 1394.54 168.353 1387.43 Q168.353 1380.3 166.524 1376.76 Q164.718 1373.19 161.084 1373.19 M161.084 1369.49 Q166.894 1369.49 169.95 1374.1 Q173.029 1378.68 173.029 1387.43 Q173.029 1396.16 169.95 1400.76 Q166.894 1405.35 161.084 1405.35 Q155.274 1405.35 152.195 1400.76 Q149.14 1396.16 149.14 1387.43 Q149.14 1378.68 152.195 1374.1 Q155.274 1369.49 161.084 1369.49 Z\" fill=\"#000000\" fill-rule=\"evenodd\" fill-opacity=\"1\" /><path clip-path=\"url(#clip510)\" d=\"M81.154 1109.77 L110.83 1109.77 L110.83 1113.71 L81.154 1113.71 L81.154 1109.77 Z\" fill=\"#000000\" fill-rule=\"evenodd\" fill-opacity=\"1\" /><path clip-path=\"url(#clip510)\" d=\"M130.922 1110.19 Q127.589 1110.19 125.668 1111.97 Q123.77 1113.75 123.77 1116.88 Q123.77 1120 125.668 1121.79 Q127.589 1123.57 130.922 1123.57 Q134.256 1123.57 136.177 1121.79 Q138.098 1119.98 138.098 1116.88 Q138.098 1113.75 136.177 1111.97 Q134.279 1110.19 130.922 1110.19 M126.246 1108.2 Q123.237 1107.46 121.547 1105.4 Q119.881 1103.34 119.881 1100.38 Q119.881 1096.23 122.82 1093.82 Q125.783 1091.42 130.922 1091.42 Q136.084 1091.42 139.024 1093.82 Q141.964 1096.23 141.964 1100.38 Q141.964 1103.34 140.274 1105.4 Q138.607 1107.46 135.621 1108.2 Q139.001 1108.99 140.876 1111.28 Q142.774 1113.57 142.774 1116.88 Q142.774 1121.9 139.695 1124.59 Q136.64 1127.27 130.922 1127.27 Q125.205 1127.27 122.126 1124.59 Q119.07 1121.9 119.07 1116.88 Q119.07 1113.57 120.969 1111.28 Q122.867 1108.99 126.246 1108.2 M124.533 1100.82 Q124.533 1103.5 126.2 1105 Q127.89 1106.51 130.922 1106.51 Q133.931 1106.51 135.621 1105 Q137.334 1103.5 137.334 1100.82 Q137.334 1098.13 135.621 1096.63 Q133.931 1095.12 130.922 1095.12 Q127.89 1095.12 126.2 1096.63 Q124.533 1098.13 124.533 1100.82 Z\" fill=\"#000000\" fill-rule=\"evenodd\" fill-opacity=\"1\" /><path clip-path=\"url(#clip510)\" d=\"M161.084 1095.12 Q157.473 1095.12 155.644 1098.69 Q153.839 1102.23 153.839 1109.36 Q153.839 1116.46 155.644 1120.03 Q157.473 1123.57 161.084 1123.57 Q164.718 1123.57 166.524 1120.03 Q168.353 1116.46 168.353 1109.36 Q168.353 1102.23 166.524 1098.69 Q164.718 1095.12 161.084 1095.12 M161.084 1091.42 Q166.894 1091.42 169.95 1096.02 Q173.029 1100.61 173.029 1109.36 Q173.029 1118.08 169.95 1122.69 Q166.894 1127.27 161.084 1127.27 Q155.274 1127.27 152.195 1122.69 Q149.14 1118.08 149.14 1109.36 Q149.14 1100.61 152.195 1096.02 Q155.274 1091.42 161.084 1091.42 Z\" fill=\"#000000\" fill-rule=\"evenodd\" fill-opacity=\"1\" /><path clip-path=\"url(#clip510)\" d=\"M81.154 831.7 L110.83 831.7 L110.83 835.635 L81.154 835.635 L81.154 831.7 Z\" fill=\"#000000\" fill-rule=\"evenodd\" fill-opacity=\"1\" /><path clip-path=\"url(#clip510)\" d=\"M131.501 829.385 Q128.353 829.385 126.501 831.538 Q124.672 833.69 124.672 837.44 Q124.672 841.167 126.501 843.343 Q128.353 845.496 131.501 845.496 Q134.649 845.496 136.478 843.343 Q138.33 841.167 138.33 837.44 Q138.33 833.69 136.478 831.538 Q134.649 829.385 131.501 829.385 M140.783 814.732 L140.783 818.991 Q139.024 818.158 137.219 817.718 Q135.436 817.278 133.677 817.278 Q129.047 817.278 126.594 820.403 Q124.163 823.528 123.816 829.848 Q125.182 827.834 127.242 826.769 Q129.302 825.681 131.779 825.681 Q136.987 825.681 139.996 828.852 Q143.029 832.001 143.029 837.44 Q143.029 842.764 139.881 845.982 Q136.732 849.2 131.501 849.2 Q125.506 849.2 122.334 844.616 Q119.163 840.01 119.163 831.283 Q119.163 823.089 123.052 818.227 Q126.941 813.343 133.492 813.343 Q135.251 813.343 137.033 813.69 Q138.839 814.038 140.783 814.732 Z\" fill=\"#000000\" fill-rule=\"evenodd\" fill-opacity=\"1\" /><path clip-path=\"url(#clip510)\" d=\"M161.084 817.047 Q157.473 817.047 155.644 820.612 Q153.839 824.153 153.839 831.283 Q153.839 838.389 155.644 841.954 Q157.473 845.496 161.084 845.496 Q164.718 845.496 166.524 841.954 Q168.353 838.389 168.353 831.283 Q168.353 824.153 166.524 820.612 Q164.718 817.047 161.084 817.047 M161.084 813.343 Q166.894 813.343 169.95 817.95 Q173.029 822.533 173.029 831.283 Q173.029 840.01 169.95 844.616 Q166.894 849.2 161.084 849.2 Q155.274 849.2 152.195 844.616 Q149.14 840.01 149.14 831.283 Q149.14 822.533 152.195 817.95 Q155.274 813.343 161.084 813.343 Z\" fill=\"#000000\" fill-rule=\"evenodd\" fill-opacity=\"1\" /><path clip-path=\"url(#clip510)\" d=\"M81.154 553.626 L110.83 553.626 L110.83 557.561 L81.154 557.561 L81.154 553.626 Z\" fill=\"#000000\" fill-rule=\"evenodd\" fill-opacity=\"1\" /><path clip-path=\"url(#clip510)\" d=\"M133.769 539.968 L121.964 558.417 L133.769 558.417 L133.769 539.968 M132.543 535.894 L138.422 535.894 L138.422 558.417 L143.353 558.417 L143.353 562.306 L138.422 562.306 L138.422 570.454 L133.769 570.454 L133.769 562.306 L118.168 562.306 L118.168 557.792 L132.543 535.894 Z\" fill=\"#000000\" fill-rule=\"evenodd\" fill-opacity=\"1\" /><path clip-path=\"url(#clip510)\" d=\"M161.084 538.973 Q157.473 538.973 155.644 542.538 Q153.839 546.08 153.839 553.209 Q153.839 560.316 155.644 563.88 Q157.473 567.422 161.084 567.422 Q164.718 567.422 166.524 563.88 Q168.353 560.316 168.353 553.209 Q168.353 546.08 166.524 542.538 Q164.718 538.973 161.084 538.973 M161.084 535.269 Q166.894 535.269 169.95 539.876 Q173.029 544.459 173.029 553.209 Q173.029 561.936 169.95 566.542 Q166.894 571.126 161.084 571.126 Q155.274 571.126 152.195 566.542 Q149.14 561.936 149.14 553.209 Q149.14 544.459 152.195 539.876 Q155.274 535.269 161.084 535.269 Z\" fill=\"#000000\" fill-rule=\"evenodd\" fill-opacity=\"1\" /><path clip-path=\"url(#clip510)\" d=\"M81.154 275.552 L110.83 275.552 L110.83 279.487 L81.154 279.487 L81.154 275.552 Z\" fill=\"#000000\" fill-rule=\"evenodd\" fill-opacity=\"1\" /><path clip-path=\"url(#clip510)\" d=\"M124.95 288.445 L141.269 288.445 L141.269 292.381 L119.325 292.381 L119.325 288.445 Q121.987 285.691 126.57 281.061 Q131.177 276.409 132.357 275.066 Q134.603 272.543 135.482 270.807 Q136.385 269.047 136.385 267.358 Q136.385 264.603 134.441 262.867 Q132.519 261.131 129.418 261.131 Q127.219 261.131 124.765 261.895 Q122.334 262.659 119.557 264.21 L119.557 259.487 Q122.381 258.353 124.834 257.774 Q127.288 257.196 129.325 257.196 Q134.695 257.196 137.89 259.881 Q141.084 262.566 141.084 267.057 Q141.084 269.186 140.274 271.108 Q139.487 273.006 137.381 275.598 Q136.802 276.27 133.7 279.487 Q130.598 282.682 124.95 288.445 Z\" fill=\"#000000\" fill-rule=\"evenodd\" fill-opacity=\"1\" /><path clip-path=\"url(#clip510)\" d=\"M161.084 260.899 Q157.473 260.899 155.644 264.464 Q153.839 268.006 153.839 275.135 Q153.839 282.242 155.644 285.807 Q157.473 289.348 161.084 289.348 Q164.718 289.348 166.524 285.807 Q168.353 282.242 168.353 275.135 Q168.353 268.006 166.524 264.464 Q164.718 260.899 161.084 260.899 M161.084 257.196 Q166.894 257.196 169.95 261.802 Q173.029 266.385 173.029 275.135 Q173.029 283.862 169.95 288.469 Q166.894 293.052 161.084 293.052 Q155.274 293.052 152.195 288.469 Q149.14 283.862 149.14 275.135 Q149.14 266.385 152.195 261.802 Q155.274 257.196 161.084 257.196 Z\" fill=\"#000000\" fill-rule=\"evenodd\" fill-opacity=\"1\" /><polyline clip-path=\"url(#clip512)\" style=\"stroke:#009af9; stroke-linecap:butt; stroke-linejoin:round; stroke-width:12; stroke-opacity:1; fill:none\" points=\"\n",
       "  269.7,87.9763 280.071,120.814 290.442,147.067 300.814,176.315 311.185,206.893 321.556,237.986 331.927,263.952 342.298,293.579 352.67,324.531 363.041,348.639 \n",
       "  373.412,373.331 383.783,404.663 394.154,431.731 404.526,460.969 414.897,488.783 425.268,518.812 435.639,550.582 446.01,580.262 456.382,612.924 466.753,642.556 \n",
       "  477.124,672.708 487.495,696.466 497.866,729.34 508.238,757.464 518.609,790.326 528.98,820.858 539.351,843.838 549.722,872.182 560.094,900.864 570.465,931.399 \n",
       "  580.836,961.629 591.207,991.432 601.578,1022.76 611.95,1050.36 622.321,1081.05 632.692,1111.24 643.063,1141.14 653.435,1167.93 663.806,1201.44 674.177,1230.7 \n",
       "  684.548,1266.07 694.919,1307.17 705.291,1356.42 715.662,1410.25 726.033,1445.65 736.404,1445.65 746.775,1445.65 757.147,1445.65 767.518,1445.65 777.889,1445.65 \n",
       "  788.26,1445.65 798.631,1445.65 809.003,1445.65 819.374,1445.65 829.745,1445.65 840.116,1445.65 850.487,1445.68 860.859,1445.68 871.23,1445.68 881.601,1445.69 \n",
       "  891.972,1445.69 902.343,1445.69 912.715,1445.69 923.086,1445.7 933.457,1445.71 943.828,1445.71 954.199,1445.71 964.571,1445.71 974.942,1445.71 985.313,1445.71 \n",
       "  995.684,1445.71 1006.06,1445.71 1016.43,1445.71 1026.8,1445.71 1037.17,1445.71 1047.54,1445.71 1057.91,1445.71 1068.28,1445.71 1078.65,1445.71 1089.02,1445.72 \n",
       "  1099.4,1445.72 1109.77,1445.72 1120.14,1445.72 1130.51,1445.72 1140.88,1445.72 1151.25,1445.72 1161.62,1445.72 1171.99,1445.72 1182.37,1445.72 1192.74,1445.72 \n",
       "  1203.11,1445.72 1213.48,1445.72 1223.85,1445.72 1234.22,1445.72 1244.59,1445.72 1254.96,1445.72 1265.34,1445.72 1275.71,1445.72 1286.08,1445.72 1296.45,1445.72 \n",
       "  1306.82,1445.72 1317.19,1445.72 1327.56,1445.72 1337.93,1445.72 1348.31,1445.72 1358.68,1445.72 1369.05,1445.72 1379.42,1445.72 1389.79,1445.72 1400.16,1445.72 \n",
       "  1410.53,1445.72 1420.9,1445.72 1431.27,1445.72 1441.65,1445.72 1452.02,1445.72 1462.39,1445.72 1472.76,1445.72 1483.13,1445.72 1493.5,1445.72 1503.87,1445.72 \n",
       "  1514.24,1445.72 1524.62,1445.72 1534.99,1445.72 1545.36,1445.72 1555.73,1445.72 1566.1,1445.72 1576.47,1445.72 1586.84,1445.72 1597.21,1445.72 1607.59,1445.72 \n",
       "  1617.96,1445.72 1628.33,1445.72 1638.7,1445.72 1649.07,1445.72 1659.44,1445.72 1669.81,1445.72 1680.18,1445.72 1690.55,1445.72 1700.93,1445.72 1711.3,1445.72 \n",
       "  1721.67,1445.72 1732.04,1445.72 1742.41,1445.72 1752.78,1445.72 1763.15,1445.72 1773.52,1445.72 1783.9,1445.72 1794.27,1445.72 1804.64,1445.72 1815.01,1445.72 \n",
       "  1825.38,1445.72 1835.75,1445.72 1846.12,1445.72 1856.49,1445.72 1866.87,1445.72 1877.24,1445.72 1887.61,1445.72 1897.98,1445.72 1908.35,1445.72 1918.72,1445.72 \n",
       "  1929.09,1445.72 1939.46,1445.72 1949.83,1445.72 1960.21,1445.72 1970.58,1445.72 1980.95,1445.72 1991.32,1445.72 2001.69,1445.72 2012.06,1445.72 2022.43,1445.72 \n",
       "  2032.8,1445.72 2043.18,1445.72 2053.55,1445.72 2063.92,1445.72 2074.29,1445.72 2084.66,1445.72 2095.03,1445.72 2105.4,1445.72 2115.77,1445.72 2126.15,1445.72 \n",
       "  2136.52,1445.72 2146.89,1445.72 2157.26,1445.72 2167.63,1445.72 2178,1445.72 2188.37,1445.72 2198.74,1445.72 2209.11,1445.72 2219.49,1445.72 2229.86,1445.72 \n",
       "  2240.23,1445.72 2250.6,1445.72 2260.97,1445.72 2271.34,1445.72 2281.71,1445.72 2292.08,1445.72 \n",
       "  \"/>\n",
       "<path clip-path=\"url(#clip510)\" d=\"\n",
       "M1990.68 198.898 L2281.3 198.898 L2281.3 95.2176 L1990.68 95.2176  Z\n",
       "  \" fill=\"#ffffff\" fill-rule=\"evenodd\" fill-opacity=\"1\"/>\n",
       "<polyline clip-path=\"url(#clip510)\" style=\"stroke:#000000; stroke-linecap:butt; stroke-linejoin:round; stroke-width:4; stroke-opacity:1; fill:none\" points=\"\n",
       "  1990.68,198.898 2281.3,198.898 2281.3,95.2176 1990.68,95.2176 1990.68,198.898 \n",
       "  \"/>\n",
       "<polyline clip-path=\"url(#clip510)\" style=\"stroke:#009af9; stroke-linecap:butt; stroke-linejoin:round; stroke-width:4; stroke-opacity:1; fill:none\" points=\"\n",
       "  2014.5,147.058 2157.41,147.058 \n",
       "  \"/>\n",
       "<path clip-path=\"url(#clip510)\" d=\"M2195.07 166.745 Q2193.27 171.375 2191.55 172.787 Q2189.84 174.199 2186.97 174.199 L2183.57 174.199 L2183.57 170.634 L2186.07 170.634 Q2187.83 170.634 2188.8 169.8 Q2189.77 168.967 2190.95 165.865 L2191.72 163.921 L2181.23 138.412 L2185.74 138.412 L2193.85 158.689 L2201.95 138.412 L2206.46 138.412 L2195.07 166.745 Z\" fill=\"#000000\" fill-rule=\"evenodd\" fill-opacity=\"1\" /><path clip-path=\"url(#clip510)\" d=\"M2213.75 160.402 L2221.39 160.402 L2221.39 134.037 L2213.08 135.703 L2213.08 131.444 L2221.35 129.778 L2226.02 129.778 L2226.02 160.402 L2233.66 160.402 L2233.66 164.338 L2213.75 164.338 L2213.75 160.402 Z\" fill=\"#000000\" fill-rule=\"evenodd\" fill-opacity=\"1\" /></svg>\n"
      ]
     },
     "execution_count": 23,
     "metadata": {},
     "output_type": "execute_result"
    }
   ],
   "source": [
    "mpo = xxz_mpo(50, 1., 1.5, 0.5)\n",
    "@time Eigenvalues, state = ground_state(mpo, D=50)\n",
    "plot(Eigenvalues, linewidth=3)"
   ]
  },
  {
   "cell_type": "markdown",
   "id": "ef1003d3",
   "metadata": {},
   "source": [
    "#### Energy per site scaling"
   ]
  },
  {
   "cell_type": "code",
   "execution_count": 24,
   "id": "27abb330",
   "metadata": {},
   "outputs": [],
   "source": [
    "# sites = collect(10:5:60)\n",
    "# Eigenvalues = Float64[]\n",
    "# for n in sites\n",
    "#     mpo = xxz_mpo(n, 1., 1.2, 0.5)\n",
    "#     evals, state = ground_state(mpo, D=50)\n",
    "#     push!(Eigenvalues, evals[end] / n)\n",
    "# end"
   ]
  },
  {
   "cell_type": "code",
   "execution_count": 25,
   "id": "770e57d0",
   "metadata": {},
   "outputs": [],
   "source": [
    "# fig = plot(sites, Eigenvalues, linewidth=2, linestyle=:dash, marker=:circle)\n",
    "# xlabel!(fig, \"L\")\n",
    "# ylabel!(fig, \"energy per site\")"
   ]
  },
  {
   "cell_type": "markdown",
   "id": "d2aae055",
   "metadata": {},
   "source": [
    "## Part 4: Implementation of time-evolving block decimation (TEBD) algorithm from scratch"
   ]
  },
  {
   "cell_type": "markdown",
   "id": "b43cfb9f",
   "metadata": {},
   "source": [
    "Second-order trotter expansion: assuming $H = H_1 + H_2 + \\dots $, then we have \n",
    "\n",
    "$\\exp(\\tau H) = \\exp(\\tau H_1/2)\\exp(\\tau H_2/2)\\dots \\exp(\\tau H_2/2)\\exp(\\tau H_1/2) + O(\\tau^2)$"
   ]
  },
  {
   "cell_type": "markdown",
   "id": "1f63992b",
   "metadata": {},
   "source": [
    "In case the Hamiltonian $\\hat{H}_{XXZ}$ is __nearest neighbour__, that is, $\\hat{H}_{XXZ} = \\hat{H}^{even} + \\hat{H}^{odd} $, where $\\hat{H}^{even}_{XXZ}$ and $\\hat{H}^{odd}_{XXZ}$ act on the even and odd bonds separately, then we simply have"
   ]
  },
  {
   "cell_type": "markdown",
   "id": "62e69acc",
   "metadata": {},
   "source": [
    "$\\exp(\\tau \\hat{H}_{XXZ}) = \\exp(\\tau \\hat{H}^{even}_{XXZ}/2) \\exp(\\tau \\hat{H}^{odd}_{XXZ})\\exp(\\tau \\hat{H}^{even}_{XXZ}/2) + O(\\tau^2)$"
   ]
  },
  {
   "cell_type": "markdown",
   "id": "39559fe7",
   "metadata": {},
   "source": [
    "### A. Build the bond evolution operator for the even and odd bonds"
   ]
  },
  {
   "cell_type": "code",
   "execution_count": 26,
   "id": "792ef8e8",
   "metadata": {},
   "outputs": [
    {
     "data": {
      "text/plain": [
       "(2, 2, 2, 2)"
      ]
     },
     "execution_count": 26,
     "metadata": {},
     "output_type": "execute_result"
    }
   ],
   "source": [
    "# assume no magnetization, namely hz = 0\n",
    "function compute_two_body_gate(J::Real, Delta::Real, dt::Real)\n",
    "    sigma_x, sigma_y, sigma_z = pauli_operators()\n",
    "    h = J .* (kron(sigma_x, sigma_x) + kron(sigma_y, sigma_y)) + Delta * kron(sigma_z, sigma_z)\n",
    "    U = exp(-im*dt .* h)\n",
    "    return reshape(U, 2, 2, 2, 2)\n",
    "end\n",
    "\n",
    "U = compute_two_body_gate(1., 1.2, 0.1)\n",
    "size(U)"
   ]
  },
  {
   "cell_type": "markdown",
   "id": "99e9f79a",
   "metadata": {},
   "source": [
    "### B. Prepare mps in right canonical form\n",
    "- The __correct__ singular vectors are also required, which means that they correspond to the correct bipartition Schmidt numbers"
   ]
  },
  {
   "cell_type": "code",
   "execution_count": 27,
   "id": "38791a4c",
   "metadata": {},
   "outputs": [
    {
     "data": {
      "text/plain": [
       "true"
      ]
     },
     "execution_count": 27,
     "metadata": {},
     "output_type": "execute_result"
    }
   ],
   "source": [
    "mps = generate_random_mps(ComplexF64, 5, 2, 3)\n",
    "svectors = prepare_right!(mps)\n",
    "is_right_canonical(mps)"
   ]
  },
  {
   "cell_type": "markdown",
   "id": "a6fb8714",
   "metadata": {},
   "source": [
    "Singular vectors produced in this way are not the correct ones in general"
   ]
  },
  {
   "cell_type": "code",
   "execution_count": 28,
   "id": "771903c0",
   "metadata": {},
   "outputs": [
    {
     "data": {
      "text/plain": [
       "4-element Vector{Float64}:\n",
       " 0.7404357629683896\n",
       " 1.3320355942716058\n",
       " 1.8117662867014235\n",
       " 2.76117054533755"
      ]
     },
     "execution_count": 28,
     "metadata": {},
     "output_type": "execute_result"
    }
   ],
   "source": [
    "[norm(item) for item in svectors]"
   ]
  },
  {
   "cell_type": "markdown",
   "id": "dccc3e0f",
   "metadata": {},
   "source": [
    "The right way to go, first prepare mps in left canonical form, and then prepare it in right canonical form"
   ]
  },
  {
   "cell_type": "code",
   "execution_count": 29,
   "id": "909cb7af",
   "metadata": {},
   "outputs": [
    {
     "data": {
      "text/plain": [
       "4-element Vector{Float64}:\n",
       " 0.9999999999999997\n",
       " 0.9999999999999997\n",
       " 0.9999999999999997\n",
       " 0.9999999999999997"
      ]
     },
     "execution_count": 29,
     "metadata": {},
     "output_type": "execute_result"
    }
   ],
   "source": [
    "svectors = prepare_left!(mps)\n",
    "svectors = prepare_right!(mps)\n",
    "[norm(item) for item in svectors]"
   ]
  },
  {
   "cell_type": "markdown",
   "id": "427c68e2",
   "metadata": {},
   "source": [
    "### C. Apply a bond evolution operator onto the mps\n",
    "- We assume the mps is prepared in the right-canonical form, with all the singular vectors stored. \n",
    "- A trick to __avoid dividing by singular vectors__ is used, for details see [The density-matrix renormalization group in the age of matrix product states](https://linkinghub.elsevier.com/retrieve/pii/S0003491610001752), Section 7.3.2, Eqs.(270-274), as follows: <img src=\"smart_bond_evolution.jpeg\" width=\"400\" height=\"400\" />\n",
    "- The mps will keep to be right-canonical, and the singular vectors will remain to be correct with such bond evolution algorithm"
   ]
  },
  {
   "cell_type": "code",
   "execution_count": 30,
   "id": "7848c505",
   "metadata": {},
   "outputs": [
    {
     "data": {
      "text/plain": [
       "apply! (generic function with 1 method)"
      ]
     },
     "execution_count": 30,
     "metadata": {},
     "output_type": "execute_result"
    }
   ],
   "source": [
    "function apply!(bond::Int, U::AbstractArray{ComplexF64, 4}, mps::Vector{<:AbstractArray{ComplexF64, 3}}, svectors::Vector{Vector{Float64}})\n",
    "#     build two-ste mps\n",
    "    @tensor twositemps[a, b, d, e] := mps[bond][a, b, c] * mps[bond+1][c, d, e]\n",
    "#     evolve two-site mps\n",
    "    @tensor twositemps1[e, a, b, f] := U[a, b, c, d] * twositemps[e, c, d, f]\n",
    "    twositemps = copy(twositemps1)\n",
    "#     separate two-site mps, using the algorithm of hasting\n",
    "    if bond != 1\n",
    "        smat = Matrix(Diagonal(svectors[bond-1]))\n",
    "        @tensor twositemps1[a, c, d, e] := smat[a, b] * twositemps[b, c, d, e]\n",
    "    end\n",
    "    \n",
    "    s1, s2, s3, s4 = size(twositemps)\n",
    "    twositemps = reshape(twositemps, s1*s2, s3*s4)\n",
    "    u, s, v = svd(reshape(twositemps1, s1*s2, s3*s4))\n",
    "#     println(\"bond is $bond\")\n",
    "#     println(s)\n",
    "    v = v'\n",
    "    @tensor u[a, c] = twositemps[a, b] * conj(v[c, b])\n",
    "    mps[bond] = reshape(u, s1, s2, length(s))\n",
    "    mps[bond+1] = reshape(v, length(s), s3, s4)\n",
    "    svectors[bond] = s\n",
    "end\n"
   ]
  },
  {
   "cell_type": "markdown",
   "id": "d6e9782d",
   "metadata": {},
   "source": [
    "### C. Second order TEBD for a single time step <img src=\"tebd.jpeg\" width=\"800\" height=\"400\" />"
   ]
  },
  {
   "cell_type": "code",
   "execution_count": 31,
   "id": "167afc45",
   "metadata": {},
   "outputs": [
    {
     "data": {
      "text/plain": [
       "tebd! (generic function with 1 method)"
      ]
     },
     "execution_count": 31,
     "metadata": {},
     "output_type": "execute_result"
    }
   ],
   "source": [
    "function tebd!(Uevenhalf::AbstractArray{ComplexF64, 4}, Uodd::AbstractArray{ComplexF64, 4}, mps::Vector{<:AbstractArray{ComplexF64, 3}}, svectors::Vector{Vector{Float64}})\n",
    "    L = length(mps)\n",
    "    for bond in 2:2:L-1\n",
    "        apply!(bond, Uevenhalf, mps, svectors)\n",
    "    end\n",
    "    for bond in 1:2:L-1\n",
    "        apply!(bond, Uodd, mps, svectors)\n",
    "    end\n",
    "    for bond in 2:2:L-1\n",
    "        apply!(bond, Uevenhalf, mps, svectors)\n",
    "    end\n",
    "end"
   ]
  },
  {
   "cell_type": "markdown",
   "id": "d84b2761",
   "metadata": {},
   "source": [
    "### D. Example of simple quench"
   ]
  },
  {
   "cell_type": "code",
   "execution_count": 32,
   "id": "39202d33",
   "metadata": {
    "scrolled": true
   },
   "outputs": [
    {
     "name": "stdout",
     "output_type": "stream",
     "text": [
      "we are at the 1-th sweep.\n",
      "we are sweep from left to right on site 1...\n",
      "lowest eigenvalue at site 1 is -5.060657468805166\n",
      "we are sweep from left to right on site 2...\n",
      "lowest eigenvalue at site 2 is -7.068267617142388\n",
      "we are sweep from left to right on site 3...\n",
      "lowest eigenvalue at site 3 is -9.616414393865318\n",
      "we are sweep from left to right on site 4...\n",
      "lowest eigenvalue at site 4 is -12.562685249077825\n",
      "we are sweep from left to right on site 5...\n",
      "lowest eigenvalue at site 5 is -14.854880884589589\n",
      "we are sweep from left to right on site 6...\n",
      "lowest eigenvalue at site 6 is -18.698225244605194\n",
      "we are sweep from left to right on site 7...\n",
      "lowest eigenvalue at site 7 is -19.028372551062066\n",
      "we are sweep from left to right on site 8...\n",
      "lowest eigenvalue at site 8 is -19.02837255106204\n",
      "we are sweep from left to right on site 9...\n",
      "lowest eigenvalue at site 9 is -19.028372551062034\n",
      "we are sweep from left to right on site 10...\n",
      "lowest eigenvalue at site 10 is -19.028372551062038\n",
      "\n",
      "\n",
      "we are sweep from right to left on site 11...\n",
      "lowest eigenvalue at site 11 is -19.02837255106204\n",
      "we are sweep from right to left on site 10...\n",
      "lowest eigenvalue at site 10 is -19.028372551062038\n",
      "we are sweep from right to left on site 9...\n",
      "lowest eigenvalue at site 9 is -19.028372551062024\n",
      "we are sweep from right to left on site 8...\n",
      "lowest eigenvalue at site 8 is -19.02837255106201\n",
      "we are sweep from right to left on site 7...\n",
      "lowest eigenvalue at site 7 is -19.028372551062027\n",
      "we are sweep from right to left on site 6...\n",
      "lowest eigenvalue at site 6 is -19.02837309478469\n",
      "we are sweep from right to left on site 5...\n",
      "lowest eigenvalue at site 5 is -19.028373209437543\n",
      "we are sweep from right to left on site 4...\n",
      "lowest eigenvalue at site 4 is -19.028373209437557\n",
      "we are sweep from right to left on site 3...\n",
      "lowest eigenvalue at site 3 is -19.028373209437518\n",
      "we are sweep from right to left on site 2...\n",
      "lowest eigenvalue at site 2 is -19.028373209437515\n",
      "we are at the 2-th sweep.\n",
      "we are sweep from left to right on site 1...\n",
      "lowest eigenvalue at site 1 is -19.02837320943751\n",
      "we are sweep from left to right on site 2...\n",
      "lowest eigenvalue at site 2 is -19.028373209437504\n",
      "we are sweep from left to right on site 3...\n",
      "lowest eigenvalue at site 3 is -19.02837320943751\n",
      "we are sweep from left to right on site 4...\n",
      "lowest eigenvalue at site 4 is -19.02837320943752\n",
      "we are sweep from left to right on site 5...\n",
      "lowest eigenvalue at site 5 is -19.028373209437515\n",
      "we are sweep from left to right on site 6...\n",
      "lowest eigenvalue at site 6 is -19.028373209437667\n",
      "we are sweep from left to right on site 7...\n",
      "lowest eigenvalue at site 7 is -19.02837320943787\n",
      "we are sweep from left to right on site 8...\n",
      "lowest eigenvalue at site 8 is -19.02837320943789\n",
      "we are sweep from left to right on site 9...\n",
      "lowest eigenvalue at site 9 is -19.028373209437905\n",
      "we are sweep from left to right on site 10...\n",
      "lowest eigenvalue at site 10 is -19.028373209437913\n",
      "\n",
      "\n",
      "we are sweep from right to left on site 11...\n",
      "lowest eigenvalue at site 11 is -19.028373209437913\n",
      "we are sweep from right to left on site 10...\n",
      "lowest eigenvalue at site 10 is -19.0283732094379\n",
      "we are sweep from right to left on site 9...\n",
      "lowest eigenvalue at site 9 is -19.028373209437884\n",
      "we are sweep from right to left on site 8...\n",
      "lowest eigenvalue at site 8 is -19.0283732094379\n",
      "we are sweep from right to left on site 7...\n",
      "lowest eigenvalue at site 7 is -19.02837320943789\n",
      "we are sweep from right to left on site 6...\n",
      "lowest eigenvalue at site 6 is -19.028373209437913\n",
      "we are sweep from right to left on site 5...\n",
      "lowest eigenvalue at site 5 is -19.028373209437934\n",
      "we are sweep from right to left on site 4...\n",
      "lowest eigenvalue at site 4 is -19.028373209437927\n",
      "we are sweep from right to left on site 3...\n",
      "lowest eigenvalue at site 3 is -19.028373209437934\n",
      "we are sweep from right to left on site 2...\n",
      "lowest eigenvalue at site 2 is -19.028373209437937\n",
      "DMRG converged in 2 sweeps.\n"
     ]
    },
    {
     "data": {
      "text/plain": [
       "40-element Vector{Float64}:\n",
       "  -5.060657468805166\n",
       "  -7.068267617142388\n",
       "  -9.616414393865318\n",
       " -12.562685249077825\n",
       " -14.854880884589589\n",
       " -18.698225244605194\n",
       " -19.028372551062066\n",
       " -19.02837255106204\n",
       " -19.028372551062034\n",
       " -19.028372551062038\n",
       " -19.02837255106204\n",
       " -19.028372551062038\n",
       " -19.028372551062024\n",
       "   ⋮\n",
       " -19.028373209437905\n",
       " -19.028373209437913\n",
       " -19.028373209437913\n",
       " -19.0283732094379\n",
       " -19.028373209437884\n",
       " -19.0283732094379\n",
       " -19.02837320943789\n",
       " -19.028373209437913\n",
       " -19.028373209437934\n",
       " -19.028373209437927\n",
       " -19.028373209437934\n",
       " -19.028373209437937"
      ]
     },
     "execution_count": 32,
     "metadata": {},
     "output_type": "execute_result"
    }
   ],
   "source": [
    "L = 11\n",
    "J = 1.\n",
    "Delta = 1.\n",
    "sigma_x, sigma_y, sigma_z = pauli_operators()\n",
    "mpo = xxz_mpo(L, J, Delta, 0.5)\n",
    "Eigenvalues, mps = ground_state(mpo, D=30)\n",
    "Eigenvalues"
   ]
  },
  {
   "cell_type": "code",
   "execution_count": 33,
   "id": "55e0a128",
   "metadata": {},
   "outputs": [
    {
     "data": {
      "text/plain": [
       "10-element Vector{Float64}:\n",
       " 1.000000000000001\n",
       " 1.000000000000001\n",
       " 1.000000000000001\n",
       " 1.0000000000000009\n",
       " 1.0000000000000009\n",
       " 1.0000000000000007\n",
       " 1.0000000000000004\n",
       " 1.0000000000000002\n",
       " 1.0000000000000002\n",
       " 1.0000000000000002"
      ]
     },
     "execution_count": 33,
     "metadata": {},
     "output_type": "execute_result"
    }
   ],
   "source": [
    "prepare_left!(mps)\n",
    "svectors = prepare_right!(mps)\n",
    "[norm(item) for item in svectors]"
   ]
  },
  {
   "cell_type": "markdown",
   "id": "0c2f3505",
   "metadata": {},
   "source": [
    "#### Measure local observables"
   ]
  },
  {
   "cell_type": "code",
   "execution_count": 34,
   "id": "79a82ab9",
   "metadata": {},
   "outputs": [
    {
     "data": {
      "text/plain": [
       "5.441711656584695e-14 - 3.1554436208840472e-30im"
      ]
     },
     "execution_count": 34,
     "metadata": {},
     "output_type": "execute_result"
    }
   ],
   "source": [
    "# think about it!!!\n",
    "function local_measurement(site::Int, op::AbstractMatrix, mps::Vector{<:AbstractArray{ComplexF64, 3}}, svectors::Vector{Vector{Float64}})\n",
    "    if site == 1\n",
    "        mpsj = mps[site]\n",
    "    else\n",
    "        v = Matrix(Diagonal(svectors[site-1]))\n",
    "        @tensor mpsj[a, c, d] := v[a, b] * mps[site][b, c, d]\n",
    "    end\n",
    "    @tensor r[] := conj(mpsj[a, b, c]) * op[b, d] * mpsj[a, d, c]\n",
    "    return r[]\n",
    "end\n",
    "\n",
    "local_measurement(1, sigma_x, mps, svectors)"
   ]
  },
  {
   "cell_type": "code",
   "execution_count": 35,
   "id": "d1239317",
   "metadata": {},
   "outputs": [
    {
     "data": {
      "text/plain": [
       "11-element Vector{Float64}:\n",
       " -0.3150924383134396\n",
       "  0.19692569938084584\n",
       " -0.37136906132789627\n",
       "  0.2519501969397127\n",
       " -0.39633638082883776\n",
       "  0.267843968299362\n",
       " -0.3963363808288472\n",
       "  0.2519501969397201\n",
       " -0.371369061327927\n",
       "  0.19692569938079182\n",
       " -0.3150924383134841"
      ]
     },
     "execution_count": 35,
     "metadata": {},
     "output_type": "execute_result"
    }
   ],
   "source": [
    "zvalues = real.([local_measurement(site, sigma_z, mps, svectors) for site in 1:length(mps)])"
   ]
  },
  {
   "cell_type": "code",
   "execution_count": 36,
   "id": "2fc43cc4",
   "metadata": {},
   "outputs": [
    {
     "data": {
      "text/plain": [
       "(2, 2, 2, 2)"
      ]
     },
     "execution_count": 36,
     "metadata": {},
     "output_type": "execute_result"
    }
   ],
   "source": [
    "dt = 0.05\n",
    "Delta = 0.5\n",
    "Uevenhalf = compute_two_body_gate(J, Delta, dt/2)\n",
    "Uodd = compute_two_body_gate(J, Delta, dt)\n",
    "size(Uodd)"
   ]
  },
  {
   "cell_type": "code",
   "execution_count": 37,
   "id": "892bbb21",
   "metadata": {},
   "outputs": [
    {
     "data": {
      "text/plain": [
       "11-element Vector{Float64}:\n",
       " -0.18912387830057703\n",
       "  0.06774913739636446\n",
       " -0.22047496652348914\n",
       "  0.04136328720056481\n",
       " -0.22653286775615977\n",
       "  0.05501833852316547\n",
       " -0.2261788684270386\n",
       "  0.040982004661068105\n",
       " -0.2202447358578667\n",
       "  0.06741628460375049\n",
       " -0.1899737355198152"
      ]
     },
     "execution_count": 37,
     "metadata": {},
     "output_type": "execute_result"
    }
   ],
   "source": [
    "for i in 1:20\n",
    "    tebd!(Uevenhalf, Uodd, mps, svectors)\n",
    "end\n",
    "# println(svectors)\n",
    "# tebd!(Uevenhalf, Uodd, mps, svectors)\n",
    "# println(svectors)\n",
    "zvalues_final = real.([local_measurement(site, sigma_z, mps, svectors) for site in 1:length(mps)])"
   ]
  },
  {
   "cell_type": "markdown",
   "id": "6939d2d7",
   "metadata": {},
   "source": [
    "### Check if we are still right-canonical?"
   ]
  },
  {
   "cell_type": "code",
   "execution_count": 38,
   "id": "32d0c664",
   "metadata": {},
   "outputs": [
    {
     "data": {
      "text/plain": [
       "true"
      ]
     },
     "execution_count": 38,
     "metadata": {},
     "output_type": "execute_result"
    }
   ],
   "source": [
    "is_right_canonical(mps)"
   ]
  },
  {
   "cell_type": "code",
   "execution_count": 39,
   "id": "f328ccd7",
   "metadata": {},
   "outputs": [
    {
     "data": {
      "text/plain": [
       "10-element Vector{Float64}:\n",
       " 1.000000000000019\n",
       " 1.0000000000000209\n",
       " 1.0000000000000202\n",
       " 1.0000000000000215\n",
       " 1.0000000000000209\n",
       " 1.0000000000000207\n",
       " 1.0000000000000189\n",
       " 1.0000000000000184\n",
       " 1.0000000000000155\n",
       " 1.000000000000015"
      ]
     },
     "execution_count": 39,
     "metadata": {},
     "output_type": "execute_result"
    }
   ],
   "source": [
    "[norm(item) for item in svectors]"
   ]
  },
  {
   "cell_type": "code",
   "execution_count": 40,
   "id": "edd2c6d6",
   "metadata": {
    "scrolled": true
   },
   "outputs": [
    {
     "data": {
      "text/plain": [
       "11-element Vector{Float64}:\n",
       " -0.18912387830057703\n",
       "  0.06774913739636446\n",
       " -0.22047496652348914\n",
       "  0.04136328720056481\n",
       " -0.22653286775615977\n",
       "  0.05501833852316547\n",
       " -0.2261788684270386\n",
       "  0.040982004661068105\n",
       " -0.2202447358578667\n",
       "  0.06741628460375049\n",
       " -0.1899737355198152"
      ]
     },
     "execution_count": 40,
     "metadata": {},
     "output_type": "execute_result"
    }
   ],
   "source": [
    "zvalues_final = real.([local_measurement(site, sigma_z, mps, svectors) for site in 1:length(mps)])"
   ]
  },
  {
   "cell_type": "code",
   "execution_count": 41,
   "id": "95ee2d6b",
   "metadata": {
    "scrolled": true
   },
   "outputs": [
    {
     "data": {
      "image/svg+xml": [
       "<?xml version=\"1.0\" encoding=\"utf-8\"?>\n",
       "<svg xmlns=\"http://www.w3.org/2000/svg\" xmlns:xlink=\"http://www.w3.org/1999/xlink\" width=\"600\" height=\"400\" viewBox=\"0 0 2400 1600\">\n",
       "<defs>\n",
       "  <clipPath id=\"clip550\">\n",
       "    <rect x=\"0\" y=\"0\" width=\"2400\" height=\"1600\"/>\n",
       "  </clipPath>\n",
       "</defs>\n",
       "<path clip-path=\"url(#clip550)\" d=\"\n",
       "M0 1600 L2400 1600 L2400 0 L0 0  Z\n",
       "  \" fill=\"#ffffff\" fill-rule=\"evenodd\" fill-opacity=\"1\"/>\n",
       "<defs>\n",
       "  <clipPath id=\"clip551\">\n",
       "    <rect x=\"480\" y=\"0\" width=\"1681\" height=\"1600\"/>\n",
       "  </clipPath>\n",
       "</defs>\n",
       "<path clip-path=\"url(#clip550)\" d=\"\n",
       "M194.422 1486.45 L2352.76 1486.45 L2352.76 47.2441 L194.422 47.2441  Z\n",
       "  \" fill=\"#ffffff\" fill-rule=\"evenodd\" fill-opacity=\"1\"/>\n",
       "<defs>\n",
       "  <clipPath id=\"clip552\">\n",
       "    <rect x=\"194\" y=\"47\" width=\"2159\" height=\"1440\"/>\n",
       "  </clipPath>\n",
       "</defs>\n",
       "<polyline clip-path=\"url(#clip552)\" style=\"stroke:#000000; stroke-linecap:butt; stroke-linejoin:round; stroke-width:2; stroke-opacity:0.1; fill:none\" points=\"\n",
       "  459.123,1486.45 459.123,47.2441 \n",
       "  \"/>\n",
       "<polyline clip-path=\"url(#clip552)\" style=\"stroke:#000000; stroke-linecap:butt; stroke-linejoin:round; stroke-width:2; stroke-opacity:0.1; fill:none\" points=\"\n",
       "  866.356,1486.45 866.356,47.2441 \n",
       "  \"/>\n",
       "<polyline clip-path=\"url(#clip552)\" style=\"stroke:#000000; stroke-linecap:butt; stroke-linejoin:round; stroke-width:2; stroke-opacity:0.1; fill:none\" points=\"\n",
       "  1273.59,1486.45 1273.59,47.2441 \n",
       "  \"/>\n",
       "<polyline clip-path=\"url(#clip552)\" style=\"stroke:#000000; stroke-linecap:butt; stroke-linejoin:round; stroke-width:2; stroke-opacity:0.1; fill:none\" points=\"\n",
       "  1680.82,1486.45 1680.82,47.2441 \n",
       "  \"/>\n",
       "<polyline clip-path=\"url(#clip552)\" style=\"stroke:#000000; stroke-linecap:butt; stroke-linejoin:round; stroke-width:2; stroke-opacity:0.1; fill:none\" points=\"\n",
       "  2088.05,1486.45 2088.05,47.2441 \n",
       "  \"/>\n",
       "<polyline clip-path=\"url(#clip550)\" style=\"stroke:#000000; stroke-linecap:butt; stroke-linejoin:round; stroke-width:4; stroke-opacity:1; fill:none\" points=\"\n",
       "  194.422,1486.45 2352.76,1486.45 \n",
       "  \"/>\n",
       "<polyline clip-path=\"url(#clip550)\" style=\"stroke:#000000; stroke-linecap:butt; stroke-linejoin:round; stroke-width:4; stroke-opacity:1; fill:none\" points=\"\n",
       "  459.123,1486.45 459.123,1469.18 \n",
       "  \"/>\n",
       "<polyline clip-path=\"url(#clip550)\" style=\"stroke:#000000; stroke-linecap:butt; stroke-linejoin:round; stroke-width:4; stroke-opacity:1; fill:none\" points=\"\n",
       "  866.356,1486.45 866.356,1469.18 \n",
       "  \"/>\n",
       "<polyline clip-path=\"url(#clip550)\" style=\"stroke:#000000; stroke-linecap:butt; stroke-linejoin:round; stroke-width:4; stroke-opacity:1; fill:none\" points=\"\n",
       "  1273.59,1486.45 1273.59,1469.18 \n",
       "  \"/>\n",
       "<polyline clip-path=\"url(#clip550)\" style=\"stroke:#000000; stroke-linecap:butt; stroke-linejoin:round; stroke-width:4; stroke-opacity:1; fill:none\" points=\"\n",
       "  1680.82,1486.45 1680.82,1469.18 \n",
       "  \"/>\n",
       "<polyline clip-path=\"url(#clip550)\" style=\"stroke:#000000; stroke-linecap:butt; stroke-linejoin:round; stroke-width:4; stroke-opacity:1; fill:none\" points=\"\n",
       "  2088.05,1486.45 2088.05,1469.18 \n",
       "  \"/>\n",
       "<path clip-path=\"url(#clip550)\" d=\"M453.776 1543.18 L470.096 1543.18 L470.096 1547.12 L448.151 1547.12 L448.151 1543.18 Q450.813 1540.43 455.397 1535.8 Q460.003 1531.15 461.184 1529.81 Q463.429 1527.28 464.309 1525.55 Q465.211 1523.79 465.211 1522.1 Q465.211 1519.34 463.267 1517.61 Q461.346 1515.87 458.244 1515.87 Q456.045 1515.87 453.591 1516.63 Q451.161 1517.4 448.383 1518.95 L448.383 1514.23 Q451.207 1513.09 453.66 1512.51 Q456.114 1511.93 458.151 1511.93 Q463.522 1511.93 466.716 1514.62 Q469.91 1517.31 469.91 1521.8 Q469.91 1523.93 469.1 1525.85 Q468.313 1527.74 466.207 1530.34 Q465.628 1531.01 462.526 1534.23 Q459.424 1537.42 453.776 1543.18 Z\" fill=\"#000000\" fill-rule=\"evenodd\" fill-opacity=\"1\" /><path clip-path=\"url(#clip550)\" d=\"M869.365 1516.63 L857.56 1535.08 L869.365 1535.08 L869.365 1516.63 M868.139 1512.56 L874.018 1512.56 L874.018 1535.08 L878.949 1535.08 L878.949 1538.97 L874.018 1538.97 L874.018 1547.12 L869.365 1547.12 L869.365 1538.97 L853.764 1538.97 L853.764 1534.46 L868.139 1512.56 Z\" fill=\"#000000\" fill-rule=\"evenodd\" fill-opacity=\"1\" /><path clip-path=\"url(#clip550)\" d=\"M1273.99 1527.98 Q1270.85 1527.98 1268.99 1530.13 Q1267.17 1532.28 1267.17 1536.03 Q1267.17 1539.76 1268.99 1541.93 Q1270.85 1544.09 1273.99 1544.09 Q1277.14 1544.09 1278.97 1541.93 Q1280.82 1539.76 1280.82 1536.03 Q1280.82 1532.28 1278.97 1530.13 Q1277.14 1527.98 1273.99 1527.98 M1283.28 1513.32 L1283.28 1517.58 Q1281.52 1516.75 1279.71 1516.31 Q1277.93 1515.87 1276.17 1515.87 Q1271.54 1515.87 1269.09 1519 Q1266.66 1522.12 1266.31 1528.44 Q1267.67 1526.43 1269.73 1525.36 Q1271.8 1524.27 1274.27 1524.27 Q1279.48 1524.27 1282.49 1527.44 Q1285.52 1530.59 1285.52 1536.03 Q1285.52 1541.36 1282.37 1544.57 Q1279.23 1547.79 1273.99 1547.79 Q1268 1547.79 1264.83 1543.21 Q1261.66 1538.6 1261.66 1529.87 Q1261.66 1521.68 1265.55 1516.82 Q1269.43 1511.93 1275.98 1511.93 Q1277.74 1511.93 1279.53 1512.28 Q1281.33 1512.63 1283.28 1513.32 Z\" fill=\"#000000\" fill-rule=\"evenodd\" fill-opacity=\"1\" /><path clip-path=\"url(#clip550)\" d=\"M1680.82 1530.71 Q1677.49 1530.71 1675.57 1532.49 Q1673.67 1534.27 1673.67 1537.4 Q1673.67 1540.52 1675.57 1542.31 Q1677.49 1544.09 1680.82 1544.09 Q1684.16 1544.09 1686.08 1542.31 Q1688 1540.5 1688 1537.4 Q1688 1534.27 1686.08 1532.49 Q1684.18 1530.71 1680.82 1530.71 M1676.15 1528.72 Q1673.14 1527.98 1671.45 1525.92 Q1669.78 1523.86 1669.78 1520.89 Q1669.78 1516.75 1672.72 1514.34 Q1675.68 1511.93 1680.82 1511.93 Q1685.98 1511.93 1688.92 1514.34 Q1691.86 1516.75 1691.86 1520.89 Q1691.86 1523.86 1690.17 1525.92 Q1688.51 1527.98 1685.52 1528.72 Q1688.9 1529.5 1690.78 1531.8 Q1692.67 1534.09 1692.67 1537.4 Q1692.67 1542.42 1689.59 1545.11 Q1686.54 1547.79 1680.82 1547.79 Q1675.1 1547.79 1672.03 1545.11 Q1668.97 1542.42 1668.97 1537.4 Q1668.97 1534.09 1670.87 1531.8 Q1672.77 1529.5 1676.15 1528.72 M1674.43 1521.33 Q1674.43 1524.02 1676.1 1525.52 Q1677.79 1527.03 1680.82 1527.03 Q1683.83 1527.03 1685.52 1525.52 Q1687.23 1524.02 1687.23 1521.33 Q1687.23 1518.65 1685.52 1517.14 Q1683.83 1515.64 1680.82 1515.64 Q1677.79 1515.64 1676.1 1517.14 Q1674.43 1518.65 1674.43 1521.33 Z\" fill=\"#000000\" fill-rule=\"evenodd\" fill-opacity=\"1\" /><path clip-path=\"url(#clip550)\" d=\"M2062.74 1543.18 L2070.38 1543.18 L2070.38 1516.82 L2062.07 1518.49 L2062.07 1514.23 L2070.33 1512.56 L2075.01 1512.56 L2075.01 1543.18 L2082.65 1543.18 L2082.65 1547.12 L2062.74 1547.12 L2062.74 1543.18 Z\" fill=\"#000000\" fill-rule=\"evenodd\" fill-opacity=\"1\" /><path clip-path=\"url(#clip550)\" d=\"M2102.09 1515.64 Q2098.48 1515.64 2096.65 1519.2 Q2094.85 1522.75 2094.85 1529.87 Q2094.85 1536.98 2096.65 1540.55 Q2098.48 1544.09 2102.09 1544.09 Q2105.73 1544.09 2107.53 1540.55 Q2109.36 1536.98 2109.36 1529.87 Q2109.36 1522.75 2107.53 1519.2 Q2105.73 1515.64 2102.09 1515.64 M2102.09 1511.93 Q2107.9 1511.93 2110.96 1516.54 Q2114.04 1521.12 2114.04 1529.87 Q2114.04 1538.6 2110.96 1543.21 Q2107.9 1547.79 2102.09 1547.79 Q2096.28 1547.79 2093.21 1543.21 Q2090.15 1538.6 2090.15 1529.87 Q2090.15 1521.12 2093.21 1516.54 Q2096.28 1511.93 2102.09 1511.93 Z\" fill=\"#000000\" fill-rule=\"evenodd\" fill-opacity=\"1\" /><polyline clip-path=\"url(#clip552)\" style=\"stroke:#000000; stroke-linecap:butt; stroke-linejoin:round; stroke-width:2; stroke-opacity:0.1; fill:none\" points=\"\n",
       "  194.422,1453.2 2352.76,1453.2 \n",
       "  \"/>\n",
       "<polyline clip-path=\"url(#clip552)\" style=\"stroke:#000000; stroke-linecap:butt; stroke-linejoin:round; stroke-width:2; stroke-opacity:0.1; fill:none\" points=\"\n",
       "  194.422,1248.78 2352.76,1248.78 \n",
       "  \"/>\n",
       "<polyline clip-path=\"url(#clip552)\" style=\"stroke:#000000; stroke-linecap:butt; stroke-linejoin:round; stroke-width:2; stroke-opacity:0.1; fill:none\" points=\"\n",
       "  194.422,1044.36 2352.76,1044.36 \n",
       "  \"/>\n",
       "<polyline clip-path=\"url(#clip552)\" style=\"stroke:#000000; stroke-linecap:butt; stroke-linejoin:round; stroke-width:2; stroke-opacity:0.1; fill:none\" points=\"\n",
       "  194.422,839.935 2352.76,839.935 \n",
       "  \"/>\n",
       "<polyline clip-path=\"url(#clip552)\" style=\"stroke:#000000; stroke-linecap:butt; stroke-linejoin:round; stroke-width:2; stroke-opacity:0.1; fill:none\" points=\"\n",
       "  194.422,635.512 2352.76,635.512 \n",
       "  \"/>\n",
       "<polyline clip-path=\"url(#clip552)\" style=\"stroke:#000000; stroke-linecap:butt; stroke-linejoin:round; stroke-width:2; stroke-opacity:0.1; fill:none\" points=\"\n",
       "  194.422,431.088 2352.76,431.088 \n",
       "  \"/>\n",
       "<polyline clip-path=\"url(#clip552)\" style=\"stroke:#000000; stroke-linecap:butt; stroke-linejoin:round; stroke-width:2; stroke-opacity:0.1; fill:none\" points=\"\n",
       "  194.422,226.665 2352.76,226.665 \n",
       "  \"/>\n",
       "<polyline clip-path=\"url(#clip550)\" style=\"stroke:#000000; stroke-linecap:butt; stroke-linejoin:round; stroke-width:4; stroke-opacity:1; fill:none\" points=\"\n",
       "  194.422,1486.45 194.422,47.2441 \n",
       "  \"/>\n",
       "<polyline clip-path=\"url(#clip550)\" style=\"stroke:#000000; stroke-linecap:butt; stroke-linejoin:round; stroke-width:4; stroke-opacity:1; fill:none\" points=\"\n",
       "  194.422,1453.2 220.322,1453.2 \n",
       "  \"/>\n",
       "<polyline clip-path=\"url(#clip550)\" style=\"stroke:#000000; stroke-linecap:butt; stroke-linejoin:round; stroke-width:4; stroke-opacity:1; fill:none\" points=\"\n",
       "  194.422,1248.78 220.322,1248.78 \n",
       "  \"/>\n",
       "<polyline clip-path=\"url(#clip550)\" style=\"stroke:#000000; stroke-linecap:butt; stroke-linejoin:round; stroke-width:4; stroke-opacity:1; fill:none\" points=\"\n",
       "  194.422,1044.36 220.322,1044.36 \n",
       "  \"/>\n",
       "<polyline clip-path=\"url(#clip550)\" style=\"stroke:#000000; stroke-linecap:butt; stroke-linejoin:round; stroke-width:4; stroke-opacity:1; fill:none\" points=\"\n",
       "  194.422,839.935 220.322,839.935 \n",
       "  \"/>\n",
       "<polyline clip-path=\"url(#clip550)\" style=\"stroke:#000000; stroke-linecap:butt; stroke-linejoin:round; stroke-width:4; stroke-opacity:1; fill:none\" points=\"\n",
       "  194.422,635.512 220.322,635.512 \n",
       "  \"/>\n",
       "<polyline clip-path=\"url(#clip550)\" style=\"stroke:#000000; stroke-linecap:butt; stroke-linejoin:round; stroke-width:4; stroke-opacity:1; fill:none\" points=\"\n",
       "  194.422,431.088 220.322,431.088 \n",
       "  \"/>\n",
       "<polyline clip-path=\"url(#clip550)\" style=\"stroke:#000000; stroke-linecap:butt; stroke-linejoin:round; stroke-width:4; stroke-opacity:1; fill:none\" points=\"\n",
       "  194.422,226.665 220.322,226.665 \n",
       "  \"/>\n",
       "<path clip-path=\"url(#clip550)\" d=\"M50.9921 1453.66 L80.6679 1453.66 L80.6679 1457.59 L50.9921 1457.59 L50.9921 1453.66 Z\" fill=\"#000000\" fill-rule=\"evenodd\" fill-opacity=\"1\" /><path clip-path=\"url(#clip550)\" d=\"M100.76 1439 Q97.1493 1439 95.3206 1442.57 Q93.515 1446.11 93.515 1453.24 Q93.515 1460.35 95.3206 1463.91 Q97.1493 1467.45 100.76 1467.45 Q104.395 1467.45 106.2 1463.91 Q108.029 1460.35 108.029 1453.24 Q108.029 1446.11 106.2 1442.57 Q104.395 1439 100.76 1439 M100.76 1435.3 Q106.571 1435.3 109.626 1439.91 Q112.705 1444.49 112.705 1453.24 Q112.705 1461.97 109.626 1466.57 Q106.571 1471.16 100.76 1471.16 Q94.9502 1471.16 91.8715 1466.57 Q88.816 1461.97 88.816 1453.24 Q88.816 1444.49 91.8715 1439.91 Q94.9502 1435.3 100.76 1435.3 Z\" fill=\"#000000\" fill-rule=\"evenodd\" fill-opacity=\"1\" /><path clip-path=\"url(#clip550)\" d=\"M120.922 1464.61 L125.807 1464.61 L125.807 1470.48 L120.922 1470.48 L120.922 1464.61 Z\" fill=\"#000000\" fill-rule=\"evenodd\" fill-opacity=\"1\" /><path clip-path=\"url(#clip550)\" d=\"M148.839 1440 L137.033 1458.45 L148.839 1458.45 L148.839 1440 M147.612 1435.92 L153.492 1435.92 L153.492 1458.45 L158.422 1458.45 L158.422 1462.34 L153.492 1462.34 L153.492 1470.48 L148.839 1470.48 L148.839 1462.34 L133.237 1462.34 L133.237 1457.82 L147.612 1435.92 Z\" fill=\"#000000\" fill-rule=\"evenodd\" fill-opacity=\"1\" /><path clip-path=\"url(#clip550)\" d=\"M52.1264 1249.23 L81.8021 1249.23 L81.8021 1253.17 L52.1264 1253.17 L52.1264 1249.23 Z\" fill=\"#000000\" fill-rule=\"evenodd\" fill-opacity=\"1\" /><path clip-path=\"url(#clip550)\" d=\"M101.895 1234.58 Q98.2835 1234.58 96.4548 1238.15 Q94.6493 1241.69 94.6493 1248.82 Q94.6493 1255.92 96.4548 1259.49 Q98.2835 1263.03 101.895 1263.03 Q105.529 1263.03 107.334 1259.49 Q109.163 1255.92 109.163 1248.82 Q109.163 1241.69 107.334 1238.15 Q105.529 1234.58 101.895 1234.58 M101.895 1230.88 Q107.705 1230.88 110.76 1235.48 Q113.839 1240.07 113.839 1248.82 Q113.839 1257.54 110.76 1262.15 Q107.705 1266.73 101.895 1266.73 Q96.0845 1266.73 93.0058 1262.15 Q89.9503 1257.54 89.9503 1248.82 Q89.9503 1240.07 93.0058 1235.48 Q96.0845 1230.88 101.895 1230.88 Z\" fill=\"#000000\" fill-rule=\"evenodd\" fill-opacity=\"1\" /><path clip-path=\"url(#clip550)\" d=\"M122.057 1260.18 L126.941 1260.18 L126.941 1266.06 L122.057 1266.06 L122.057 1260.18 Z\" fill=\"#000000\" fill-rule=\"evenodd\" fill-opacity=\"1\" /><path clip-path=\"url(#clip550)\" d=\"M151.293 1247.43 Q154.649 1248.15 156.524 1250.41 Q158.422 1252.68 158.422 1256.02 Q158.422 1261.13 154.904 1263.93 Q151.385 1266.73 144.904 1266.73 Q142.728 1266.73 140.413 1266.29 Q138.121 1265.88 135.668 1265.02 L135.668 1260.51 Q137.612 1261.64 139.927 1262.22 Q142.242 1262.8 144.765 1262.8 Q149.163 1262.8 151.455 1261.06 Q153.769 1259.33 153.769 1256.02 Q153.769 1252.96 151.617 1251.25 Q149.487 1249.51 145.668 1249.51 L141.64 1249.51 L141.64 1245.67 L145.853 1245.67 Q149.302 1245.67 151.13 1244.3 Q152.959 1242.91 152.959 1240.32 Q152.959 1237.66 151.061 1236.25 Q149.186 1234.81 145.668 1234.81 Q143.746 1234.81 141.547 1235.23 Q139.348 1235.65 136.709 1236.52 L136.709 1232.36 Q139.371 1231.62 141.686 1231.25 Q144.024 1230.88 146.084 1230.88 Q151.408 1230.88 154.51 1233.31 Q157.612 1235.71 157.612 1239.83 Q157.612 1242.71 155.968 1244.7 Q154.325 1246.66 151.293 1247.43 Z\" fill=\"#000000\" fill-rule=\"evenodd\" fill-opacity=\"1\" /><path clip-path=\"url(#clip550)\" d=\"M53.0754 1044.81 L82.7512 1044.81 L82.7512 1048.74 L53.0754 1048.74 L53.0754 1044.81 Z\" fill=\"#000000\" fill-rule=\"evenodd\" fill-opacity=\"1\" /><path clip-path=\"url(#clip550)\" d=\"M102.844 1030.16 Q99.2326 1030.16 97.4039 1033.72 Q95.5984 1037.26 95.5984 1044.39 Q95.5984 1051.5 97.4039 1055.06 Q99.2326 1058.61 102.844 1058.61 Q106.478 1058.61 108.283 1055.06 Q110.112 1051.5 110.112 1044.39 Q110.112 1037.26 108.283 1033.72 Q106.478 1030.16 102.844 1030.16 M102.844 1026.45 Q108.654 1026.45 111.709 1031.06 Q114.788 1035.64 114.788 1044.39 Q114.788 1053.12 111.709 1057.73 Q108.654 1062.31 102.844 1062.31 Q97.0335 1062.31 93.9549 1057.73 Q90.8993 1053.12 90.8993 1044.39 Q90.8993 1035.64 93.9549 1031.06 Q97.0335 1026.45 102.844 1026.45 Z\" fill=\"#000000\" fill-rule=\"evenodd\" fill-opacity=\"1\" /><path clip-path=\"url(#clip550)\" d=\"M123.006 1055.76 L127.89 1055.76 L127.89 1061.64 L123.006 1061.64 L123.006 1055.76 Z\" fill=\"#000000\" fill-rule=\"evenodd\" fill-opacity=\"1\" /><path clip-path=\"url(#clip550)\" d=\"M142.103 1057.7 L158.422 1057.7 L158.422 1061.64 L136.478 1061.64 L136.478 1057.7 Q139.14 1054.95 143.723 1050.32 Q148.33 1045.67 149.51 1044.32 Q151.755 1041.8 152.635 1040.06 Q153.538 1038.31 153.538 1036.62 Q153.538 1033.86 151.593 1032.12 Q149.672 1030.39 146.57 1030.39 Q144.371 1030.39 141.918 1031.15 Q139.487 1031.92 136.709 1033.47 L136.709 1028.75 Q139.533 1027.61 141.987 1027.03 Q144.441 1026.45 146.478 1026.45 Q151.848 1026.45 155.042 1029.14 Q158.237 1031.82 158.237 1036.31 Q158.237 1038.44 157.427 1040.37 Q156.64 1042.26 154.533 1044.86 Q153.955 1045.53 150.853 1048.74 Q147.751 1051.94 142.103 1057.7 Z\" fill=\"#000000\" fill-rule=\"evenodd\" fill-opacity=\"1\" /><path clip-path=\"url(#clip550)\" d=\"M52.7051 840.386 L82.3808 840.386 L82.3808 844.322 L52.7051 844.322 L52.7051 840.386 Z\" fill=\"#000000\" fill-rule=\"evenodd\" fill-opacity=\"1\" /><path clip-path=\"url(#clip550)\" d=\"M102.473 825.734 Q98.8622 825.734 97.0335 829.299 Q95.228 832.84 95.228 839.97 Q95.228 847.076 97.0335 850.641 Q98.8622 854.183 102.473 854.183 Q106.108 854.183 107.913 850.641 Q109.742 847.076 109.742 839.97 Q109.742 832.84 107.913 829.299 Q106.108 825.734 102.473 825.734 M102.473 822.03 Q108.283 822.03 111.339 826.637 Q114.418 831.22 114.418 839.97 Q114.418 848.697 111.339 853.303 Q108.283 857.886 102.473 857.886 Q96.6632 857.886 93.5845 853.303 Q90.529 848.697 90.529 839.97 Q90.529 831.22 93.5845 826.637 Q96.6632 822.03 102.473 822.03 Z\" fill=\"#000000\" fill-rule=\"evenodd\" fill-opacity=\"1\" /><path clip-path=\"url(#clip550)\" d=\"M122.635 851.335 L127.519 851.335 L127.519 857.215 L122.635 857.215 L122.635 851.335 Z\" fill=\"#000000\" fill-rule=\"evenodd\" fill-opacity=\"1\" /><path clip-path=\"url(#clip550)\" d=\"M138.515 853.28 L146.154 853.28 L146.154 826.914 L137.844 828.581 L137.844 824.322 L146.107 822.655 L150.783 822.655 L150.783 853.28 L158.422 853.28 L158.422 857.215 L138.515 857.215 L138.515 853.28 Z\" fill=\"#000000\" fill-rule=\"evenodd\" fill-opacity=\"1\" /><path clip-path=\"url(#clip550)\" d=\"M101.246 621.31 Q97.6354 621.31 95.8067 624.875 Q94.0012 628.417 94.0012 635.546 Q94.0012 642.653 95.8067 646.218 Q97.6354 649.759 101.246 649.759 Q104.881 649.759 106.686 646.218 Q108.515 642.653 108.515 635.546 Q108.515 628.417 106.686 624.875 Q104.881 621.31 101.246 621.31 M101.246 617.607 Q107.057 617.607 110.112 622.213 Q113.191 626.797 113.191 635.546 Q113.191 644.273 110.112 648.88 Q107.057 653.463 101.246 653.463 Q95.4363 653.463 92.3576 648.88 Q89.3021 644.273 89.3021 635.546 Q89.3021 626.797 92.3576 622.213 Q95.4363 617.607 101.246 617.607 Z\" fill=\"#000000\" fill-rule=\"evenodd\" fill-opacity=\"1\" /><path clip-path=\"url(#clip550)\" d=\"M121.408 646.912 L126.293 646.912 L126.293 652.792 L121.408 652.792 L121.408 646.912 Z\" fill=\"#000000\" fill-rule=\"evenodd\" fill-opacity=\"1\" /><path clip-path=\"url(#clip550)\" d=\"M146.478 621.31 Q142.867 621.31 141.038 624.875 Q139.232 628.417 139.232 635.546 Q139.232 642.653 141.038 646.218 Q142.867 649.759 146.478 649.759 Q150.112 649.759 151.918 646.218 Q153.746 642.653 153.746 635.546 Q153.746 628.417 151.918 624.875 Q150.112 621.31 146.478 621.31 M146.478 617.607 Q152.288 617.607 155.343 622.213 Q158.422 626.797 158.422 635.546 Q158.422 644.273 155.343 648.88 Q152.288 653.463 146.478 653.463 Q140.668 653.463 137.589 648.88 Q134.533 644.273 134.533 635.546 Q134.533 626.797 137.589 622.213 Q140.668 617.607 146.478 617.607 Z\" fill=\"#000000\" fill-rule=\"evenodd\" fill-opacity=\"1\" /><path clip-path=\"url(#clip550)\" d=\"M102.473 416.887 Q98.8622 416.887 97.0335 420.452 Q95.228 423.994 95.228 431.123 Q95.228 438.23 97.0335 441.794 Q98.8622 445.336 102.473 445.336 Q106.108 445.336 107.913 441.794 Q109.742 438.23 109.742 431.123 Q109.742 423.994 107.913 420.452 Q106.108 416.887 102.473 416.887 M102.473 413.183 Q108.283 413.183 111.339 417.79 Q114.418 422.373 114.418 431.123 Q114.418 439.85 111.339 444.456 Q108.283 449.04 102.473 449.04 Q96.6632 449.04 93.5845 444.456 Q90.529 439.85 90.529 431.123 Q90.529 422.373 93.5845 417.79 Q96.6632 413.183 102.473 413.183 Z\" fill=\"#000000\" fill-rule=\"evenodd\" fill-opacity=\"1\" /><path clip-path=\"url(#clip550)\" d=\"M122.635 442.489 L127.519 442.489 L127.519 448.368 L122.635 448.368 L122.635 442.489 Z\" fill=\"#000000\" fill-rule=\"evenodd\" fill-opacity=\"1\" /><path clip-path=\"url(#clip550)\" d=\"M138.515 444.433 L146.154 444.433 L146.154 418.068 L137.844 419.734 L137.844 415.475 L146.107 413.808 L150.783 413.808 L150.783 444.433 L158.422 444.433 L158.422 448.368 L138.515 448.368 L138.515 444.433 Z\" fill=\"#000000\" fill-rule=\"evenodd\" fill-opacity=\"1\" /><path clip-path=\"url(#clip550)\" d=\"M102.844 212.464 Q99.2326 212.464 97.4039 216.029 Q95.5984 219.57 95.5984 226.7 Q95.5984 233.806 97.4039 237.371 Q99.2326 240.913 102.844 240.913 Q106.478 240.913 108.283 237.371 Q110.112 233.806 110.112 226.7 Q110.112 219.57 108.283 216.029 Q106.478 212.464 102.844 212.464 M102.844 208.76 Q108.654 208.76 111.709 213.367 Q114.788 217.95 114.788 226.7 Q114.788 235.427 111.709 240.033 Q108.654 244.616 102.844 244.616 Q97.0335 244.616 93.9549 240.033 Q90.8993 235.427 90.8993 226.7 Q90.8993 217.95 93.9549 213.367 Q97.0335 208.76 102.844 208.76 Z\" fill=\"#000000\" fill-rule=\"evenodd\" fill-opacity=\"1\" /><path clip-path=\"url(#clip550)\" d=\"M123.006 238.066 L127.89 238.066 L127.89 243.945 L123.006 243.945 L123.006 238.066 Z\" fill=\"#000000\" fill-rule=\"evenodd\" fill-opacity=\"1\" /><path clip-path=\"url(#clip550)\" d=\"M142.103 240.01 L158.422 240.01 L158.422 243.945 L136.478 243.945 L136.478 240.01 Q139.14 237.255 143.723 232.626 Q148.33 227.973 149.51 226.63 Q151.755 224.107 152.635 222.371 Q153.538 220.612 153.538 218.922 Q153.538 216.168 151.593 214.431 Q149.672 212.695 146.57 212.695 Q144.371 212.695 141.918 213.459 Q139.487 214.223 136.709 215.774 L136.709 211.052 Q139.533 209.918 141.987 209.339 Q144.441 208.76 146.478 208.76 Q151.848 208.76 155.042 211.445 Q158.237 214.131 158.237 218.621 Q158.237 220.751 157.427 222.672 Q156.64 224.57 154.533 227.163 Q153.955 227.834 150.853 231.052 Q147.751 234.246 142.103 240.01 Z\" fill=\"#000000\" fill-rule=\"evenodd\" fill-opacity=\"1\" /><polyline clip-path=\"url(#clip552)\" style=\"stroke:#009af9; stroke-linecap:butt; stroke-linejoin:round; stroke-width:12; stroke-opacity:1; fill:none\" points=\"\n",
       "  255.507,1279.63 459.123,232.95 662.74,1394.68 866.356,120.467 1069.97,1445.72 1273.59,87.9763 1477.21,1445.72 1680.82,120.467 1884.44,1394.68 2088.05,232.95 \n",
       "  2291.67,1279.63 \n",
       "  \"/>\n",
       "<polyline clip-path=\"url(#clip552)\" style=\"stroke:#e26f46; stroke-linecap:butt; stroke-linejoin:round; stroke-width:12; stroke-opacity:1; fill:none\" points=\"\n",
       "  255.507,1022.13 459.123,497.017 662.74,1086.21 866.356,550.956 1069.97,1098.6 1273.59,523.041 1477.21,1097.87 1680.82,551.735 1884.44,1085.74 2088.05,497.697 \n",
       "  2291.67,1023.86 \n",
       "  \"/>\n",
       "<path clip-path=\"url(#clip550)\" d=\"\n",
       "M1851.53 250.738 L2280.81 250.738 L2280.81 95.2176 L1851.53 95.2176  Z\n",
       "  \" fill=\"#ffffff\" fill-rule=\"evenodd\" fill-opacity=\"1\"/>\n",
       "<polyline clip-path=\"url(#clip550)\" style=\"stroke:#000000; stroke-linecap:butt; stroke-linejoin:round; stroke-width:4; stroke-opacity:1; fill:none\" points=\"\n",
       "  1851.53,250.738 2280.81,250.738 2280.81,95.2176 1851.53,95.2176 1851.53,250.738 \n",
       "  \"/>\n",
       "<polyline clip-path=\"url(#clip550)\" style=\"stroke:#009af9; stroke-linecap:butt; stroke-linejoin:round; stroke-width:4; stroke-opacity:1; fill:none\" points=\"\n",
       "  1875.51,147.058 2019.4,147.058 \n",
       "  \"/>\n",
       "<path clip-path=\"url(#clip550)\" d=\"M2043.96 138.412 L2064.19 138.412 L2064.19 142.301 L2048.17 160.935 L2064.19 160.935 L2064.19 164.338 L2043.38 164.338 L2043.38 160.449 L2059.4 141.815 L2043.96 141.815 L2043.96 138.412 Z\" fill=\"#000000\" fill-rule=\"evenodd\" fill-opacity=\"1\" /><path clip-path=\"url(#clip550)\" d=\"M2070.3 128.319 L2080.12 128.319 L2080.12 131.629 L2074.56 131.629 L2074.56 167.277 L2080.12 167.277 L2080.12 170.588 L2070.3 170.588 L2070.3 128.319 Z\" fill=\"#000000\" fill-rule=\"evenodd\" fill-opacity=\"1\" /><path clip-path=\"url(#clip550)\" d=\"M2093.4 131.051 L2093.4 138.412 L2102.18 138.412 L2102.18 141.722 L2093.4 141.722 L2093.4 155.796 Q2093.4 158.967 2094.26 159.87 Q2095.14 160.773 2097.8 160.773 L2102.18 160.773 L2102.18 164.338 L2097.8 164.338 Q2092.87 164.338 2091 162.509 Q2089.12 160.657 2089.12 155.796 L2089.12 141.722 L2086 141.722 L2086 138.412 L2089.12 138.412 L2089.12 131.051 L2093.4 131.051 Z\" fill=\"#000000\" fill-rule=\"evenodd\" fill-opacity=\"1\" /><path clip-path=\"url(#clip550)\" d=\"M2108.34 142.81 L2138.01 142.81 L2138.01 146.699 L2108.34 146.699 L2108.34 142.81 M2108.34 152.254 L2138.01 152.254 L2138.01 156.189 L2108.34 156.189 L2108.34 152.254 Z\" fill=\"#000000\" fill-rule=\"evenodd\" fill-opacity=\"1\" /><path clip-path=\"url(#clip550)\" d=\"M2158.1 132.856 Q2154.49 132.856 2152.66 136.421 Q2150.86 139.963 2150.86 147.092 Q2150.86 154.199 2152.66 157.764 Q2154.49 161.305 2158.1 161.305 Q2161.74 161.305 2163.54 157.764 Q2165.37 154.199 2165.37 147.092 Q2165.37 139.963 2163.54 136.421 Q2161.74 132.856 2158.1 132.856 M2158.1 129.153 Q2163.91 129.153 2166.97 133.759 Q2170.05 138.342 2170.05 147.092 Q2170.05 155.819 2166.97 160.426 Q2163.91 165.009 2158.1 165.009 Q2152.29 165.009 2149.21 160.426 Q2146.16 155.819 2146.16 147.092 Q2146.16 138.342 2149.21 133.759 Q2152.29 129.153 2158.1 129.153 Z\" fill=\"#000000\" fill-rule=\"evenodd\" fill-opacity=\"1\" /><path clip-path=\"url(#clip550)\" d=\"M2187.62 128.319 L2187.62 170.588 L2177.8 170.588 L2177.8 167.277 L2183.33 167.277 L2183.33 131.629 L2177.8 131.629 L2177.8 128.319 L2187.62 128.319 Z\" fill=\"#000000\" fill-rule=\"evenodd\" fill-opacity=\"1\" /><polyline clip-path=\"url(#clip550)\" style=\"stroke:#e26f46; stroke-linecap:butt; stroke-linejoin:round; stroke-width:4; stroke-opacity:1; fill:none\" points=\"\n",
       "  1875.51,198.898 2019.4,198.898 \n",
       "  \"/>\n",
       "<path clip-path=\"url(#clip550)\" d=\"M2043.96 190.252 L2064.19 190.252 L2064.19 194.141 L2048.17 212.775 L2064.19 212.775 L2064.19 216.178 L2043.38 216.178 L2043.38 212.289 L2059.4 193.655 L2043.96 193.655 L2043.96 190.252 Z\" fill=\"#000000\" fill-rule=\"evenodd\" fill-opacity=\"1\" /><path clip-path=\"url(#clip550)\" d=\"M2070.3 180.159 L2080.12 180.159 L2080.12 183.469 L2074.56 183.469 L2074.56 219.117 L2080.12 219.117 L2080.12 222.428 L2070.3 222.428 L2070.3 180.159 Z\" fill=\"#000000\" fill-rule=\"evenodd\" fill-opacity=\"1\" /><path clip-path=\"url(#clip550)\" d=\"M2093.4 182.891 L2093.4 190.252 L2102.18 190.252 L2102.18 193.562 L2093.4 193.562 L2093.4 207.636 Q2093.4 210.807 2094.26 211.71 Q2095.14 212.613 2097.8 212.613 L2102.18 212.613 L2102.18 216.178 L2097.8 216.178 Q2092.87 216.178 2091 214.349 Q2089.12 212.497 2089.12 207.636 L2089.12 193.562 L2086 193.562 L2086 190.252 L2089.12 190.252 L2089.12 182.891 L2093.4 182.891 Z\" fill=\"#000000\" fill-rule=\"evenodd\" fill-opacity=\"1\" /><path clip-path=\"url(#clip550)\" d=\"M2108.34 194.65 L2138.01 194.65 L2138.01 198.539 L2108.34 198.539 L2108.34 194.65 M2108.34 204.094 L2138.01 204.094 L2138.01 208.029 L2108.34 208.029 L2108.34 204.094 Z\" fill=\"#000000\" fill-rule=\"evenodd\" fill-opacity=\"1\" /><path clip-path=\"url(#clip550)\" d=\"M2158.1 184.696 Q2154.49 184.696 2152.66 188.261 Q2150.86 191.803 2150.86 198.932 Q2150.86 206.039 2152.66 209.604 Q2154.49 213.145 2158.1 213.145 Q2161.74 213.145 2163.54 209.604 Q2165.37 206.039 2165.37 198.932 Q2165.37 191.803 2163.54 188.261 Q2161.74 184.696 2158.1 184.696 M2158.1 180.993 Q2163.91 180.993 2166.97 185.599 Q2170.05 190.182 2170.05 198.932 Q2170.05 207.659 2166.97 212.266 Q2163.91 216.849 2158.1 216.849 Q2152.29 216.849 2149.21 212.266 Q2146.16 207.659 2146.16 198.932 Q2146.16 190.182 2149.21 185.599 Q2152.29 180.993 2158.1 180.993 Z\" fill=\"#000000\" fill-rule=\"evenodd\" fill-opacity=\"1\" /><path clip-path=\"url(#clip550)\" d=\"M2178.27 210.298 L2183.15 210.298 L2183.15 216.178 L2178.27 216.178 L2178.27 210.298 Z\" fill=\"#000000\" fill-rule=\"evenodd\" fill-opacity=\"1\" /><path clip-path=\"url(#clip550)\" d=\"M2194.14 212.242 L2201.78 212.242 L2201.78 185.877 L2193.47 187.543 L2193.47 183.284 L2201.74 181.618 L2206.41 181.618 L2206.41 212.242 L2214.05 212.242 L2214.05 216.178 L2194.14 216.178 L2194.14 212.242 Z\" fill=\"#000000\" fill-rule=\"evenodd\" fill-opacity=\"1\" /><path clip-path=\"url(#clip550)\" d=\"M2232.85 180.159 L2232.85 222.428 L2223.03 222.428 L2223.03 219.117 L2228.57 219.117 L2228.57 183.469 L2223.03 183.469 L2223.03 180.159 L2232.85 180.159 Z\" fill=\"#000000\" fill-rule=\"evenodd\" fill-opacity=\"1\" /></svg>\n"
      ]
     },
     "execution_count": 41,
     "metadata": {},
     "output_type": "execute_result"
    }
   ],
   "source": [
    "fig = plot(collect(1:length(zvalues)), zvalues, linewidth=3, label=\"z[t=0]\")\n",
    "plot!(fig, collect(1:length(zvalues)), zvalues_final, linewidth=3, label=\"z[t=0.1]\")"
   ]
  },
  {
   "cell_type": "markdown",
   "id": "21d6a0d8",
   "metadata": {},
   "source": [
    "## More advanced topics\n",
    "- The algorithm side\n",
    "    - Symmetries? $U(1)$ symmetric, $SU(2)$ symmetric matrix product states algorithms\n",
    "    - MPO based time evolution algorithms\n",
    "        - The $W^1$, $W^2$ algorithm [Time-evolving a matrix product state with long-ranged interactions](https://journals.aps.org/prb/abstract/10.1103/PhysRevB.91.165112)\n",
    "        - Time dependent variational principle (TDVP) algorithm [Unifying time evolution and optimization with matrix product states](https://journals.aps.org/prb/abstract/10.1103/PhysRevB.94.165116)\n",
    "    - **Infinite MPS** algorithms\n",
    "        - Infinite variational MPS algorithm\n",
    "        - Infinite TEBD algorithm\n",
    "    - Generalization to two-dimensional system. Two-dimensional finite size and infinite size projected entangled pair states (PEPS) algorithm\n",
    "    - Other tensor network states algorithms including tree tensor network, MERA...\n",
    "- The application side\n",
    "    - Application to Markovian or Lindblad open quantum systems (This generalization is fairly straightforward)\n",
    "        - compute the long-time steady state, similar to the ground state of unitary system\n",
    "        - Time evolution of open quantum system\n",
    "    - Application to non-Markovian open quantum systems by directly evolving the system plus the environment\n",
    "    - Applications in quantum information and quantum computing\n",
    "    - A new framework for machine learning\n",
    "    - A data structure for high-dimensional probability distribution\n",
    "    - ..."
   ]
  },
  {
   "cell_type": "markdown",
   "id": "88926511",
   "metadata": {},
   "source": [
    "A **warning**: Julia uses column-major array while python uses row-major array. Keep in mind: If you are using Julia, try not to use the two functions **reshape and kron at the same time**. Note that the function contract can be used as a substitution for kron. If you have to use these two functions in your code, just use one of them. You can use them together unless you really know what you are doing."
   ]
  }
 ],
 "metadata": {
  "kernelspec": {
   "display_name": "Julia 1.6.1",
   "language": "julia",
   "name": "julia-1.6"
  },
  "language_info": {
   "file_extension": ".jl",
   "mimetype": "application/julia",
   "name": "julia",
   "version": "1.6.1"
  }
 },
 "nbformat": 4,
 "nbformat_minor": 5
}
