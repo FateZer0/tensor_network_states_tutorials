{
 "cells": [
  {
   "cell_type": "markdown",
   "id": "437245c2",
   "metadata": {},
   "source": [
    "# Tutorial on Tensor Network States Algorithms\n",
    "1. Review of numerical methods to solve quantum manybody systems\n",
    "2. Brief introduction on tensor network states algorithms\n",
    "3. Implementation of variational matrix product states algorithm from scratch\n",
    "4. Implementation of time-evolving block decimation (TEBD) algorithm from scratch\n",
    "5. More advanced topics"
   ]
  },
  {
   "cell_type": "markdown",
   "id": "dd212b77",
   "metadata": {},
   "source": [
    "## Part 1: Review of numerical methods to solve large-scale quantum manybody systems"
   ]
  },
  {
   "cell_type": "markdown",
   "id": "fcb54952",
   "metadata": {},
   "source": [
    "### An extremely important quantum manybody system: the motion of interacting electrons in solids\n",
    "- Model from __first principle__ $\\hat{H} = \\sum_{i} \\left( -\\frac{\\hbar^2}{2m} \\right)\\nabla_i^2 + \\frac{1}{2}\\sum_{i, j} \\frac{e^2}{\\vert r_i - r_j\\vert } - \\sum_{i, l} \\frac{Z e^2}{\\vert r_i - R_l\\vert } $\n",
    "- Strongly corrected lattice models\n",
    "    - Hubbard model\n",
    "    - Anderson impurity model\n",
    "    - Kondo model\n",
    "    - Heisenberg spin chain\n",
    "    - ..."
   ]
  },
  {
   "cell_type": "markdown",
   "id": "3bf92673",
   "metadata": {},
   "source": [
    "### An overview of existing numerical methods\n",
    "- Weakly correlated quantum manybody systems\n",
    "    - Density functional theory (DFT), suitable for __nearly free__ electrons  \n",
    "- Strongly correlated quantum manybody systems\n",
    "    - 2D and above\n",
    "        - Mean field theory (can not get dynamical information)\n",
    "        - Monte Carlo algorithm (suffer from sign problem)\n",
    "        - Infinite projected entangled pair states (iPEPS, tensor network states in 2D)\n",
    "        - Dynamical mean field theory (DMFT) \n",
    "    - 1D\n",
    "        - Matrix product states (MPS, tensor network states in 1D)\n",
    "        - Infinite matrix product states (for infinite system)"
   ]
  },
  {
   "cell_type": "markdown",
   "id": "93552e36",
   "metadata": {},
   "source": [
    "### Additional notes on numerical methods for strongly correlated quantum manybody systems\n",
    "- MPS is usually the **algorithm of choice** for strongly correlated quantum manybody system in 1D\n",
    "- Strongly correlated quantum manybody system beyond 2D are generally __very difficult__ to solve, currently DMFT, iPEPS and Monte Carlo (if there is no sign problem) are the most popular algorithms\n",
    "- The performance of DMFT is strongly dependent on an efficient impurity solver, which is often implemented using either Monte Carlo or MPS algorithm."
   ]
  },
  {
   "cell_type": "markdown",
   "id": "f067b9bd",
   "metadata": {},
   "source": [
    "## Part 2: Brief introduction on tensor network states algorithms"
   ]
  },
  {
   "cell_type": "markdown",
   "id": "2904279c",
   "metadata": {},
   "source": [
    "### History of TNS algorithms\n",
    "- K. G. Wilson __numerical renormalization group__ theory for solving Kondo model (1961)\n",
    "- Steve White invented __Density Matrix Renormalization Group__ method, with two versions for both finite and infinite systems. The __finite version__ has achieved great success very soon for many one-dimensional systems (PRL, 69, 19, 1992 and PRB 48, 14, 1993)\n",
    "- D. Vidal et.al introduced the __Matrix Product States__ representation of quantum many-body states (MPS is equivalent to DMRG in 1D, but allows more elegant coding as well as easier generalization to high dimensions) (PRL, 91, 147902, 2003)\n",
    "- Infinite MPS, Variational uniform MPS, Tree Tensor Network, MERA, PEPS, iPEPS..."
   ]
  },
  {
   "cell_type": "markdown",
   "id": "c0985926",
   "metadata": {},
   "source": [
    "## Part 3: Implementation of variational matrix product states algorithm from scratch"
   ]
  },
  {
   "cell_type": "markdown",
   "id": "410ad8bf",
   "metadata": {},
   "source": [
    "### Main knowledge required from linear algebra:\n",
    "1. Tensor contract (Einstein summation)\n",
    "2. Singular value decomposition $svd(A) = U * S * V$\n",
    "3. (Sparse) eigenvalue decomposition $A x = x \\lambda$"
   ]
  },
  {
   "cell_type": "code",
   "execution_count": 1,
   "id": "ed5fc340",
   "metadata": {},
   "outputs": [],
   "source": [
    "using LinearAlgebra\n",
    "using TensorOperations # used for tensor contrac"
   ]
  },
  {
   "cell_type": "code",
   "execution_count": 2,
   "id": "564462de",
   "metadata": {},
   "outputs": [
    {
     "data": {
      "text/plain": [
       "(4, 2, 7)"
      ]
     },
     "execution_count": 2,
     "metadata": {},
     "output_type": "execute_result"
    }
   ],
   "source": [
    "a = randn(3,4,5)\n",
    "b = randn(2,3,5,7)\n",
    "\n",
    "@tensor r[y, u, w] := a[x, y, z] * b[u, x, z, w]\n",
    "\n",
    "size(r)"
   ]
  },
  {
   "cell_type": "code",
   "execution_count": 3,
   "id": "6c11141f",
   "metadata": {},
   "outputs": [
    {
     "name": "stdout",
     "output_type": "stream",
     "text": [
      "u size = (3, 3), s size = (3,), v size = (4, 3)\n",
      "true\n"
     ]
    }
   ],
   "source": [
    "a = rand(3, 4)\n",
    "u, s, v = svd(a)\n",
    "println(\"u size = $(size(u)), s size = $(size(s)), v size = $(size(v))\")\n",
    "println(isapprox(u * Diagonal(s) * v', a))"
   ]
  },
  {
   "cell_type": "markdown",
   "id": "f03b6a79",
   "metadata": {},
   "source": [
    "The svd convention for v maybe different from other language!!!, I prefer to use the following convention."
   ]
  },
  {
   "cell_type": "code",
   "execution_count": 4,
   "id": "79fe8df2",
   "metadata": {},
   "outputs": [
    {
     "data": {
      "text/plain": [
       "mysvd (generic function with 1 method)"
      ]
     },
     "execution_count": 4,
     "metadata": {},
     "output_type": "execute_result"
    }
   ],
   "source": [
    "function mysvd(a)\n",
    "    u, s, v = svd(a)\n",
    "    return u, s, v'\n",
    "end"
   ]
  },
  {
   "cell_type": "code",
   "execution_count": 5,
   "id": "23072dc3",
   "metadata": {},
   "outputs": [
    {
     "name": "stdout",
     "output_type": "stream",
     "text": [
      "true\n"
     ]
    }
   ],
   "source": [
    "a = randn(4, 4)\n",
    "a = a + a'\n",
    "\n",
    "lambdas, x = eigen(Symmetric(a))\n",
    "\n",
    "println(isapprox(a * x, x * Diagonal(lambdas)))"
   ]
  },
  {
   "cell_type": "markdown",
   "id": "ce51dad7",
   "metadata": {},
   "source": [
    "#### Sparse eigensolver"
   ]
  },
  {
   "cell_type": "code",
   "execution_count": 6,
   "id": "381a52a2",
   "metadata": {},
   "outputs": [],
   "source": [
    "using KrylovKit"
   ]
  },
  {
   "cell_type": "code",
   "execution_count": 7,
   "id": "e814eb1b",
   "metadata": {},
   "outputs": [
    {
     "name": "stdout",
     "output_type": "stream",
     "text": [
      "number of converged eigenpairs is 3, the lowest eigenvalues are [-7.748975742539207, -7.348962924303873, -7.098982862647104]\n"
     ]
    }
   ],
   "source": [
    "a = rand(100, 100)\n",
    "a = a + a'\n",
    "\n",
    "lambdas, x, info = eigsolve(a, randn(size(a, 1)), 2, :SR, ishermitian=true)\n",
    "println(\"number of converged eigenpairs is $(info.converged), the lowest eigenvalues are $(lambdas)\")"
   ]
  },
  {
   "cell_type": "markdown",
   "id": "767fa3e7",
   "metadata": {},
   "source": [
    "### A. Matrix product states representation of quantum state"
   ]
  },
  {
   "cell_type": "markdown",
   "id": "f62bdf1e",
   "metadata": {},
   "source": [
    "MPS is a chain of three-dimensional tensors, written as ${\\rm MPS} = \\sum_{a_1, a_2, \\dots, a_L}M^{\\sigma_1}_{a_1, a_{2}} M^{\\sigma_2}_{a_2, a_3} \\dots M^{\\sigma_L}_{a_L, a_{L+1}}$, denoted as ${\\rm MPS} =$ <img src=\"mps.jpeg\" width=\"600\" height=\"200\" /> \n",
    "\n",
    "with each tensor represented as\n",
    "$M^{\\sigma_l}_{a_l, a_{l+1}}$ = <img src=\"mpstensor.png\" width=\"200\" height=\"200\" />. We will use <span style=\"color:red\">$\\sigma_l$</span> to represent the __<span style=\"color:red\">physical</span>__ indices, and $a_l$ for the __auxiliary__ indices. The maximum size of the auxiliary indices $a_l$ is refered to as the __bond dimension__, writte as $D$."
   ]
  },
  {
   "cell_type": "markdown",
   "id": "267993a2",
   "metadata": {},
   "source": [
    "#### Why MPS is useful?\n",
    "\n",
    "- An $n$-qubit quantum state does not have to be stored in the standard way as an $n$-dimensional tensor\n",
    "- MPS can efficiently (polynomial) represent a class of quantum states with __a finite amount of entanglement__"
   ]
  },
  {
   "cell_type": "markdown",
   "id": "d9c9f452",
   "metadata": {},
   "source": [
    "#### Examples of MPS\n",
    "An elegant way to write down an MPS analytically - write each 3-dimensional tensor as a matrix, with entry to be a vector\n",
    "- Product state with no entanglement, for example for $\\vert 00\\dots 0 \\rangle = [\\vert 0\\rangle]\\times[\\vert 0\\rangle] \\dots \\times[\\vert 0\\rangle] $ with $D=1$\n",
    "- GHZ state $\\vert 00\\dots 0 \\rangle + \\vert 11 \\dots 1 \\rangle = \\left[\\begin{array}{cc} \\vert 0\\rangle & \\vert 1\\rangle \\end{array}\\right] \\times \\left[\\begin{array}{cc} \\vert 0\\rangle & 0 \\\\ 0 & \\vert 1\\rangle \\end{array}\\right] \\dots \\times \\left[\\begin{array}{cc} \\vert 0\\rangle \\\\ \\vert 1\\rangle \\end{array}\\right] $ with $D=2$\n",
    "\n",
    "Only $D^2L$ complex numbers needs to be stored for an $L$-qubit MPS!"
   ]
  },
  {
   "cell_type": "markdown",
   "id": "d911cf90",
   "metadata": {},
   "source": [
    "MPS representation is not unique, several __Canonical form__ of MPS are often used\n",
    "- MPS is said to be __left-canonical__ if each tensor $M^{\\sigma_l}_{a_l, a_{l+1}}$ satisfied $\\sum_{\\sigma_l, a_l}M^{\\sigma_l}_{a_l, a_{l+1}} {\\rm conj}(M^{\\sigma_l}_{a_l, a'_{l+1}}) = I_{a_{l+1}, a'_{l+1}}$. In this case we often write ${\\rm MPS} = \\sum_{a_1, a_2, \\dots, a_L}A^{\\sigma_1}_{a_1, a_{2}} A^{\\sigma_2}_{a_2, a_3} \\dots A^{\\sigma_L}_{a_L, a_{L+1}}$\n",
    "- MPS is said to be __right-canonical__ if each tensor $M^{\\sigma_l}_{a_l, a_{l+1}}$ satisfied $\\sum_{\\sigma_l, a_{l+1}}M^{\\sigma_l}_{a_l, a_{l+1}} {\\rm conj}(M^{\\sigma_l}_{a'_l, a_{l+1}}) = I_{a_{l}, a'_{l}}$. In this case we often write ${\\rm MPS} = \\sum_{a_1, a_2, \\dots, a_L}B^{\\sigma_1}_{a_1, a_{2}} B^{\\sigma_2}_{a_2, a_3} \\dots B^{\\sigma_L}_{a_L, a_{L+1}}$\n",
    "- MPS is said to be __mixed-canonical on site l__ if ${\\rm MPS} = \\sum_{a_1, a_2, \\dots, a_L}A^{\\sigma_1}_{a_1, a_{2}} \\dots A^{\\sigma_{l-1}}_{a_{l-1}, a_l} M^{\\sigma_{l}}_{a_{l}, a_{l+1}} B^{\\sigma_{l+1}}_{a_{l+1}, a_{l+2}}  \\dots B^{\\sigma_L}_{a_L, a_{L+1}}$\n",
    "\n",
    "For reasons that will become clear later, for variational MPS algorithm mixed-canonical is used, while for TEBD algorithm either left-canonical or right-canonical form is used."
   ]
  },
  {
   "cell_type": "markdown",
   "id": "f2dc1d43",
   "metadata": {},
   "source": [
    "#### In practice the MPS is random generated, which can be done as"
   ]
  },
  {
   "cell_type": "code",
   "execution_count": 8,
   "id": "61fd3fed",
   "metadata": {},
   "outputs": [
    {
     "name": "stdout",
     "output_type": "stream",
     "text": [
      "size of mps tensor on site 1 is (1, 2, 2)\n",
      "size of mps tensor on site 2 is (2, 2, 2)\n",
      "size of mps tensor on site 3 is (2, 2, 2)\n",
      "size of mps tensor on site 4 is (2, 2, 1)\n"
     ]
    }
   ],
   "source": [
    "function generate_random_mps(::Type{T}, L::Int, d::Int, D::Int) where {T <: Number}\n",
    "    (L >= 2) || error(\"number of sites must be larger than 1\")\n",
    "    mps = Vector{Array{T, 3}}(undef, L)\n",
    "    mps[1] = randn(T, 1, d, D)\n",
    "    mps[L] = randn(T, D, d, 1)\n",
    "    for i in 2:L-1\n",
    "        mps[i] = randn(T, D, d, D) / D\n",
    "    end\n",
    "    return mps\n",
    "end\n",
    "\n",
    "mps = generate_random_mps(ComplexF64, 4, 2, 2)\n",
    "for (site, item) in enumerate(mps)\n",
    "    println(\"size of mps tensor on site $site is $(size(item))\")\n",
    "end"
   ]
  },
  {
   "cell_type": "markdown",
   "id": "237c2717",
   "metadata": {},
   "source": [
    "#### An important operation on MPS is to bring an arbitrary form of MPS into a canonical form "
   ]
  },
  {
   "cell_type": "markdown",
   "id": "f38e2242",
   "metadata": {},
   "source": [
    "Prepare a single 3-dimensional tensor on a single site into canonical form"
   ]
  },
  {
   "cell_type": "code",
   "execution_count": 9,
   "id": "e7c79255",
   "metadata": {},
   "outputs": [
    {
     "name": "stdout",
     "output_type": "stream",
     "text": [
      "prepare left, U size = (4, 2, 5), S size = (5,), V size = (5, 5), U is left canonical? true\n",
      "prepare right, U size = (4, 4), S size = (4,), V size = (4, 2, 5), V is right canonical? true\n"
     ]
    }
   ],
   "source": [
    "using LinearAlgebra\n",
    "using TensorOperations\n",
    "\n",
    "function prepare_left(Mj::AbstractArray{<:Number, 3})\n",
    "    a_j, sigma_j, a_j_1 = size(Mj)\n",
    "    U, S, V = mysvd(reshape(Mj, a_j * sigma_j, a_j_1))\n",
    "    return reshape(U, a_j, sigma_j, length(S)), S, V\n",
    "end\n",
    "\n",
    "function is_left_canonical(Mj::AbstractArray{<:Number, 3})\n",
    "    @tensor r[c, d] := conj(Mj[a, b, c]) * Mj[a, b, d]\n",
    "    return isapprox(r, I)\n",
    "end \n",
    "\n",
    "function prepare_right(Mj::AbstractArray{<:Number, 3})\n",
    "    a_j, sigma_j, a_j_1 = size(Mj)\n",
    "    U, S, V = mysvd(reshape(Mj, a_j, sigma_j * a_j_1))\n",
    "    return U, S, reshape(V, length(S), sigma_j, a_j_1)\n",
    "end\n",
    "\n",
    "function is_right_canonical(Mj::AbstractArray{<:Number, 3})\n",
    "    @tensor r[a, b] := conj(Mj[a, c, d]) * Mj[b, c, d]\n",
    "    return isapprox(r, I)\n",
    "end\n",
    "\n",
    "mj = randn(ComplexF64, 4, 2, 5)\n",
    "mj_new, s, v = prepare_left(mj)\n",
    "println(\"prepare left, U size = $(size(mj_new)), S size = $(size(s)), V size = $(size(v)), U is left canonical? $(is_left_canonical(mj_new))\")\n",
    "\n",
    "u, s, mj_new = prepare_right(mj)\n",
    "println(\"prepare right, U size = $(size(u)), S size = $(size(s)), V size = $(size(mj_new)), V is right canonical? $(is_right_canonical(mj_new))\")"
   ]
  },
  {
   "cell_type": "markdown",
   "id": "02c2db4c",
   "metadata": {},
   "source": [
    "#### Prepare an MPS into left-canonical form"
   ]
  },
  {
   "cell_type": "code",
   "execution_count": 10,
   "id": "8ceeb41e",
   "metadata": {},
   "outputs": [
    {
     "data": {
      "text/plain": [
       "true"
      ]
     },
     "execution_count": 10,
     "metadata": {},
     "output_type": "execute_result"
    }
   ],
   "source": [
    "function prepare_left!(mps::Vector{<:AbstractArray{T, 3}}) where {T <: Number}\n",
    "    isempty(mps) && error(\"input mps is empty.\")\n",
    "    L = length(mps)\n",
    "    svectors = Vector{real(T)}[]\n",
    "    for i in 1:L\n",
    "        mps[i], s, v = prepare_left(mps[i])\n",
    "        if i != L\n",
    "            v = Diagonal(s) * v\n",
    "            @tensor mpsj[a, c, d] := v[a, b] * mps[i+1][b, c, d]\n",
    "            mps[i+1] = mpsj\n",
    "            push!(svectors, s)\n",
    "        end\n",
    "    end\n",
    "    return svectors\n",
    "end\n",
    "\n",
    "function is_left_canonical(mps::Vector{<:AbstractArray{T, 3}}) where {T <: Number}\n",
    "    for i in 1:length(mps)\n",
    "        is_left_canonical(mps[i]) || return false\n",
    "    end\n",
    "    return true\n",
    "end\n",
    "\n",
    "\n",
    "mps = generate_random_mps(ComplexF64, 4, 2, 3)\n",
    "svectors = prepare_left!(mps)\n",
    "\n",
    "is_left_canonical(mps)"
   ]
  },
  {
   "cell_type": "markdown",
   "id": "b9fce3e4",
   "metadata": {},
   "source": [
    "#### Prepare an MPS into right-canonical form"
   ]
  },
  {
   "cell_type": "code",
   "execution_count": 11,
   "id": "49d9e5fd",
   "metadata": {},
   "outputs": [
    {
     "data": {
      "text/plain": [
       "true"
      ]
     },
     "execution_count": 11,
     "metadata": {},
     "output_type": "execute_result"
    }
   ],
   "source": [
    "function prepare_right!(mps::Vector{<:AbstractArray{T, 3}}) where {T <: Number}\n",
    "    isempty(mps) && error(\"input mps is empty.\")\n",
    "    L = length(mps)\n",
    "    svectors = Vector{real(T)}[]\n",
    "    for i in L:-1:1\n",
    "        u, s, mps[i] = prepare_right(mps[i])\n",
    "        if i != 1\n",
    "            u = u * Diagonal(s)\n",
    "            @tensor mpsj[a, b, d] := mps[i-1][a, b, c] * u[c, d]\n",
    "            mps[i-1] = mpsj\n",
    "            push!(svectors, s)\n",
    "        end\n",
    "    end\n",
    "    return reverse(svectors)\n",
    "end\n",
    "\n",
    "function is_right_canonical(mps::Vector{<:AbstractArray{T, 3}}) where {T <: Number}\n",
    "    for i in length(mps):-1:1\n",
    "        is_right_canonical(mps[i]) || return false\n",
    "    end\n",
    "    return true\n",
    "end\n",
    "\n",
    "\n",
    "mps = generate_random_mps(ComplexF64, 4, 2, 3)\n",
    "svectors = prepare_right!(mps)\n",
    "\n",
    "is_right_canonical(mps)"
   ]
  },
  {
   "cell_type": "markdown",
   "id": "f27495be",
   "metadata": {},
   "source": [
    "Mixed-canonical form does not required to be particularly prepared, it is usually satisfied within the algorithm"
   ]
  },
  {
   "cell_type": "markdown",
   "id": "128e2ebc",
   "metadata": {},
   "source": [
    "### B. Matrix product operator representation of Hamiltonian"
   ]
  },
  {
   "cell_type": "markdown",
   "id": "895e8f96",
   "metadata": {},
   "source": [
    "MPO is stored as a chain of 4-dimensional tensors, written as ${\\rm MPO} = \\sum_{b_1, \\dots b_{L+1}}W_{b_1, b_2}^{\\sigma_1, \\sigma_1'} W_{b_2, b_3}^{\\sigma_2, \\sigma_2'} \\dots W_{b_L, b_{L+1}}^{\\sigma_L, \\sigma_L'}$, denoted as ${\\rm MPO} =$ <img src=\"mpo.jpeg\" width=\"600\" height=\"200\" />\n",
    "\n",
    "with each tensor represented $W_{b_l, b_{l+1}}^{\\sigma_l, \\sigma_l'} =$<img src=\"mpotensor.png\" width=\"200\" height=\"200\" />\n",
    "The maximum size of the auxiliary indices $b_l$ is refered to as the __bond dimension__ of MPO, often writte as $D_w$."
   ]
  },
  {
   "cell_type": "markdown",
   "id": "3756f5b7",
   "metadata": {},
   "source": [
    "#### Why MPO is useful\n",
    "- MPO is only developed in recent 10 years, while MPS has been developed for close to 20 years\n",
    "- MPO is not necessary for many problems, but is very elegant for coding"
   ]
  },
  {
   "cell_type": "markdown",
   "id": "414663c8",
   "metadata": {},
   "source": [
    "#### Examples of MPO\n",
    "An elegant way to write down an MPS analytically - write each 4-dimensional tensor as a matrix, with entry to be a matrix\n",
    "- Product MPO, for example for $\\hat{\\sigma}^x \\otimes \\hat{\\sigma}^x \\otimes \\hat{\\sigma}^x = [\\hat{\\sigma}^x]\\times[\\hat{\\sigma}^x] \\dots \\times[\\hat{\\sigma}^x] $ with $D_w=1$\n",
    "- $\\hat{\\sigma}^x \\otimes \\hat{\\sigma}^x \\otimes \\dots \\hat{\\sigma}^x + \\hat{\\sigma}^y \\otimes \\hat{\\sigma}^y \\otimes \\dots \\hat{\\sigma}^y = \\left[\\begin{array}{cc} \\hat{\\sigma}^x & \\hat{\\sigma}^y \\end{array}\\right] \\times \\left[\\begin{array}{cc} \\hat{\\sigma}^x & 0 \\\\ 0 & \\hat{\\sigma}^y \\end{array}\\right] \\dots \\times \\left[\\begin{array}{cc} \\hat{\\sigma}^x \\\\ \\hat{\\sigma}^y \\end{array}\\right] $ with $D_w=2$\n",
    "\n",
    "MPO for nearest neighbour Hamiltonian:\n",
    "\n",
    "In this tutorial we will take the Heisenberg XXZ chain as our example Hamiltonian, which can be written as $\\hat{H}_{XXZ} = \\sum_{l=1}^{L-1}(J\\hat{\\sigma}^x_l \\hat{\\sigma}^x_{l+1} + J\\hat{\\sigma}^y_l \\hat{\\sigma}^y_{l+1} + \\Delta\\hat{\\sigma}^z_l \\hat{\\sigma}^z_{l+1} ) + h_z \\sum_{l=1}^L \\hat{\\sigma}^z_{l} $, thus we have \n",
    "\n",
    "${\\rm MPO}_{XXZ} = \\left[\\begin{array}{ccccc} 1 & \\hat{\\sigma}^x & \\hat{\\sigma}^y & \\hat{\\sigma}^z & h_z \\hat{\\sigma}^z \\end{array}\\right] \\times \\left[\\begin{array}{ccccc} 1 & \\hat{\\sigma}^x & \\hat{\\sigma}^y & \\hat{\\sigma}^z & h_z \\hat{\\sigma}^z  \\\\ 0 & 0 & 0 & 0 & J\\hat{\\sigma}^x \\\\ 0 & 0 & 0 & 0 & J\\hat{\\sigma}^y \\\\ 0 & 0 & 0 & 0 & \\Delta\\hat{\\sigma}^z \\\\ 0 & 0 & 0 & 0 & 1 \\end{array}\\right] \\dots \\times \\left[\\begin{array}{cc} h_z \\hat{\\sigma}^z \\\\ J\\hat{\\sigma}^x \\\\ J\\hat{\\sigma}^y \\\\ \\Delta\\hat{\\sigma}^z \\\\ 1 \\end{array}\\right]  $"
   ]
  },
  {
   "cell_type": "code",
   "execution_count": 12,
   "id": "3e04bce1",
   "metadata": {},
   "outputs": [
    {
     "name": "stdout",
     "output_type": "stream",
     "text": [
      "size of mpo tensor on site 1 is (2, 1, 5, 2)\n",
      "size of mpo tensor on site 2 is (2, 5, 5, 2)\n",
      "size of mpo tensor on site 3 is (2, 5, 5, 2)\n",
      "size of mpo tensor on site 4 is (2, 5, 1, 2)\n"
     ]
    }
   ],
   "source": [
    "function pauli_operators()\n",
    "    sigma_x = [0. 1; 1 0]\n",
    "    sigma_y = [0 -im; im 0]\n",
    "    sigma_z = [1. 0; 0 -1]\n",
    "    return sigma_x, sigma_y, sigma_z\n",
    "end\n",
    "\n",
    "function xxz_mpo(L::Int, J::Real, Delta::Real, hz::Real=0.)\n",
    "    (L >= 2) || error(\"number of sites must be larger than 2.\")\n",
    "    sigma_x, sigma_y, sigma_z = pauli_operators()\n",
    "    I2 = Matrix{ComplexF64}(I, 2, 2)\n",
    "    mpo = Vector{Array{ComplexF64, 4}}(undef, L)\n",
    "    mpoj = zeros(ComplexF64, 2, 1, 5, 2)\n",
    "    mpoj[:, 1, 1, :] = I2\n",
    "    mpoj[:, 1, 2, :] = sigma_x\n",
    "    mpoj[:, 1, 3, :] = sigma_y\n",
    "    mpoj[:, 1, 4, :] = sigma_z\n",
    "    mpoj[:, 1, 5, :] = hz .* sigma_z\n",
    "    mpo[1] = mpoj\n",
    "    for i in 2:L-1\n",
    "        mpoj = zeros(ComplexF64, 2,5,5,2)\n",
    "        mpoj[:,1,1,:] = I2\n",
    "        mpoj[:,1,2,:] = sigma_x\n",
    "        mpoj[:,1,3,:] = sigma_y\n",
    "        mpoj[:,1,4,:] = sigma_z\n",
    "        mpoj[:,1,5,:] = hz .* sigma_z\n",
    "        mpoj[:,2,5,:] = J .* sigma_x\n",
    "        mpoj[:,3,5,:] = J .* sigma_y\n",
    "        mpoj[:,4,5,:] = Delta .* sigma_z\n",
    "        mpoj[:,5,5,:] = I2\n",
    "        mpo[i] = mpoj\n",
    "    end\n",
    "    mpoj = zeros(ComplexF64, 2, 5, 1, 2)\n",
    "    mpoj[:, 1, 1, :] = hz .* sigma_z\n",
    "    mpoj[:, 2, 1, :] = J .* sigma_x\n",
    "    mpoj[:, 3, 1, :] = J .* sigma_y\n",
    "    mpoj[:, 4, 1, :] = Delta .* sigma_z\n",
    "    mpoj[:, 5, 1, :] = I2\n",
    "    mpo[L] = mpoj\n",
    "    return mpo\n",
    "end\n",
    "\n",
    "mpo = xxz_mpo(4, 1., 1.2)\n",
    "\n",
    "for (site, item) in enumerate(mpo)\n",
    "    println(\"size of mpo tensor on site $site is $(size(item))\")\n",
    "end"
   ]
  },
  {
   "cell_type": "markdown",
   "id": "8330ec79",
   "metadata": {},
   "source": [
    "### C. Variational MPS algorithm for ground state search"
   ]
  },
  {
   "cell_type": "markdown",
   "id": "0dbafaca",
   "metadata": {},
   "source": [
    "#### Problem definition and some theoretical derivations"
   ]
  },
  {
   "cell_type": "markdown",
   "id": "c179657e",
   "metadata": {},
   "source": [
    "$\\newcommand{\\Ket}[1]{\\lvert#1\\rangle}$\n",
    "$\\newcommand{\\Bra}[1]{\\langle#1\\rvert}$\n",
    "$\\newcommand{\\Braket}[2]{\\langle#1 \\vert #2\\rangle}$\n",
    "\n",
    "Given a Hamiltonian $H$, which can be represented as a rank $2N$ tensor with local dimension $d$, i.e., $H_{\\sigma_1\\sigma_2\\sigma_3...\\sigma_N}^{\\sigma'_1\\sigma'_2\\sigma'_3...\\sigma'_N}$\n",
    "![H_diagram](H_diagram.png)\n",
    "\n",
    "$$H\\Ket{\\phi_0} = E_0 \\Ket{\\phi_0},$$\n",
    "<table>\n",
    "<tr>\n",
    "<th> Notation </th>\n",
    "<th> Digram </th>\n",
    "</tr>\n",
    "<tr>\n",
    "<td>\n",
    "Tensor form\n",
    "</td>\n",
    "<td>\n",
    "\n",
    "<img src=\"H_eigenvector.png\" alt=\"H_eigenvector.png\"/>\n",
    "    \n",
    "\n",
    "</td>\n",
    "</tr>\n",
    "    \n",
    "<tr>\n",
    "<td>\n",
    "Matrix\n",
    "</td>\n",
    "<td>\n",
    "    \n",
    "two leg  * one leg = E_0 * one leg\n",
    "\n",
    "</td>\n",
    "</tr>\n",
    "    \n",
    "<tr>\n",
    "<td>\n",
    "MPS form\n",
    "</td>\n",
    "<td>\n",
    "    \n",
    "\n",
    "\n",
    "</td>\n",
    "</tr>    \n",
    "    \n",
    "</table>\n",
    "\n",
    "\n",
    "\n",
    "### Basic elements\n",
    "$$\\min_{\\Ket{\\psi}} \\frac{\\Bra{\\psi} H \\Ket{\\psi}}{\\Braket{\\psi}{\\psi}}\\Leftrightarrow  \\min\\left(\\Bra{\\psi} H \\Ket{\\psi} - \\lambda \\Braket{\\psi}{\\psi}\\right) $$\n",
    "where the $\\lambda$ is a Lagrangian multiplier to enforce normalization $\\Braket{\\psi}{\\psi}=1$\n",
    "\n",
    "<table>\n",
    "\n",
    "<tr>\n",
    "<td>\n",
    " $$\\min\\left(\\Bra{\\psi} H \\Ket{\\psi} - \\lambda \\Braket{\\psi}{\\psi}\\right) $$\n",
    "</td>\n",
    "<td>\n",
    "\n",
    "<img src=\"dmrg_core.png\" alt=\"dmrg_core.png\"/>\n",
    "\n",
    "\n",
    "</td>\n",
    "</tr>\n",
    "    \n",
    "</table>\n"
   ]
  },
  {
   "cell_type": "markdown",
   "id": "8cc04c58",
   "metadata": {},
   "source": [
    "<!-- We want to minimize the above network. This is however a multilinear problem as the state $\\psi$ are products of unknown $M^\\sigma$, for which no immediate efficient stragegy is known. A time-proven approach to the problem is the *alternating least square* method, which runs as follows:\n",
    "\n",
    "1. Start with a guess for the MPS $\\{M^{\\sigma_i}\\}$\n",
    "2. Pick a site $i$, $i\\le i \\le L$, and consider all matrices $M^{\\sigma_j}, j\\ne i$, fixed and retain only $M^{\\sigma_i}$ as variable. Now Eq. (56) is then quadratic in $M^{\\sigma_i}$ and the minization becomes a linear problem, leading to a new $M^{\\sigma^i}$ minimizing energy within the \"framework\" provided by the other matrices. \n",
    "3. Now pick another site as $i$, repeating step, until all sites have been visited often enough that $\\lambda$ does not decrease anymore. The resulting MPS is the vairationally best approximation to the ground state, as is $\\lambda$ to the ground state nergy.\n",
    "\n",
    "For carrying out the minimization step, we take the derivative\n",
    "$$\\frac{\\partial}{\\partial M^{\\sigma_i^*}} \\left(\\Bra{\\psi}H\\Ket{\\psi} - \\lambda \\Braket{\\psi}{\\psi}\\right) = 0$$\n",
    "![step2](dmrg_core2.png) -->\n",
    "\n",
    "<!-- $$\\begin{align}\\sum_{\\sigma^\\prime_ia^\\prime_{i-1}a^\\prime_i} H_{\\sigma_i a_{i-1} a_i,\\sigma^\\prime_i a^\\prime_{i-1} a^\\prime_i}M_{\\sigma^\\prime_i a^\\prime_{i-1} a^\\prime_i} &= \n",
    "\\sum_{\\sigma^\\prime_ia^\\prime_{i-1}a^\\prime_i} N_{a_{i-1}a_i,a^\\prime_{i-1}a^\\prime_i}\\delta_{\\sigma_i,\\sigma^\\prime_i} M_{\\sigma^\\prime_ia^\\prime_{i-1}a^\\prime_i} \\\\\n",
    "& = \\sum_{\\sigma^\\prime_ia^\\prime_{i-1}a^\\prime_i} N_{\\sigma_ia_{i-1}a_i,\\sigma^\\prime_i a^\\prime_{i-1}a^\\prime_i} M_{\\sigma^\\prime_ia^\\prime_{i-1}a^\\prime_i} \n",
    "\\end{align}$$\n",
    "and this is eventually a generalized eigenvalue problem \n",
    "$$H\\mathbf{m} = \\lambda N \\mathbf{m}$$\n",
    " -->\n",
    " \n",
    " The problem with this approach is that the variables (the matrix elements $M^\\sigma_{a,a^\\prime}$ appear in the form of products, making this a highly non-linear optimization problem. However, this can be done iteratively and this idea also drives variational MPS:\n",
    "- __while keeping the matrices on all sites but one （$l$) constant, consider only the matrix entries $M^\\sigma_{a_{l-1} a_l}$ on site $l$ as variables__. Then the variables appear only as quadratic form and it can be cast into a linear algebra problem.\n",
    "\n",
    "- This will lower the energy, and find a variationally better state, but of course not the optimal one. Now one continues to vary the matrix elements on another site for finding a state again lower in energy.\n",
    "\n",
    "\n",
    "<table>\n",
    "\n",
    "<tr>\n",
    "<td>\n",
    "$$\\langle\\psi \\mid \\psi\\rangle=\\sum_{\\sigma_{\\ell}} \\sum_{a_{\\ell-1} a_{\\ell}} \\sum_{a_{\\ell-1}^{\\prime} a_{\\ell}^{\\prime}} \\Psi_{a_{\\ell-1}, a_{\\ell-1}^{\\prime}}^{A} M_{a_{\\ell-1}, a_{\\ell}}^{\\sigma_{\\ell} *} M_{a_{\\ell-1}^{\\prime}, a_{\\ell}^{\\prime}}^{\\sigma_{\\ell}} \\Psi_{a_{\\ell}, a_{\\ell}^{\\prime}}^{B}$$\n",
    "\n",
    "$$\\begin{aligned}\n",
    "\\Psi_{a_{\\ell-1}, a_{\\ell-1}^{\\prime}}^{A} &=\\sum_{\\sigma_{1}, \\ldots, \\sigma_{\\ell-1}}\\left(M^{\\sigma_{\\ell-1} \\dagger} \\ldots M^{\\sigma_{1} \\dagger} M^{\\sigma_{1}} \\ldots M^{\\sigma_{\\ell-1}}\\right)_{a_{\\ell-1}, a_{\\ell-1}^{\\prime}} \\\\\n",
    "\\Psi_{a_{\\ell}, a_{\\ell}^{\\prime}}^{B} &=\\sum_{\\sigma_{\\ell+1}, \\ldots, \\sigma_{L}}\\left(M^{\\sigma_{\\ell+1}} \\ldots M^{\\sigma_{L}} M^{\\sigma_{L} \\dagger} \\ldots M^{\\sigma_{\\ell+1} \\dagger}\\right)_{a_{\\ell}^{\\prime}, a_{\\ell}} .\n",
    "\\end{aligned}$$\n",
    " \n",
    "</td>\n",
    "<td>\n",
    "    \n",
    " <img src=\"Eq204f.png\" alt=\"Eq204.png\"/> \n",
    "\n",
    "\n",
    "\n",
    "</td>\n",
    "</tr>\n",
    "\n",
    "<tr>\n",
    "<td>\n",
    "$$\\langle\\psi|\\hat{H}| \\psi\\rangle=\\sum_{\\sigma_{\\ell}, \\sigma_{\\ell}^{\\prime}} \\sum_{a_{\\ell-1}^{\\prime} a_{\\ell}^{\\prime}} \\sum_{a_{\\ell-1} a_{\\ell}} \\sum_{b_{\\ell-1}, b_{\\ell}} L_{b_{\\ell-1}}^{a_{\\ell-1}, a_{\\ell-1}^{\\prime}} W_{b_{\\ell-1}, b_{\\ell}}^{\\sigma_{\\ell}, \\sigma_{\\ell}^{\\prime}} R_{b_{\\ell}}^{a_{\\ell}, a_{\\ell}^{\\prime}} M_{a_{\\ell-1}, a_{\\ell}}^{\\sigma_{\\ell} *} M_{a_{\\ell-1}^{\\prime}, a_{\\ell}^{\\prime}}^{\\sigma_{\\ell}^{\\prime}}$$\n",
    "</td>\n",
    "<td>\n",
    "\n",
    "<img src=\"dmrg_exp.png\" alt=\"dmrg_exp.png\"/> \n",
    "\n",
    "\n",
    "</td>\n",
    "</tr>\n",
    "    \n",
    "</table>"
   ]
  },
  {
   "cell_type": "markdown",
   "id": "302cc59f",
   "metadata": {},
   "source": [
    "<table>\n",
    "\n",
    "<tr>\n",
    "<td>\n",
    "\n",
    "$$\\frac{\\partial}{\\partial M_{a_{\\ell-1}, a_{\\ell}}^{\\sigma_{t} *}}\\left(\\langle\\psi|\\hat{H}| \\psi\\rangle-\\lambda\\langle\\psi \\mid \\psi\\rangle\\right)$$\n",
    "\n",
    "\n",
    "</td>\n",
    "<td>\n",
    "\n",
    "<img src=\"Eq209f.png\" alt=\"Eq209f.png\"/> \n",
    "\n",
    "    \n",
    "</td>\n",
    "</tr>\n",
    "\n",
    "</table>\n",
    "\n",
    "\n",
    "<table>\n",
    "$$\\frac{\\partial}{\\partial M_{a_{\\ell-1}, a_{\\ell}}^{\\sigma_{t} *}} \\left[\\sum_{\\sigma_{\\ell}, \\sigma_{\\ell}^{\\prime}} \\sum_{a_{\\ell-1}^{\\prime} a_{\\ell}^{\\prime}} \\sum_{a_{\\ell-1} a_{\\ell}} \\sum_{b_{\\ell-1}, b_{\\ell}} L_{b_{\\ell-1}}^{a_{\\ell-1}, a_{\\ell-1}^{\\prime}} W_{b_{\\ell-1}, b_{\\ell}}^{\\sigma_{\\ell}, \\sigma_{\\ell}^{\\prime}} R_{b_{\\ell}}^{a_{\\ell}, a_{\\ell}^{\\prime}} M_{a_{\\ell-1}, a_{\\ell}}^{\\sigma_{\\ell} *} M_{a_{\\ell-1}^{\\prime}, a_{\\ell}^{\\prime}}^{\\sigma_{\\ell}^{\\prime}} - \\lambda \\left( \\sum_{\\sigma_{\\ell}} \\sum_{a_{\\ell-1} a_{\\ell}} \\sum_{a_{\\ell-1}^{\\prime} a_{\\ell}^{\\prime}} \\Psi_{a_{\\ell-1}, a_{\\ell-1}^{\\prime}}^{A} M_{a_{\\ell-1}, a_{\\ell}}^{\\sigma_{\\ell} *} M_{a_{\\ell-1}^{\\prime}, a_{\\ell}^{\\prime}}^{\\sigma_{\\ell}} \\Psi_{a_{\\ell}, a_{\\ell}^{\\prime}}^{B} \\right)\\right]$$\n",
    "$$\n",
    "\\sum_{\\sigma_{\\ell}^{\\prime}} \\sum_{a_{\\ell-1}^{\\prime} a_{\\ell}^{\\prime}} \\sum_{b_{\\ell-1}, b_{\\ell}} L_{b_{\\ell-1}}^{a_{\\ell-1}, a_{t-1}^{\\prime}} W_{b_{\\ell-1}, b_{\\ell}}^{\\sigma_{\\ell}, \\sigma_{\\ell}^{\\prime}} R_{b_{\\ell}}^{a_{t}, a_{\\ell}^{\\prime}} M_{a_{\\ell-1}^{\\prime}, a_{\\ell}^{\\prime}}^{\\sigma_{\\ell}^{\\prime}}-\\lambda \\sum_{a_{\\ell-1}^{\\prime} a_{\\ell}^{\\prime}} \\Psi_{a_{\\ell-1}, a_{\\ell-1}^{\\prime}}^{A} \\Psi_{a_{\\ell} a_{\\ell}^{\\prime}}^{B} M_{a_{\\ell-1}^{\\prime}, a_{\\ell}^{\\prime}}^{\\sigma_{\\ell}}=0\n",
    "$$\n",
    "    </table>"
   ]
  },
  {
   "cell_type": "markdown",
   "id": "22f8075f",
   "metadata": {},
   "source": [
    "Now the above equation is a simple __eigenvalue equation__ if we introduce matrices $H$ and $N$ by the following reshaping\n",
    "\n",
    "<table>\n",
    "\n",
    "<tr>\n",
    "<td>\n",
    "    \n",
    "$$H_{\\left(\\sigma_{\\ell} a_{\\ell-1} a_{\\ell}\\right),\\left(\\sigma_{\\ell}^{\\prime} a_{\\ell-1}^{\\prime} a_{\\ell}^{\\prime}\\right)}=\\sum_{b_{\\ell-1}, b_{\\ell}} L_{b_{\\ell-1}}^{a_{\\ell-1}, a_{\\ell-1}^{\\prime}} W_{b_{\\ell-1}, b_{\\ell}}^{\\sigma_{\\ell}, \\sigma_{\\ell}^{\\prime}} R_{b_{\\ell}}^{a_{\\ell}, a_{\\ell}^{\\prime}}$$\n",
    "    \n",
    "  $$\\quad N_{\\left(\\sigma_{\\ell} a_{\\ell-1} a_{\\ell}\\right),\\left(\\sigma_{\\ell}^{\\prime} a_{\\ell-1}^{\\prime} a_{\\ell}^{\\prime}\\right)}=\\Psi_{a_{\\ell-1}, a_{\\ell-1}^{\\prime}}^{A} \\Psi_{a_{\\ell}, a_{\\ell}^{\\prime}}^{B} \\delta_{\\sigma_{\\ell}, \\sigma_{\\ell}^{\\prime}}$$\n",
    "    \n",
    "$$v_{\\sigma_{\\ell} a_{\\ell-1} a_{\\ell}}=M_{a_{\\ell-1}, a_{\\ell}}^{\\sigma_{\\ell}}$$\n",
    "</td>\n",
    "<td>\n",
    "    \n",
    "\n",
    "    \n",
    "$$\\Longrightarrow H v-\\lambda N v=0$$\n",
    "\n",
    "</td>\n",
    "</tr>\n",
    "\n",
    "</table>\n",
    "\n",
    "<table>\n",
    "    <td>\n",
    "        $$H_{\\left(\\sigma_{\\ell} a_{\\ell-1} a_{\\ell}\\right),\\left(\\sigma_{\\ell}^{\\prime} a_{\\ell-1}^{\\prime} a_{\\ell}^{\\prime}\\right)}=\\sum_{b_{\\ell-1}, b_{\\ell}} L_{b_{\\ell-1}}^{a_{\\ell-1}, a_{\\ell-1}^{\\prime}} W_{b_{\\ell-1}, b_{\\ell}}^{\\sigma_{\\ell}, \\sigma_{\\ell}^{\\prime}} R_{b_{\\ell}}^{a_{\\ell}, a_{\\ell}^{\\prime}}$$\n",
    "  </td>\n",
    "      <td>\n",
    "<img src=\"Fig38.png\" alt=\"fig38\" style=\"width:300px;\"/>\n",
    "    </td>\n",
    "</table>"
   ]
  },
  {
   "cell_type": "markdown",
   "id": "0625a63b",
   "metadata": {},
   "source": [
    "### Remarks\n",
    "\n",
    "1. The problem is Hermitian; both $H$ and $N$ are Hermitian, as can be seen from the construc-tion and the Hermiticity of the MPO employed\n",
    "\n",
    "2. This is an optimization problem of $dD^2$, it could be large but we can used Lanczos or Jacobi-Davidson method for the lowest energy state.\n",
    "\n",
    "3. Condition number for $N$ becomes bad, it would create some numerical problems. However, this is not a problem if $\\Psi^{A}$ and $\\Psi^{B}$ are left and right canonical (namely MPS is mixed canonical). This means $N$ would just be an identity. (Recall the left normalized $I=\\sum_\\sigma A^{\\dagger\\sigma} A^\\sigma$)\n",
    "\n",
    "4. If the above is true, the generalized eigenvalue problem would be simplified as the standard one.\n",
    "\n",
    "<img src=\"Fig42.png\" alt=\"drawing\" style=\"width:500px;\"/>"
   ]
  },
  {
   "cell_type": "markdown",
   "id": "07eaa4b5",
   "metadata": {},
   "source": [
    "### the algorithm\n",
    "\n",
    "- Initialization: Start from some initial guess for $|\\psi\\rangle$, which is right-normalized, i.e. consists of $B$ -matrices only. Calculate the $R$ -expressions iteratively for all site positions $L-1$ through 1 iteratively.\n",
    "\n",
    "- Left sweep: Starting from site $\\ell=1$ through site $L-1,$ sweep through the lattice to the right as follows: solve the standard eigenproblem by an iterative eigensolver for $M^{\\sigma_{\\ell}}$, taking its current value as starting point. Once the solution is obtained, left-normalize $M^{\\sigma_{\\ell}}$ into $A^{\\sigma_{\\ell}}$ by SVD (or QR) to maintain the desired normalization structure. The remaining matrices of the SVD are multiplied to the $M^{\\sigma_{\\ell+1}}$ to the right, which will be the starting guess for the eigensolver for the next site. Build iteratively the $L$ expression by adding one more site. Move on by one site, $\\ell \\rightarrow \\ell+1,$ and repeat.\n",
    "\n",
    "- Right sweep: Starting from site $\\ell=L$ through site $2,$ sweep through the lattice to the left as follows: solve the standard eigenproblem by an iterative eigensolver for $M^{\\sigma_{\\ell}},$ taking its current value as starting point. Once the solution is obtained, right-normalize $M^{\\sigma_{\\ell}}$ into $B^{\\sigma_{t}}$ by SVD (or QR) to maintain the desired normalization structure. The remaining matrices of the SVD are multiplied to the $M^{\\sigma_{\\ell-1}}$ to the left, which will be the starting guess for the eigensolver for the next site. Build iteratively the $R$ expression by adding one more site. Move on by one site, $\\ell \\rightarrow \\ell-1,$ and repeat.\n",
    "\n",
    "- Convergence criterion: Repeat right and left sweeps, until convergence is achieved. Convergence is achieved if energy converges, but the best test is (using MPO) to consider $\\left\\langle\\psi\\left|\\hat{H}^{2}\\right| \\psi\\right\\rangle-(\\langle\\psi|\\hat{H}| \\psi\\rangle)^{2}$ to see whether an eigenstate has been reached; this expression should approach 0 as closely as possible.\n",
    "\n",
    "\\begin{array}{cl} \n",
    "& M_{0} B_{0} B_{0} B_{0} B_{0} B_{0} \\\\\n",
    "\\stackrel{\\text { diag }}{\\rightarrow} & M_{1} B_{0} B_{0} B_{0} B_{0} B_{0} \\stackrel{S V D}{\\rightarrow} A_{1} M_{0} B_{0} B_{0} B_{0} B_{0} \\\\\n",
    "\\stackrel{\\text { diag }}{\\rightarrow} & A_{1} M_{1} B_{0} B_{0} B_{0} B_{0} \\stackrel{S V D}{\\rightarrow} A_{1} A_{1} M_{0} B_{0} B_{0} B_{0} \\\\\n",
    "\\stackrel{\\text { diag }}{\\rightarrow} & A_{1} A_{1} M_{1} B_{0} B_{0} B_{0} \\stackrel{S V D}{\\rightarrow} A_{1} A_{1} A_{1} M_{0} B_{0} B_{0}\\\\\n",
    "\\stackrel{\\text { diag }}{\\rightarrow} & A_{1} A_{1} A_{1} A_{1} M_{1} B_{0} \\stackrel{S V D}{\\rightarrow} A_{1} A_{1} A_{1} A_{1} A_{1} M_{0} \\\\\n",
    "\\stackrel{\\text { diag }}{\\rightarrow} & A_{1} A_{1} A_{1} A_{1} A_{1} M_{1} \\stackrel{S V D}{\\rightarrow} A_{1} A_{1} A_{1} A_{1} M_{1} B_{1} \\\\\n",
    "\\stackrel{\\text { diag }}{\\rightarrow} & A_{1} A_{1} A_{1} A_{1} M_{2} B_{1} \\stackrel{S V D}{\\rightarrow} A_{1} A_{1} A_{1} M_{1} B_{2} B_{1} \\\\\n",
    "& \\ldots \\\\\n",
    "\\stackrel{\\text { diag }}{\\rightarrow} & A_{1} M_{2} B_{2} B_{2} B_{2} B_{1} \\stackrel{S V D}{\\rightarrow} M_{1} B_{2} B_{2} B_{2} B_{2} B_{1}\n",
    "\\end{array}"
   ]
  },
  {
   "cell_type": "markdown",
   "id": "e7b16293",
   "metadata": {},
   "source": [
    "<!-- #### Compute Hstorage\n",
    "\n",
    "Convention for each tensor of Hstorage <img src=\"hstoragetensor.png\" width=\"100\" height=\"100\" /> -->"
   ]
  },
  {
   "cell_type": "markdown",
   "id": "b44c7d33",
   "metadata": {},
   "source": [
    "<!-- Update Hstorage from left to right <img src=\"updatehstorage.png\" width=\"400\" height=\"400\" /> -->"
   ]
  },
  {
   "cell_type": "markdown",
   "id": "2bf93d4b",
   "metadata": {},
   "source": [
    "<!-- #### An important issue: iterative contruction of L and R.\n",
    "\n",
    "In actual applications, we will never carry out the fullnetwork contraction that stands behind them, because in thespirit of DMRG we are looking atblocks that are growing and shrinking in size site by site.  -->\n",
    "\n",
    "#### What are L and R tensors?\n",
    "\n",
    "<table>\n",
    "    <td>\n",
    "        $$H_{\\left(\\sigma_{\\ell} a_{\\ell-1} a_{\\ell}\\right),\\left(\\sigma_{\\ell}^{\\prime} a_{\\ell-1}^{\\prime} a_{\\ell}^{\\prime}\\right)}=\\sum_{b_{\\ell-1}, b_{\\ell}} L_{b_{\\ell-1}}^{a_{\\ell-1}, a_{\\ell-1}^{\\prime}} W_{b_{\\ell-1}, b_{\\ell}}^{\\sigma_{\\ell}, \\sigma_{\\ell}^{\\prime}} R_{b_{\\ell}}^{a_{\\ell}, a_{\\ell}^{\\prime}}$$\n",
    "  </td>\n",
    "      <td>\n",
    "<img src=\"Fig38.png\" alt=\"fig38\" style=\"width:300px;\"/>\n",
    "    </td>\n",
    "</table>\n",
    "\n",
    "$$\\begin{aligned}\n",
    "L_{b_{\\ell-1}}^{a_{\\ell-1}, a_{\\ell-1}^{\\prime}} &=\\sum_{\\left\\{a_{i}, b_{i}, a_{i}^{\\prime} ; i<\\ell-1\\right\\}}\\left(\\sum_{\\sigma_{1} \\sigma_{1}^{\\prime}} A_{1, a_{1}}^{\\sigma_{1} *} W_{1, b_{1}}^{\\sigma_{1}, \\sigma_{1}^{\\prime}} A_{1, a_{1}^{\\prime}}^{\\sigma_{1}^{\\prime}}\\right) \\ldots\\left(\\sum_{\\sigma_{\\ell-1} \\sigma_{\\ell-1}^{\\prime}} A_{a_{\\ell-2}, a_{\\ell-1}}^{\\sigma_{\\ell-1} *} W_{b_{\\ell-2}, b_{\\ell-1}}^{\\sigma_{\\ell-1}, \\sigma_{\\ell-1}^{\\prime}} A_{a_{\\ell-2}^{\\prime}, a_{\\ell-1}^{\\prime}}^{\\sigma_{\\ell-1}^{\\prime}}\\right) \\\\\n",
    "R_{b_{\\ell}}^{a_{\\ell}, a_{\\ell}^{\\prime}} &=\\sum_{\\left\\{a_{i}, b_{i}, a_{i}^{\\prime} ; i>\\ell\\right\\}}\\left(\\sum_{\\sigma_{\\ell+1} \\sigma_{\\ell+1}^{\\prime}} B_{a_{\\ell}, a_{\\ell+1}}^{\\sigma_{\\ell+1} *} W_{b_{\\ell}, b_{\\ell+1}}^{\\sigma_{\\ell+1}, \\sigma_{\\ell+1}^{\\prime}} B_{a_{\\ell}^{\\prime}, a_{\\ell+1}^{\\prime}}^{\\sigma_{\\ell+1}^{\\prime}}\\right) \\ldots\\left(\\sum_{\\sigma_{L} \\sigma_{L}^{\\prime}} B_{a_{L-1}, 1}^{\\sigma_{L^{\\prime}}} W_{b_{L-1}, 1}^{\\sigma_{L}, \\sigma_{L}^{\\prime}} B_{a_{L-1}^{\\prime}, 1}^{\\sigma_{L}^{\\prime}}\\right)\n",
    "\\end{aligned}$$\n",
    "\n",
    "#### How are they derived?\n",
    "$$\\begin{aligned}\n",
    "&\\left\\langle a_{\\ell-1} \\sigma_{\\ell} a_{\\ell}|\\hat{H}| a_{\\ell-1}^{\\prime} \\sigma_{\\ell}^{\\prime} a_{\\ell}^{\\prime}\\right\\rangle \\\\\n",
    "=& \\sum_{\\boldsymbol{\\sigma}} \\sum_{\\boldsymbol{\\sigma}^{\\prime}} W^{\\sigma_{1}, \\sigma_{1}^{\\prime}} \\ldots W^{\\sigma_{L}, \\sigma_{L}^{\\prime}}\\left\\langle a_{\\ell-1} \\sigma_{\\ell} a_{\\ell} \\mid \\boldsymbol{\\sigma}\\right\\rangle\\left\\langle\\boldsymbol{\\sigma}^{\\prime} \\mid a_{\\ell-1}^{\\prime} \\sigma_{\\ell}^{\\prime} a_{\\ell}^{\\prime}\\right\\rangle \\\\\n",
    "=& \\sum_{\\boldsymbol{\\sigma}_{*}} \\sum_{\\boldsymbol{\\sigma}^{\\prime} *} W^{\\sigma_{1}, \\sigma_{1}^{\\prime}} \\ldots W^{\\sigma_{\\ell}, \\sigma_{\\ell}^{\\prime}} \\ldots W^{\\sigma_{L}, \\sigma_{L}^{\\prime}} \\\\\n",
    "&\\left\\langle a_{\\ell-1} \\mid \\sigma_{1} \\ldots \\sigma_{\\ell-1}\\right\\rangle\\left\\langle a_{\\ell} \\mid \\sigma_{\\ell+1} \\ldots \\sigma_{L}\\right\\rangle\\left\\langle\\sigma_{1}^{\\prime} \\ldots \\sigma_{\\ell-1}^{\\prime} \\mid a_{\\ell-1}^{\\prime}\\right\\rangle\\left\\langle\\sigma_{\\ell+1}^{\\prime} \\ldots \\sigma_{L}^{\\prime} \\mid a_{\\ell}^{\\prime}\\right\\rangle \\\\\n",
    "=& \\sum_{\\boldsymbol{\\sigma}_{*}} \\sum_{\\boldsymbol{\\sigma}^{\\prime} *} W^{\\sigma_{1}, \\sigma_{1}^{\\prime}} \\ldots W^{\\sigma_{\\ell}, \\sigma_{\\ell}^{\\prime}} \\ldots W^{\\sigma_{L}, \\sigma_{L}^{\\prime}}\n",
    "\\end{aligned}$$\n",
    "\\begin{array}{l}\n",
    "\\left(A^{\\sigma_{1}} \\ldots A^{\\sigma_{\\ell-1}}\\right)_{1, a_{\\ell-1}}^{*}\\left(B^{\\sigma_{\\ell+1}} \\ldots B^{\\sigma_{L}}\\right)_{a_{\\ell}, 1}^{*}\\left(A^{\\sigma_{1}^{\\prime}} \\ldots A^{\\sigma_{\\ell-1}^{\\prime}}\\right)_{1, a_{\\ell-1}^{\\prime}}\\left(B^{\\sigma_{\\ell+1}^{\\prime}} \\ldots B^{\\sigma_{L}^{\\prime}}\\right)_{a_{\\ell}^{\\prime}}, 1 \\\\\n",
    "=\\sum_{\\left\\{a_{i}, b_{i}, a_{i}^{\\prime}\\right\\}}\\left(\\sum_{\\sigma_{1} \\sigma_{1}^{\\prime}} A_{1, a_{1}}^{\\sigma_{1} *} W_{1, b_{1}}^{\\sigma_{1}, \\sigma_{1}^{\\prime}} A_{1, a_{1}^{\\prime}}^{\\sigma_{1}^{\\prime}}\\right)\\left(\\sum_{\\sigma_{2} \\sigma_{2}^{\\prime}} A_{a_{1}, a_{2}}^{\\sigma_{2} *} W_{b_{1}, b_{2}}^{\\sigma_{2}, \\sigma_{2}^{\\prime}} A_{a_{1}^{\\prime}, a_{2}^{\\prime}}^{\\sigma_{2}^{\\prime}}\\right) \\ldots \\times W_{b_{\\ell-1}, b_{\\ell}}^{\\sigma_{\\ell}, \\sigma_{\\ell}^{\\prime}} \\times \\\\\n",
    "\\left.\\sum_{\\sigma_{\\ell+1} \\sigma_{\\ell+1}^{\\prime}} B_{a_{\\ell}, a_{\\ell+1}}^{\\sigma_{\\ell+1} *} W_{b_{\\ell}, b_{\\ell+1}}^{\\sigma_{\\ell+1}, \\sigma_{t+1}^{\\prime}} B_{a_{\\ell}^{\\prime}, a_{\\ell+1}^{\\prime}}^{\\sigma_{\\ell+1}^{\\prime}}\\right) \\ldots\\left(\\sum_{\\sigma_{L} \\sigma_{L}^{\\prime}} B_{a_{L-1}, 1}^{\\sigma_{L^{*}}} W_{b_{L-1}, 1}^{\\sigma_{L}, \\sigma_{L}^{\\prime}} B_{a_{L-1}^{\\prime}, 1}^{\\sigma_{L}^{\\prime}}\\right)\n",
    "\\end{array}\n"
   ]
  },
  {
   "cell_type": "markdown",
   "id": "190aecad",
   "metadata": {},
   "source": [
    "#### Iterative construction of L tensor\n",
    "<table>\n",
    "<td>\n",
    "    $$F_{a_{i}, b_{i}, a_{i}^{\\prime}}^{[i]}=\\sum_{\\sigma_{i}, \\sigma_{i}^{\\prime}, a_{i-1}, b_{i-1}, a_{i-1}^{\\prime}} W_{b_{i-1}, b_{i}}^{[i] \\sigma_{i} \\sigma_{i}^{\\prime}}\\left(A^{[i] \\sigma_{i} \\dagger}\\right)_{a_{i}, a_{i-1}} F_{a_{i-1}, b_{i-1}, a_{i-1}^{\\prime}}^{[i-1]} A_{a_{i-1}^{\\prime}, a_{i}^{\\prime}}^{[i] \\sigma_{i}^{\\prime}}$$\n",
    "    $$F_{a_{i}, b_{i}, a_{i}^{\\prime}}^{[i]}=\\sum_{\\sigma_{i}, a_{i-1}}\\left(A^{[i] \\sigma_{i} \\dagger}\\right)_{a_{i}, a_{i-1}}\\left(\\sum_{\\sigma_{i}^{\\prime}, b_{i-1}} W_{b_{i-1}, b_{i}}^{[i] \\sigma_{i} \\sigma_{i}^{\\prime}}\\left(\\sum_{a_{i-1}^{\\prime}} F_{a_{i-1}, b_{i-1}, a_{i-1}^{\\prime}}^{[i-1]} A_{a_{i-1}^{\\prime}, a_{i}^{\\prime}}^{[i] \\sigma_{i}^{\\prime}}\\right)\\right)$$\n",
    "</td>\n",
    "<td>\n",
    "      <img src=\"Fig39.png\" alt=\"fig39\" style=\"width:600px;\"/>\n",
    "    $$F^{[i-1]}\\Longrightarrow F^{[i]}$$\n",
    "    </td>\n",
    "</table>"
   ]
  },
  {
   "cell_type": "markdown",
   "id": "8f7192ff",
   "metadata": {},
   "source": [
    "#### The actual implementations"
   ]
  },
  {
   "cell_type": "code",
   "execution_count": 13,
   "id": "ef4f112c",
   "metadata": {},
   "outputs": [
    {
     "name": "stdout",
     "output_type": "stream",
     "text": [
      "size of Storage tensor on site 1 is (1, 1, 1)\n",
      "size of Storage tensor on site 2 is (2, 5, 2)\n",
      "size of Storage tensor on site 3 is (2, 5, 2)\n",
      "size of Storage tensor on site 4 is (2, 5, 2)\n",
      "size of Storage tensor on site 5 is (1, 1, 1)\n"
     ]
    }
   ],
   "source": [
    "function updateHleft(hold::AbstractArray{<:Number, 3}, mpoj::AbstractArray{<:Number, 4}, mpsj::AbstractArray{<:Number, 3})\n",
    "    @tensor h1[b,c,d,e] := conj(mpsj[a, b, c]) * hold[a, d, e]\n",
    "    @tensor h2[b,e,d,f] := h1[a,b,c,d] * mpoj[a,c,e,f]\n",
    "    @tensor hnew[a,b,e] := h2[a,b,c,d] * mpsj[c,d,e]\n",
    "    return hnew\n",
    "end\n",
    "\n",
    "function updateHright(hold::AbstractArray{<:Number, 3}, mpoj::AbstractArray{<:Number, 4}, mpsj::AbstractArray{<:Number, 3})\n",
    "    @tensor h1[a,b,d,e] := conj(mpsj[a, b, c]) * hold[c, d, e]\n",
    "    @tensor h2[a,e,f,d] := h1[a,b,c,d] * mpoj[b,e,c,f]\n",
    "    @tensor hnew[a,b,e] := h2[a,b,c,d] * mpsj[e,c,d]\n",
    "    return hnew\n",
    "end\n",
    "\n",
    "function initialize_Hstorage_right(mpo, mps)\n",
    "    (length(mpo) == length(mps)) || error(\"mpo mps size mismatch.\")\n",
    "    L = length(mpo)\n",
    "    hstorage = Vector{Any}(undef, L+1)\n",
    "    hstorage[L+1] = ones(1, 1, 1)\n",
    "    hstorage[1] = ones(1, 1, 1)\n",
    "    for i in L:-1:2\n",
    "        hstorage[i] = updateHright(hstorage[i+1], mpo[i], mps[i])\n",
    "    end\n",
    "    return [hstorage...]\n",
    "end\n",
    "\n",
    "mpo = xxz_mpo(4, 1., 1.1)\n",
    "mps = generate_random_mps(ComplexF64, 4, 2, 2)\n",
    "prepare_right!(mps)\n",
    "hstorage = initialize_Hstorage_right(mpo, mps)\n",
    "\n",
    "for (site, item) in enumerate(hstorage)\n",
    "    println(\"size of Storage tensor on site $site is $(size(item))\")\n",
    "end\n"
   ]
  },
  {
   "cell_type": "markdown",
   "id": "2a95bbc9",
   "metadata": {},
   "source": [
    "#### Local effective Hamiltonian"
   ]
  },
  {
   "cell_type": "code",
   "execution_count": 14,
   "id": "3d387372",
   "metadata": {},
   "outputs": [],
   "source": [
    "struct EffectiveHamiltonian{T<:Number}\n",
    "    mpoj::Array{T, 4}\n",
    "    hleft::Array{T, 3}\n",
    "    hright::Array{T, 3}\n",
    "end\n",
    "\n",
    "function (op::EffectiveHamiltonian)(mpsj::AbstractArray{<:Number, 3})\n",
    "    mpoj = op.mpoj\n",
    "    hleft = op.hleft\n",
    "    hright = op.hright\n",
    "    @tensor h1[a, b, d, e] := hleft[a, b, c] * mpsj[c, d, e]\n",
    "    @tensor h2[a, e, f, d] := h1[a, b, c, d] * mpoj[e, b, f, c]\n",
    "    @tensor mpsj_new[a, b, e] := h2[a, b, c, d] * hright[e, c, d]\n",
    "    return mpsj_new\n",
    "end"
   ]
  },
  {
   "cell_type": "code",
   "execution_count": 15,
   "id": "5de90929",
   "metadata": {},
   "outputs": [
    {
     "data": {
      "text/plain": [
       "DMRG{ComplexF64}"
      ]
     },
     "execution_count": 15,
     "metadata": {},
     "output_type": "execute_result"
    }
   ],
   "source": [
    "struct DMRG{T<:Number}\n",
    "    mpo::Vector{Array{T, 4}}\n",
    "    mps::Vector{Array{T, 3}}\n",
    "    hstorage::Vector{Array{T, 3}}\n",
    "end\n",
    "\n",
    "function DMRG(mpo::Vector{<:AbstractArray{<:Number, 4}}, mps::Vector{<:AbstractArray{<:Number, 3}})\n",
    "    (length(mpo) == length(mps)) || error(\"mpo mps size mismatch.\")\n",
    "    isempty(mpo) && error(\"mpo is empty.\")\n",
    "    hstorage = initialize_Hstorage_right(mpo, mps)\n",
    "    return DMRG(mpo, mps, hstorage)\n",
    "end\n",
    "\n",
    "function DMRG(mpo::Vector{<:AbstractArray{<:Number, 4}}; D::Int)\n",
    "    isempty(mpo) && error(\"mpo is empty.\")\n",
    "    L = length(mpo)\n",
    "    d = size(mpo[1], 1)\n",
    "    mps = generate_random_mps(ComplexF64, L, d, D)\n",
    "    prepare_right!(mps)\n",
    "    return DMRG(mpo, mps)\n",
    "end\n",
    "\n",
    "num_sites(m::DMRG) = length(m.mpo)\n",
    "\n",
    "\n",
    "\n",
    "mpo = xxz_mpo(4, 1., 1.1)\n",
    "mps = generate_random_mps(ComplexF64, 4, 2, 2)\n",
    "prepare_right!(mps)\n",
    "\n",
    "dmrg = DMRG(mpo, mps)\n",
    "typeof(dmrg)"
   ]
  },
  {
   "cell_type": "markdown",
   "id": "50f3e70c",
   "metadata": {},
   "source": [
    "#### Sweep from left to right"
   ]
  },
  {
   "cell_type": "code",
   "execution_count": 16,
   "id": "2ee74442",
   "metadata": {},
   "outputs": [
    {
     "name": "stdout",
     "output_type": "stream",
     "text": [
      "we are sweep from left to right on site 1...\n",
      "lowest eigenvalue at site 1 is -1.9860092061495247\n",
      "we are sweep from left to right on site 2...\n",
      "lowest eigenvalue at site 2 is -3.864210289271288\n",
      "we are sweep from left to right on site 3...\n",
      "lowest eigenvalue at site 3 is -6.265606432542091\n"
     ]
    },
    {
     "data": {
      "text/plain": [
       "3-element Vector{Float64}:\n",
       " -1.9860092061495247\n",
       " -3.864210289271288\n",
       " -6.265606432542091"
      ]
     },
     "execution_count": 16,
     "metadata": {},
     "output_type": "execute_result"
    }
   ],
   "source": [
    "function sweep_left_to_right!(m::DMRG)\n",
    "#     here mps is right canonical \n",
    "    Eigenvalues = Float64[]\n",
    "    mpo = m.mpo\n",
    "    mps = m.mps\n",
    "    hstorage = m.hstorage\n",
    "    for site in 1:num_sites(m)-1\n",
    "        println(\"we are sweep from left to right on site $site...\")\n",
    "#         build effective Hamiltonian on site i\n",
    "        hleft = hstorage[site]\n",
    "        hright = hstorage[site+1]\n",
    "        heff = EffectiveHamiltonian(mpo[site], hleft, hright)\n",
    "        evals, evecs = eigsolve(heff, mps[site], 1, :SR, ishermitian=true)\n",
    "        mpsj = evecs[1]\n",
    "        evals_j = evals[1]\n",
    "        push!(Eigenvalues, evals_j)\n",
    "        println(\"lowest eigenvalue at site $site is $(evals_j)\")\n",
    "#         update mps[site] with the current optimal and then prepare it into left-canonical form\n",
    "        mps[site], s, v = prepare_left(mpsj)\n",
    "        v = Diagonal(s) * v\n",
    "        @tensor mpsj1[a, c, d] := v[a, b] * mps[site+1][b, c, d]\n",
    "        mps[site+1] = mpsj1\n",
    "        \n",
    "#         update Hstorage from left\n",
    "        hstorage[site+1] = updateHleft(hstorage[site], mpo[site], mps[site])\n",
    "    end\n",
    "    return Eigenvalues\n",
    "end\n",
    "\n",
    "sweep_left_to_right!(dmrg)"
   ]
  },
  {
   "cell_type": "markdown",
   "id": "4f75323b",
   "metadata": {},
   "source": [
    "#### Sweep from right to left"
   ]
  },
  {
   "cell_type": "code",
   "execution_count": 17,
   "id": "3fc94d98",
   "metadata": {},
   "outputs": [
    {
     "name": "stdout",
     "output_type": "stream",
     "text": [
      "we are sweep from right to left on site 4...\n",
      "lowest eigenvalue at site 4 is -6.2656064325421035\n",
      "we are sweep from right to left on site 3...\n",
      "lowest eigenvalue at site 3 is -6.265606432542103\n",
      "we are sweep from right to left on site 2...\n",
      "lowest eigenvalue at site 2 is -6.343337103641838\n"
     ]
    },
    {
     "data": {
      "text/plain": [
       "3-element Vector{Float64}:\n",
       " -6.2656064325421035\n",
       " -6.265606432542103\n",
       " -6.343337103641838"
      ]
     },
     "execution_count": 17,
     "metadata": {},
     "output_type": "execute_result"
    }
   ],
   "source": [
    "function sweep_right_to_left!(m::DMRG)\n",
    "#     here mps is right canonical \n",
    "    Eigenvalues = Float64[]\n",
    "    mpo = m.mpo\n",
    "    mps = m.mps\n",
    "    hstorage = m.hstorage\n",
    "    for site in num_sites(m):-1:2\n",
    "        println(\"we are sweep from right to left on site $site...\")\n",
    "#         build effective Hamiltonian on site i\n",
    "        hleft = hstorage[site]\n",
    "        hright = hstorage[site+1]\n",
    "        heff = EffectiveHamiltonian(mpo[site], hleft, hright)\n",
    "        evals, evecs = eigsolve(heff, mps[site], 1, :SR, ishermitian=true)\n",
    "        mpsj = evecs[1]\n",
    "        evals_j = evals[1]\n",
    "        push!(Eigenvalues, evals_j)\n",
    "        println(\"lowest eigenvalue at site $site is $(evals_j)\")\n",
    "#         update mps[site] with the current optimal and then prepare it into right-canonical form\n",
    "        u, s, mps[site] = prepare_right(mpsj)\n",
    "        u = u * Diagonal(s) \n",
    "        @tensor mpsj1[a, b, d] := mps[site-1][a, b, c] * u[c, d]\n",
    "        mps[site-1] = mpsj1\n",
    "        \n",
    "#         update Hstorage from left\n",
    "        hstorage[site] = updateHright(hstorage[site+1], mpo[site], mps[site])\n",
    "    end\n",
    "    return Eigenvalues\n",
    "end\n",
    "\n",
    "sweep_right_to_left!(dmrg)"
   ]
  },
  {
   "cell_type": "markdown",
   "id": "b401a0d7",
   "metadata": {},
   "source": [
    "#### Make a full sweep"
   ]
  },
  {
   "cell_type": "code",
   "execution_count": 18,
   "id": "f2a5cc83",
   "metadata": {},
   "outputs": [
    {
     "name": "stdout",
     "output_type": "stream",
     "text": [
      "we are sweep from left to right on site 1...\n",
      "lowest eigenvalue at site 1 is -6.343337103641842\n",
      "we are sweep from left to right on site 2...\n",
      "lowest eigenvalue at site 2 is -6.343337103641847\n",
      "we are sweep from left to right on site 3...\n",
      "lowest eigenvalue at site 3 is -6.362088866390625\n",
      "\n",
      "\n",
      "we are sweep from right to left on site 4...\n",
      "lowest eigenvalue at site 4 is -6.362088866390627\n",
      "we are sweep from right to left on site 3...\n",
      "lowest eigenvalue at site 3 is -6.362088866390629\n",
      "we are sweep from right to left on site 2...\n",
      "lowest eigenvalue at site 2 is -6.367688089716982\n"
     ]
    },
    {
     "data": {
      "text/plain": [
       "6-element Vector{Float64}:\n",
       " -6.343337103641842\n",
       " -6.343337103641847\n",
       " -6.362088866390625\n",
       " -6.362088866390627\n",
       " -6.362088866390629\n",
       " -6.367688089716982"
      ]
     },
     "execution_count": 18,
     "metadata": {},
     "output_type": "execute_result"
    }
   ],
   "source": [
    "sweep!(m::DMRG) = begin\n",
    "    v1 = sweep_left_to_right!(m)\n",
    "    println(\"\\n\")\n",
    "    v2 = sweep_right_to_left!(m)\n",
    "    return vcat(v1, v2)\n",
    "end\n",
    "\n",
    "sweep!(dmrg)"
   ]
  },
  {
   "cell_type": "code",
   "execution_count": 19,
   "id": "705f6dd2",
   "metadata": {},
   "outputs": [
    {
     "name": "stdout",
     "output_type": "stream",
     "text": [
      "we are at the 1-th sweep.\n",
      "we are sweep from left to right on site 1...\n",
      "lowest eigenvalue at site 1 is -6.367688089716985\n",
      "we are sweep from left to right on site 2...\n",
      "lowest eigenvalue at site 2 is -6.367688089716983\n",
      "we are sweep from left to right on site 3...\n",
      "lowest eigenvalue at site 3 is -6.369735817354192\n",
      "\n",
      "\n",
      "we are sweep from right to left on site 4...\n",
      "lowest eigenvalue at site 4 is -6.369735817354195\n",
      "we are sweep from right to left on site 3...\n",
      "lowest eigenvalue at site 3 is -6.369735817354194\n",
      "we are sweep from right to left on site 2...\n",
      "lowest eigenvalue at site 2 is -6.370736116741764\n",
      "we are at the 2-th sweep.\n",
      "we are sweep from left to right on site 1...\n",
      "lowest eigenvalue at site 1 is -6.370736116741769\n",
      "we are sweep from left to right on site 2...\n",
      "lowest eigenvalue at site 2 is -6.370736116741773\n",
      "we are sweep from left to right on site 3...\n",
      "lowest eigenvalue at site 3 is -6.3713921035181045\n",
      "\n",
      "\n",
      "we are sweep from right to left on site 4...\n",
      "lowest eigenvalue at site 4 is -6.371392103518106\n",
      "we are sweep from right to left on site 3...\n",
      "lowest eigenvalue at site 3 is -6.371392103518109\n",
      "we are sweep from right to left on site 2...\n",
      "lowest eigenvalue at site 2 is -6.371907594362226\n",
      "we are at the 3-th sweep.\n",
      "we are sweep from left to right on site 1...\n",
      "lowest eigenvalue at site 1 is -6.371907594362224\n",
      "we are sweep from left to right on site 2...\n",
      "lowest eigenvalue at site 2 is -6.371907594362225\n",
      "we are sweep from left to right on site 3...\n",
      "lowest eigenvalue at site 3 is -6.372343764657618\n",
      "\n",
      "\n",
      "we are sweep from right to left on site 4...\n",
      "lowest eigenvalue at site 4 is -6.372343764657615\n",
      "we are sweep from right to left on site 3...\n",
      "lowest eigenvalue at site 3 is -6.372343764657615\n",
      "we are sweep from right to left on site 2...\n",
      "lowest eigenvalue at site 2 is -6.3727209408732435\n",
      "we are at the 4-th sweep.\n",
      "we are sweep from left to right on site 1...\n",
      "lowest eigenvalue at site 1 is -6.372720940873248\n",
      "we are sweep from left to right on site 2...\n",
      "lowest eigenvalue at site 2 is -6.372720940873245\n",
      "we are sweep from left to right on site 3...\n",
      "lowest eigenvalue at site 3 is -6.373047951514804\n",
      "\n",
      "\n",
      "we are sweep from right to left on site 4...\n",
      "lowest eigenvalue at site 4 is -6.3730479515148035\n",
      "we are sweep from right to left on site 3...\n",
      "lowest eigenvalue at site 3 is -6.3730479515148035\n",
      "we are sweep from right to left on site 2...\n",
      "lowest eigenvalue at site 2 is -6.373330494969796\n",
      "we are at the 5-th sweep.\n",
      "we are sweep from left to right on site 1...\n",
      "lowest eigenvalue at site 1 is -6.373330494969798\n",
      "we are sweep from left to right on site 2...\n",
      "lowest eigenvalue at site 2 is -6.373330494969801\n",
      "we are sweep from left to right on site 3...\n",
      "lowest eigenvalue at site 3 is -6.373573416946504\n",
      "\n",
      "\n",
      "we are sweep from right to left on site 4...\n",
      "lowest eigenvalue at site 4 is -6.373573416946509\n",
      "we are sweep from right to left on site 3...\n",
      "lowest eigenvalue at site 3 is -6.373573416946508\n",
      "we are sweep from right to left on site 2...\n",
      "lowest eigenvalue at site 2 is -6.373781245785328\n",
      "we are at the 6-th sweep.\n",
      "we are sweep from left to right on site 1...\n",
      "lowest eigenvalue at site 1 is -6.373781245785327\n",
      "we are sweep from left to right on site 2...\n",
      "lowest eigenvalue at site 2 is -6.373781245785327\n",
      "we are sweep from left to right on site 3...\n",
      "lowest eigenvalue at site 3 is -6.373958255895363\n",
      "\n",
      "\n",
      "we are sweep from right to left on site 4...\n",
      "lowest eigenvalue at site 4 is -6.373958255895362\n",
      "we are sweep from right to left on site 3...\n",
      "lowest eigenvalue at site 3 is -6.373958255895365\n",
      "we are sweep from right to left on site 2...\n",
      "lowest eigenvalue at site 2 is -6.374108426474638\n",
      "we are at the 7-th sweep.\n",
      "we are sweep from left to right on site 1...\n",
      "lowest eigenvalue at site 1 is -6.374108426474638\n",
      "we are sweep from left to right on site 2...\n",
      "lowest eigenvalue at site 2 is -6.37410842647464\n",
      "we are sweep from left to right on site 3...\n",
      "lowest eigenvalue at site 3 is -6.37423539686899\n",
      "\n",
      "\n",
      "we are sweep from right to left on site 4...\n",
      "lowest eigenvalue at site 4 is -6.374235396868993\n",
      "we are sweep from right to left on site 3...\n",
      "lowest eigenvalue at site 3 is -6.374235396868989\n",
      "we are sweep from right to left on site 2...\n",
      "lowest eigenvalue at site 2 is -6.374342441808096\n",
      "we are at the 8-th sweep.\n",
      "we are sweep from left to right on site 1...\n",
      "lowest eigenvalue at site 1 is -6.3743424418080945\n",
      "we are sweep from left to right on site 2...\n",
      "lowest eigenvalue at site 2 is -6.374342441808092\n",
      "we are sweep from left to right on site 3...\n",
      "lowest eigenvalue at site 3 is -6.374432467386166\n",
      "\n",
      "\n",
      "we are sweep from right to left on site 4...\n",
      "lowest eigenvalue at site 4 is -6.374432467386172\n",
      "we are sweep from right to left on site 3...\n",
      "lowest eigenvalue at site 3 is -6.37443246738617\n",
      "we are sweep from right to left on site 2...\n",
      "lowest eigenvalue at site 2 is -6.374508023029943\n",
      "we are at the 9-th sweep.\n",
      "we are sweep from left to right on site 1...\n",
      "lowest eigenvalue at site 1 is -6.37450802302994\n",
      "we are sweep from left to right on site 2...\n",
      "lowest eigenvalue at site 2 is -6.374508023029941\n",
      "we are sweep from left to right on site 3...\n",
      "lowest eigenvalue at site 3 is -6.374571324106819\n",
      "\n",
      "\n",
      "we are sweep from right to left on site 4...\n",
      "lowest eigenvalue at site 4 is -6.374571324106818\n",
      "we are sweep from right to left on site 3...\n",
      "lowest eigenvalue at site 3 is -6.374571324106818\n",
      "we are sweep from right to left on site 2...\n",
      "lowest eigenvalue at site 2 is -6.374624280660363\n",
      "we are at the 10-th sweep.\n",
      "we are sweep from left to right on site 1...\n",
      "lowest eigenvalue at site 1 is -6.374624280660371\n",
      "we are sweep from left to right on site 2...\n",
      "lowest eigenvalue at site 2 is -6.37462428066037\n",
      "we are sweep from left to right on site 3...\n",
      "lowest eigenvalue at site 3 is -6.374668528870007\n",
      "\n",
      "\n",
      "we are sweep from right to left on site 4...\n",
      "lowest eigenvalue at site 4 is -6.374668528870013\n",
      "we are sweep from right to left on site 3...\n",
      "lowest eigenvalue at site 3 is -6.374668528870013\n",
      "we are sweep from right to left on site 2...\n",
      "lowest eigenvalue at site 2 is -6.374705462850541\n",
      "we are at the 11-th sweep.\n",
      "we are sweep from left to right on site 1...\n",
      "lowest eigenvalue at site 1 is -6.374705462850545\n",
      "we are sweep from left to right on site 2...\n",
      "lowest eigenvalue at site 2 is -6.374705462850545\n",
      "we are sweep from left to right on site 3...\n",
      "lowest eigenvalue at site 3 is -6.374736265232354\n",
      "\n",
      "\n",
      "we are sweep from right to left on site 4...\n",
      "lowest eigenvalue at site 4 is -6.374736265232356\n",
      "we are sweep from right to left on site 3...\n",
      "lowest eigenvalue at site 3 is -6.374736265232354\n",
      "we are sweep from right to left on site 2...\n",
      "lowest eigenvalue at site 2 is -6.37476193558804\n",
      "we are at the 12-th sweep.\n",
      "we are sweep from left to right on site 1...\n",
      "lowest eigenvalue at site 1 is -6.374761935588036\n",
      "we are sweep from left to right on site 2...\n",
      "lowest eigenvalue at site 2 is -6.374761935588039\n",
      "we are sweep from left to right on site 3...\n",
      "lowest eigenvalue at site 3 is -6.374783316220274\n",
      "\n",
      "\n",
      "we are sweep from right to left on site 4...\n",
      "lowest eigenvalue at site 4 is -6.374783316220279\n",
      "we are sweep from right to left on site 3...\n",
      "lowest eigenvalue at site 3 is -6.374783316220277\n",
      "we are sweep from right to left on site 2...\n",
      "lowest eigenvalue at site 2 is -6.374801115134382\n",
      "we are at the 13-th sweep.\n",
      "we are sweep from left to right on site 1...\n",
      "lowest eigenvalue at site 1 is -6.374801115134384\n",
      "we are sweep from left to right on site 2...\n",
      "lowest eigenvalue at site 2 is -6.374801115134379\n",
      "we are sweep from left to right on site 3...\n",
      "lowest eigenvalue at site 3 is -6.374815926220364\n",
      "\n",
      "\n",
      "we are sweep from right to left on site 4...\n",
      "lowest eigenvalue at site 4 is -6.37481592622037\n",
      "we are sweep from right to left on site 3...\n",
      "lowest eigenvalue at site 3 is -6.374815926220367\n",
      "we are sweep from right to left on site 2...\n",
      "lowest eigenvalue at site 2 is -6.374828246792603\n",
      "we are at the 14-th sweep.\n",
      "we are sweep from left to right on site 1...\n",
      "lowest eigenvalue at site 1 is -6.374828246792603\n",
      "we are sweep from left to right on site 2...\n",
      "lowest eigenvalue at site 2 is -6.374828246792601\n",
      "we are sweep from left to right on site 3...\n",
      "lowest eigenvalue at site 3 is -6.374838492703407\n",
      "\n",
      "\n",
      "we are sweep from right to left on site 4...\n",
      "lowest eigenvalue at site 4 is -6.374838492703414\n",
      "we are sweep from right to left on site 3...\n",
      "lowest eigenvalue at site 3 is -6.374838492703412\n",
      "we are sweep from right to left on site 2...\n",
      "lowest eigenvalue at site 2 is -6.374847011277753\n",
      "we are at the 15-th sweep.\n",
      "we are sweep from left to right on site 1...\n",
      "lowest eigenvalue at site 1 is -6.374847011277751\n",
      "we are sweep from left to right on site 2...\n",
      "lowest eigenvalue at site 2 is -6.374847011277754\n",
      "we are sweep from left to right on site 3...\n",
      "lowest eigenvalue at site 3 is -6.374854092322735\n",
      "\n",
      "\n",
      "we are sweep from right to left on site 4...\n",
      "lowest eigenvalue at site 4 is -6.374854092322744\n",
      "we are sweep from right to left on site 3...\n",
      "lowest eigenvalue at site 3 is -6.374854092322743\n",
      "we are sweep from right to left on site 2...\n",
      "lowest eigenvalue at site 2 is -6.374859977457135\n",
      "DMRG converged in 15 sweeps.\n"
     ]
    },
    {
     "data": {
      "text/plain": [
       "90-element Vector{Float64}:\n",
       " -6.367688089716985\n",
       " -6.367688089716983\n",
       " -6.369735817354192\n",
       " -6.369735817354195\n",
       " -6.369735817354194\n",
       " -6.370736116741764\n",
       " -6.370736116741769\n",
       " -6.370736116741773\n",
       " -6.3713921035181045\n",
       " -6.371392103518106\n",
       " -6.371392103518109\n",
       " -6.371907594362226\n",
       " -6.371907594362224\n",
       "  ⋮\n",
       " -6.374828246792603\n",
       " -6.374828246792601\n",
       " -6.374838492703407\n",
       " -6.374838492703414\n",
       " -6.374838492703412\n",
       " -6.374847011277753\n",
       " -6.374847011277751\n",
       " -6.374847011277754\n",
       " -6.374854092322735\n",
       " -6.374854092322744\n",
       " -6.374854092322743\n",
       " -6.374859977457135"
      ]
     },
     "execution_count": 19,
     "metadata": {},
     "output_type": "execute_result"
    }
   ],
   "source": [
    "using Statistics\n",
    "sweeps!(m::DMRG; maxitr::Int=20, rtol::Real=1.0e-6) = begin\n",
    "    Eigenvalues = Float64[]\n",
    "    for i in 1:maxitr\n",
    "        println(\"we are at the $i-th sweep.\")\n",
    "        v = sweep!(m)\n",
    "        append!(Eigenvalues, v)\n",
    "        if abs(std(v) / mean(v)) < rtol\n",
    "            println(\"DMRG converged in $i sweeps.\")\n",
    "            return Eigenvalues\n",
    "        end\n",
    "    end\n",
    "    println(\"DMRG fail to converge to relative precision $rtol within $maxitr iterations.\")\n",
    "    return Eigenvalues \n",
    "end \n",
    "\n",
    "Eigenvalues = sweeps!(dmrg, maxitr=20)"
   ]
  },
  {
   "cell_type": "markdown",
   "id": "70e6f229",
   "metadata": {},
   "source": [
    "#### Integrate into a single function"
   ]
  },
  {
   "cell_type": "code",
   "execution_count": 20,
   "id": "8a7230ea",
   "metadata": {},
   "outputs": [
    {
     "name": "stdout",
     "output_type": "stream",
     "text": [
      "we are at the 1-th sweep.\n",
      "we are sweep from left to right on site 1...\n",
      "lowest eigenvalue at site 1 is -5.195047782309685\n",
      "we are sweep from left to right on site 2...\n",
      "lowest eigenvalue at site 2 is -7.637722289113688\n",
      "we are sweep from left to right on site 3...\n",
      "lowest eigenvalue at site 3 is -9.070206950350393\n",
      "we are sweep from left to right on site 4...\n",
      "lowest eigenvalue at site 4 is -10.788296368186238\n",
      "we are sweep from left to right on site 5...\n",
      "lowest eigenvalue at site 5 is -12.81248529517977\n",
      "we are sweep from left to right on site 6...\n",
      "lowest eigenvalue at site 6 is -15.326952962997806\n",
      "we are sweep from left to right on site 7...\n",
      "lowest eigenvalue at site 7 is -16.77279981448326\n",
      "we are sweep from left to right on site 8...\n",
      "lowest eigenvalue at site 8 is -18.050914693786776\n",
      "we are sweep from left to right on site 9...\n",
      "lowest eigenvalue at site 9 is -18.050914693786783\n",
      "\n",
      "\n",
      "we are sweep from right to left on site 10...\n",
      "lowest eigenvalue at site 10 is -18.050914693786794\n",
      "we are sweep from right to left on site 9...\n",
      "lowest eigenvalue at site 9 is -18.050914693786783\n",
      "we are sweep from right to left on site 8...\n",
      "lowest eigenvalue at site 8 is -18.05091469378678\n",
      "we are sweep from right to left on site 7...\n",
      "lowest eigenvalue at site 7 is -18.067921864289982\n",
      "we are sweep from right to left on site 6...\n",
      "lowest eigenvalue at site 6 is -18.074973076251872\n",
      "we are sweep from right to left on site 5...\n",
      "lowest eigenvalue at site 5 is -18.15156583483367\n",
      "we are sweep from right to left on site 4...\n",
      "lowest eigenvalue at site 4 is -18.15970434803595\n",
      "we are sweep from right to left on site 3...\n",
      "lowest eigenvalue at site 3 is -18.168068342360993\n",
      "we are sweep from right to left on site 2...\n",
      "lowest eigenvalue at site 2 is -18.168068342360996\n",
      "we are at the 2-th sweep.\n",
      "we are sweep from left to right on site 1...\n",
      "lowest eigenvalue at site 1 is -18.168068342361\n",
      "we are sweep from left to right on site 2...\n",
      "lowest eigenvalue at site 2 is -18.168068342361003\n",
      "we are sweep from left to right on site 3...\n",
      "lowest eigenvalue at site 3 is -18.168068342360996\n",
      "we are sweep from left to right on site 4...\n",
      "lowest eigenvalue at site 4 is -18.16843020286617\n",
      "we are sweep from left to right on site 5...\n",
      "lowest eigenvalue at site 5 is -18.16847024863913\n",
      "we are sweep from left to right on site 6...\n",
      "lowest eigenvalue at site 6 is -18.171995576447586\n",
      "we are sweep from left to right on site 7...\n",
      "lowest eigenvalue at site 7 is -18.172254571575035\n",
      "we are sweep from left to right on site 8...\n",
      "lowest eigenvalue at site 8 is -18.173398431136917\n",
      "we are sweep from left to right on site 9...\n",
      "lowest eigenvalue at site 9 is -18.173398431136924\n",
      "\n",
      "\n",
      "we are sweep from right to left on site 10...\n",
      "lowest eigenvalue at site 10 is -18.17339843113693\n",
      "we are sweep from right to left on site 9...\n",
      "lowest eigenvalue at site 9 is -18.17339843113693\n",
      "we are sweep from right to left on site 8...\n",
      "lowest eigenvalue at site 8 is -18.17339843113694\n",
      "we are sweep from right to left on site 7...\n",
      "lowest eigenvalue at site 7 is -18.173703300567453\n",
      "we are sweep from right to left on site 6...\n",
      "lowest eigenvalue at site 6 is -18.173713947400962\n",
      "we are sweep from right to left on site 5...\n",
      "lowest eigenvalue at site 5 is -18.174080317609665\n",
      "we are sweep from right to left on site 4...\n",
      "lowest eigenvalue at site 4 is -18.174088068862496\n",
      "we are sweep from right to left on site 3...\n",
      "lowest eigenvalue at site 3 is -18.17416790797816\n",
      "we are sweep from right to left on site 2...\n",
      "lowest eigenvalue at site 2 is -18.174167907978163\n",
      "we are at the 3-th sweep.\n",
      "we are sweep from left to right on site 1...\n",
      "lowest eigenvalue at site 1 is -18.174167907978173\n",
      "we are sweep from left to right on site 2...\n",
      "lowest eigenvalue at site 2 is -18.174167907978177\n",
      "we are sweep from left to right on site 3...\n",
      "lowest eigenvalue at site 3 is -18.174167907978173\n",
      "we are sweep from left to right on site 4...\n",
      "lowest eigenvalue at site 4 is -18.17419477462354\n",
      "we are sweep from left to right on site 5...\n",
      "lowest eigenvalue at site 5 is -18.17419702454945\n",
      "we are sweep from left to right on site 6...\n",
      "lowest eigenvalue at site 6 is -18.174297336719526\n",
      "we are sweep from left to right on site 7...\n",
      "lowest eigenvalue at site 7 is -18.17430332095617\n",
      "we are sweep from left to right on site 8...\n",
      "lowest eigenvalue at site 8 is -18.174428834754394\n",
      "we are sweep from left to right on site 9...\n",
      "lowest eigenvalue at site 9 is -18.17442883475439\n",
      "\n",
      "\n",
      "we are sweep from right to left on site 10...\n",
      "lowest eigenvalue at site 10 is -18.17442883475439\n",
      "we are sweep from right to left on site 9...\n",
      "lowest eigenvalue at site 9 is -18.174428834754377\n",
      "we are sweep from right to left on site 8...\n",
      "lowest eigenvalue at site 8 is -18.174428834754387\n",
      "we are sweep from right to left on site 7...\n",
      "lowest eigenvalue at site 7 is -18.17447992353049\n",
      "we are sweep from right to left on site 6...\n",
      "lowest eigenvalue at site 6 is -18.174483558436734\n",
      "we are sweep from right to left on site 5...\n",
      "lowest eigenvalue at site 5 is -18.174528628408982\n",
      "we are sweep from right to left on site 4...\n",
      "lowest eigenvalue at site 4 is -18.17453022352057\n",
      "we are sweep from right to left on site 3...\n",
      "lowest eigenvalue at site 3 is -18.17454454973486\n",
      "we are sweep from right to left on site 2...\n",
      "lowest eigenvalue at site 2 is -18.17454454973487\n",
      "we are at the 4-th sweep.\n",
      "we are sweep from left to right on site 1...\n",
      "lowest eigenvalue at site 1 is -18.174544549734854\n",
      "we are sweep from left to right on site 2...\n",
      "lowest eigenvalue at site 2 is -18.17454454973485\n",
      "we are sweep from left to right on site 3...\n",
      "lowest eigenvalue at site 3 is -18.174544549734843\n",
      "we are sweep from left to right on site 4...\n",
      "lowest eigenvalue at site 4 is -18.174553912813614\n",
      "we are sweep from left to right on site 5...\n",
      "lowest eigenvalue at site 5 is -18.17455469717266\n",
      "we are sweep from left to right on site 6...\n",
      "lowest eigenvalue at site 6 is -18.174577342869043\n",
      "we are sweep from left to right on site 7...\n",
      "lowest eigenvalue at site 7 is -18.17457948263676\n",
      "we are sweep from left to right on site 8...\n",
      "lowest eigenvalue at site 8 is -18.174604215069802\n",
      "we are sweep from left to right on site 9...\n",
      "lowest eigenvalue at site 9 is -18.174604215069795\n",
      "\n",
      "\n",
      "we are sweep from right to left on site 10...\n",
      "lowest eigenvalue at site 10 is -18.1746042150698\n",
      "we are sweep from right to left on site 9...\n",
      "lowest eigenvalue at site 9 is -18.174604215069813\n",
      "we are sweep from right to left on site 8...\n",
      "lowest eigenvalue at site 8 is -18.174604215069824\n",
      "we are sweep from right to left on site 7...\n",
      "lowest eigenvalue at site 7 is -18.1746165183476\n",
      "we are sweep from right to left on site 6...\n",
      "lowest eigenvalue at site 6 is -18.174617593034167\n",
      "we are sweep from right to left on site 5...\n",
      "lowest eigenvalue at site 5 is -18.174631680321994\n",
      "we are sweep from right to left on site 4...\n",
      "lowest eigenvalue at site 4 is -18.17463218313853\n",
      "we are sweep from right to left on site 3...\n",
      "lowest eigenvalue at site 3 is -18.174639474076486\n",
      "we are sweep from right to left on site 2...\n",
      "lowest eigenvalue at site 2 is -18.174639474076503\n",
      "we are at the 5-th sweep.\n",
      "we are sweep from left to right on site 1...\n",
      "lowest eigenvalue at site 1 is -18.1746394740765\n",
      "we are sweep from left to right on site 2...\n",
      "lowest eigenvalue at site 2 is -18.174639474076503\n",
      "we are sweep from left to right on site 3...\n",
      "lowest eigenvalue at site 3 is -18.1746394740765\n",
      "we are sweep from left to right on site 4...\n",
      "lowest eigenvalue at site 4 is -18.1746456265214\n",
      "we are sweep from left to right on site 5...\n",
      "lowest eigenvalue at site 5 is -18.174645857682524\n",
      "we are sweep from left to right on site 6...\n",
      "lowest eigenvalue at site 6 is -18.174655441352407\n",
      "we are sweep from left to right on site 7...\n",
      "lowest eigenvalue at site 7 is -18.174656075766816\n",
      "we are sweep from left to right on site 8...\n",
      "lowest eigenvalue at site 8 is -18.174663279254453\n",
      "we are sweep from left to right on site 9...\n",
      "lowest eigenvalue at site 9 is -18.174663279254442\n",
      "\n",
      "\n",
      "we are sweep from right to left on site 10...\n",
      "lowest eigenvalue at site 10 is -18.174663279254435\n",
      "we are sweep from right to left on site 9...\n",
      "lowest eigenvalue at site 9 is -18.174663279254435\n",
      "we are sweep from right to left on site 8...\n",
      "lowest eigenvalue at site 8 is -18.174663279254432\n",
      "we are sweep from right to left on site 7...\n",
      "lowest eigenvalue at site 7 is -18.174667794693697\n",
      "we are sweep from right to left on site 6...\n",
      "lowest eigenvalue at site 6 is -18.174668086759223\n",
      "we are sweep from right to left on site 5...\n",
      "lowest eigenvalue at site 5 is -18.174675608465858\n",
      "we are sweep from right to left on site 4...\n",
      "lowest eigenvalue at site 4 is -18.174675764298424\n",
      "we are sweep from right to left on site 3...\n",
      "lowest eigenvalue at site 3 is -18.17468122443328\n",
      "we are sweep from right to left on site 2...\n",
      "lowest eigenvalue at site 2 is -18.174681224433286\n",
      "DMRG converged in 5 sweeps.\n",
      "ground state energy is -18.174681224433286\n"
     ]
    }
   ],
   "source": [
    "function ground_state(mpo::Vector{<:AbstractArray{<:Number, 4}}; D::Int, maxitr::Int=20, rtol::Real=1.0e-6)\n",
    "    dmrg = DMRG(mpo, D=D)\n",
    "    Eigenvalues = sweeps!(dmrg, maxitr = maxitr, rtol=rtol)\n",
    "    return Eigenvalues, dmrg.mps\n",
    "end\n",
    "\n",
    "mpo = xxz_mpo(10, 1., 1.2)\n",
    "bond_dimension = 5 \n",
    "Eigenvalues, state = ground_state(mpo, D=bond_dimension)\n",
    "println(\"ground state energy is $(Eigenvalues[end])\")"
   ]
  },
  {
   "cell_type": "code",
   "execution_count": 21,
   "id": "27f085bf",
   "metadata": {},
   "outputs": [
    {
     "name": "stdout",
     "output_type": "stream",
     "text": [
      "we are at the 1-th sweep.\n",
      "we are sweep from left to right on site 1...\n",
      "lowest eigenvalue at site 1 is -5.868836091135375\n",
      "we are sweep from left to right on site 2...\n",
      "lowest eigenvalue at site 2 is -8.740517807441911\n",
      "we are sweep from left to right on site 3...\n",
      "lowest eigenvalue at site 3 is -10.010475822767868\n",
      "we are sweep from left to right on site 4...\n",
      "lowest eigenvalue at site 4 is -12.981622578406059\n",
      "we are sweep from left to right on site 5...\n",
      "lowest eigenvalue at site 5 is -14.468546199283116\n",
      "we are sweep from left to right on site 6...\n",
      "lowest eigenvalue at site 6 is -17.197775173814666\n",
      "we are sweep from left to right on site 7...\n",
      "lowest eigenvalue at site 7 is -18.186896753482845\n",
      "we are sweep from left to right on site 8...\n",
      "lowest eigenvalue at site 8 is -18.186896753482838\n",
      "we are sweep from left to right on site 9...\n",
      "lowest eigenvalue at site 9 is -18.18689675348283\n",
      "\n",
      "\n",
      "we are sweep from right to left on site 10...\n",
      "lowest eigenvalue at site 10 is -18.186896753482838\n",
      "we are sweep from right to left on site 9...\n",
      "lowest eigenvalue at site 9 is -18.18689675348283\n",
      "we are sweep from right to left on site 8...\n",
      "lowest eigenvalue at site 8 is -18.186896753482838\n",
      "we are sweep from right to left on site 7...\n",
      "lowest eigenvalue at site 7 is -18.18689675348283\n",
      "we are sweep from right to left on site 6...\n",
      "lowest eigenvalue at site 6 is -18.187836880912684\n",
      "we are sweep from right to left on site 5...\n",
      "lowest eigenvalue at site 5 is -18.188157643447997\n",
      "we are sweep from right to left on site 4...\n",
      "lowest eigenvalue at site 4 is -18.193358130167553\n",
      "we are sweep from right to left on site 3...\n",
      "lowest eigenvalue at site 3 is -18.193358130167553\n",
      "we are sweep from right to left on site 2...\n",
      "lowest eigenvalue at site 2 is -18.19335813016756\n",
      "we are at the 2-th sweep.\n",
      "we are sweep from left to right on site 1...\n",
      "lowest eigenvalue at site 1 is -18.193358130167542\n",
      "we are sweep from left to right on site 2...\n",
      "lowest eigenvalue at site 2 is -18.193358130167553\n",
      "we are sweep from left to right on site 3...\n",
      "lowest eigenvalue at site 3 is -18.193358130167546\n",
      "we are sweep from left to right on site 4...\n",
      "lowest eigenvalue at site 4 is -18.193358130167546\n",
      "we are sweep from left to right on site 5...\n",
      "lowest eigenvalue at site 5 is -18.193365096428348\n",
      "we are sweep from left to right on site 6...\n",
      "lowest eigenvalue at site 6 is -18.193365921598087\n",
      "we are sweep from left to right on site 7...\n",
      "lowest eigenvalue at site 7 is -18.193368328962883\n",
      "we are sweep from left to right on site 8...\n",
      "lowest eigenvalue at site 8 is -18.193368328962872\n",
      "we are sweep from left to right on site 9...\n",
      "lowest eigenvalue at site 9 is -18.193368328962865\n",
      "\n",
      "\n",
      "we are sweep from right to left on site 10...\n",
      "lowest eigenvalue at site 10 is -18.193368328962862\n",
      "we are sweep from right to left on site 9...\n",
      "lowest eigenvalue at site 9 is -18.193368328962876\n",
      "we are sweep from right to left on site 8...\n",
      "lowest eigenvalue at site 8 is -18.19336832896289\n",
      "we are sweep from right to left on site 7...\n",
      "lowest eigenvalue at site 7 is -18.193368328962904\n",
      "we are sweep from right to left on site 6...\n",
      "lowest eigenvalue at site 6 is -18.19336859960263\n",
      "we are sweep from right to left on site 5...\n",
      "lowest eigenvalue at site 5 is -18.193368730135102\n",
      "we are sweep from right to left on site 4...\n",
      "lowest eigenvalue at site 4 is -18.193369366842614\n",
      "we are sweep from right to left on site 3...\n",
      "lowest eigenvalue at site 3 is -18.193369366842617\n",
      "we are sweep from right to left on site 2...\n",
      "lowest eigenvalue at site 2 is -18.193369366842617\n",
      "DMRG converged in 2 sweeps.\n"
     ]
    },
    {
     "data": {
      "text/plain": [
       "36-element Vector{Float64}:\n",
       "  -5.868836091135375\n",
       "  -8.740517807441911\n",
       " -10.010475822767868\n",
       " -12.981622578406059\n",
       " -14.468546199283116\n",
       " -17.197775173814666\n",
       " -18.186896753482845\n",
       " -18.186896753482838\n",
       " -18.18689675348283\n",
       " -18.186896753482838\n",
       " -18.18689675348283\n",
       " -18.186896753482838\n",
       " -18.18689675348283\n",
       "   ⋮\n",
       " -18.193368328962883\n",
       " -18.193368328962872\n",
       " -18.193368328962865\n",
       " -18.193368328962862\n",
       " -18.193368328962876\n",
       " -18.19336832896289\n",
       " -18.193368328962904\n",
       " -18.19336859960263\n",
       " -18.193368730135102\n",
       " -18.193369366842614\n",
       " -18.193369366842617\n",
       " -18.193369366842617"
      ]
     },
     "execution_count": 21,
     "metadata": {},
     "output_type": "execute_result"
    }
   ],
   "source": [
    "larger_bond_dimension = 10\n",
    "Eigenvalues2, state = ground_state(mpo, D=larger_bond_dimension)\n",
    "Eigenvalues2"
   ]
  },
  {
   "cell_type": "code",
   "execution_count": 22,
   "id": "f5c62d00",
   "metadata": {
    "scrolled": true
   },
   "outputs": [
    {
     "data": {
      "image/svg+xml": [
       "<?xml version=\"1.0\" encoding=\"utf-8\"?>\n",
       "<svg xmlns=\"http://www.w3.org/2000/svg\" xmlns:xlink=\"http://www.w3.org/1999/xlink\" width=\"600\" height=\"400\" viewBox=\"0 0 2400 1600\">\n",
       "<defs>\n",
       "  <clipPath id=\"clip190\">\n",
       "    <rect x=\"0\" y=\"0\" width=\"2400\" height=\"1600\"/>\n",
       "  </clipPath>\n",
       "</defs>\n",
       "<path clip-path=\"url(#clip190)\" d=\"\n",
       "M0 1600 L2400 1600 L2400 0 L0 0  Z\n",
       "  \" fill=\"#ffffff\" fill-rule=\"evenodd\" fill-opacity=\"1\"/>\n",
       "<defs>\n",
       "  <clipPath id=\"clip191\">\n",
       "    <rect x=\"480\" y=\"0\" width=\"1681\" height=\"1600\"/>\n",
       "  </clipPath>\n",
       "</defs>\n",
       "<path clip-path=\"url(#clip190)\" d=\"\n",
       "M179.353 1486.45 L2352.76 1486.45 L2352.76 47.2441 L179.353 47.2441  Z\n",
       "  \" fill=\"#ffffff\" fill-rule=\"evenodd\" fill-opacity=\"1\"/>\n",
       "<defs>\n",
       "  <clipPath id=\"clip192\">\n",
       "    <rect x=\"179\" y=\"47\" width=\"2174\" height=\"1440\"/>\n",
       "  </clipPath>\n",
       "</defs>\n",
       "<polyline clip-path=\"url(#clip192)\" style=\"stroke:#000000; stroke-linecap:butt; stroke-linejoin:round; stroke-width:2; stroke-opacity:0.1; fill:none\" points=\"\n",
       "  217.826,1486.45 217.826,47.2441 \n",
       "  \"/>\n",
       "<polyline clip-path=\"url(#clip192)\" style=\"stroke:#000000; stroke-linecap:butt; stroke-linejoin:round; stroke-width:2; stroke-opacity:0.1; fill:none\" points=\"\n",
       "  678.586,1486.45 678.586,47.2441 \n",
       "  \"/>\n",
       "<polyline clip-path=\"url(#clip192)\" style=\"stroke:#000000; stroke-linecap:butt; stroke-linejoin:round; stroke-width:2; stroke-opacity:0.1; fill:none\" points=\"\n",
       "  1139.35,1486.45 1139.35,47.2441 \n",
       "  \"/>\n",
       "<polyline clip-path=\"url(#clip192)\" style=\"stroke:#000000; stroke-linecap:butt; stroke-linejoin:round; stroke-width:2; stroke-opacity:0.1; fill:none\" points=\"\n",
       "  1600.11,1486.45 1600.11,47.2441 \n",
       "  \"/>\n",
       "<polyline clip-path=\"url(#clip192)\" style=\"stroke:#000000; stroke-linecap:butt; stroke-linejoin:round; stroke-width:2; stroke-opacity:0.1; fill:none\" points=\"\n",
       "  2060.86,1486.45 2060.86,47.2441 \n",
       "  \"/>\n",
       "<polyline clip-path=\"url(#clip190)\" style=\"stroke:#000000; stroke-linecap:butt; stroke-linejoin:round; stroke-width:4; stroke-opacity:1; fill:none\" points=\"\n",
       "  179.353,1486.45 2352.76,1486.45 \n",
       "  \"/>\n",
       "<polyline clip-path=\"url(#clip190)\" style=\"stroke:#000000; stroke-linecap:butt; stroke-linejoin:round; stroke-width:4; stroke-opacity:1; fill:none\" points=\"\n",
       "  217.826,1486.45 217.826,1469.18 \n",
       "  \"/>\n",
       "<polyline clip-path=\"url(#clip190)\" style=\"stroke:#000000; stroke-linecap:butt; stroke-linejoin:round; stroke-width:4; stroke-opacity:1; fill:none\" points=\"\n",
       "  678.586,1486.45 678.586,1469.18 \n",
       "  \"/>\n",
       "<polyline clip-path=\"url(#clip190)\" style=\"stroke:#000000; stroke-linecap:butt; stroke-linejoin:round; stroke-width:4; stroke-opacity:1; fill:none\" points=\"\n",
       "  1139.35,1486.45 1139.35,1469.18 \n",
       "  \"/>\n",
       "<polyline clip-path=\"url(#clip190)\" style=\"stroke:#000000; stroke-linecap:butt; stroke-linejoin:round; stroke-width:4; stroke-opacity:1; fill:none\" points=\"\n",
       "  1600.11,1486.45 1600.11,1469.18 \n",
       "  \"/>\n",
       "<polyline clip-path=\"url(#clip190)\" style=\"stroke:#000000; stroke-linecap:butt; stroke-linejoin:round; stroke-width:4; stroke-opacity:1; fill:none\" points=\"\n",
       "  2060.86,1486.45 2060.86,1469.18 \n",
       "  \"/>\n",
       "<path clip-path=\"url(#clip190)\" d=\"M217.826 1515.64 Q214.215 1515.64 212.386 1519.2 Q210.581 1522.75 210.581 1529.87 Q210.581 1536.98 212.386 1540.55 Q214.215 1544.09 217.826 1544.09 Q221.46 1544.09 223.266 1540.55 Q225.095 1536.98 225.095 1529.87 Q225.095 1522.75 223.266 1519.2 Q221.46 1515.64 217.826 1515.64 M217.826 1511.93 Q223.636 1511.93 226.692 1516.54 Q229.771 1521.12 229.771 1529.87 Q229.771 1538.6 226.692 1543.21 Q223.636 1547.79 217.826 1547.79 Q212.016 1547.79 208.937 1543.21 Q205.882 1538.6 205.882 1529.87 Q205.882 1521.12 208.937 1516.54 Q212.016 1511.93 217.826 1511.93 Z\" fill=\"#000000\" fill-rule=\"evenodd\" fill-opacity=\"1\" /><path clip-path=\"url(#clip190)\" d=\"M657.359 1543.18 L673.678 1543.18 L673.678 1547.12 L651.734 1547.12 L651.734 1543.18 Q654.396 1540.43 658.979 1535.8 Q663.586 1531.15 664.766 1529.81 Q667.012 1527.28 667.891 1525.55 Q668.794 1523.79 668.794 1522.1 Q668.794 1519.34 666.85 1517.61 Q664.928 1515.87 661.827 1515.87 Q659.628 1515.87 657.174 1516.63 Q654.743 1517.4 651.966 1518.95 L651.966 1514.23 Q654.79 1513.09 657.243 1512.51 Q659.697 1511.93 661.734 1511.93 Q667.104 1511.93 670.299 1514.62 Q673.493 1517.31 673.493 1521.8 Q673.493 1523.93 672.683 1525.85 Q671.896 1527.74 669.79 1530.34 Q669.211 1531.01 666.109 1534.23 Q663.007 1537.42 657.359 1543.18 Z\" fill=\"#000000\" fill-rule=\"evenodd\" fill-opacity=\"1\" /><path clip-path=\"url(#clip190)\" d=\"M693.493 1515.64 Q689.882 1515.64 688.053 1519.2 Q686.248 1522.75 686.248 1529.87 Q686.248 1536.98 688.053 1540.55 Q689.882 1544.09 693.493 1544.09 Q697.127 1544.09 698.933 1540.55 Q700.762 1536.98 700.762 1529.87 Q700.762 1522.75 698.933 1519.2 Q697.127 1515.64 693.493 1515.64 M693.493 1511.93 Q699.303 1511.93 702.359 1516.54 Q705.438 1521.12 705.438 1529.87 Q705.438 1538.6 702.359 1543.21 Q699.303 1547.79 693.493 1547.79 Q687.683 1547.79 684.604 1543.21 Q681.549 1538.6 681.549 1529.87 Q681.549 1521.12 684.604 1516.54 Q687.683 1511.93 693.493 1511.93 Z\" fill=\"#000000\" fill-rule=\"evenodd\" fill-opacity=\"1\" /><path clip-path=\"url(#clip190)\" d=\"M1127.52 1516.63 L1115.71 1535.08 L1127.52 1535.08 L1127.52 1516.63 M1126.29 1512.56 L1132.17 1512.56 L1132.17 1535.08 L1137.1 1535.08 L1137.1 1538.97 L1132.17 1538.97 L1132.17 1547.12 L1127.52 1547.12 L1127.52 1538.97 L1111.92 1538.97 L1111.92 1534.46 L1126.29 1512.56 Z\" fill=\"#000000\" fill-rule=\"evenodd\" fill-opacity=\"1\" /><path clip-path=\"url(#clip190)\" d=\"M1154.83 1515.64 Q1151.22 1515.64 1149.39 1519.2 Q1147.59 1522.75 1147.59 1529.87 Q1147.59 1536.98 1149.39 1540.55 Q1151.22 1544.09 1154.83 1544.09 Q1158.47 1544.09 1160.27 1540.55 Q1162.1 1536.98 1162.1 1529.87 Q1162.1 1522.75 1160.27 1519.2 Q1158.47 1515.64 1154.83 1515.64 M1154.83 1511.93 Q1160.64 1511.93 1163.7 1516.54 Q1166.78 1521.12 1166.78 1529.87 Q1166.78 1538.6 1163.7 1543.21 Q1160.64 1547.79 1154.83 1547.79 Q1149.02 1547.79 1145.94 1543.21 Q1142.89 1538.6 1142.89 1529.87 Q1142.89 1521.12 1145.94 1516.54 Q1149.02 1511.93 1154.83 1511.93 Z\" fill=\"#000000\" fill-rule=\"evenodd\" fill-opacity=\"1\" /><path clip-path=\"url(#clip190)\" d=\"M1585.51 1527.98 Q1582.36 1527.98 1580.51 1530.13 Q1578.68 1532.28 1578.68 1536.03 Q1578.68 1539.76 1580.51 1541.93 Q1582.36 1544.09 1585.51 1544.09 Q1588.66 1544.09 1590.49 1541.93 Q1592.34 1539.76 1592.34 1536.03 Q1592.34 1532.28 1590.49 1530.13 Q1588.66 1527.98 1585.51 1527.98 M1594.79 1513.32 L1594.79 1517.58 Q1593.03 1516.75 1591.23 1516.31 Q1589.45 1515.87 1587.69 1515.87 Q1583.06 1515.87 1580.6 1519 Q1578.17 1522.12 1577.83 1528.44 Q1579.19 1526.43 1581.25 1525.36 Q1583.31 1524.27 1585.79 1524.27 Q1591 1524.27 1594.01 1527.44 Q1597.04 1530.59 1597.04 1536.03 Q1597.04 1541.36 1593.89 1544.57 Q1590.74 1547.79 1585.51 1547.79 Q1579.51 1547.79 1576.34 1543.21 Q1573.17 1538.6 1573.17 1529.87 Q1573.17 1521.68 1577.06 1516.82 Q1580.95 1511.93 1587.5 1511.93 Q1589.26 1511.93 1591.04 1512.28 Q1592.85 1512.63 1594.79 1513.32 Z\" fill=\"#000000\" fill-rule=\"evenodd\" fill-opacity=\"1\" /><path clip-path=\"url(#clip190)\" d=\"M1615.09 1515.64 Q1611.48 1515.64 1609.65 1519.2 Q1607.85 1522.75 1607.85 1529.87 Q1607.85 1536.98 1609.65 1540.55 Q1611.48 1544.09 1615.09 1544.09 Q1618.73 1544.09 1620.53 1540.55 Q1622.36 1536.98 1622.36 1529.87 Q1622.36 1522.75 1620.53 1519.2 Q1618.73 1515.64 1615.09 1515.64 M1615.09 1511.93 Q1620.9 1511.93 1623.96 1516.54 Q1627.04 1521.12 1627.04 1529.87 Q1627.04 1538.6 1623.96 1543.21 Q1620.9 1547.79 1615.09 1547.79 Q1609.28 1547.79 1606.2 1543.21 Q1603.15 1538.6 1603.15 1529.87 Q1603.15 1521.12 1606.2 1516.54 Q1609.28 1511.93 1615.09 1511.93 Z\" fill=\"#000000\" fill-rule=\"evenodd\" fill-opacity=\"1\" /><path clip-path=\"url(#clip190)\" d=\"M2045.74 1530.71 Q2042.4 1530.71 2040.48 1532.49 Q2038.58 1534.27 2038.58 1537.4 Q2038.58 1540.52 2040.48 1542.31 Q2042.4 1544.09 2045.74 1544.09 Q2049.07 1544.09 2050.99 1542.31 Q2052.91 1540.5 2052.91 1537.4 Q2052.91 1534.27 2050.99 1532.49 Q2049.09 1530.71 2045.74 1530.71 M2041.06 1528.72 Q2038.05 1527.98 2036.36 1525.92 Q2034.7 1523.86 2034.7 1520.89 Q2034.7 1516.75 2037.64 1514.34 Q2040.6 1511.93 2045.74 1511.93 Q2050.9 1511.93 2053.84 1514.34 Q2056.78 1516.75 2056.78 1520.89 Q2056.78 1523.86 2055.09 1525.92 Q2053.42 1527.98 2050.44 1528.72 Q2053.82 1529.5 2055.69 1531.8 Q2057.59 1534.09 2057.59 1537.4 Q2057.59 1542.42 2054.51 1545.11 Q2051.46 1547.79 2045.74 1547.79 Q2040.02 1547.79 2036.94 1545.11 Q2033.89 1542.42 2033.89 1537.4 Q2033.89 1534.09 2035.78 1531.8 Q2037.68 1529.5 2041.06 1528.72 M2039.35 1521.33 Q2039.35 1524.02 2041.02 1525.52 Q2042.71 1527.03 2045.74 1527.03 Q2048.75 1527.03 2050.44 1525.52 Q2052.15 1524.02 2052.15 1521.33 Q2052.15 1518.65 2050.44 1517.14 Q2048.75 1515.64 2045.74 1515.64 Q2042.71 1515.64 2041.02 1517.14 Q2039.35 1518.65 2039.35 1521.33 Z\" fill=\"#000000\" fill-rule=\"evenodd\" fill-opacity=\"1\" /><path clip-path=\"url(#clip190)\" d=\"M2075.9 1515.64 Q2072.29 1515.64 2070.46 1519.2 Q2068.65 1522.75 2068.65 1529.87 Q2068.65 1536.98 2070.46 1540.55 Q2072.29 1544.09 2075.9 1544.09 Q2079.53 1544.09 2081.34 1540.55 Q2083.17 1536.98 2083.17 1529.87 Q2083.17 1522.75 2081.34 1519.2 Q2079.53 1515.64 2075.9 1515.64 M2075.9 1511.93 Q2081.71 1511.93 2084.77 1516.54 Q2087.84 1521.12 2087.84 1529.87 Q2087.84 1538.6 2084.77 1543.21 Q2081.71 1547.79 2075.9 1547.79 Q2070.09 1547.79 2067.01 1543.21 Q2063.95 1538.6 2063.95 1529.87 Q2063.95 1521.12 2067.01 1516.54 Q2070.09 1511.93 2075.9 1511.93 Z\" fill=\"#000000\" fill-rule=\"evenodd\" fill-opacity=\"1\" /><polyline clip-path=\"url(#clip192)\" style=\"stroke:#000000; stroke-linecap:butt; stroke-linejoin:round; stroke-width:2; stroke-opacity:0.1; fill:none\" points=\"\n",
       "  179.353,1425.52 2352.76,1425.52 \n",
       "  \"/>\n",
       "<polyline clip-path=\"url(#clip192)\" style=\"stroke:#000000; stroke-linecap:butt; stroke-linejoin:round; stroke-width:2; stroke-opacity:0.1; fill:none\" points=\"\n",
       "  179.353,1216.61 2352.76,1216.61 \n",
       "  \"/>\n",
       "<polyline clip-path=\"url(#clip192)\" style=\"stroke:#000000; stroke-linecap:butt; stroke-linejoin:round; stroke-width:2; stroke-opacity:0.1; fill:none\" points=\"\n",
       "  179.353,1007.7 2352.76,1007.7 \n",
       "  \"/>\n",
       "<polyline clip-path=\"url(#clip192)\" style=\"stroke:#000000; stroke-linecap:butt; stroke-linejoin:round; stroke-width:2; stroke-opacity:0.1; fill:none\" points=\"\n",
       "  179.353,798.787 2352.76,798.787 \n",
       "  \"/>\n",
       "<polyline clip-path=\"url(#clip192)\" style=\"stroke:#000000; stroke-linecap:butt; stroke-linejoin:round; stroke-width:2; stroke-opacity:0.1; fill:none\" points=\"\n",
       "  179.353,589.877 2352.76,589.877 \n",
       "  \"/>\n",
       "<polyline clip-path=\"url(#clip192)\" style=\"stroke:#000000; stroke-linecap:butt; stroke-linejoin:round; stroke-width:2; stroke-opacity:0.1; fill:none\" points=\"\n",
       "  179.353,380.968 2352.76,380.968 \n",
       "  \"/>\n",
       "<polyline clip-path=\"url(#clip192)\" style=\"stroke:#000000; stroke-linecap:butt; stroke-linejoin:round; stroke-width:2; stroke-opacity:0.1; fill:none\" points=\"\n",
       "  179.353,172.058 2352.76,172.058 \n",
       "  \"/>\n",
       "<polyline clip-path=\"url(#clip190)\" style=\"stroke:#000000; stroke-linecap:butt; stroke-linejoin:round; stroke-width:4; stroke-opacity:1; fill:none\" points=\"\n",
       "  179.353,1486.45 179.353,47.2441 \n",
       "  \"/>\n",
       "<polyline clip-path=\"url(#clip190)\" style=\"stroke:#000000; stroke-linecap:butt; stroke-linejoin:round; stroke-width:4; stroke-opacity:1; fill:none\" points=\"\n",
       "  179.353,1425.52 205.434,1425.52 \n",
       "  \"/>\n",
       "<polyline clip-path=\"url(#clip190)\" style=\"stroke:#000000; stroke-linecap:butt; stroke-linejoin:round; stroke-width:4; stroke-opacity:1; fill:none\" points=\"\n",
       "  179.353,1216.61 205.434,1216.61 \n",
       "  \"/>\n",
       "<polyline clip-path=\"url(#clip190)\" style=\"stroke:#000000; stroke-linecap:butt; stroke-linejoin:round; stroke-width:4; stroke-opacity:1; fill:none\" points=\"\n",
       "  179.353,1007.7 205.434,1007.7 \n",
       "  \"/>\n",
       "<polyline clip-path=\"url(#clip190)\" style=\"stroke:#000000; stroke-linecap:butt; stroke-linejoin:round; stroke-width:4; stroke-opacity:1; fill:none\" points=\"\n",
       "  179.353,798.787 205.434,798.787 \n",
       "  \"/>\n",
       "<polyline clip-path=\"url(#clip190)\" style=\"stroke:#000000; stroke-linecap:butt; stroke-linejoin:round; stroke-width:4; stroke-opacity:1; fill:none\" points=\"\n",
       "  179.353,589.877 205.434,589.877 \n",
       "  \"/>\n",
       "<polyline clip-path=\"url(#clip190)\" style=\"stroke:#000000; stroke-linecap:butt; stroke-linejoin:round; stroke-width:4; stroke-opacity:1; fill:none\" points=\"\n",
       "  179.353,380.968 205.434,380.968 \n",
       "  \"/>\n",
       "<polyline clip-path=\"url(#clip190)\" style=\"stroke:#000000; stroke-linecap:butt; stroke-linejoin:round; stroke-width:4; stroke-opacity:1; fill:none\" points=\"\n",
       "  179.353,172.058 205.434,172.058 \n",
       "  \"/>\n",
       "<path clip-path=\"url(#clip190)\" d=\"M51.5708 1425.97 L81.2466 1425.97 L81.2466 1429.9 L51.5708 1429.9 L51.5708 1425.97 Z\" fill=\"#000000\" fill-rule=\"evenodd\" fill-opacity=\"1\" /><path clip-path=\"url(#clip190)\" d=\"M92.1493 1438.86 L99.7882 1438.86 L99.7882 1412.5 L91.478 1414.16 L91.478 1409.9 L99.7419 1408.24 L104.418 1408.24 L104.418 1438.86 L112.057 1438.86 L112.057 1442.8 L92.1493 1442.8 L92.1493 1438.86 Z\" fill=\"#000000\" fill-rule=\"evenodd\" fill-opacity=\"1\" /><path clip-path=\"url(#clip190)\" d=\"M131.501 1426.39 Q128.168 1426.39 126.246 1428.17 Q124.348 1429.95 124.348 1433.08 Q124.348 1436.2 126.246 1437.98 Q128.168 1439.76 131.501 1439.76 Q134.834 1439.76 136.756 1437.98 Q138.677 1436.18 138.677 1433.08 Q138.677 1429.95 136.756 1428.17 Q134.857 1426.39 131.501 1426.39 M126.825 1424.39 Q123.816 1423.65 122.126 1421.59 Q120.459 1419.53 120.459 1416.57 Q120.459 1412.43 123.399 1410.02 Q126.362 1407.61 131.501 1407.61 Q136.663 1407.61 139.603 1410.02 Q142.543 1412.43 142.543 1416.57 Q142.543 1419.53 140.853 1421.59 Q139.186 1423.65 136.2 1424.39 Q139.58 1425.18 141.455 1427.47 Q143.353 1429.76 143.353 1433.08 Q143.353 1438.1 140.274 1440.78 Q137.219 1443.47 131.501 1443.47 Q125.783 1443.47 122.705 1440.78 Q119.649 1438.1 119.649 1433.08 Q119.649 1429.76 121.547 1427.47 Q123.445 1425.18 126.825 1424.39 M125.112 1417.01 Q125.112 1419.7 126.779 1421.2 Q128.469 1422.7 131.501 1422.7 Q134.51 1422.7 136.2 1421.2 Q137.913 1419.7 137.913 1417.01 Q137.913 1414.33 136.2 1412.82 Q134.51 1411.32 131.501 1411.32 Q128.469 1411.32 126.779 1412.82 Q125.112 1414.33 125.112 1417.01 Z\" fill=\"#000000\" fill-rule=\"evenodd\" fill-opacity=\"1\" /><path clip-path=\"url(#clip190)\" d=\"M51.3162 1217.06 L80.992 1217.06 L80.992 1220.99 L51.3162 1220.99 L51.3162 1217.06 Z\" fill=\"#000000\" fill-rule=\"evenodd\" fill-opacity=\"1\" /><path clip-path=\"url(#clip190)\" d=\"M91.8947 1229.95 L99.5335 1229.95 L99.5335 1203.59 L91.2234 1205.25 L91.2234 1200.99 L99.4872 1199.33 L104.163 1199.33 L104.163 1229.95 L111.802 1229.95 L111.802 1233.89 L91.8947 1233.89 L91.8947 1229.95 Z\" fill=\"#000000\" fill-rule=\"evenodd\" fill-opacity=\"1\" /><path clip-path=\"url(#clip190)\" d=\"M131.825 1214.74 Q128.677 1214.74 126.825 1216.9 Q124.996 1219.05 124.996 1222.8 Q124.996 1226.53 126.825 1228.7 Q128.677 1230.85 131.825 1230.85 Q134.973 1230.85 136.802 1228.7 Q138.654 1226.53 138.654 1222.8 Q138.654 1219.05 136.802 1216.9 Q134.973 1214.74 131.825 1214.74 M141.107 1200.09 L141.107 1204.35 Q139.348 1203.52 137.543 1203.08 Q135.76 1202.64 134.001 1202.64 Q129.371 1202.64 126.918 1205.76 Q124.487 1208.89 124.14 1215.21 Q125.506 1213.19 127.566 1212.13 Q129.626 1211.04 132.103 1211.04 Q137.311 1211.04 140.32 1214.21 Q143.353 1217.36 143.353 1222.8 Q143.353 1228.12 140.205 1231.34 Q137.056 1234.56 131.825 1234.56 Q125.83 1234.56 122.658 1229.98 Q119.487 1225.37 119.487 1216.64 Q119.487 1208.45 123.376 1203.59 Q127.265 1198.7 133.816 1198.7 Q135.575 1198.7 137.357 1199.05 Q139.163 1199.4 141.107 1200.09 Z\" fill=\"#000000\" fill-rule=\"evenodd\" fill-opacity=\"1\" /><path clip-path=\"url(#clip190)\" d=\"M50.9921 1008.15 L80.6679 1008.15 L80.6679 1012.08 L50.9921 1012.08 L50.9921 1008.15 Z\" fill=\"#000000\" fill-rule=\"evenodd\" fill-opacity=\"1\" /><path clip-path=\"url(#clip190)\" d=\"M91.5706 1021.04 L99.2095 1021.04 L99.2095 994.677 L90.8993 996.343 L90.8993 992.084 L99.1632 990.417 L103.839 990.417 L103.839 1021.04 L111.478 1021.04 L111.478 1024.98 L91.5706 1024.98 L91.5706 1021.04 Z\" fill=\"#000000\" fill-rule=\"evenodd\" fill-opacity=\"1\" /><path clip-path=\"url(#clip190)\" d=\"M133.769 994.491 L121.964 1012.94 L133.769 1012.94 L133.769 994.491 M132.543 990.417 L138.422 990.417 L138.422 1012.94 L143.353 1012.94 L143.353 1016.83 L138.422 1016.83 L138.422 1024.98 L133.769 1024.98 L133.769 1016.83 L118.168 1016.83 L118.168 1012.32 L132.543 990.417 Z\" fill=\"#000000\" fill-rule=\"evenodd\" fill-opacity=\"1\" /><path clip-path=\"url(#clip190)\" d=\"M53.0754 799.239 L82.7512 799.239 L82.7512 803.174 L53.0754 803.174 L53.0754 799.239 Z\" fill=\"#000000\" fill-rule=\"evenodd\" fill-opacity=\"1\" /><path clip-path=\"url(#clip190)\" d=\"M93.6539 812.132 L101.293 812.132 L101.293 785.767 L92.9826 787.433 L92.9826 783.174 L101.246 781.507 L105.922 781.507 L105.922 812.132 L113.561 812.132 L113.561 816.067 L93.6539 816.067 L93.6539 812.132 Z\" fill=\"#000000\" fill-rule=\"evenodd\" fill-opacity=\"1\" /><path clip-path=\"url(#clip190)\" d=\"M127.033 812.132 L143.353 812.132 L143.353 816.067 L121.408 816.067 L121.408 812.132 Q124.07 809.378 128.654 804.748 Q133.26 800.095 134.441 798.753 Q136.686 796.23 137.566 794.493 Q138.469 792.734 138.469 791.044 Q138.469 788.29 136.524 786.554 Q134.603 784.818 131.501 784.818 Q129.302 784.818 126.848 785.581 Q124.418 786.345 121.64 787.896 L121.64 783.174 Q124.464 782.04 126.918 781.461 Q129.371 780.882 131.408 780.882 Q136.779 780.882 139.973 783.568 Q143.168 786.253 143.168 790.743 Q143.168 792.873 142.357 794.794 Q141.57 796.693 139.464 799.285 Q138.885 799.956 135.783 803.174 Q132.682 806.368 127.033 812.132 Z\" fill=\"#000000\" fill-rule=\"evenodd\" fill-opacity=\"1\" /><path clip-path=\"url(#clip190)\" d=\"M51.4782 590.329 L81.154 590.329 L81.154 594.264 L51.4782 594.264 L51.4782 590.329 Z\" fill=\"#000000\" fill-rule=\"evenodd\" fill-opacity=\"1\" /><path clip-path=\"url(#clip190)\" d=\"M92.0567 603.222 L99.6956 603.222 L99.6956 576.857 L91.3854 578.523 L91.3854 574.264 L99.6493 572.597 L104.325 572.597 L104.325 603.222 L111.964 603.222 L111.964 607.157 L92.0567 607.157 L92.0567 603.222 Z\" fill=\"#000000\" fill-rule=\"evenodd\" fill-opacity=\"1\" /><path clip-path=\"url(#clip190)\" d=\"M131.408 575.676 Q127.797 575.676 125.969 579.241 Q124.163 582.783 124.163 589.912 Q124.163 597.019 125.969 600.583 Q127.797 604.125 131.408 604.125 Q135.043 604.125 136.848 600.583 Q138.677 597.019 138.677 589.912 Q138.677 582.783 136.848 579.241 Q135.043 575.676 131.408 575.676 M131.408 571.972 Q137.219 571.972 140.274 576.579 Q143.353 581.162 143.353 589.912 Q143.353 598.639 140.274 603.245 Q137.219 607.829 131.408 607.829 Q125.598 607.829 122.52 603.245 Q119.464 598.639 119.464 589.912 Q119.464 581.162 122.52 576.579 Q125.598 571.972 131.408 571.972 Z\" fill=\"#000000\" fill-rule=\"evenodd\" fill-opacity=\"1\" /><path clip-path=\"url(#clip190)\" d=\"M81.7327 381.419 L111.408 381.419 L111.408 385.354 L81.7327 385.354 L81.7327 381.419 Z\" fill=\"#000000\" fill-rule=\"evenodd\" fill-opacity=\"1\" /><path clip-path=\"url(#clip190)\" d=\"M131.501 381.836 Q128.168 381.836 126.246 383.618 Q124.348 385.4 124.348 388.525 Q124.348 391.65 126.246 393.433 Q128.168 395.215 131.501 395.215 Q134.834 395.215 136.756 393.433 Q138.677 391.627 138.677 388.525 Q138.677 385.4 136.756 383.618 Q134.857 381.836 131.501 381.836 M126.825 379.845 Q123.816 379.104 122.126 377.044 Q120.459 374.984 120.459 372.021 Q120.459 367.877 123.399 365.47 Q126.362 363.063 131.501 363.063 Q136.663 363.063 139.603 365.47 Q142.543 367.877 142.543 372.021 Q142.543 374.984 140.853 377.044 Q139.186 379.104 136.2 379.845 Q139.58 380.632 141.455 382.924 Q143.353 385.215 143.353 388.525 Q143.353 393.548 140.274 396.234 Q137.219 398.919 131.501 398.919 Q125.783 398.919 122.705 396.234 Q119.649 393.548 119.649 388.525 Q119.649 385.215 121.547 382.924 Q123.445 380.632 126.825 379.845 M125.112 372.461 Q125.112 375.146 126.779 376.65 Q128.469 378.155 131.501 378.155 Q134.51 378.155 136.2 376.65 Q137.913 375.146 137.913 372.461 Q137.913 369.775 136.2 368.271 Q134.51 366.766 131.501 366.766 Q128.469 366.766 126.779 368.271 Q125.112 369.775 125.112 372.461 Z\" fill=\"#000000\" fill-rule=\"evenodd\" fill-opacity=\"1\" /><path clip-path=\"url(#clip190)\" d=\"M81.4781 172.509 L111.154 172.509 L111.154 176.444 L81.4781 176.444 L81.4781 172.509 Z\" fill=\"#000000\" fill-rule=\"evenodd\" fill-opacity=\"1\" /><path clip-path=\"url(#clip190)\" d=\"M131.825 170.194 Q128.677 170.194 126.825 172.347 Q124.996 174.5 124.996 178.25 Q124.996 181.976 126.825 184.152 Q128.677 186.305 131.825 186.305 Q134.973 186.305 136.802 184.152 Q138.654 181.976 138.654 178.25 Q138.654 174.5 136.802 172.347 Q134.973 170.194 131.825 170.194 M141.107 155.541 L141.107 159.801 Q139.348 158.967 137.543 158.528 Q135.76 158.088 134.001 158.088 Q129.371 158.088 126.918 161.213 Q124.487 164.338 124.14 170.657 Q125.506 168.643 127.566 167.578 Q129.626 166.49 132.103 166.49 Q137.311 166.49 140.32 169.662 Q143.353 172.81 143.353 178.25 Q143.353 183.574 140.205 186.791 Q137.056 190.009 131.825 190.009 Q125.83 190.009 122.658 185.426 Q119.487 180.819 119.487 172.092 Q119.487 163.898 123.376 159.037 Q127.265 154.153 133.816 154.153 Q135.575 154.153 137.357 154.5 Q139.163 154.847 141.107 155.541 Z\" fill=\"#000000\" fill-rule=\"evenodd\" fill-opacity=\"1\" /><polyline clip-path=\"url(#clip192)\" style=\"stroke:#009af9; stroke-linecap:butt; stroke-linejoin:round; stroke-width:12; stroke-opacity:1; fill:none\" points=\"\n",
       "  240.864,87.9763 263.902,343.126 286.94,492.756 309.978,672.219 333.016,883.656 356.054,1146.3 379.092,1297.33 402.13,1430.84 425.168,1430.84 448.206,1430.84 \n",
       "  471.244,1430.84 494.282,1430.84 517.32,1432.61 540.358,1433.35 563.396,1441.35 586.434,1442.2 609.472,1443.07 632.51,1443.07 655.548,1443.07 678.586,1443.07 \n",
       "  701.624,1443.07 724.662,1443.11 747.7,1443.11 770.738,1443.48 793.776,1443.51 816.814,1443.63 839.852,1443.63 862.89,1443.63 885.928,1443.63 908.966,1443.63 \n",
       "  932.004,1443.66 955.042,1443.66 978.08,1443.7 1001.12,1443.7 1024.16,1443.71 1047.19,1443.71 1070.23,1443.71 1093.27,1443.71 1116.31,1443.71 1139.35,1443.71 \n",
       "  1162.38,1443.71 1185.42,1443.72 1208.46,1443.72 1231.5,1443.74 1254.54,1443.74 1277.57,1443.74 1300.61,1443.74 1323.65,1443.74 1346.69,1443.74 1369.73,1443.74 \n",
       "  1392.76,1443.75 1415.8,1443.75 1438.84,1443.75 1461.88,1443.75 1484.92,1443.75 1507.95,1443.75 1530.99,1443.75 1554.03,1443.75 1577.07,1443.75 1600.11,1443.75 \n",
       "  1623.14,1443.75 1646.18,1443.76 1669.22,1443.76 1692.26,1443.76 1715.29,1443.76 1738.33,1443.76 1761.37,1443.76 1784.41,1443.76 1807.45,1443.76 1830.48,1443.76 \n",
       "  1853.52,1443.76 1876.56,1443.76 1899.6,1443.76 1922.64,1443.76 1945.67,1443.76 1968.71,1443.76 1991.75,1443.76 2014.79,1443.76 2037.83,1443.76 2060.86,1443.76 \n",
       "  2083.9,1443.76 2106.94,1443.76 2129.98,1443.76 2153.02,1443.76 2176.05,1443.76 2199.09,1443.76 2222.13,1443.76 2245.17,1443.76 2268.21,1443.76 2291.24,1443.76 \n",
       "  \n",
       "  \"/>\n",
       "<polyline clip-path=\"url(#clip192)\" style=\"stroke:#e26f46; stroke-linecap:butt; stroke-linejoin:round; stroke-width:12; stroke-opacity:1; fill:none\" points=\"\n",
       "  240.864,158.357 263.902,458.318 286.94,590.972 309.978,901.323 333.016,1056.64 356.054,1341.72 379.092,1445.04 402.13,1445.04 425.168,1445.04 448.206,1445.04 \n",
       "  471.244,1445.04 494.282,1445.04 517.32,1445.04 540.358,1445.14 563.396,1445.17 586.434,1445.71 609.472,1445.71 632.51,1445.71 655.548,1445.71 678.586,1445.71 \n",
       "  701.624,1445.71 724.662,1445.71 747.7,1445.72 770.738,1445.72 793.776,1445.72 816.814,1445.72 839.852,1445.72 862.89,1445.72 885.928,1445.72 908.966,1445.72 \n",
       "  932.004,1445.72 955.042,1445.72 978.08,1445.72 1001.12,1445.72 1024.16,1445.72 1047.19,1445.72 \n",
       "  \"/>\n",
       "<path clip-path=\"url(#clip190)\" d=\"\n",
       "M1910.07 250.738 L2280.31 250.738 L2280.31 95.2176 L1910.07 95.2176  Z\n",
       "  \" fill=\"#ffffff\" fill-rule=\"evenodd\" fill-opacity=\"1\"/>\n",
       "<polyline clip-path=\"url(#clip190)\" style=\"stroke:#000000; stroke-linecap:butt; stroke-linejoin:round; stroke-width:4; stroke-opacity:1; fill:none\" points=\"\n",
       "  1910.07,250.738 2280.31,250.738 2280.31,95.2176 1910.07,95.2176 1910.07,250.738 \n",
       "  \"/>\n",
       "<polyline clip-path=\"url(#clip190)\" style=\"stroke:#009af9; stroke-linecap:butt; stroke-linejoin:round; stroke-width:4; stroke-opacity:1; fill:none\" points=\"\n",
       "  1934.22,147.058 2079.11,147.058 \n",
       "  \"/>\n",
       "<path clip-path=\"url(#clip190)\" d=\"M2107.94 133.62 L2107.94 160.495 L2113.59 160.495 Q2120.74 160.495 2124.05 157.254 Q2127.38 154.014 2127.38 147.023 Q2127.38 140.078 2124.05 136.861 Q2120.74 133.62 2113.59 133.62 L2107.94 133.62 M2103.26 129.778 L2112.87 129.778 Q2122.91 129.778 2127.61 133.967 Q2132.31 138.134 2132.31 147.023 Q2132.31 155.958 2127.59 160.148 Q2122.87 164.338 2112.87 164.338 L2103.26 164.338 L2103.26 129.778 Z\" fill=\"#000000\" fill-rule=\"evenodd\" fill-opacity=\"1\" /><path clip-path=\"url(#clip190)\" d=\"M2140.14 142.81 L2169.81 142.81 L2169.81 146.699 L2140.14 146.699 L2140.14 142.81 M2140.14 152.254 L2169.81 152.254 L2169.81 156.189 L2140.14 156.189 L2140.14 152.254 Z\" fill=\"#000000\" fill-rule=\"evenodd\" fill-opacity=\"1\" /><path clip-path=\"url(#clip190)\" d=\"M2179.95 129.778 L2198.31 129.778 L2198.31 133.713 L2184.23 133.713 L2184.23 142.185 Q2185.25 141.838 2186.27 141.676 Q2187.29 141.49 2188.31 141.49 Q2194.09 141.49 2197.47 144.662 Q2200.85 147.833 2200.85 153.25 Q2200.85 158.828 2197.38 161.93 Q2193.91 165.009 2187.59 165.009 Q2185.41 165.009 2183.15 164.638 Q2180.9 164.268 2178.49 163.527 L2178.49 158.828 Q2180.58 159.963 2182.8 160.518 Q2185.02 161.074 2187.5 161.074 Q2191.5 161.074 2193.84 158.967 Q2196.18 156.861 2196.18 153.25 Q2196.18 149.639 2193.84 147.532 Q2191.5 145.426 2187.5 145.426 Q2185.62 145.426 2183.75 145.842 Q2181.9 146.259 2179.95 147.139 L2179.95 129.778 Z\" fill=\"#000000\" fill-rule=\"evenodd\" fill-opacity=\"1\" /><polyline clip-path=\"url(#clip190)\" style=\"stroke:#e26f46; stroke-linecap:butt; stroke-linejoin:round; stroke-width:4; stroke-opacity:1; fill:none\" points=\"\n",
       "  1934.22,198.898 2079.11,198.898 \n",
       "  \"/>\n",
       "<path clip-path=\"url(#clip190)\" d=\"M2107.94 185.46 L2107.94 212.335 L2113.59 212.335 Q2120.74 212.335 2124.05 209.094 Q2127.38 205.854 2127.38 198.863 Q2127.38 191.918 2124.05 188.701 Q2120.74 185.46 2113.59 185.46 L2107.94 185.46 M2103.26 181.618 L2112.87 181.618 Q2122.91 181.618 2127.61 185.807 Q2132.31 189.974 2132.31 198.863 Q2132.31 207.798 2127.59 211.988 Q2122.87 216.178 2112.87 216.178 L2103.26 216.178 L2103.26 181.618 Z\" fill=\"#000000\" fill-rule=\"evenodd\" fill-opacity=\"1\" /><path clip-path=\"url(#clip190)\" d=\"M2140.14 194.65 L2169.81 194.65 L2169.81 198.539 L2140.14 198.539 L2140.14 194.65 M2140.14 204.094 L2169.81 204.094 L2169.81 208.029 L2140.14 208.029 L2140.14 204.094 Z\" fill=\"#000000\" fill-rule=\"evenodd\" fill-opacity=\"1\" /><path clip-path=\"url(#clip190)\" d=\"M2180.72 212.242 L2188.35 212.242 L2188.35 185.877 L2180.04 187.543 L2180.04 183.284 L2188.31 181.618 L2192.98 181.618 L2192.98 212.242 L2200.62 212.242 L2200.62 216.178 L2180.72 216.178 L2180.72 212.242 Z\" fill=\"#000000\" fill-rule=\"evenodd\" fill-opacity=\"1\" /><path clip-path=\"url(#clip190)\" d=\"M2220.07 184.696 Q2216.46 184.696 2214.63 188.261 Q2212.82 191.803 2212.82 198.932 Q2212.82 206.039 2214.63 209.604 Q2216.46 213.145 2220.07 213.145 Q2223.7 213.145 2225.51 209.604 Q2227.34 206.039 2227.34 198.932 Q2227.34 191.803 2225.51 188.261 Q2223.7 184.696 2220.07 184.696 M2220.07 180.993 Q2225.88 180.993 2228.93 185.599 Q2232.01 190.182 2232.01 198.932 Q2232.01 207.659 2228.93 212.266 Q2225.88 216.849 2220.07 216.849 Q2214.26 216.849 2211.18 212.266 Q2208.12 207.659 2208.12 198.932 Q2208.12 190.182 2211.18 185.599 Q2214.26 180.993 2220.07 180.993 Z\" fill=\"#000000\" fill-rule=\"evenodd\" fill-opacity=\"1\" /></svg>\n"
      ]
     },
     "execution_count": 22,
     "metadata": {},
     "output_type": "execute_result"
    }
   ],
   "source": [
    "using Plots\n",
    "\n",
    "fig = plot(Eigenvalues, linewidth=3, label=\"D=$bond_dimension\")\n",
    "plot!(fig, Eigenvalues2, linewidth=3, label=\"D=$larger_bond_dimension\")"
   ]
  },
  {
   "cell_type": "markdown",
   "id": "23b962d1",
   "metadata": {},
   "source": [
    "#### Try a larger problem"
   ]
  },
  {
   "cell_type": "code",
   "execution_count": 23,
   "id": "5f20dc4d",
   "metadata": {},
   "outputs": [
    {
     "name": "stdout",
     "output_type": "stream",
     "text": [
      "we are at the 1-th sweep.\n",
      "we are sweep from left to right on site 1...\n",
      "lowest eigenvalue at site 1 is -5.458697047651729\n",
      "we are sweep from left to right on site 2...\n",
      "lowest eigenvalue at site 2 is -7.634003649759219\n",
      "we are sweep from left to right on site 3...\n",
      "lowest eigenvalue at site 3 is -9.6353220931644\n",
      "we are sweep from left to right on site 4...\n",
      "lowest eigenvalue at site 4 is -12.062011157335233\n",
      "we are sweep from left to right on site 5...\n",
      "lowest eigenvalue at site 5 is -14.395709331689977\n",
      "we are sweep from left to right on site 6...\n",
      "lowest eigenvalue at site 6 is -16.393060877099376\n",
      "we are sweep from left to right on site 7...\n",
      "lowest eigenvalue at site 7 is -18.4243824380188\n",
      "we are sweep from left to right on site 8...\n",
      "lowest eigenvalue at site 8 is -20.229091415798813\n",
      "we are sweep from left to right on site 9...\n",
      "lowest eigenvalue at site 9 is -22.210380416140342\n",
      "we are sweep from left to right on site 10...\n",
      "lowest eigenvalue at site 10 is -24.31483838834807\n",
      "we are sweep from left to right on site 11...\n",
      "lowest eigenvalue at site 11 is -26.519390428394534\n",
      "we are sweep from left to right on site 12...\n",
      "lowest eigenvalue at site 12 is -28.64938024846282\n",
      "we are sweep from left to right on site 13...\n",
      "lowest eigenvalue at site 13 is -31.021133318594245\n",
      "we are sweep from left to right on site 14...\n",
      "lowest eigenvalue at site 14 is -33.2371604570207\n",
      "we are sweep from left to right on site 15...\n",
      "lowest eigenvalue at site 15 is -34.90582736118911\n",
      "we are sweep from left to right on site 16...\n",
      "lowest eigenvalue at site 16 is -37.14750864972431\n",
      "we are sweep from left to right on site 17...\n",
      "lowest eigenvalue at site 17 is -39.05670452819422\n",
      "we are sweep from left to right on site 18...\n",
      "lowest eigenvalue at site 18 is -41.163615054196924\n",
      "we are sweep from left to right on site 19...\n",
      "lowest eigenvalue at site 19 is -43.551872530085255\n",
      "we are sweep from left to right on site 20...\n",
      "lowest eigenvalue at site 20 is -45.55770957842825\n",
      "we are sweep from left to right on site 21...\n",
      "lowest eigenvalue at site 21 is -47.883310803615764\n",
      "we are sweep from left to right on site 22...\n",
      "lowest eigenvalue at site 22 is -49.788850557820915\n",
      "we are sweep from left to right on site 23...\n",
      "lowest eigenvalue at site 23 is -51.79169667500287\n",
      "we are sweep from left to right on site 24...\n",
      "lowest eigenvalue at site 24 is -54.03059138135112\n",
      "we are sweep from left to right on site 25...\n",
      "lowest eigenvalue at site 25 is -56.17186019805955\n",
      "we are sweep from left to right on site 26...\n",
      "lowest eigenvalue at site 26 is -58.150690574346434\n",
      "we are sweep from left to right on site 27...\n",
      "lowest eigenvalue at site 27 is -60.39039807690347\n",
      "we are sweep from left to right on site 28...\n",
      "lowest eigenvalue at site 28 is -62.407069169281165\n",
      "we are sweep from left to right on site 29...\n",
      "lowest eigenvalue at site 29 is -64.3984812175079\n",
      "we are sweep from left to right on site 30...\n",
      "lowest eigenvalue at site 30 is -66.4543867036082\n",
      "we are sweep from left to right on site 31...\n",
      "lowest eigenvalue at site 31 is -68.97898520298729\n",
      "we are sweep from left to right on site 32...\n",
      "lowest eigenvalue at site 32 is -70.9973191150056\n",
      "we are sweep from left to right on site 33...\n",
      "lowest eigenvalue at site 33 is -72.69211539040047\n",
      "we are sweep from left to right on site 34...\n",
      "lowest eigenvalue at site 34 is -74.52759702612684\n",
      "we are sweep from left to right on site 35...\n",
      "lowest eigenvalue at site 35 is -77.0131171767387\n",
      "we are sweep from left to right on site 36...\n",
      "lowest eigenvalue at site 36 is -79.18089032226067\n",
      "we are sweep from left to right on site 37...\n",
      "lowest eigenvalue at site 37 is -81.36689761114131\n",
      "we are sweep from left to right on site 38...\n",
      "lowest eigenvalue at site 38 is -83.67203727278233\n",
      "we are sweep from left to right on site 39...\n",
      "lowest eigenvalue at site 39 is -86.22548308060985\n",
      "we are sweep from left to right on site 40...\n",
      "lowest eigenvalue at site 40 is -88.89695758320691\n",
      "we are sweep from left to right on site 41...\n",
      "lowest eigenvalue at site 41 is -91.44567521416295\n",
      "we are sweep from left to right on site 42...\n",
      "lowest eigenvalue at site 42 is -94.50484946999319\n",
      "we are sweep from left to right on site 43...\n",
      "lowest eigenvalue at site 43 is -97.27544410709187\n",
      "we are sweep from left to right on site 44...\n",
      "lowest eigenvalue at site 44 is -102.2600908328162\n",
      "we are sweep from left to right on site 45...\n",
      "lowest eigenvalue at site 45 is -104.19230483624449\n",
      "we are sweep from left to right on site 46...\n",
      "lowest eigenvalue at site 46 is -104.19230483624439\n",
      "we are sweep from left to right on site 47...\n",
      "lowest eigenvalue at site 47 is -104.19230483624426\n",
      "we are sweep from left to right on site 48...\n",
      "lowest eigenvalue at site 48 is -104.19230483624428\n",
      "we are sweep from left to right on site 49...\n",
      "lowest eigenvalue at site 49 is -104.19230483624432\n",
      "\n",
      "\n",
      "we are sweep from right to left on site 50...\n",
      "lowest eigenvalue at site 50 is -104.19230483624432\n",
      "we are sweep from right to left on site 49...\n",
      "lowest eigenvalue at site 49 is -104.19230483624435\n",
      "we are sweep from right to left on site 48...\n",
      "lowest eigenvalue at site 48 is -104.19230483624428\n",
      "we are sweep from right to left on site 47...\n",
      "lowest eigenvalue at site 47 is -104.19230483624413\n",
      "we are sweep from right to left on site 46...\n",
      "lowest eigenvalue at site 46 is -104.1923048362442\n",
      "we are sweep from right to left on site 45...\n",
      "lowest eigenvalue at site 45 is -104.19230483624412\n",
      "we are sweep from right to left on site 44...\n",
      "lowest eigenvalue at site 44 is -104.19252807326649\n",
      "we are sweep from right to left on site 43...\n",
      "lowest eigenvalue at site 43 is -104.1925435475593\n",
      "we are sweep from right to left on site 42...\n",
      "lowest eigenvalue at site 42 is -104.19262290506684\n",
      "we are sweep from right to left on site 41...\n",
      "lowest eigenvalue at site 41 is -104.19280211388818\n",
      "we are sweep from right to left on site 40...\n",
      "lowest eigenvalue at site 40 is -104.19281244130335\n",
      "we are sweep from right to left on site 39...\n",
      "lowest eigenvalue at site 39 is -104.19294676552144\n",
      "we are sweep from right to left on site 38...\n",
      "lowest eigenvalue at site 38 is -104.19298353665576\n",
      "we are sweep from right to left on site 37...\n",
      "lowest eigenvalue at site 37 is -104.19298519394319\n",
      "we are sweep from right to left on site 36...\n",
      "lowest eigenvalue at site 36 is -104.19308963798171\n",
      "we are sweep from right to left on site 35...\n",
      "lowest eigenvalue at site 35 is -104.19309254292092\n",
      "we are sweep from right to left on site 34...\n",
      "lowest eigenvalue at site 34 is -104.1931073531396\n",
      "we are sweep from right to left on site 33...\n",
      "lowest eigenvalue at site 33 is -104.19320347501477\n",
      "we are sweep from right to left on site 32...\n",
      "lowest eigenvalue at site 32 is -104.1933466108365\n",
      "we are sweep from right to left on site 31...\n",
      "lowest eigenvalue at site 31 is -104.19402134889842\n",
      "we are sweep from right to left on site 30...\n",
      "lowest eigenvalue at site 30 is -104.1940949826656\n",
      "we are sweep from right to left on site 29...\n",
      "lowest eigenvalue at site 29 is -104.19412792270724\n",
      "we are sweep from right to left on site 28...\n",
      "lowest eigenvalue at site 28 is -104.19429387792707\n",
      "we are sweep from right to left on site 27...\n",
      "lowest eigenvalue at site 27 is -104.19437078613895\n",
      "we are sweep from right to left on site 26...\n",
      "lowest eigenvalue at site 26 is -104.19438489070654\n",
      "we are sweep from right to left on site 25...\n",
      "lowest eigenvalue at site 25 is -104.19439032445185\n",
      "we are sweep from right to left on site 24...\n",
      "lowest eigenvalue at site 24 is -104.19442456983633\n",
      "we are sweep from right to left on site 23...\n",
      "lowest eigenvalue at site 23 is -104.19444053210812\n",
      "we are sweep from right to left on site 22...\n",
      "lowest eigenvalue at site 22 is -104.194446395215\n",
      "we are sweep from right to left on site 21...\n",
      "lowest eigenvalue at site 21 is -104.19447172005367\n",
      "we are sweep from right to left on site 20...\n",
      "lowest eigenvalue at site 20 is -104.19449456994671\n",
      "we are sweep from right to left on site 19...\n",
      "lowest eigenvalue at site 19 is -104.19451568735231\n",
      "we are sweep from right to left on site 18...\n",
      "lowest eigenvalue at site 18 is -104.19452324014316\n",
      "we are sweep from right to left on site 17...\n",
      "lowest eigenvalue at site 17 is -104.194530250739\n",
      "we are sweep from right to left on site 16...\n",
      "lowest eigenvalue at site 16 is -104.19454310974801\n",
      "we are sweep from right to left on site 15...\n"
     ]
    },
    {
     "name": "stdout",
     "output_type": "stream",
     "text": [
      "lowest eigenvalue at site 15 is -104.19454830424334\n",
      "we are sweep from right to left on site 14...\n",
      "lowest eigenvalue at site 14 is -104.19456028142615\n",
      "we are sweep from right to left on site 13...\n",
      "lowest eigenvalue at site 13 is -104.19456362811026\n",
      "we are sweep from right to left on site 12...\n",
      "lowest eigenvalue at site 12 is -104.19456437563063\n",
      "we are sweep from right to left on site 11...\n",
      "lowest eigenvalue at site 11 is -104.19456480494361\n",
      "we are sweep from right to left on site 10...\n",
      "lowest eigenvalue at site 10 is -104.19456519419995\n",
      "we are sweep from right to left on site 9...\n",
      "lowest eigenvalue at site 9 is -104.19456535219351\n",
      "we are sweep from right to left on site 8...\n",
      "lowest eigenvalue at site 8 is -104.19456552263688\n",
      "we are sweep from right to left on site 7...\n",
      "lowest eigenvalue at site 7 is -104.19456559879589\n",
      "we are sweep from right to left on site 6...\n",
      "lowest eigenvalue at site 6 is -104.19456559941554\n",
      "we are sweep from right to left on site 5...\n",
      "lowest eigenvalue at site 5 is -104.19456559941536\n",
      "we are sweep from right to left on site 4...\n",
      "lowest eigenvalue at site 4 is -104.1945655994154\n",
      "we are sweep from right to left on site 3...\n",
      "lowest eigenvalue at site 3 is -104.19456559941534\n",
      "we are sweep from right to left on site 2...\n",
      "lowest eigenvalue at site 2 is -104.19456559941518\n",
      "we are at the 2-th sweep.\n",
      "we are sweep from left to right on site 1...\n",
      "lowest eigenvalue at site 1 is -104.19456559941528\n",
      "we are sweep from left to right on site 2...\n",
      "lowest eigenvalue at site 2 is -104.19456559941523\n",
      "we are sweep from left to right on site 3...\n",
      "lowest eigenvalue at site 3 is -104.19456559941527\n",
      "we are sweep from left to right on site 4...\n",
      "lowest eigenvalue at site 4 is -104.19456559941527\n",
      "we are sweep from left to right on site 5...\n",
      "lowest eigenvalue at site 5 is -104.19456559941528\n",
      "we are sweep from left to right on site 6...\n",
      "lowest eigenvalue at site 6 is -104.19456559941531\n",
      "we are sweep from left to right on site 7...\n",
      "lowest eigenvalue at site 7 is -104.19456559941548\n",
      "we are sweep from left to right on site 8...\n",
      "lowest eigenvalue at site 8 is -104.19456559942148\n",
      "we are sweep from left to right on site 9...\n",
      "lowest eigenvalue at site 9 is -104.19456559947943\n",
      "we are sweep from left to right on site 10...\n",
      "lowest eigenvalue at site 10 is -104.1945655995479\n",
      "we are sweep from left to right on site 11...\n",
      "lowest eigenvalue at site 11 is -104.1945655998823\n",
      "we are sweep from left to right on site 12...\n",
      "lowest eigenvalue at site 12 is -104.19456560019424\n",
      "we are sweep from left to right on site 13...\n",
      "lowest eigenvalue at site 13 is -104.1945656009546\n",
      "we are sweep from left to right on site 14...\n",
      "lowest eigenvalue at site 14 is -104.19456560221938\n",
      "we are sweep from left to right on site 15...\n",
      "lowest eigenvalue at site 15 is -104.19456560403745\n",
      "we are sweep from left to right on site 16...\n",
      "lowest eigenvalue at site 16 is -104.1945656053035\n",
      "we are sweep from left to right on site 17...\n",
      "lowest eigenvalue at site 17 is -104.19456560736111\n",
      "we are sweep from left to right on site 18...\n",
      "lowest eigenvalue at site 18 is -104.19456560918546\n",
      "we are sweep from left to right on site 19...\n",
      "lowest eigenvalue at site 19 is -104.194565612795\n",
      "we are sweep from left to right on site 20...\n",
      "lowest eigenvalue at site 20 is -104.19456561592207\n",
      "we are sweep from left to right on site 21...\n",
      "lowest eigenvalue at site 21 is -104.19456561960081\n",
      "we are sweep from left to right on site 22...\n",
      "lowest eigenvalue at site 22 is -104.19456562368237\n",
      "we are sweep from left to right on site 23...\n",
      "lowest eigenvalue at site 23 is -104.19456562880238\n",
      "we are sweep from left to right on site 24...\n",
      "lowest eigenvalue at site 24 is -104.19456563378724\n",
      "we are sweep from left to right on site 25...\n",
      "lowest eigenvalue at site 25 is -104.19456564195139\n",
      "we are sweep from left to right on site 26...\n",
      "lowest eigenvalue at site 26 is -104.19456564711484\n",
      "we are sweep from left to right on site 27...\n",
      "lowest eigenvalue at site 27 is -104.19456565466592\n",
      "we are sweep from left to right on site 28...\n",
      "lowest eigenvalue at site 28 is -104.19456566177666\n",
      "we are sweep from left to right on site 29...\n",
      "lowest eigenvalue at site 29 is -104.19456567270348\n",
      "we are sweep from left to right on site 30...\n",
      "lowest eigenvalue at site 30 is -104.19456567794268\n",
      "we are sweep from left to right on site 31...\n",
      "lowest eigenvalue at site 31 is -104.19456568488827\n",
      "we are sweep from left to right on site 32...\n",
      "lowest eigenvalue at site 32 is -104.19456569963704\n",
      "we are sweep from left to right on site 33...\n",
      "lowest eigenvalue at site 33 is -104.19456571470434\n",
      "we are sweep from left to right on site 34...\n",
      "lowest eigenvalue at site 34 is -104.19456572213215\n",
      "we are sweep from left to right on site 35...\n",
      "lowest eigenvalue at site 35 is -104.19456572982249\n",
      "we are sweep from left to right on site 36...\n",
      "lowest eigenvalue at site 36 is -104.19456573204337\n",
      "we are sweep from left to right on site 37...\n",
      "lowest eigenvalue at site 37 is -104.19456573366774\n",
      "we are sweep from left to right on site 38...\n",
      "lowest eigenvalue at site 38 is -104.1945657344915\n",
      "we are sweep from left to right on site 39...\n",
      "lowest eigenvalue at site 39 is -104.19456573567825\n",
      "we are sweep from left to right on site 40...\n",
      "lowest eigenvalue at site 40 is -104.1945657365874\n",
      "we are sweep from left to right on site 41...\n",
      "lowest eigenvalue at site 41 is -104.19456573693448\n",
      "we are sweep from left to right on site 42...\n",
      "lowest eigenvalue at site 42 is -104.19456573713475\n",
      "we are sweep from left to right on site 43...\n",
      "lowest eigenvalue at site 43 is -104.19456573721943\n",
      "we are sweep from left to right on site 44...\n",
      "lowest eigenvalue at site 44 is -104.19456573723953\n",
      "we are sweep from left to right on site 45...\n",
      "lowest eigenvalue at site 45 is -104.19456573724044\n",
      "we are sweep from left to right on site 46...\n",
      "lowest eigenvalue at site 46 is -104.19456573724044\n",
      "we are sweep from left to right on site 47...\n",
      "lowest eigenvalue at site 47 is -104.19456573724042\n",
      "we are sweep from left to right on site 48...\n",
      "lowest eigenvalue at site 48 is -104.19456573724054\n",
      "we are sweep from left to right on site 49...\n",
      "lowest eigenvalue at site 49 is -104.19456573724061\n",
      "\n",
      "\n",
      "we are sweep from right to left on site 50...\n",
      "lowest eigenvalue at site 50 is -104.19456573724058\n",
      "we are sweep from right to left on site 49...\n",
      "lowest eigenvalue at site 49 is -104.19456573724057\n",
      "we are sweep from right to left on site 48...\n",
      "lowest eigenvalue at site 48 is -104.19456573724051\n",
      "we are sweep from right to left on site 47...\n",
      "lowest eigenvalue at site 47 is -104.19456573724052\n",
      "we are sweep from right to left on site 46...\n",
      "lowest eigenvalue at site 46 is -104.19456573724057\n",
      "we are sweep from right to left on site 45...\n",
      "lowest eigenvalue at site 45 is -104.19456573724071\n",
      "we are sweep from right to left on site 44...\n",
      "lowest eigenvalue at site 44 is -104.19456573724071\n",
      "we are sweep from right to left on site 43...\n",
      "lowest eigenvalue at site 43 is -104.19456573724223\n",
      "we are sweep from right to left on site 42...\n",
      "lowest eigenvalue at site 42 is -104.19456573725111\n",
      "we are sweep from right to left on site 41...\n",
      "lowest eigenvalue at site 41 is -104.19456573726791\n",
      "we are sweep from right to left on site 40...\n",
      "lowest eigenvalue at site 40 is -104.19456573732384\n",
      "we are sweep from right to left on site 39...\n",
      "lowest eigenvalue at site 39 is -104.19456573738071\n",
      "we are sweep from right to left on site 38...\n",
      "lowest eigenvalue at site 38 is -104.1945657375528\n",
      "we are sweep from right to left on site 37...\n",
      "lowest eigenvalue at site 37 is -104.19456573761843\n",
      "we are sweep from right to left on site 36...\n",
      "lowest eigenvalue at site 36 is -104.19456573790895\n",
      "we are sweep from right to left on site 35...\n",
      "lowest eigenvalue at site 35 is -104.1945657382291\n",
      "we are sweep from right to left on site 34...\n",
      "lowest eigenvalue at site 34 is -104.19456573903825\n",
      "we are sweep from right to left on site 33...\n",
      "lowest eigenvalue at site 33 is -104.19456573970895\n",
      "we are sweep from right to left on site 32...\n",
      "lowest eigenvalue at site 32 is -104.1945657406962\n",
      "we are sweep from right to left on site 31...\n",
      "lowest eigenvalue at site 31 is -104.19456574169622\n",
      "we are sweep from right to left on site 30...\n",
      "lowest eigenvalue at site 30 is -104.19456574283349\n",
      "we are sweep from right to left on site 29...\n"
     ]
    },
    {
     "name": "stdout",
     "output_type": "stream",
     "text": [
      "lowest eigenvalue at site 29 is -104.19456574391796\n",
      "we are sweep from right to left on site 28...\n",
      "lowest eigenvalue at site 28 is -104.19456574470807\n",
      "we are sweep from right to left on site 27...\n",
      "lowest eigenvalue at site 27 is -104.19456574607176\n",
      "we are sweep from right to left on site 26...\n",
      "lowest eigenvalue at site 26 is -104.19456574768972\n",
      "we are sweep from right to left on site 25...\n",
      "lowest eigenvalue at site 25 is -104.1945657483976\n",
      "we are sweep from right to left on site 24...\n",
      "lowest eigenvalue at site 24 is -104.19456574964872\n",
      "we are sweep from right to left on site 23...\n",
      "lowest eigenvalue at site 23 is -104.19456575048093\n",
      "we are sweep from right to left on site 22...\n",
      "lowest eigenvalue at site 22 is -104.19456575145094\n",
      "we are sweep from right to left on site 21...\n",
      "lowest eigenvalue at site 21 is -104.19456575203128\n",
      "we are sweep from right to left on site 20...\n",
      "lowest eigenvalue at site 20 is -104.19456575269423\n",
      "we are sweep from right to left on site 19...\n",
      "lowest eigenvalue at site 19 is -104.19456575325786\n",
      "we are sweep from right to left on site 18...\n",
      "lowest eigenvalue at site 18 is -104.1945657537888\n",
      "we are sweep from right to left on site 17...\n",
      "lowest eigenvalue at site 17 is -104.19456575399593\n",
      "we are sweep from right to left on site 16...\n",
      "lowest eigenvalue at site 16 is -104.19456575443007\n",
      "we are sweep from right to left on site 15...\n",
      "lowest eigenvalue at site 15 is -104.19456575458443\n",
      "we are sweep from right to left on site 14...\n",
      "lowest eigenvalue at site 14 is -104.19456575492099\n",
      "we are sweep from right to left on site 13...\n",
      "lowest eigenvalue at site 13 is -104.19456575508399\n",
      "we are sweep from right to left on site 12...\n",
      "lowest eigenvalue at site 12 is -104.1945657553165\n",
      "we are sweep from right to left on site 11...\n",
      "lowest eigenvalue at site 11 is -104.19456575536107\n",
      "we are sweep from right to left on site 10...\n",
      "lowest eigenvalue at site 10 is -104.19456575541712\n",
      "we are sweep from right to left on site 9...\n",
      "lowest eigenvalue at site 9 is -104.19456575543151\n",
      "we are sweep from right to left on site 8...\n",
      "lowest eigenvalue at site 8 is -104.19456575544272\n",
      "we are sweep from right to left on site 7...\n",
      "lowest eigenvalue at site 7 is -104.19456575544359\n",
      "we are sweep from right to left on site 6...\n",
      "lowest eigenvalue at site 6 is -104.1945657554437\n",
      "we are sweep from right to left on site 5...\n",
      "lowest eigenvalue at site 5 is -104.19456575544376\n",
      "we are sweep from right to left on site 4...\n",
      "lowest eigenvalue at site 4 is -104.19456575544373\n",
      "we are sweep from right to left on site 3...\n",
      "lowest eigenvalue at site 3 is -104.19456575544383\n",
      "we are sweep from right to left on site 2...\n",
      "lowest eigenvalue at site 2 is -104.19456575544382\n",
      "DMRG converged in 2 sweeps.\n",
      " 42.406808 seconds (75.87 M allocations: 15.853 GiB, 5.78% gc time)\n"
     ]
    },
    {
     "data": {
      "image/svg+xml": [
       "<?xml version=\"1.0\" encoding=\"utf-8\"?>\n",
       "<svg xmlns=\"http://www.w3.org/2000/svg\" xmlns:xlink=\"http://www.w3.org/1999/xlink\" width=\"600\" height=\"400\" viewBox=\"0 0 2400 1600\">\n",
       "<defs>\n",
       "  <clipPath id=\"clip230\">\n",
       "    <rect x=\"0\" y=\"0\" width=\"2400\" height=\"1600\"/>\n",
       "  </clipPath>\n",
       "</defs>\n",
       "<path clip-path=\"url(#clip230)\" d=\"\n",
       "M0 1600 L2400 1600 L2400 0 L0 0  Z\n",
       "  \" fill=\"#ffffff\" fill-rule=\"evenodd\" fill-opacity=\"1\"/>\n",
       "<defs>\n",
       "  <clipPath id=\"clip231\">\n",
       "    <rect x=\"480\" y=\"0\" width=\"1681\" height=\"1600\"/>\n",
       "  </clipPath>\n",
       "</defs>\n",
       "<path clip-path=\"url(#clip230)\" d=\"\n",
       "M209.029 1486.45 L2352.76 1486.45 L2352.76 47.2441 L209.029 47.2441  Z\n",
       "  \" fill=\"#ffffff\" fill-rule=\"evenodd\" fill-opacity=\"1\"/>\n",
       "<defs>\n",
       "  <clipPath id=\"clip232\">\n",
       "    <rect x=\"209\" y=\"47\" width=\"2145\" height=\"1440\"/>\n",
       "  </clipPath>\n",
       "</defs>\n",
       "<polyline clip-path=\"url(#clip232)\" style=\"stroke:#000000; stroke-linecap:butt; stroke-linejoin:round; stroke-width:2; stroke-opacity:0.1; fill:none\" points=\"\n",
       "  259.329,1486.45 259.329,47.2441 \n",
       "  \"/>\n",
       "<polyline clip-path=\"url(#clip232)\" style=\"stroke:#000000; stroke-linecap:butt; stroke-linejoin:round; stroke-width:2; stroke-opacity:0.1; fill:none\" points=\"\n",
       "  777.889,1486.45 777.889,47.2441 \n",
       "  \"/>\n",
       "<polyline clip-path=\"url(#clip232)\" style=\"stroke:#000000; stroke-linecap:butt; stroke-linejoin:round; stroke-width:2; stroke-opacity:0.1; fill:none\" points=\"\n",
       "  1296.45,1486.45 1296.45,47.2441 \n",
       "  \"/>\n",
       "<polyline clip-path=\"url(#clip232)\" style=\"stroke:#000000; stroke-linecap:butt; stroke-linejoin:round; stroke-width:2; stroke-opacity:0.1; fill:none\" points=\"\n",
       "  1815.01,1486.45 1815.01,47.2441 \n",
       "  \"/>\n",
       "<polyline clip-path=\"url(#clip232)\" style=\"stroke:#000000; stroke-linecap:butt; stroke-linejoin:round; stroke-width:2; stroke-opacity:0.1; fill:none\" points=\"\n",
       "  2333.57,1486.45 2333.57,47.2441 \n",
       "  \"/>\n",
       "<polyline clip-path=\"url(#clip230)\" style=\"stroke:#000000; stroke-linecap:butt; stroke-linejoin:round; stroke-width:4; stroke-opacity:1; fill:none\" points=\"\n",
       "  209.029,1486.45 2352.76,1486.45 \n",
       "  \"/>\n",
       "<polyline clip-path=\"url(#clip230)\" style=\"stroke:#000000; stroke-linecap:butt; stroke-linejoin:round; stroke-width:4; stroke-opacity:1; fill:none\" points=\"\n",
       "  259.329,1486.45 259.329,1469.18 \n",
       "  \"/>\n",
       "<polyline clip-path=\"url(#clip230)\" style=\"stroke:#000000; stroke-linecap:butt; stroke-linejoin:round; stroke-width:4; stroke-opacity:1; fill:none\" points=\"\n",
       "  777.889,1486.45 777.889,1469.18 \n",
       "  \"/>\n",
       "<polyline clip-path=\"url(#clip230)\" style=\"stroke:#000000; stroke-linecap:butt; stroke-linejoin:round; stroke-width:4; stroke-opacity:1; fill:none\" points=\"\n",
       "  1296.45,1486.45 1296.45,1469.18 \n",
       "  \"/>\n",
       "<polyline clip-path=\"url(#clip230)\" style=\"stroke:#000000; stroke-linecap:butt; stroke-linejoin:round; stroke-width:4; stroke-opacity:1; fill:none\" points=\"\n",
       "  1815.01,1486.45 1815.01,1469.18 \n",
       "  \"/>\n",
       "<polyline clip-path=\"url(#clip230)\" style=\"stroke:#000000; stroke-linecap:butt; stroke-linejoin:round; stroke-width:4; stroke-opacity:1; fill:none\" points=\"\n",
       "  2333.57,1486.45 2333.57,1469.18 \n",
       "  \"/>\n",
       "<path clip-path=\"url(#clip230)\" d=\"M259.329 1515.64 Q255.718 1515.64 253.889 1519.2 Q252.084 1522.75 252.084 1529.87 Q252.084 1536.98 253.889 1540.55 Q255.718 1544.09 259.329 1544.09 Q262.963 1544.09 264.769 1540.55 Q266.597 1536.98 266.597 1529.87 Q266.597 1522.75 264.769 1519.2 Q262.963 1515.64 259.329 1515.64 M259.329 1511.93 Q265.139 1511.93 268.195 1516.54 Q271.273 1521.12 271.273 1529.87 Q271.273 1538.6 268.195 1543.21 Q265.139 1547.79 259.329 1547.79 Q253.519 1547.79 250.44 1543.21 Q247.384 1538.6 247.384 1529.87 Q247.384 1521.12 250.44 1516.54 Q253.519 1511.93 259.329 1511.93 Z\" fill=\"#000000\" fill-rule=\"evenodd\" fill-opacity=\"1\" /><path clip-path=\"url(#clip230)\" d=\"M752.588 1512.56 L770.945 1512.56 L770.945 1516.5 L756.871 1516.5 L756.871 1524.97 Q757.889 1524.62 758.908 1524.46 Q759.926 1524.27 760.945 1524.27 Q766.732 1524.27 770.111 1527.44 Q773.491 1530.62 773.491 1536.03 Q773.491 1541.61 770.019 1544.71 Q766.546 1547.79 760.227 1547.79 Q758.051 1547.79 755.783 1547.42 Q753.537 1547.05 751.13 1546.31 L751.13 1541.61 Q753.213 1542.74 755.435 1543.3 Q757.658 1543.86 760.134 1543.86 Q764.139 1543.86 766.477 1541.75 Q768.815 1539.64 768.815 1536.03 Q768.815 1532.42 766.477 1530.31 Q764.139 1528.21 760.134 1528.21 Q758.259 1528.21 756.384 1528.62 Q754.533 1529.04 752.588 1529.92 L752.588 1512.56 Z\" fill=\"#000000\" fill-rule=\"evenodd\" fill-opacity=\"1\" /><path clip-path=\"url(#clip230)\" d=\"M792.704 1515.64 Q789.093 1515.64 787.264 1519.2 Q785.458 1522.75 785.458 1529.87 Q785.458 1536.98 787.264 1540.55 Q789.093 1544.09 792.704 1544.09 Q796.338 1544.09 798.143 1540.55 Q799.972 1536.98 799.972 1529.87 Q799.972 1522.75 798.143 1519.2 Q796.338 1515.64 792.704 1515.64 M792.704 1511.93 Q798.514 1511.93 801.569 1516.54 Q804.648 1521.12 804.648 1529.87 Q804.648 1538.6 801.569 1543.21 Q798.514 1547.79 792.704 1547.79 Q786.894 1547.79 783.815 1543.21 Q780.759 1538.6 780.759 1529.87 Q780.759 1521.12 783.815 1516.54 Q786.894 1511.93 792.704 1511.93 Z\" fill=\"#000000\" fill-rule=\"evenodd\" fill-opacity=\"1\" /><path clip-path=\"url(#clip230)\" d=\"M1256.06 1543.18 L1263.69 1543.18 L1263.69 1516.82 L1255.38 1518.49 L1255.38 1514.23 L1263.65 1512.56 L1268.32 1512.56 L1268.32 1543.18 L1275.96 1543.18 L1275.96 1547.12 L1256.06 1547.12 L1256.06 1543.18 Z\" fill=\"#000000\" fill-rule=\"evenodd\" fill-opacity=\"1\" /><path clip-path=\"url(#clip230)\" d=\"M1295.41 1515.64 Q1291.8 1515.64 1289.97 1519.2 Q1288.16 1522.75 1288.16 1529.87 Q1288.16 1536.98 1289.97 1540.55 Q1291.8 1544.09 1295.41 1544.09 Q1299.04 1544.09 1300.85 1540.55 Q1302.68 1536.98 1302.68 1529.87 Q1302.68 1522.75 1300.85 1519.2 Q1299.04 1515.64 1295.41 1515.64 M1295.41 1511.93 Q1301.22 1511.93 1304.27 1516.54 Q1307.35 1521.12 1307.35 1529.87 Q1307.35 1538.6 1304.27 1543.21 Q1301.22 1547.79 1295.41 1547.79 Q1289.6 1547.79 1286.52 1543.21 Q1283.46 1538.6 1283.46 1529.87 Q1283.46 1521.12 1286.52 1516.54 Q1289.6 1511.93 1295.41 1511.93 Z\" fill=\"#000000\" fill-rule=\"evenodd\" fill-opacity=\"1\" /><path clip-path=\"url(#clip230)\" d=\"M1325.57 1515.64 Q1321.96 1515.64 1320.13 1519.2 Q1318.32 1522.75 1318.32 1529.87 Q1318.32 1536.98 1320.13 1540.55 Q1321.96 1544.09 1325.57 1544.09 Q1329.2 1544.09 1331.01 1540.55 Q1332.84 1536.98 1332.84 1529.87 Q1332.84 1522.75 1331.01 1519.2 Q1329.2 1515.64 1325.57 1515.64 M1325.57 1511.93 Q1331.38 1511.93 1334.43 1516.54 Q1337.51 1521.12 1337.51 1529.87 Q1337.51 1538.6 1334.43 1543.21 Q1331.38 1547.79 1325.57 1547.79 Q1319.76 1547.79 1316.68 1543.21 Q1313.62 1538.6 1313.62 1529.87 Q1313.62 1521.12 1316.68 1516.54 Q1319.76 1511.93 1325.57 1511.93 Z\" fill=\"#000000\" fill-rule=\"evenodd\" fill-opacity=\"1\" /><path clip-path=\"url(#clip230)\" d=\"M1774.62 1543.18 L1782.25 1543.18 L1782.25 1516.82 L1773.94 1518.49 L1773.94 1514.23 L1782.21 1512.56 L1786.88 1512.56 L1786.88 1543.18 L1794.52 1543.18 L1794.52 1547.12 L1774.62 1547.12 L1774.62 1543.18 Z\" fill=\"#000000\" fill-rule=\"evenodd\" fill-opacity=\"1\" /><path clip-path=\"url(#clip230)\" d=\"M1804.01 1512.56 L1822.37 1512.56 L1822.37 1516.5 L1808.3 1516.5 L1808.3 1524.97 Q1809.31 1524.62 1810.33 1524.46 Q1811.35 1524.27 1812.37 1524.27 Q1818.16 1524.27 1821.54 1527.44 Q1824.92 1530.62 1824.92 1536.03 Q1824.92 1541.61 1821.44 1544.71 Q1817.97 1547.79 1811.65 1547.79 Q1809.48 1547.79 1807.21 1547.42 Q1804.96 1547.05 1802.56 1546.31 L1802.56 1541.61 Q1804.64 1542.74 1806.86 1543.3 Q1809.08 1543.86 1811.56 1543.86 Q1815.56 1543.86 1817.9 1541.75 Q1820.24 1539.64 1820.24 1536.03 Q1820.24 1532.42 1817.9 1530.31 Q1815.56 1528.21 1811.56 1528.21 Q1809.69 1528.21 1807.81 1528.62 Q1805.96 1529.04 1804.01 1529.92 L1804.01 1512.56 Z\" fill=\"#000000\" fill-rule=\"evenodd\" fill-opacity=\"1\" /><path clip-path=\"url(#clip230)\" d=\"M1844.13 1515.64 Q1840.52 1515.64 1838.69 1519.2 Q1836.88 1522.75 1836.88 1529.87 Q1836.88 1536.98 1838.69 1540.55 Q1840.52 1544.09 1844.13 1544.09 Q1847.76 1544.09 1849.57 1540.55 Q1851.4 1536.98 1851.4 1529.87 Q1851.4 1522.75 1849.57 1519.2 Q1847.76 1515.64 1844.13 1515.64 M1844.13 1511.93 Q1849.94 1511.93 1853 1516.54 Q1856.07 1521.12 1856.07 1529.87 Q1856.07 1538.6 1853 1543.21 Q1849.94 1547.79 1844.13 1547.79 Q1838.32 1547.79 1835.24 1543.21 Q1832.18 1538.6 1832.18 1529.87 Q1832.18 1521.12 1835.24 1516.54 Q1838.32 1511.93 1844.13 1511.93 Z\" fill=\"#000000\" fill-rule=\"evenodd\" fill-opacity=\"1\" /><path clip-path=\"url(#clip230)\" d=\"M2297.26 1543.18 L2313.58 1543.18 L2313.58 1547.12 L2291.64 1547.12 L2291.64 1543.18 Q2294.3 1540.43 2298.88 1535.8 Q2303.49 1531.15 2304.67 1529.81 Q2306.91 1527.28 2307.79 1525.55 Q2308.7 1523.79 2308.7 1522.1 Q2308.7 1519.34 2306.75 1517.61 Q2304.83 1515.87 2301.73 1515.87 Q2299.53 1515.87 2297.08 1516.63 Q2294.65 1517.4 2291.87 1518.95 L2291.87 1514.23 Q2294.69 1513.09 2297.15 1512.51 Q2299.6 1511.93 2301.64 1511.93 Q2307.01 1511.93 2310.2 1514.62 Q2313.4 1517.31 2313.4 1521.8 Q2313.4 1523.93 2312.59 1525.85 Q2311.8 1527.74 2309.69 1530.34 Q2309.11 1531.01 2306.01 1534.23 Q2302.91 1537.42 2297.26 1543.18 Z\" fill=\"#000000\" fill-rule=\"evenodd\" fill-opacity=\"1\" /><path clip-path=\"url(#clip230)\" d=\"M2333.4 1515.64 Q2329.78 1515.64 2327.96 1519.2 Q2326.15 1522.75 2326.15 1529.87 Q2326.15 1536.98 2327.96 1540.55 Q2329.78 1544.09 2333.4 1544.09 Q2337.03 1544.09 2338.84 1540.55 Q2340.66 1536.98 2340.66 1529.87 Q2340.66 1522.75 2338.84 1519.2 Q2337.03 1515.64 2333.4 1515.64 M2333.4 1511.93 Q2339.21 1511.93 2342.26 1516.54 Q2345.34 1521.12 2345.34 1529.87 Q2345.34 1538.6 2342.26 1543.21 Q2339.21 1547.79 2333.4 1547.79 Q2327.59 1547.79 2324.51 1543.21 Q2321.45 1538.6 2321.45 1529.87 Q2321.45 1521.12 2324.51 1516.54 Q2327.59 1511.93 2333.4 1511.93 Z\" fill=\"#000000\" fill-rule=\"evenodd\" fill-opacity=\"1\" /><path clip-path=\"url(#clip230)\" d=\"M2363.56 1515.64 Q2359.95 1515.64 2358.12 1519.2 Q2356.31 1522.75 2356.31 1529.87 Q2356.31 1536.98 2358.12 1540.55 Q2359.95 1544.09 2363.56 1544.09 Q2367.19 1544.09 2369 1540.55 Q2370.83 1536.98 2370.83 1529.87 Q2370.83 1522.75 2369 1519.2 Q2367.19 1515.64 2363.56 1515.64 M2363.56 1511.93 Q2369.37 1511.93 2372.42 1516.54 Q2375.5 1521.12 2375.5 1529.87 Q2375.5 1538.6 2372.42 1543.21 Q2369.37 1547.79 2363.56 1547.79 Q2357.75 1547.79 2354.67 1543.21 Q2351.61 1538.6 2351.61 1529.87 Q2351.61 1521.12 2354.67 1516.54 Q2357.75 1511.93 2363.56 1511.93 Z\" fill=\"#000000\" fill-rule=\"evenodd\" fill-opacity=\"1\" /><polyline clip-path=\"url(#clip232)\" style=\"stroke:#000000; stroke-linecap:butt; stroke-linejoin:round; stroke-width:2; stroke-opacity:0.1; fill:none\" points=\"\n",
       "  209.029,1388.04 2352.76,1388.04 \n",
       "  \"/>\n",
       "<polyline clip-path=\"url(#clip232)\" style=\"stroke:#000000; stroke-linecap:butt; stroke-linejoin:round; stroke-width:2; stroke-opacity:0.1; fill:none\" points=\"\n",
       "  209.029,1113.01 2352.76,1113.01 \n",
       "  \"/>\n",
       "<polyline clip-path=\"url(#clip232)\" style=\"stroke:#000000; stroke-linecap:butt; stroke-linejoin:round; stroke-width:2; stroke-opacity:0.1; fill:none\" points=\"\n",
       "  209.029,837.986 2352.76,837.986 \n",
       "  \"/>\n",
       "<polyline clip-path=\"url(#clip232)\" style=\"stroke:#000000; stroke-linecap:butt; stroke-linejoin:round; stroke-width:2; stroke-opacity:0.1; fill:none\" points=\"\n",
       "  209.029,562.962 2352.76,562.962 \n",
       "  \"/>\n",
       "<polyline clip-path=\"url(#clip232)\" style=\"stroke:#000000; stroke-linecap:butt; stroke-linejoin:round; stroke-width:2; stroke-opacity:0.1; fill:none\" points=\"\n",
       "  209.029,287.937 2352.76,287.937 \n",
       "  \"/>\n",
       "<polyline clip-path=\"url(#clip230)\" style=\"stroke:#000000; stroke-linecap:butt; stroke-linejoin:round; stroke-width:4; stroke-opacity:1; fill:none\" points=\"\n",
       "  209.029,1486.45 209.029,47.2441 \n",
       "  \"/>\n",
       "<polyline clip-path=\"url(#clip230)\" style=\"stroke:#000000; stroke-linecap:butt; stroke-linejoin:round; stroke-width:4; stroke-opacity:1; fill:none\" points=\"\n",
       "  209.029,1388.04 234.753,1388.04 \n",
       "  \"/>\n",
       "<polyline clip-path=\"url(#clip230)\" style=\"stroke:#000000; stroke-linecap:butt; stroke-linejoin:round; stroke-width:4; stroke-opacity:1; fill:none\" points=\"\n",
       "  209.029,1113.01 234.753,1113.01 \n",
       "  \"/>\n",
       "<polyline clip-path=\"url(#clip230)\" style=\"stroke:#000000; stroke-linecap:butt; stroke-linejoin:round; stroke-width:4; stroke-opacity:1; fill:none\" points=\"\n",
       "  209.029,837.986 234.753,837.986 \n",
       "  \"/>\n",
       "<polyline clip-path=\"url(#clip230)\" style=\"stroke:#000000; stroke-linecap:butt; stroke-linejoin:round; stroke-width:4; stroke-opacity:1; fill:none\" points=\"\n",
       "  209.029,562.962 234.753,562.962 \n",
       "  \"/>\n",
       "<polyline clip-path=\"url(#clip230)\" style=\"stroke:#000000; stroke-linecap:butt; stroke-linejoin:round; stroke-width:4; stroke-opacity:1; fill:none\" points=\"\n",
       "  209.029,287.937 234.753,287.937 \n",
       "  \"/>\n",
       "<path clip-path=\"url(#clip230)\" d=\"M50.9921 1388.49 L80.6679 1388.49 L80.6679 1392.42 L50.9921 1392.42 L50.9921 1388.49 Z\" fill=\"#000000\" fill-rule=\"evenodd\" fill-opacity=\"1\" /><path clip-path=\"url(#clip230)\" d=\"M91.5706 1401.38 L99.2095 1401.38 L99.2095 1375.01 L90.8993 1376.68 L90.8993 1372.42 L99.1632 1370.76 L103.839 1370.76 L103.839 1401.38 L111.478 1401.38 L111.478 1405.32 L91.5706 1405.32 L91.5706 1401.38 Z\" fill=\"#000000\" fill-rule=\"evenodd\" fill-opacity=\"1\" /><path clip-path=\"url(#clip230)\" d=\"M130.922 1373.83 Q127.311 1373.83 125.482 1377.4 Q123.677 1380.94 123.677 1388.07 Q123.677 1395.18 125.482 1398.74 Q127.311 1402.28 130.922 1402.28 Q134.556 1402.28 136.362 1398.74 Q138.191 1395.18 138.191 1388.07 Q138.191 1380.94 136.362 1377.4 Q134.556 1373.83 130.922 1373.83 M130.922 1370.13 Q136.732 1370.13 139.788 1374.74 Q142.867 1379.32 142.867 1388.07 Q142.867 1396.8 139.788 1401.4 Q136.732 1405.99 130.922 1405.99 Q125.112 1405.99 122.033 1401.4 Q118.978 1396.8 118.978 1388.07 Q118.978 1379.32 122.033 1374.74 Q125.112 1370.13 130.922 1370.13 Z\" fill=\"#000000\" fill-rule=\"evenodd\" fill-opacity=\"1\" /><path clip-path=\"url(#clip230)\" d=\"M161.084 1373.83 Q157.473 1373.83 155.644 1377.4 Q153.839 1380.94 153.839 1388.07 Q153.839 1395.18 155.644 1398.74 Q157.473 1402.28 161.084 1402.28 Q164.718 1402.28 166.524 1398.74 Q168.353 1395.18 168.353 1388.07 Q168.353 1380.94 166.524 1377.4 Q164.718 1373.83 161.084 1373.83 M161.084 1370.13 Q166.894 1370.13 169.95 1374.74 Q173.029 1379.32 173.029 1388.07 Q173.029 1396.8 169.95 1401.4 Q166.894 1405.99 161.084 1405.99 Q155.274 1405.99 152.195 1401.4 Q149.14 1396.8 149.14 1388.07 Q149.14 1379.32 152.195 1374.74 Q155.274 1370.13 161.084 1370.13 Z\" fill=\"#000000\" fill-rule=\"evenodd\" fill-opacity=\"1\" /><path clip-path=\"url(#clip230)\" d=\"M81.154 1113.46 L110.83 1113.46 L110.83 1117.4 L81.154 1117.4 L81.154 1113.46 Z\" fill=\"#000000\" fill-rule=\"evenodd\" fill-opacity=\"1\" /><path clip-path=\"url(#clip230)\" d=\"M130.922 1113.88 Q127.589 1113.88 125.668 1115.66 Q123.77 1117.44 123.77 1120.57 Q123.77 1123.69 125.668 1125.48 Q127.589 1127.26 130.922 1127.26 Q134.256 1127.26 136.177 1125.48 Q138.098 1123.67 138.098 1120.57 Q138.098 1117.44 136.177 1115.66 Q134.279 1113.88 130.922 1113.88 M126.246 1111.89 Q123.237 1111.15 121.547 1109.09 Q119.881 1107.03 119.881 1104.06 Q119.881 1099.92 122.82 1097.51 Q125.783 1095.11 130.922 1095.11 Q136.084 1095.11 139.024 1097.51 Q141.964 1099.92 141.964 1104.06 Q141.964 1107.03 140.274 1109.09 Q138.607 1111.15 135.621 1111.89 Q139.001 1112.68 140.876 1114.97 Q142.774 1117.26 142.774 1120.57 Q142.774 1125.59 139.695 1128.28 Q136.64 1130.96 130.922 1130.96 Q125.205 1130.96 122.126 1128.28 Q119.07 1125.59 119.07 1120.57 Q119.07 1117.26 120.969 1114.97 Q122.867 1112.68 126.246 1111.89 M124.533 1104.5 Q124.533 1107.19 126.2 1108.69 Q127.89 1110.2 130.922 1110.2 Q133.931 1110.2 135.621 1108.69 Q137.334 1107.19 137.334 1104.5 Q137.334 1101.82 135.621 1100.31 Q133.931 1098.81 130.922 1098.81 Q127.89 1098.81 126.2 1100.31 Q124.533 1101.82 124.533 1104.5 Z\" fill=\"#000000\" fill-rule=\"evenodd\" fill-opacity=\"1\" /><path clip-path=\"url(#clip230)\" d=\"M161.084 1098.81 Q157.473 1098.81 155.644 1102.37 Q153.839 1105.92 153.839 1113.05 Q153.839 1120.15 155.644 1123.72 Q157.473 1127.26 161.084 1127.26 Q164.718 1127.26 166.524 1123.72 Q168.353 1120.15 168.353 1113.05 Q168.353 1105.92 166.524 1102.37 Q164.718 1098.81 161.084 1098.81 M161.084 1095.11 Q166.894 1095.11 169.95 1099.71 Q173.029 1104.3 173.029 1113.05 Q173.029 1121.77 169.95 1126.38 Q166.894 1130.96 161.084 1130.96 Q155.274 1130.96 152.195 1126.38 Q149.14 1121.77 149.14 1113.05 Q149.14 1104.3 152.195 1099.71 Q155.274 1095.11 161.084 1095.11 Z\" fill=\"#000000\" fill-rule=\"evenodd\" fill-opacity=\"1\" /><path clip-path=\"url(#clip230)\" d=\"M81.154 838.438 L110.83 838.438 L110.83 842.373 L81.154 842.373 L81.154 838.438 Z\" fill=\"#000000\" fill-rule=\"evenodd\" fill-opacity=\"1\" /><path clip-path=\"url(#clip230)\" d=\"M131.501 836.123 Q128.353 836.123 126.501 838.276 Q124.672 840.428 124.672 844.178 Q124.672 847.905 126.501 850.081 Q128.353 852.234 131.501 852.234 Q134.649 852.234 136.478 850.081 Q138.33 847.905 138.33 844.178 Q138.33 840.428 136.478 838.276 Q134.649 836.123 131.501 836.123 M140.783 821.47 L140.783 825.729 Q139.024 824.896 137.219 824.456 Q135.436 824.016 133.677 824.016 Q129.047 824.016 126.594 827.141 Q124.163 830.266 123.816 836.586 Q125.182 834.572 127.242 833.507 Q129.302 832.419 131.779 832.419 Q136.987 832.419 139.996 835.59 Q143.029 838.738 143.029 844.178 Q143.029 849.502 139.881 852.72 Q136.732 855.937 131.501 855.937 Q125.506 855.937 122.334 851.354 Q119.163 846.748 119.163 838.021 Q119.163 829.826 123.052 824.965 Q126.941 820.081 133.492 820.081 Q135.251 820.081 137.033 820.428 Q138.839 820.776 140.783 821.47 Z\" fill=\"#000000\" fill-rule=\"evenodd\" fill-opacity=\"1\" /><path clip-path=\"url(#clip230)\" d=\"M161.084 823.785 Q157.473 823.785 155.644 827.35 Q153.839 830.891 153.839 838.021 Q153.839 845.127 155.644 848.692 Q157.473 852.234 161.084 852.234 Q164.718 852.234 166.524 848.692 Q168.353 845.127 168.353 838.021 Q168.353 830.891 166.524 827.35 Q164.718 823.785 161.084 823.785 M161.084 820.081 Q166.894 820.081 169.95 824.688 Q173.029 829.271 173.029 838.021 Q173.029 846.748 169.95 851.354 Q166.894 855.937 161.084 855.937 Q155.274 855.937 152.195 851.354 Q149.14 846.748 149.14 838.021 Q149.14 829.271 152.195 824.688 Q155.274 820.081 161.084 820.081 Z\" fill=\"#000000\" fill-rule=\"evenodd\" fill-opacity=\"1\" /><path clip-path=\"url(#clip230)\" d=\"M81.154 563.413 L110.83 563.413 L110.83 567.348 L81.154 567.348 L81.154 563.413 Z\" fill=\"#000000\" fill-rule=\"evenodd\" fill-opacity=\"1\" /><path clip-path=\"url(#clip230)\" d=\"M133.769 549.756 L121.964 568.205 L133.769 568.205 L133.769 549.756 M132.543 545.682 L138.422 545.682 L138.422 568.205 L143.353 568.205 L143.353 572.093 L138.422 572.093 L138.422 580.242 L133.769 580.242 L133.769 572.093 L118.168 572.093 L118.168 567.58 L132.543 545.682 Z\" fill=\"#000000\" fill-rule=\"evenodd\" fill-opacity=\"1\" /><path clip-path=\"url(#clip230)\" d=\"M161.084 548.76 Q157.473 548.76 155.644 552.325 Q153.839 555.867 153.839 562.996 Q153.839 570.103 155.644 573.668 Q157.473 577.209 161.084 577.209 Q164.718 577.209 166.524 573.668 Q168.353 570.103 168.353 562.996 Q168.353 555.867 166.524 552.325 Q164.718 548.76 161.084 548.76 M161.084 545.057 Q166.894 545.057 169.95 549.663 Q173.029 554.246 173.029 562.996 Q173.029 571.723 169.95 576.33 Q166.894 580.913 161.084 580.913 Q155.274 580.913 152.195 576.33 Q149.14 571.723 149.14 562.996 Q149.14 554.246 152.195 549.663 Q155.274 545.057 161.084 545.057 Z\" fill=\"#000000\" fill-rule=\"evenodd\" fill-opacity=\"1\" /><path clip-path=\"url(#clip230)\" d=\"M81.154 288.388 L110.83 288.388 L110.83 292.324 L81.154 292.324 L81.154 288.388 Z\" fill=\"#000000\" fill-rule=\"evenodd\" fill-opacity=\"1\" /><path clip-path=\"url(#clip230)\" d=\"M124.95 301.282 L141.269 301.282 L141.269 305.217 L119.325 305.217 L119.325 301.282 Q121.987 298.527 126.57 293.898 Q131.177 289.245 132.357 287.902 Q134.603 285.379 135.482 283.643 Q136.385 281.884 136.385 280.194 Q136.385 277.439 134.441 275.703 Q132.519 273.967 129.418 273.967 Q127.219 273.967 124.765 274.731 Q122.334 275.495 119.557 277.046 L119.557 272.324 Q122.381 271.189 124.834 270.611 Q127.288 270.032 129.325 270.032 Q134.695 270.032 137.89 272.717 Q141.084 275.402 141.084 279.893 Q141.084 282.023 140.274 283.944 Q139.487 285.842 137.381 288.435 Q136.802 289.106 133.7 292.324 Q130.598 295.518 124.95 301.282 Z\" fill=\"#000000\" fill-rule=\"evenodd\" fill-opacity=\"1\" /><path clip-path=\"url(#clip230)\" d=\"M161.084 273.736 Q157.473 273.736 155.644 277.301 Q153.839 280.842 153.839 287.972 Q153.839 295.078 155.644 298.643 Q157.473 302.185 161.084 302.185 Q164.718 302.185 166.524 298.643 Q168.353 295.078 168.353 287.972 Q168.353 280.842 166.524 277.301 Q164.718 273.736 161.084 273.736 M161.084 270.032 Q166.894 270.032 169.95 274.639 Q173.029 279.222 173.029 287.972 Q173.029 296.699 169.95 301.305 Q166.894 305.888 161.084 305.888 Q155.274 305.888 152.195 301.305 Q149.14 296.699 149.14 287.972 Q149.14 279.222 152.195 274.639 Q155.274 270.032 161.084 270.032 Z\" fill=\"#000000\" fill-rule=\"evenodd\" fill-opacity=\"1\" /><polyline clip-path=\"url(#clip232)\" style=\"stroke:#009af9; stroke-linecap:butt; stroke-linejoin:round; stroke-width:12; stroke-opacity:1; fill:none\" points=\"\n",
       "  269.7,87.9763 280.071,117.889 290.442,145.41 300.814,178.78 311.185,210.871 321.556,238.337 331.927,266.27 342.298,291.087 352.67,318.332 363.041,347.271 \n",
       "  373.412,377.587 383.783,406.877 394.154,439.491 404.526,469.964 414.897,492.91 425.268,523.736 435.639,549.99 446.01,578.963 456.382,611.804 466.753,639.387 \n",
       "  477.124,671.367 487.495,697.57 497.866,725.112 508.238,755.899 518.609,785.345 528.98,812.556 539.351,843.355 549.722,871.086 560.094,898.471 570.465,926.742 \n",
       "  580.836,961.458 591.207,989.213 601.578,1012.52 611.95,1037.76 622.321,1071.94 632.692,1101.75 643.063,1131.81 653.435,1163.51 663.806,1198.62 674.177,1235.35 \n",
       "  684.548,1270.4 694.919,1312.47 705.291,1350.57 715.662,1419.11 726.033,1445.68 736.404,1445.68 746.775,1445.68 757.147,1445.68 767.518,1445.68 777.889,1445.68 \n",
       "  788.26,1445.68 798.631,1445.68 809.003,1445.68 819.374,1445.68 829.745,1445.68 840.116,1445.69 850.487,1445.69 860.859,1445.69 871.23,1445.69 881.601,1445.69 \n",
       "  891.972,1445.69 902.343,1445.69 912.715,1445.69 923.086,1445.7 933.457,1445.7 943.828,1445.7 954.199,1445.7 964.571,1445.7 974.942,1445.71 985.313,1445.71 \n",
       "  995.684,1445.71 1006.06,1445.71 1016.43,1445.71 1026.8,1445.71 1037.17,1445.71 1047.54,1445.71 1057.91,1445.71 1068.28,1445.71 1078.65,1445.71 1089.02,1445.71 \n",
       "  1099.4,1445.72 1109.77,1445.72 1120.14,1445.72 1130.51,1445.72 1140.88,1445.72 1151.25,1445.72 1161.62,1445.72 1171.99,1445.72 1182.37,1445.72 1192.74,1445.72 \n",
       "  1203.11,1445.72 1213.48,1445.72 1223.85,1445.72 1234.22,1445.72 1244.59,1445.72 1254.96,1445.72 1265.34,1445.72 1275.71,1445.72 1286.08,1445.72 1296.45,1445.72 \n",
       "  1306.82,1445.72 1317.19,1445.72 1327.56,1445.72 1337.93,1445.72 1348.31,1445.72 1358.68,1445.72 1369.05,1445.72 1379.42,1445.72 1389.79,1445.72 1400.16,1445.72 \n",
       "  1410.53,1445.72 1420.9,1445.72 1431.27,1445.72 1441.65,1445.72 1452.02,1445.72 1462.39,1445.72 1472.76,1445.72 1483.13,1445.72 1493.5,1445.72 1503.87,1445.72 \n",
       "  1514.24,1445.72 1524.62,1445.72 1534.99,1445.72 1545.36,1445.72 1555.73,1445.72 1566.1,1445.72 1576.47,1445.72 1586.84,1445.72 1597.21,1445.72 1607.59,1445.72 \n",
       "  1617.96,1445.72 1628.33,1445.72 1638.7,1445.72 1649.07,1445.72 1659.44,1445.72 1669.81,1445.72 1680.18,1445.72 1690.55,1445.72 1700.93,1445.72 1711.3,1445.72 \n",
       "  1721.67,1445.72 1732.04,1445.72 1742.41,1445.72 1752.78,1445.72 1763.15,1445.72 1773.52,1445.72 1783.9,1445.72 1794.27,1445.72 1804.64,1445.72 1815.01,1445.72 \n",
       "  1825.38,1445.72 1835.75,1445.72 1846.12,1445.72 1856.49,1445.72 1866.87,1445.72 1877.24,1445.72 1887.61,1445.72 1897.98,1445.72 1908.35,1445.72 1918.72,1445.72 \n",
       "  1929.09,1445.72 1939.46,1445.72 1949.83,1445.72 1960.21,1445.72 1970.58,1445.72 1980.95,1445.72 1991.32,1445.72 2001.69,1445.72 2012.06,1445.72 2022.43,1445.72 \n",
       "  2032.8,1445.72 2043.18,1445.72 2053.55,1445.72 2063.92,1445.72 2074.29,1445.72 2084.66,1445.72 2095.03,1445.72 2105.4,1445.72 2115.77,1445.72 2126.15,1445.72 \n",
       "  2136.52,1445.72 2146.89,1445.72 2157.26,1445.72 2167.63,1445.72 2178,1445.72 2188.37,1445.72 2198.74,1445.72 2209.11,1445.72 2219.49,1445.72 2229.86,1445.72 \n",
       "  2240.23,1445.72 2250.6,1445.72 2260.97,1445.72 2271.34,1445.72 2281.71,1445.72 2292.08,1445.72 \n",
       "  \"/>\n",
       "<path clip-path=\"url(#clip230)\" d=\"\n",
       "M1990.68 198.898 L2281.3 198.898 L2281.3 95.2176 L1990.68 95.2176  Z\n",
       "  \" fill=\"#ffffff\" fill-rule=\"evenodd\" fill-opacity=\"1\"/>\n",
       "<polyline clip-path=\"url(#clip230)\" style=\"stroke:#000000; stroke-linecap:butt; stroke-linejoin:round; stroke-width:4; stroke-opacity:1; fill:none\" points=\"\n",
       "  1990.68,198.898 2281.3,198.898 2281.3,95.2176 1990.68,95.2176 1990.68,198.898 \n",
       "  \"/>\n",
       "<polyline clip-path=\"url(#clip230)\" style=\"stroke:#009af9; stroke-linecap:butt; stroke-linejoin:round; stroke-width:4; stroke-opacity:1; fill:none\" points=\"\n",
       "  2014.5,147.058 2157.41,147.058 \n",
       "  \"/>\n",
       "<path clip-path=\"url(#clip230)\" d=\"M2195.07 166.745 Q2193.27 171.375 2191.55 172.787 Q2189.84 174.199 2186.97 174.199 L2183.57 174.199 L2183.57 170.634 L2186.07 170.634 Q2187.83 170.634 2188.8 169.8 Q2189.77 168.967 2190.95 165.865 L2191.72 163.921 L2181.23 138.412 L2185.74 138.412 L2193.85 158.689 L2201.95 138.412 L2206.46 138.412 L2195.07 166.745 Z\" fill=\"#000000\" fill-rule=\"evenodd\" fill-opacity=\"1\" /><path clip-path=\"url(#clip230)\" d=\"M2213.75 160.402 L2221.39 160.402 L2221.39 134.037 L2213.08 135.703 L2213.08 131.444 L2221.35 129.778 L2226.02 129.778 L2226.02 160.402 L2233.66 160.402 L2233.66 164.338 L2213.75 164.338 L2213.75 160.402 Z\" fill=\"#000000\" fill-rule=\"evenodd\" fill-opacity=\"1\" /></svg>\n"
      ]
     },
     "execution_count": 23,
     "metadata": {},
     "output_type": "execute_result"
    }
   ],
   "source": [
    "mpo = xxz_mpo(50, 1., 1.5, 0.5)\n",
    "@time Eigenvalues, state = ground_state(mpo, D=50)\n",
    "plot(Eigenvalues, linewidth=3)"
   ]
  },
  {
   "cell_type": "markdown",
   "id": "ef1003d3",
   "metadata": {},
   "source": [
    "#### Energy per site scaling"
   ]
  },
  {
   "cell_type": "code",
   "execution_count": 24,
   "id": "27abb330",
   "metadata": {},
   "outputs": [],
   "source": [
    "# sites = collect(10:5:60)\n",
    "# Eigenvalues = Float64[]\n",
    "# for n in sites\n",
    "#     mpo = xxz_mpo(n, 1., 1.2, 0.5)\n",
    "#     evals, state = ground_state(mpo, D=50)\n",
    "#     push!(Eigenvalues, evals[end] / n)\n",
    "# end"
   ]
  },
  {
   "cell_type": "code",
   "execution_count": 25,
   "id": "770e57d0",
   "metadata": {},
   "outputs": [],
   "source": [
    "# fig = plot(sites, Eigenvalues, linewidth=2, linestyle=:dash, marker=:circle)\n",
    "# xlabel!(fig, \"L\")\n",
    "# ylabel!(fig, \"energy per site\")"
   ]
  },
  {
   "cell_type": "markdown",
   "id": "d2aae055",
   "metadata": {},
   "source": [
    "## Part 4: Implementation of time-evolving block decimation (TEBD) algorithm from scratch"
   ]
  },
  {
   "cell_type": "markdown",
   "id": "b43cfb9f",
   "metadata": {},
   "source": [
    "Second-order trotter expansion: assuming $H = H_1 + H_2 + \\dots $, then we have \n",
    "\n",
    "$\\exp(\\tau H) = \\exp(\\tau H_1/2)\\exp(\\tau H_2/2)\\dots \\exp(\\tau H_2/2)\\exp(\\tau H_1/2) + O(\\tau^2)$"
   ]
  },
  {
   "cell_type": "markdown",
   "id": "1f63992b",
   "metadata": {},
   "source": [
    "In case the Hamiltonian $\\hat{H}_{XXZ}$ is __nearest neighbour__, that is, $\\hat{H}_{XXZ} = \\hat{H}^{even} + \\hat{H}^{odd} $, where $\\hat{H}^{even}_{XXZ}$ and $\\hat{H}^{odd}_{XXZ}$ act on the even and odd bonds separately, then we simply have"
   ]
  },
  {
   "cell_type": "markdown",
   "id": "62e69acc",
   "metadata": {},
   "source": [
    "$\\exp(\\tau \\hat{H}_{XXZ}) = \\exp(\\tau \\hat{H}^{even}_{XXZ}/2) \\exp(\\tau \\hat{H}^{odd}_{XXZ})\\exp(\\tau \\hat{H}^{even}_{XXZ}/2) + O(\\tau^2)$"
   ]
  },
  {
   "cell_type": "markdown",
   "id": "39559fe7",
   "metadata": {},
   "source": [
    "### A. Build the bond evolution operator for the even and odd bonds"
   ]
  },
  {
   "cell_type": "code",
   "execution_count": 26,
   "id": "792ef8e8",
   "metadata": {},
   "outputs": [
    {
     "data": {
      "text/plain": [
       "(2, 2, 2, 2)"
      ]
     },
     "execution_count": 26,
     "metadata": {},
     "output_type": "execute_result"
    }
   ],
   "source": [
    "# assume no magnetization, namely hz = 0\n",
    "function compute_two_body_gate(J::Real, Delta::Real, dt::Real)\n",
    "    sigma_x, sigma_y, sigma_z = pauli_operators()\n",
    "    h = J .* (kron(sigma_x, sigma_x) + kron(sigma_y, sigma_y)) + Delta * kron(sigma_z, sigma_z)\n",
    "    U = exp(-im*dt .* h)\n",
    "    return reshape(U, 2, 2, 2, 2)\n",
    "end\n",
    "\n",
    "U = compute_two_body_gate(1., 1.2, 0.1)\n",
    "size(U)"
   ]
  },
  {
   "cell_type": "markdown",
   "id": "99e9f79a",
   "metadata": {},
   "source": [
    "### B. Prepare mps in right canonical form\n",
    "- The __correct__ singular vectors are also required, which means that they correspond to the correct bipartition Schmidt numbers"
   ]
  },
  {
   "cell_type": "code",
   "execution_count": 27,
   "id": "38791a4c",
   "metadata": {},
   "outputs": [
    {
     "data": {
      "text/plain": [
       "true"
      ]
     },
     "execution_count": 27,
     "metadata": {},
     "output_type": "execute_result"
    }
   ],
   "source": [
    "mps = generate_random_mps(ComplexF64, 5, 2, 3)\n",
    "svectors = prepare_right!(mps)\n",
    "is_right_canonical(mps)"
   ]
  },
  {
   "cell_type": "markdown",
   "id": "a6fb8714",
   "metadata": {},
   "source": [
    "Singular vectors produced in this way are not the correct ones in general"
   ]
  },
  {
   "cell_type": "code",
   "execution_count": 28,
   "id": "771903c0",
   "metadata": {},
   "outputs": [
    {
     "data": {
      "text/plain": [
       "4-element Vector{Float64}:\n",
       " 0.8005801282922547\n",
       " 0.8429097082340113\n",
       " 1.1604825788978783\n",
       " 2.117262664853158"
      ]
     },
     "execution_count": 28,
     "metadata": {},
     "output_type": "execute_result"
    }
   ],
   "source": [
    "[norm(item) for item in svectors]"
   ]
  },
  {
   "cell_type": "markdown",
   "id": "dccc3e0f",
   "metadata": {},
   "source": [
    "The right way to go, first prepare mps in left canonical form, and then prepare it in right canonical form"
   ]
  },
  {
   "cell_type": "code",
   "execution_count": 29,
   "id": "909cb7af",
   "metadata": {},
   "outputs": [
    {
     "data": {
      "text/plain": [
       "4-element Vector{Float64}:\n",
       " 1.0\n",
       " 1.0\n",
       " 1.0\n",
       " 1.0"
      ]
     },
     "execution_count": 29,
     "metadata": {},
     "output_type": "execute_result"
    }
   ],
   "source": [
    "svectors = prepare_left!(mps)\n",
    "svectors = prepare_right!(mps)\n",
    "[norm(item) for item in svectors]"
   ]
  },
  {
   "cell_type": "markdown",
   "id": "427c68e2",
   "metadata": {},
   "source": [
    "### C. Apply a bond evolution operator onto the mps\n",
    "- We assume the mps is prepared in the right-canonical form, with all the singular vectors stored. \n",
    "- A trick to __avoid dividing by singular vectors__ is used, for details see [The density-matrix renormalization group in the age of matrix product states](https://linkinghub.elsevier.com/retrieve/pii/S0003491610001752), Section 7.3.2, Eqs.(270-274), as follows: <img src=\"smart_bond_evolution.jpeg\" width=\"400\" height=\"400\" />\n",
    "- The mps will keep to be right-canonical, and the singular vectors will remain to be correct with such bond evolution algorithm"
   ]
  },
  {
   "cell_type": "code",
   "execution_count": 30,
   "id": "7848c505",
   "metadata": {},
   "outputs": [
    {
     "data": {
      "text/plain": [
       "apply! (generic function with 1 method)"
      ]
     },
     "execution_count": 30,
     "metadata": {},
     "output_type": "execute_result"
    }
   ],
   "source": [
    "function apply!(bond::Int, U::AbstractArray{ComplexF64, 4}, mps::Vector{<:AbstractArray{ComplexF64, 3}}, svectors::Vector{Vector{Float64}})\n",
    "#     build two-ste mps\n",
    "    @tensor twositemps[a, b, d, e] := mps[bond][a, b, c] * mps[bond+1][c, d, e]\n",
    "#     evolve two-site mps\n",
    "    @tensor twositemps1[e, a, b, f] := U[a, b, c, d] * twositemps[e, c, d, f]\n",
    "    twositemps = copy(twositemps1)\n",
    "#     separate two-site mps, using the algorithm of hasting\n",
    "    if bond != 1\n",
    "        smat = Matrix(Diagonal(svectors[bond-1]))\n",
    "        @tensor twositemps1[a, c, d, e] := smat[a, b] * twositemps[b, c, d, e]\n",
    "    end\n",
    "    \n",
    "    s1, s2, s3, s4 = size(twositemps)\n",
    "    twositemps = reshape(twositemps, s1*s2, s3*s4)\n",
    "    u, s, v = svd(reshape(twositemps1, s1*s2, s3*s4))\n",
    "#     println(\"bond is $bond\")\n",
    "#     println(s)\n",
    "    v = v'\n",
    "    @tensor u[a, c] = twositemps[a, b] * conj(v[c, b])\n",
    "    mps[bond] = reshape(u, s1, s2, length(s))\n",
    "    mps[bond+1] = reshape(v, length(s), s3, s4)\n",
    "    svectors[bond] = s\n",
    "end\n"
   ]
  },
  {
   "cell_type": "markdown",
   "id": "d6e9782d",
   "metadata": {},
   "source": [
    "### C. Second order TEBD for a single time step <img src=\"tebd.jpeg\" width=\"800\" height=\"400\" />"
   ]
  },
  {
   "cell_type": "code",
   "execution_count": 31,
   "id": "167afc45",
   "metadata": {},
   "outputs": [
    {
     "data": {
      "text/plain": [
       "tebd! (generic function with 1 method)"
      ]
     },
     "execution_count": 31,
     "metadata": {},
     "output_type": "execute_result"
    }
   ],
   "source": [
    "function tebd!(Uevenhalf::AbstractArray{ComplexF64, 4}, Uodd::AbstractArray{ComplexF64, 4}, mps::Vector{<:AbstractArray{ComplexF64, 3}}, svectors::Vector{Vector{Float64}})\n",
    "    L = length(mps)\n",
    "    for bond in 2:2:L-1\n",
    "        apply!(bond, Uevenhalf, mps, svectors)\n",
    "    end\n",
    "    for bond in 1:2:L-1\n",
    "        apply!(bond, Uodd, mps, svectors)\n",
    "    end\n",
    "    for bond in 2:2:L-1\n",
    "        apply!(bond, Uevenhalf, mps, svectors)\n",
    "    end\n",
    "end"
   ]
  },
  {
   "cell_type": "markdown",
   "id": "d84b2761",
   "metadata": {},
   "source": [
    "### D. Example of simple quench"
   ]
  },
  {
   "cell_type": "code",
   "execution_count": 32,
   "id": "39202d33",
   "metadata": {
    "scrolled": true
   },
   "outputs": [
    {
     "name": "stdout",
     "output_type": "stream",
     "text": [
      "we are at the 1-th sweep.\n",
      "we are sweep from left to right on site 1...\n",
      "lowest eigenvalue at site 1 is -5.430387420144977\n",
      "we are sweep from left to right on site 2...\n",
      "lowest eigenvalue at site 2 is -8.094350680970434\n",
      "we are sweep from left to right on site 3...\n",
      "lowest eigenvalue at site 3 is -10.001042386781222\n",
      "we are sweep from left to right on site 4...\n",
      "lowest eigenvalue at site 4 is -12.129938398110955\n",
      "we are sweep from left to right on site 5...\n",
      "lowest eigenvalue at site 5 is -14.690195151947218\n",
      "we are sweep from left to right on site 6...\n",
      "lowest eigenvalue at site 6 is -18.672221739617175\n",
      "we are sweep from left to right on site 7...\n",
      "lowest eigenvalue at site 7 is -19.028373126661013\n",
      "we are sweep from left to right on site 8...\n",
      "lowest eigenvalue at site 8 is -19.02837312666104\n",
      "we are sweep from left to right on site 9...\n",
      "lowest eigenvalue at site 9 is -19.028373126661048\n",
      "we are sweep from left to right on site 10...\n",
      "lowest eigenvalue at site 10 is -19.028373126661062\n",
      "\n",
      "\n",
      "we are sweep from right to left on site 11...\n",
      "lowest eigenvalue at site 11 is -19.028373126661066\n",
      "we are sweep from right to left on site 10...\n",
      "lowest eigenvalue at site 10 is -19.028373126661066\n",
      "we are sweep from right to left on site 9...\n",
      "lowest eigenvalue at site 9 is -19.028373126661048\n",
      "we are sweep from right to left on site 8...\n",
      "lowest eigenvalue at site 8 is -19.028373126661027\n",
      "we are sweep from right to left on site 7...\n",
      "lowest eigenvalue at site 7 is -19.028373126661023\n",
      "we are sweep from right to left on site 6...\n",
      "lowest eigenvalue at site 6 is -19.028373203510114\n",
      "we are sweep from right to left on site 5...\n",
      "lowest eigenvalue at site 5 is -19.028373209437653\n",
      "we are sweep from right to left on site 4...\n",
      "lowest eigenvalue at site 4 is -19.028373209437653\n",
      "we are sweep from right to left on site 3...\n",
      "lowest eigenvalue at site 3 is -19.028373209437643\n",
      "we are sweep from right to left on site 2...\n",
      "lowest eigenvalue at site 2 is -19.028373209437664\n",
      "we are at the 2-th sweep.\n",
      "we are sweep from left to right on site 1...\n",
      "lowest eigenvalue at site 1 is -19.028373209437657\n",
      "we are sweep from left to right on site 2...\n",
      "lowest eigenvalue at site 2 is -19.028373209437653\n",
      "we are sweep from left to right on site 3...\n",
      "lowest eigenvalue at site 3 is -19.028373209437646\n",
      "we are sweep from left to right on site 4...\n",
      "lowest eigenvalue at site 4 is -19.028373209437653\n",
      "we are sweep from left to right on site 5...\n",
      "lowest eigenvalue at site 5 is -19.028373209437664\n",
      "we are sweep from left to right on site 6...\n",
      "lowest eigenvalue at site 6 is -19.02837320943771\n",
      "we are sweep from left to right on site 7...\n",
      "lowest eigenvalue at site 7 is -19.02837320943785\n",
      "we are sweep from left to right on site 8...\n",
      "lowest eigenvalue at site 8 is -19.028373209437873\n",
      "we are sweep from left to right on site 9...\n",
      "lowest eigenvalue at site 9 is -19.028373209437895\n",
      "we are sweep from left to right on site 10...\n",
      "lowest eigenvalue at site 10 is -19.028373209437905\n",
      "\n",
      "\n",
      "we are sweep from right to left on site 11...\n",
      "lowest eigenvalue at site 11 is -19.028373209437902\n",
      "we are sweep from right to left on site 10...\n",
      "lowest eigenvalue at site 10 is -19.028373209437913\n",
      "we are sweep from right to left on site 9...\n",
      "lowest eigenvalue at site 9 is -19.02837320943791\n",
      "we are sweep from right to left on site 8...\n",
      "lowest eigenvalue at site 8 is -19.028373209437913\n",
      "we are sweep from right to left on site 7...\n",
      "lowest eigenvalue at site 7 is -19.028373209437902\n",
      "we are sweep from right to left on site 6...\n",
      "lowest eigenvalue at site 6 is -19.028373209437913\n",
      "we are sweep from right to left on site 5...\n",
      "lowest eigenvalue at site 5 is -19.028373209437916\n",
      "we are sweep from right to left on site 4...\n",
      "lowest eigenvalue at site 4 is -19.028373209437913\n",
      "we are sweep from right to left on site 3...\n",
      "lowest eigenvalue at site 3 is -19.028373209437916\n",
      "we are sweep from right to left on site 2...\n",
      "lowest eigenvalue at site 2 is -19.02837320943791\n",
      "DMRG converged in 2 sweeps.\n"
     ]
    },
    {
     "data": {
      "text/plain": [
       "40-element Vector{Float64}:\n",
       "  -5.430387420144977\n",
       "  -8.094350680970434\n",
       " -10.001042386781222\n",
       " -12.129938398110955\n",
       " -14.690195151947218\n",
       " -18.672221739617175\n",
       " -19.028373126661013\n",
       " -19.02837312666104\n",
       " -19.028373126661048\n",
       " -19.028373126661062\n",
       " -19.028373126661066\n",
       " -19.028373126661066\n",
       " -19.028373126661048\n",
       "   ⋮\n",
       " -19.028373209437895\n",
       " -19.028373209437905\n",
       " -19.028373209437902\n",
       " -19.028373209437913\n",
       " -19.02837320943791\n",
       " -19.028373209437913\n",
       " -19.028373209437902\n",
       " -19.028373209437913\n",
       " -19.028373209437916\n",
       " -19.028373209437913\n",
       " -19.028373209437916\n",
       " -19.02837320943791"
      ]
     },
     "execution_count": 32,
     "metadata": {},
     "output_type": "execute_result"
    }
   ],
   "source": [
    "L = 11\n",
    "J = 1.\n",
    "Delta = 1.\n",
    "sigma_x, sigma_y, sigma_z = pauli_operators()\n",
    "mpo = xxz_mpo(L, J, Delta, 0.5)\n",
    "Eigenvalues, mps = ground_state(mpo, D=30)\n",
    "Eigenvalues"
   ]
  },
  {
   "cell_type": "code",
   "execution_count": 33,
   "id": "55e0a128",
   "metadata": {},
   "outputs": [
    {
     "data": {
      "text/plain": [
       "10-element Vector{Float64}:\n",
       " 1.0000000000000004\n",
       " 1.0000000000000004\n",
       " 1.0000000000000002\n",
       " 1.0000000000000002\n",
       " 1.0\n",
       " 1.0000000000000002\n",
       " 1.0\n",
       " 1.0\n",
       " 0.9999999999999997\n",
       " 0.9999999999999999"
      ]
     },
     "execution_count": 33,
     "metadata": {},
     "output_type": "execute_result"
    }
   ],
   "source": [
    "prepare_left!(mps)\n",
    "svectors = prepare_right!(mps)\n",
    "[norm(item) for item in svectors]"
   ]
  },
  {
   "cell_type": "markdown",
   "id": "0c2f3505",
   "metadata": {},
   "source": [
    "#### Measure local observables"
   ]
  },
  {
   "cell_type": "code",
   "execution_count": 34,
   "id": "79a82ab9",
   "metadata": {},
   "outputs": [
    {
     "data": {
      "text/plain": [
       "-5.550081272607916e-14 + 0.0im"
      ]
     },
     "execution_count": 34,
     "metadata": {},
     "output_type": "execute_result"
    }
   ],
   "source": [
    "# think about it!!!\n",
    "function local_measurement(site::Int, op::AbstractMatrix, mps::Vector{<:AbstractArray{ComplexF64, 3}}, svectors::Vector{Vector{Float64}})\n",
    "    if site == 1\n",
    "        mpsj = mps[site]\n",
    "    else\n",
    "        v = Matrix(Diagonal(svectors[site-1]))\n",
    "        @tensor mpsj[a, c, d] := v[a, b] * mps[site][b, c, d]\n",
    "    end\n",
    "    @tensor r[] := conj(mpsj[a, b, c]) * op[b, d] * mpsj[a, d, c]\n",
    "    return r[]\n",
    "end\n",
    "\n",
    "local_measurement(1, sigma_x, mps, svectors)"
   ]
  },
  {
   "cell_type": "code",
   "execution_count": 35,
   "id": "d1239317",
   "metadata": {},
   "outputs": [
    {
     "data": {
      "text/plain": [
       "11-element Vector{Float64}:\n",
       " -0.315092438313409\n",
       "  0.19692569938088617\n",
       " -0.3713690613279029\n",
       "  0.25195019693974435\n",
       " -0.3963363808288738\n",
       "  0.26784396829939544\n",
       " -0.3963363808288828\n",
       "  0.2519501969397344\n",
       " -0.37136906132796\n",
       "  0.1969256993808599\n",
       " -0.3150924383135884"
      ]
     },
     "execution_count": 35,
     "metadata": {},
     "output_type": "execute_result"
    }
   ],
   "source": [
    "zvalues = real.([local_measurement(site, sigma_z, mps, svectors) for site in 1:length(mps)])"
   ]
  },
  {
   "cell_type": "code",
   "execution_count": 36,
   "id": "2fc43cc4",
   "metadata": {},
   "outputs": [
    {
     "data": {
      "text/plain": [
       "(2, 2, 2, 2)"
      ]
     },
     "execution_count": 36,
     "metadata": {},
     "output_type": "execute_result"
    }
   ],
   "source": [
    "dt = 0.05\n",
    "Delta = 0.5\n",
    "Uevenhalf = compute_two_body_gate(J, Delta, dt/2)\n",
    "Uodd = compute_two_body_gate(J, Delta, dt)\n",
    "size(Uodd)"
   ]
  },
  {
   "cell_type": "code",
   "execution_count": 37,
   "id": "892bbb21",
   "metadata": {},
   "outputs": [
    {
     "data": {
      "text/plain": [
       "11-element Vector{Float64}:\n",
       " -0.18912387830030145\n",
       "  0.06774913739326952\n",
       " -0.22047496651644982\n",
       "  0.04136328719092747\n",
       " -0.22653286777159487\n",
       "  0.05501833855184201\n",
       " -0.22617886846169824\n",
       "  0.04098200468302848\n",
       " -0.22024473585134058\n",
       "  0.067416284601866\n",
       " -0.18997373551956243"
      ]
     },
     "execution_count": 37,
     "metadata": {},
     "output_type": "execute_result"
    }
   ],
   "source": [
    "for i in 1:20\n",
    "    tebd!(Uevenhalf, Uodd, mps, svectors)\n",
    "end\n",
    "# println(svectors)\n",
    "# tebd!(Uevenhalf, Uodd, mps, svectors)\n",
    "# println(svectors)\n",
    "zvalues_final = real.([local_measurement(site, sigma_z, mps, svectors) for site in 1:length(mps)])"
   ]
  },
  {
   "cell_type": "markdown",
   "id": "6939d2d7",
   "metadata": {},
   "source": [
    "### Check if we are still right-canonical?"
   ]
  },
  {
   "cell_type": "code",
   "execution_count": 38,
   "id": "32d0c664",
   "metadata": {},
   "outputs": [
    {
     "data": {
      "text/plain": [
       "true"
      ]
     },
     "execution_count": 38,
     "metadata": {},
     "output_type": "execute_result"
    }
   ],
   "source": [
    "is_right_canonical(mps)"
   ]
  },
  {
   "cell_type": "code",
   "execution_count": 39,
   "id": "f328ccd7",
   "metadata": {},
   "outputs": [
    {
     "data": {
      "text/plain": [
       "10-element Vector{Float64}:\n",
       " 1.0000000000000107\n",
       " 1.000000000000012\n",
       " 1.000000000000012\n",
       " 1.0000000000000138\n",
       " 1.0000000000000124\n",
       " 1.0000000000000135\n",
       " 1.0000000000000115\n",
       " 1.0000000000000113\n",
       " 1.000000000000011\n",
       " 1.0000000000000109"
      ]
     },
     "execution_count": 39,
     "metadata": {},
     "output_type": "execute_result"
    }
   ],
   "source": [
    "[norm(item) for item in svectors]"
   ]
  },
  {
   "cell_type": "code",
   "execution_count": 40,
   "id": "edd2c6d6",
   "metadata": {
    "scrolled": true
   },
   "outputs": [
    {
     "data": {
      "text/plain": [
       "11-element Vector{Float64}:\n",
       " -0.18912387830030145\n",
       "  0.06774913739326952\n",
       " -0.22047496651644982\n",
       "  0.04136328719092747\n",
       " -0.22653286777159487\n",
       "  0.05501833855184201\n",
       " -0.22617886846169824\n",
       "  0.04098200468302848\n",
       " -0.22024473585134058\n",
       "  0.067416284601866\n",
       " -0.18997373551956243"
      ]
     },
     "execution_count": 40,
     "metadata": {},
     "output_type": "execute_result"
    }
   ],
   "source": [
    "zvalues_final = real.([local_measurement(site, sigma_z, mps, svectors) for site in 1:length(mps)])"
   ]
  },
  {
   "cell_type": "code",
   "execution_count": 41,
   "id": "95ee2d6b",
   "metadata": {
    "scrolled": true
   },
   "outputs": [
    {
     "data": {
      "image/svg+xml": [
       "<?xml version=\"1.0\" encoding=\"utf-8\"?>\n",
       "<svg xmlns=\"http://www.w3.org/2000/svg\" xmlns:xlink=\"http://www.w3.org/1999/xlink\" width=\"600\" height=\"400\" viewBox=\"0 0 2400 1600\">\n",
       "<defs>\n",
       "  <clipPath id=\"clip270\">\n",
       "    <rect x=\"0\" y=\"0\" width=\"2400\" height=\"1600\"/>\n",
       "  </clipPath>\n",
       "</defs>\n",
       "<path clip-path=\"url(#clip270)\" d=\"\n",
       "M0 1600 L2400 1600 L2400 0 L0 0  Z\n",
       "  \" fill=\"#ffffff\" fill-rule=\"evenodd\" fill-opacity=\"1\"/>\n",
       "<defs>\n",
       "  <clipPath id=\"clip271\">\n",
       "    <rect x=\"480\" y=\"0\" width=\"1681\" height=\"1600\"/>\n",
       "  </clipPath>\n",
       "</defs>\n",
       "<path clip-path=\"url(#clip270)\" d=\"\n",
       "M194.422 1486.45 L2352.76 1486.45 L2352.76 47.2441 L194.422 47.2441  Z\n",
       "  \" fill=\"#ffffff\" fill-rule=\"evenodd\" fill-opacity=\"1\"/>\n",
       "<defs>\n",
       "  <clipPath id=\"clip272\">\n",
       "    <rect x=\"194\" y=\"47\" width=\"2159\" height=\"1440\"/>\n",
       "  </clipPath>\n",
       "</defs>\n",
       "<polyline clip-path=\"url(#clip272)\" style=\"stroke:#000000; stroke-linecap:butt; stroke-linejoin:round; stroke-width:2; stroke-opacity:0.1; fill:none\" points=\"\n",
       "  459.123,1486.45 459.123,47.2441 \n",
       "  \"/>\n",
       "<polyline clip-path=\"url(#clip272)\" style=\"stroke:#000000; stroke-linecap:butt; stroke-linejoin:round; stroke-width:2; stroke-opacity:0.1; fill:none\" points=\"\n",
       "  866.356,1486.45 866.356,47.2441 \n",
       "  \"/>\n",
       "<polyline clip-path=\"url(#clip272)\" style=\"stroke:#000000; stroke-linecap:butt; stroke-linejoin:round; stroke-width:2; stroke-opacity:0.1; fill:none\" points=\"\n",
       "  1273.59,1486.45 1273.59,47.2441 \n",
       "  \"/>\n",
       "<polyline clip-path=\"url(#clip272)\" style=\"stroke:#000000; stroke-linecap:butt; stroke-linejoin:round; stroke-width:2; stroke-opacity:0.1; fill:none\" points=\"\n",
       "  1680.82,1486.45 1680.82,47.2441 \n",
       "  \"/>\n",
       "<polyline clip-path=\"url(#clip272)\" style=\"stroke:#000000; stroke-linecap:butt; stroke-linejoin:round; stroke-width:2; stroke-opacity:0.1; fill:none\" points=\"\n",
       "  2088.05,1486.45 2088.05,47.2441 \n",
       "  \"/>\n",
       "<polyline clip-path=\"url(#clip270)\" style=\"stroke:#000000; stroke-linecap:butt; stroke-linejoin:round; stroke-width:4; stroke-opacity:1; fill:none\" points=\"\n",
       "  194.422,1486.45 2352.76,1486.45 \n",
       "  \"/>\n",
       "<polyline clip-path=\"url(#clip270)\" style=\"stroke:#000000; stroke-linecap:butt; stroke-linejoin:round; stroke-width:4; stroke-opacity:1; fill:none\" points=\"\n",
       "  459.123,1486.45 459.123,1469.18 \n",
       "  \"/>\n",
       "<polyline clip-path=\"url(#clip270)\" style=\"stroke:#000000; stroke-linecap:butt; stroke-linejoin:round; stroke-width:4; stroke-opacity:1; fill:none\" points=\"\n",
       "  866.356,1486.45 866.356,1469.18 \n",
       "  \"/>\n",
       "<polyline clip-path=\"url(#clip270)\" style=\"stroke:#000000; stroke-linecap:butt; stroke-linejoin:round; stroke-width:4; stroke-opacity:1; fill:none\" points=\"\n",
       "  1273.59,1486.45 1273.59,1469.18 \n",
       "  \"/>\n",
       "<polyline clip-path=\"url(#clip270)\" style=\"stroke:#000000; stroke-linecap:butt; stroke-linejoin:round; stroke-width:4; stroke-opacity:1; fill:none\" points=\"\n",
       "  1680.82,1486.45 1680.82,1469.18 \n",
       "  \"/>\n",
       "<polyline clip-path=\"url(#clip270)\" style=\"stroke:#000000; stroke-linecap:butt; stroke-linejoin:round; stroke-width:4; stroke-opacity:1; fill:none\" points=\"\n",
       "  2088.05,1486.45 2088.05,1469.18 \n",
       "  \"/>\n",
       "<path clip-path=\"url(#clip270)\" d=\"M453.776 1543.18 L470.096 1543.18 L470.096 1547.12 L448.151 1547.12 L448.151 1543.18 Q450.813 1540.43 455.397 1535.8 Q460.003 1531.15 461.184 1529.81 Q463.429 1527.28 464.309 1525.55 Q465.211 1523.79 465.211 1522.1 Q465.211 1519.34 463.267 1517.61 Q461.346 1515.87 458.244 1515.87 Q456.045 1515.87 453.591 1516.63 Q451.161 1517.4 448.383 1518.95 L448.383 1514.23 Q451.207 1513.09 453.66 1512.51 Q456.114 1511.93 458.151 1511.93 Q463.522 1511.93 466.716 1514.62 Q469.91 1517.31 469.91 1521.8 Q469.91 1523.93 469.1 1525.85 Q468.313 1527.74 466.207 1530.34 Q465.628 1531.01 462.526 1534.23 Q459.424 1537.42 453.776 1543.18 Z\" fill=\"#000000\" fill-rule=\"evenodd\" fill-opacity=\"1\" /><path clip-path=\"url(#clip270)\" d=\"M869.365 1516.63 L857.56 1535.08 L869.365 1535.08 L869.365 1516.63 M868.139 1512.56 L874.018 1512.56 L874.018 1535.08 L878.949 1535.08 L878.949 1538.97 L874.018 1538.97 L874.018 1547.12 L869.365 1547.12 L869.365 1538.97 L853.764 1538.97 L853.764 1534.46 L868.139 1512.56 Z\" fill=\"#000000\" fill-rule=\"evenodd\" fill-opacity=\"1\" /><path clip-path=\"url(#clip270)\" d=\"M1273.99 1527.98 Q1270.85 1527.98 1268.99 1530.13 Q1267.17 1532.28 1267.17 1536.03 Q1267.17 1539.76 1268.99 1541.93 Q1270.85 1544.09 1273.99 1544.09 Q1277.14 1544.09 1278.97 1541.93 Q1280.82 1539.76 1280.82 1536.03 Q1280.82 1532.28 1278.97 1530.13 Q1277.14 1527.98 1273.99 1527.98 M1283.28 1513.32 L1283.28 1517.58 Q1281.52 1516.75 1279.71 1516.31 Q1277.93 1515.87 1276.17 1515.87 Q1271.54 1515.87 1269.09 1519 Q1266.66 1522.12 1266.31 1528.44 Q1267.67 1526.43 1269.73 1525.36 Q1271.8 1524.27 1274.27 1524.27 Q1279.48 1524.27 1282.49 1527.44 Q1285.52 1530.59 1285.52 1536.03 Q1285.52 1541.36 1282.37 1544.57 Q1279.23 1547.79 1273.99 1547.79 Q1268 1547.79 1264.83 1543.21 Q1261.66 1538.6 1261.66 1529.87 Q1261.66 1521.68 1265.55 1516.82 Q1269.43 1511.93 1275.98 1511.93 Q1277.74 1511.93 1279.53 1512.28 Q1281.33 1512.63 1283.28 1513.32 Z\" fill=\"#000000\" fill-rule=\"evenodd\" fill-opacity=\"1\" /><path clip-path=\"url(#clip270)\" d=\"M1680.82 1530.71 Q1677.49 1530.71 1675.57 1532.49 Q1673.67 1534.27 1673.67 1537.4 Q1673.67 1540.52 1675.57 1542.31 Q1677.49 1544.09 1680.82 1544.09 Q1684.16 1544.09 1686.08 1542.31 Q1688 1540.5 1688 1537.4 Q1688 1534.27 1686.08 1532.49 Q1684.18 1530.71 1680.82 1530.71 M1676.15 1528.72 Q1673.14 1527.98 1671.45 1525.92 Q1669.78 1523.86 1669.78 1520.89 Q1669.78 1516.75 1672.72 1514.34 Q1675.68 1511.93 1680.82 1511.93 Q1685.98 1511.93 1688.92 1514.34 Q1691.86 1516.75 1691.86 1520.89 Q1691.86 1523.86 1690.17 1525.92 Q1688.51 1527.98 1685.52 1528.72 Q1688.9 1529.5 1690.78 1531.8 Q1692.67 1534.09 1692.67 1537.4 Q1692.67 1542.42 1689.59 1545.11 Q1686.54 1547.79 1680.82 1547.79 Q1675.1 1547.79 1672.03 1545.11 Q1668.97 1542.42 1668.97 1537.4 Q1668.97 1534.09 1670.87 1531.8 Q1672.77 1529.5 1676.15 1528.72 M1674.43 1521.33 Q1674.43 1524.02 1676.1 1525.52 Q1677.79 1527.03 1680.82 1527.03 Q1683.83 1527.03 1685.52 1525.52 Q1687.23 1524.02 1687.23 1521.33 Q1687.23 1518.65 1685.52 1517.14 Q1683.83 1515.64 1680.82 1515.64 Q1677.79 1515.64 1676.1 1517.14 Q1674.43 1518.65 1674.43 1521.33 Z\" fill=\"#000000\" fill-rule=\"evenodd\" fill-opacity=\"1\" /><path clip-path=\"url(#clip270)\" d=\"M2062.74 1543.18 L2070.38 1543.18 L2070.38 1516.82 L2062.07 1518.49 L2062.07 1514.23 L2070.33 1512.56 L2075.01 1512.56 L2075.01 1543.18 L2082.65 1543.18 L2082.65 1547.12 L2062.74 1547.12 L2062.74 1543.18 Z\" fill=\"#000000\" fill-rule=\"evenodd\" fill-opacity=\"1\" /><path clip-path=\"url(#clip270)\" d=\"M2102.09 1515.64 Q2098.48 1515.64 2096.65 1519.2 Q2094.85 1522.75 2094.85 1529.87 Q2094.85 1536.98 2096.65 1540.55 Q2098.48 1544.09 2102.09 1544.09 Q2105.73 1544.09 2107.53 1540.55 Q2109.36 1536.98 2109.36 1529.87 Q2109.36 1522.75 2107.53 1519.2 Q2105.73 1515.64 2102.09 1515.64 M2102.09 1511.93 Q2107.9 1511.93 2110.96 1516.54 Q2114.04 1521.12 2114.04 1529.87 Q2114.04 1538.6 2110.96 1543.21 Q2107.9 1547.79 2102.09 1547.79 Q2096.28 1547.79 2093.21 1543.21 Q2090.15 1538.6 2090.15 1529.87 Q2090.15 1521.12 2093.21 1516.54 Q2096.28 1511.93 2102.09 1511.93 Z\" fill=\"#000000\" fill-rule=\"evenodd\" fill-opacity=\"1\" /><polyline clip-path=\"url(#clip272)\" style=\"stroke:#000000; stroke-linecap:butt; stroke-linejoin:round; stroke-width:2; stroke-opacity:0.1; fill:none\" points=\"\n",
       "  194.422,1453.2 2352.76,1453.2 \n",
       "  \"/>\n",
       "<polyline clip-path=\"url(#clip272)\" style=\"stroke:#000000; stroke-linecap:butt; stroke-linejoin:round; stroke-width:2; stroke-opacity:0.1; fill:none\" points=\"\n",
       "  194.422,1248.78 2352.76,1248.78 \n",
       "  \"/>\n",
       "<polyline clip-path=\"url(#clip272)\" style=\"stroke:#000000; stroke-linecap:butt; stroke-linejoin:round; stroke-width:2; stroke-opacity:0.1; fill:none\" points=\"\n",
       "  194.422,1044.36 2352.76,1044.36 \n",
       "  \"/>\n",
       "<polyline clip-path=\"url(#clip272)\" style=\"stroke:#000000; stroke-linecap:butt; stroke-linejoin:round; stroke-width:2; stroke-opacity:0.1; fill:none\" points=\"\n",
       "  194.422,839.935 2352.76,839.935 \n",
       "  \"/>\n",
       "<polyline clip-path=\"url(#clip272)\" style=\"stroke:#000000; stroke-linecap:butt; stroke-linejoin:round; stroke-width:2; stroke-opacity:0.1; fill:none\" points=\"\n",
       "  194.422,635.512 2352.76,635.512 \n",
       "  \"/>\n",
       "<polyline clip-path=\"url(#clip272)\" style=\"stroke:#000000; stroke-linecap:butt; stroke-linejoin:round; stroke-width:2; stroke-opacity:0.1; fill:none\" points=\"\n",
       "  194.422,431.088 2352.76,431.088 \n",
       "  \"/>\n",
       "<polyline clip-path=\"url(#clip272)\" style=\"stroke:#000000; stroke-linecap:butt; stroke-linejoin:round; stroke-width:2; stroke-opacity:0.1; fill:none\" points=\"\n",
       "  194.422,226.665 2352.76,226.665 \n",
       "  \"/>\n",
       "<polyline clip-path=\"url(#clip270)\" style=\"stroke:#000000; stroke-linecap:butt; stroke-linejoin:round; stroke-width:4; stroke-opacity:1; fill:none\" points=\"\n",
       "  194.422,1486.45 194.422,47.2441 \n",
       "  \"/>\n",
       "<polyline clip-path=\"url(#clip270)\" style=\"stroke:#000000; stroke-linecap:butt; stroke-linejoin:round; stroke-width:4; stroke-opacity:1; fill:none\" points=\"\n",
       "  194.422,1453.2 220.322,1453.2 \n",
       "  \"/>\n",
       "<polyline clip-path=\"url(#clip270)\" style=\"stroke:#000000; stroke-linecap:butt; stroke-linejoin:round; stroke-width:4; stroke-opacity:1; fill:none\" points=\"\n",
       "  194.422,1248.78 220.322,1248.78 \n",
       "  \"/>\n",
       "<polyline clip-path=\"url(#clip270)\" style=\"stroke:#000000; stroke-linecap:butt; stroke-linejoin:round; stroke-width:4; stroke-opacity:1; fill:none\" points=\"\n",
       "  194.422,1044.36 220.322,1044.36 \n",
       "  \"/>\n",
       "<polyline clip-path=\"url(#clip270)\" style=\"stroke:#000000; stroke-linecap:butt; stroke-linejoin:round; stroke-width:4; stroke-opacity:1; fill:none\" points=\"\n",
       "  194.422,839.935 220.322,839.935 \n",
       "  \"/>\n",
       "<polyline clip-path=\"url(#clip270)\" style=\"stroke:#000000; stroke-linecap:butt; stroke-linejoin:round; stroke-width:4; stroke-opacity:1; fill:none\" points=\"\n",
       "  194.422,635.512 220.322,635.512 \n",
       "  \"/>\n",
       "<polyline clip-path=\"url(#clip270)\" style=\"stroke:#000000; stroke-linecap:butt; stroke-linejoin:round; stroke-width:4; stroke-opacity:1; fill:none\" points=\"\n",
       "  194.422,431.088 220.322,431.088 \n",
       "  \"/>\n",
       "<polyline clip-path=\"url(#clip270)\" style=\"stroke:#000000; stroke-linecap:butt; stroke-linejoin:round; stroke-width:4; stroke-opacity:1; fill:none\" points=\"\n",
       "  194.422,226.665 220.322,226.665 \n",
       "  \"/>\n",
       "<path clip-path=\"url(#clip270)\" d=\"M50.9921 1453.66 L80.6679 1453.66 L80.6679 1457.59 L50.9921 1457.59 L50.9921 1453.66 Z\" fill=\"#000000\" fill-rule=\"evenodd\" fill-opacity=\"1\" /><path clip-path=\"url(#clip270)\" d=\"M100.76 1439 Q97.1493 1439 95.3206 1442.57 Q93.515 1446.11 93.515 1453.24 Q93.515 1460.35 95.3206 1463.91 Q97.1493 1467.45 100.76 1467.45 Q104.395 1467.45 106.2 1463.91 Q108.029 1460.35 108.029 1453.24 Q108.029 1446.11 106.2 1442.57 Q104.395 1439 100.76 1439 M100.76 1435.3 Q106.571 1435.3 109.626 1439.91 Q112.705 1444.49 112.705 1453.24 Q112.705 1461.97 109.626 1466.57 Q106.571 1471.16 100.76 1471.16 Q94.9502 1471.16 91.8715 1466.57 Q88.816 1461.97 88.816 1453.24 Q88.816 1444.49 91.8715 1439.91 Q94.9502 1435.3 100.76 1435.3 Z\" fill=\"#000000\" fill-rule=\"evenodd\" fill-opacity=\"1\" /><path clip-path=\"url(#clip270)\" d=\"M120.922 1464.61 L125.807 1464.61 L125.807 1470.48 L120.922 1470.48 L120.922 1464.61 Z\" fill=\"#000000\" fill-rule=\"evenodd\" fill-opacity=\"1\" /><path clip-path=\"url(#clip270)\" d=\"M148.839 1440 L137.033 1458.45 L148.839 1458.45 L148.839 1440 M147.612 1435.92 L153.492 1435.92 L153.492 1458.45 L158.422 1458.45 L158.422 1462.34 L153.492 1462.34 L153.492 1470.48 L148.839 1470.48 L148.839 1462.34 L133.237 1462.34 L133.237 1457.82 L147.612 1435.92 Z\" fill=\"#000000\" fill-rule=\"evenodd\" fill-opacity=\"1\" /><path clip-path=\"url(#clip270)\" d=\"M52.1264 1249.23 L81.8021 1249.23 L81.8021 1253.17 L52.1264 1253.17 L52.1264 1249.23 Z\" fill=\"#000000\" fill-rule=\"evenodd\" fill-opacity=\"1\" /><path clip-path=\"url(#clip270)\" d=\"M101.895 1234.58 Q98.2835 1234.58 96.4548 1238.15 Q94.6493 1241.69 94.6493 1248.82 Q94.6493 1255.92 96.4548 1259.49 Q98.2835 1263.03 101.895 1263.03 Q105.529 1263.03 107.334 1259.49 Q109.163 1255.92 109.163 1248.82 Q109.163 1241.69 107.334 1238.15 Q105.529 1234.58 101.895 1234.58 M101.895 1230.88 Q107.705 1230.88 110.76 1235.48 Q113.839 1240.07 113.839 1248.82 Q113.839 1257.54 110.76 1262.15 Q107.705 1266.73 101.895 1266.73 Q96.0845 1266.73 93.0058 1262.15 Q89.9503 1257.54 89.9503 1248.82 Q89.9503 1240.07 93.0058 1235.48 Q96.0845 1230.88 101.895 1230.88 Z\" fill=\"#000000\" fill-rule=\"evenodd\" fill-opacity=\"1\" /><path clip-path=\"url(#clip270)\" d=\"M122.057 1260.18 L126.941 1260.18 L126.941 1266.06 L122.057 1266.06 L122.057 1260.18 Z\" fill=\"#000000\" fill-rule=\"evenodd\" fill-opacity=\"1\" /><path clip-path=\"url(#clip270)\" d=\"M151.293 1247.43 Q154.649 1248.15 156.524 1250.41 Q158.422 1252.68 158.422 1256.02 Q158.422 1261.13 154.904 1263.93 Q151.385 1266.73 144.904 1266.73 Q142.728 1266.73 140.413 1266.29 Q138.121 1265.88 135.668 1265.02 L135.668 1260.51 Q137.612 1261.64 139.927 1262.22 Q142.242 1262.8 144.765 1262.8 Q149.163 1262.8 151.455 1261.06 Q153.769 1259.33 153.769 1256.02 Q153.769 1252.96 151.617 1251.25 Q149.487 1249.51 145.668 1249.51 L141.64 1249.51 L141.64 1245.67 L145.853 1245.67 Q149.302 1245.67 151.13 1244.3 Q152.959 1242.91 152.959 1240.32 Q152.959 1237.66 151.061 1236.25 Q149.186 1234.81 145.668 1234.81 Q143.746 1234.81 141.547 1235.23 Q139.348 1235.65 136.709 1236.52 L136.709 1232.36 Q139.371 1231.62 141.686 1231.25 Q144.024 1230.88 146.084 1230.88 Q151.408 1230.88 154.51 1233.31 Q157.612 1235.71 157.612 1239.83 Q157.612 1242.71 155.968 1244.7 Q154.325 1246.66 151.293 1247.43 Z\" fill=\"#000000\" fill-rule=\"evenodd\" fill-opacity=\"1\" /><path clip-path=\"url(#clip270)\" d=\"M53.0754 1044.81 L82.7512 1044.81 L82.7512 1048.74 L53.0754 1048.74 L53.0754 1044.81 Z\" fill=\"#000000\" fill-rule=\"evenodd\" fill-opacity=\"1\" /><path clip-path=\"url(#clip270)\" d=\"M102.844 1030.16 Q99.2326 1030.16 97.4039 1033.72 Q95.5984 1037.26 95.5984 1044.39 Q95.5984 1051.5 97.4039 1055.06 Q99.2326 1058.61 102.844 1058.61 Q106.478 1058.61 108.283 1055.06 Q110.112 1051.5 110.112 1044.39 Q110.112 1037.26 108.283 1033.72 Q106.478 1030.16 102.844 1030.16 M102.844 1026.45 Q108.654 1026.45 111.709 1031.06 Q114.788 1035.64 114.788 1044.39 Q114.788 1053.12 111.709 1057.73 Q108.654 1062.31 102.844 1062.31 Q97.0335 1062.31 93.9549 1057.73 Q90.8993 1053.12 90.8993 1044.39 Q90.8993 1035.64 93.9549 1031.06 Q97.0335 1026.45 102.844 1026.45 Z\" fill=\"#000000\" fill-rule=\"evenodd\" fill-opacity=\"1\" /><path clip-path=\"url(#clip270)\" d=\"M123.006 1055.76 L127.89 1055.76 L127.89 1061.64 L123.006 1061.64 L123.006 1055.76 Z\" fill=\"#000000\" fill-rule=\"evenodd\" fill-opacity=\"1\" /><path clip-path=\"url(#clip270)\" d=\"M142.103 1057.7 L158.422 1057.7 L158.422 1061.64 L136.478 1061.64 L136.478 1057.7 Q139.14 1054.95 143.723 1050.32 Q148.33 1045.67 149.51 1044.32 Q151.755 1041.8 152.635 1040.06 Q153.538 1038.31 153.538 1036.62 Q153.538 1033.86 151.593 1032.12 Q149.672 1030.39 146.57 1030.39 Q144.371 1030.39 141.918 1031.15 Q139.487 1031.92 136.709 1033.47 L136.709 1028.75 Q139.533 1027.61 141.987 1027.03 Q144.441 1026.45 146.478 1026.45 Q151.848 1026.45 155.042 1029.14 Q158.237 1031.82 158.237 1036.31 Q158.237 1038.44 157.427 1040.37 Q156.64 1042.26 154.533 1044.86 Q153.955 1045.53 150.853 1048.74 Q147.751 1051.94 142.103 1057.7 Z\" fill=\"#000000\" fill-rule=\"evenodd\" fill-opacity=\"1\" /><path clip-path=\"url(#clip270)\" d=\"M52.7051 840.386 L82.3808 840.386 L82.3808 844.322 L52.7051 844.322 L52.7051 840.386 Z\" fill=\"#000000\" fill-rule=\"evenodd\" fill-opacity=\"1\" /><path clip-path=\"url(#clip270)\" d=\"M102.473 825.734 Q98.8622 825.734 97.0335 829.299 Q95.228 832.84 95.228 839.97 Q95.228 847.076 97.0335 850.641 Q98.8622 854.183 102.473 854.183 Q106.108 854.183 107.913 850.641 Q109.742 847.076 109.742 839.97 Q109.742 832.84 107.913 829.299 Q106.108 825.734 102.473 825.734 M102.473 822.03 Q108.283 822.03 111.339 826.637 Q114.418 831.22 114.418 839.97 Q114.418 848.697 111.339 853.303 Q108.283 857.886 102.473 857.886 Q96.6632 857.886 93.5845 853.303 Q90.529 848.697 90.529 839.97 Q90.529 831.22 93.5845 826.637 Q96.6632 822.03 102.473 822.03 Z\" fill=\"#000000\" fill-rule=\"evenodd\" fill-opacity=\"1\" /><path clip-path=\"url(#clip270)\" d=\"M122.635 851.335 L127.519 851.335 L127.519 857.215 L122.635 857.215 L122.635 851.335 Z\" fill=\"#000000\" fill-rule=\"evenodd\" fill-opacity=\"1\" /><path clip-path=\"url(#clip270)\" d=\"M138.515 853.28 L146.154 853.28 L146.154 826.914 L137.844 828.581 L137.844 824.322 L146.107 822.655 L150.783 822.655 L150.783 853.28 L158.422 853.28 L158.422 857.215 L138.515 857.215 L138.515 853.28 Z\" fill=\"#000000\" fill-rule=\"evenodd\" fill-opacity=\"1\" /><path clip-path=\"url(#clip270)\" d=\"M101.246 621.31 Q97.6354 621.31 95.8067 624.875 Q94.0012 628.417 94.0012 635.546 Q94.0012 642.653 95.8067 646.218 Q97.6354 649.759 101.246 649.759 Q104.881 649.759 106.686 646.218 Q108.515 642.653 108.515 635.546 Q108.515 628.417 106.686 624.875 Q104.881 621.31 101.246 621.31 M101.246 617.607 Q107.057 617.607 110.112 622.213 Q113.191 626.797 113.191 635.546 Q113.191 644.273 110.112 648.88 Q107.057 653.463 101.246 653.463 Q95.4363 653.463 92.3576 648.88 Q89.3021 644.273 89.3021 635.546 Q89.3021 626.797 92.3576 622.213 Q95.4363 617.607 101.246 617.607 Z\" fill=\"#000000\" fill-rule=\"evenodd\" fill-opacity=\"1\" /><path clip-path=\"url(#clip270)\" d=\"M121.408 646.912 L126.293 646.912 L126.293 652.792 L121.408 652.792 L121.408 646.912 Z\" fill=\"#000000\" fill-rule=\"evenodd\" fill-opacity=\"1\" /><path clip-path=\"url(#clip270)\" d=\"M146.478 621.31 Q142.867 621.31 141.038 624.875 Q139.232 628.417 139.232 635.546 Q139.232 642.653 141.038 646.218 Q142.867 649.759 146.478 649.759 Q150.112 649.759 151.918 646.218 Q153.746 642.653 153.746 635.546 Q153.746 628.417 151.918 624.875 Q150.112 621.31 146.478 621.31 M146.478 617.607 Q152.288 617.607 155.343 622.213 Q158.422 626.797 158.422 635.546 Q158.422 644.273 155.343 648.88 Q152.288 653.463 146.478 653.463 Q140.668 653.463 137.589 648.88 Q134.533 644.273 134.533 635.546 Q134.533 626.797 137.589 622.213 Q140.668 617.607 146.478 617.607 Z\" fill=\"#000000\" fill-rule=\"evenodd\" fill-opacity=\"1\" /><path clip-path=\"url(#clip270)\" d=\"M102.473 416.887 Q98.8622 416.887 97.0335 420.452 Q95.228 423.994 95.228 431.123 Q95.228 438.23 97.0335 441.794 Q98.8622 445.336 102.473 445.336 Q106.108 445.336 107.913 441.794 Q109.742 438.23 109.742 431.123 Q109.742 423.994 107.913 420.452 Q106.108 416.887 102.473 416.887 M102.473 413.183 Q108.283 413.183 111.339 417.79 Q114.418 422.373 114.418 431.123 Q114.418 439.85 111.339 444.456 Q108.283 449.04 102.473 449.04 Q96.6632 449.04 93.5845 444.456 Q90.529 439.85 90.529 431.123 Q90.529 422.373 93.5845 417.79 Q96.6632 413.183 102.473 413.183 Z\" fill=\"#000000\" fill-rule=\"evenodd\" fill-opacity=\"1\" /><path clip-path=\"url(#clip270)\" d=\"M122.635 442.489 L127.519 442.489 L127.519 448.368 L122.635 448.368 L122.635 442.489 Z\" fill=\"#000000\" fill-rule=\"evenodd\" fill-opacity=\"1\" /><path clip-path=\"url(#clip270)\" d=\"M138.515 444.433 L146.154 444.433 L146.154 418.068 L137.844 419.734 L137.844 415.475 L146.107 413.808 L150.783 413.808 L150.783 444.433 L158.422 444.433 L158.422 448.368 L138.515 448.368 L138.515 444.433 Z\" fill=\"#000000\" fill-rule=\"evenodd\" fill-opacity=\"1\" /><path clip-path=\"url(#clip270)\" d=\"M102.844 212.464 Q99.2326 212.464 97.4039 216.029 Q95.5984 219.57 95.5984 226.7 Q95.5984 233.806 97.4039 237.371 Q99.2326 240.913 102.844 240.913 Q106.478 240.913 108.283 237.371 Q110.112 233.806 110.112 226.7 Q110.112 219.57 108.283 216.029 Q106.478 212.464 102.844 212.464 M102.844 208.76 Q108.654 208.76 111.709 213.367 Q114.788 217.95 114.788 226.7 Q114.788 235.427 111.709 240.033 Q108.654 244.616 102.844 244.616 Q97.0335 244.616 93.9549 240.033 Q90.8993 235.427 90.8993 226.7 Q90.8993 217.95 93.9549 213.367 Q97.0335 208.76 102.844 208.76 Z\" fill=\"#000000\" fill-rule=\"evenodd\" fill-opacity=\"1\" /><path clip-path=\"url(#clip270)\" d=\"M123.006 238.066 L127.89 238.066 L127.89 243.945 L123.006 243.945 L123.006 238.066 Z\" fill=\"#000000\" fill-rule=\"evenodd\" fill-opacity=\"1\" /><path clip-path=\"url(#clip270)\" d=\"M142.103 240.01 L158.422 240.01 L158.422 243.945 L136.478 243.945 L136.478 240.01 Q139.14 237.255 143.723 232.626 Q148.33 227.973 149.51 226.63 Q151.755 224.107 152.635 222.371 Q153.538 220.612 153.538 218.922 Q153.538 216.168 151.593 214.431 Q149.672 212.695 146.57 212.695 Q144.371 212.695 141.918 213.459 Q139.487 214.223 136.709 215.774 L136.709 211.052 Q139.533 209.918 141.987 209.339 Q144.441 208.76 146.478 208.76 Q151.848 208.76 155.042 211.445 Q158.237 214.131 158.237 218.621 Q158.237 220.751 157.427 222.672 Q156.64 224.57 154.533 227.163 Q153.955 227.834 150.853 231.052 Q147.751 234.246 142.103 240.01 Z\" fill=\"#000000\" fill-rule=\"evenodd\" fill-opacity=\"1\" /><polyline clip-path=\"url(#clip272)\" style=\"stroke:#009af9; stroke-linecap:butt; stroke-linejoin:round; stroke-width:12; stroke-opacity:1; fill:none\" points=\"\n",
       "  255.507,1279.63 459.123,232.95 662.74,1394.68 866.356,120.467 1069.97,1445.72 1273.59,87.9763 1477.21,1445.72 1680.82,120.467 1884.44,1394.68 2088.05,232.95 \n",
       "  2291.67,1279.63 \n",
       "  \"/>\n",
       "<polyline clip-path=\"url(#clip272)\" style=\"stroke:#e26f46; stroke-linecap:butt; stroke-linejoin:round; stroke-width:12; stroke-opacity:1; fill:none\" points=\"\n",
       "  255.507,1022.13 459.123,497.017 662.74,1086.21 866.356,550.956 1069.97,1098.6 1273.59,523.041 1477.21,1097.87 1680.82,551.735 1884.44,1085.74 2088.05,497.697 \n",
       "  2291.67,1023.86 \n",
       "  \"/>\n",
       "<path clip-path=\"url(#clip270)\" d=\"\n",
       "M1851.53 250.738 L2280.81 250.738 L2280.81 95.2176 L1851.53 95.2176  Z\n",
       "  \" fill=\"#ffffff\" fill-rule=\"evenodd\" fill-opacity=\"1\"/>\n",
       "<polyline clip-path=\"url(#clip270)\" style=\"stroke:#000000; stroke-linecap:butt; stroke-linejoin:round; stroke-width:4; stroke-opacity:1; fill:none\" points=\"\n",
       "  1851.53,250.738 2280.81,250.738 2280.81,95.2176 1851.53,95.2176 1851.53,250.738 \n",
       "  \"/>\n",
       "<polyline clip-path=\"url(#clip270)\" style=\"stroke:#009af9; stroke-linecap:butt; stroke-linejoin:round; stroke-width:4; stroke-opacity:1; fill:none\" points=\"\n",
       "  1875.51,147.058 2019.4,147.058 \n",
       "  \"/>\n",
       "<path clip-path=\"url(#clip270)\" d=\"M2043.96 138.412 L2064.19 138.412 L2064.19 142.301 L2048.17 160.935 L2064.19 160.935 L2064.19 164.338 L2043.38 164.338 L2043.38 160.449 L2059.4 141.815 L2043.96 141.815 L2043.96 138.412 Z\" fill=\"#000000\" fill-rule=\"evenodd\" fill-opacity=\"1\" /><path clip-path=\"url(#clip270)\" d=\"M2070.3 128.319 L2080.12 128.319 L2080.12 131.629 L2074.56 131.629 L2074.56 167.277 L2080.12 167.277 L2080.12 170.588 L2070.3 170.588 L2070.3 128.319 Z\" fill=\"#000000\" fill-rule=\"evenodd\" fill-opacity=\"1\" /><path clip-path=\"url(#clip270)\" d=\"M2093.4 131.051 L2093.4 138.412 L2102.18 138.412 L2102.18 141.722 L2093.4 141.722 L2093.4 155.796 Q2093.4 158.967 2094.26 159.87 Q2095.14 160.773 2097.8 160.773 L2102.18 160.773 L2102.18 164.338 L2097.8 164.338 Q2092.87 164.338 2091 162.509 Q2089.12 160.657 2089.12 155.796 L2089.12 141.722 L2086 141.722 L2086 138.412 L2089.12 138.412 L2089.12 131.051 L2093.4 131.051 Z\" fill=\"#000000\" fill-rule=\"evenodd\" fill-opacity=\"1\" /><path clip-path=\"url(#clip270)\" d=\"M2108.34 142.81 L2138.01 142.81 L2138.01 146.699 L2108.34 146.699 L2108.34 142.81 M2108.34 152.254 L2138.01 152.254 L2138.01 156.189 L2108.34 156.189 L2108.34 152.254 Z\" fill=\"#000000\" fill-rule=\"evenodd\" fill-opacity=\"1\" /><path clip-path=\"url(#clip270)\" d=\"M2158.1 132.856 Q2154.49 132.856 2152.66 136.421 Q2150.86 139.963 2150.86 147.092 Q2150.86 154.199 2152.66 157.764 Q2154.49 161.305 2158.1 161.305 Q2161.74 161.305 2163.54 157.764 Q2165.37 154.199 2165.37 147.092 Q2165.37 139.963 2163.54 136.421 Q2161.74 132.856 2158.1 132.856 M2158.1 129.153 Q2163.91 129.153 2166.97 133.759 Q2170.05 138.342 2170.05 147.092 Q2170.05 155.819 2166.97 160.426 Q2163.91 165.009 2158.1 165.009 Q2152.29 165.009 2149.21 160.426 Q2146.16 155.819 2146.16 147.092 Q2146.16 138.342 2149.21 133.759 Q2152.29 129.153 2158.1 129.153 Z\" fill=\"#000000\" fill-rule=\"evenodd\" fill-opacity=\"1\" /><path clip-path=\"url(#clip270)\" d=\"M2187.62 128.319 L2187.62 170.588 L2177.8 170.588 L2177.8 167.277 L2183.33 167.277 L2183.33 131.629 L2177.8 131.629 L2177.8 128.319 L2187.62 128.319 Z\" fill=\"#000000\" fill-rule=\"evenodd\" fill-opacity=\"1\" /><polyline clip-path=\"url(#clip270)\" style=\"stroke:#e26f46; stroke-linecap:butt; stroke-linejoin:round; stroke-width:4; stroke-opacity:1; fill:none\" points=\"\n",
       "  1875.51,198.898 2019.4,198.898 \n",
       "  \"/>\n",
       "<path clip-path=\"url(#clip270)\" d=\"M2043.96 190.252 L2064.19 190.252 L2064.19 194.141 L2048.17 212.775 L2064.19 212.775 L2064.19 216.178 L2043.38 216.178 L2043.38 212.289 L2059.4 193.655 L2043.96 193.655 L2043.96 190.252 Z\" fill=\"#000000\" fill-rule=\"evenodd\" fill-opacity=\"1\" /><path clip-path=\"url(#clip270)\" d=\"M2070.3 180.159 L2080.12 180.159 L2080.12 183.469 L2074.56 183.469 L2074.56 219.117 L2080.12 219.117 L2080.12 222.428 L2070.3 222.428 L2070.3 180.159 Z\" fill=\"#000000\" fill-rule=\"evenodd\" fill-opacity=\"1\" /><path clip-path=\"url(#clip270)\" d=\"M2093.4 182.891 L2093.4 190.252 L2102.18 190.252 L2102.18 193.562 L2093.4 193.562 L2093.4 207.636 Q2093.4 210.807 2094.26 211.71 Q2095.14 212.613 2097.8 212.613 L2102.18 212.613 L2102.18 216.178 L2097.8 216.178 Q2092.87 216.178 2091 214.349 Q2089.12 212.497 2089.12 207.636 L2089.12 193.562 L2086 193.562 L2086 190.252 L2089.12 190.252 L2089.12 182.891 L2093.4 182.891 Z\" fill=\"#000000\" fill-rule=\"evenodd\" fill-opacity=\"1\" /><path clip-path=\"url(#clip270)\" d=\"M2108.34 194.65 L2138.01 194.65 L2138.01 198.539 L2108.34 198.539 L2108.34 194.65 M2108.34 204.094 L2138.01 204.094 L2138.01 208.029 L2108.34 208.029 L2108.34 204.094 Z\" fill=\"#000000\" fill-rule=\"evenodd\" fill-opacity=\"1\" /><path clip-path=\"url(#clip270)\" d=\"M2158.1 184.696 Q2154.49 184.696 2152.66 188.261 Q2150.86 191.803 2150.86 198.932 Q2150.86 206.039 2152.66 209.604 Q2154.49 213.145 2158.1 213.145 Q2161.74 213.145 2163.54 209.604 Q2165.37 206.039 2165.37 198.932 Q2165.37 191.803 2163.54 188.261 Q2161.74 184.696 2158.1 184.696 M2158.1 180.993 Q2163.91 180.993 2166.97 185.599 Q2170.05 190.182 2170.05 198.932 Q2170.05 207.659 2166.97 212.266 Q2163.91 216.849 2158.1 216.849 Q2152.29 216.849 2149.21 212.266 Q2146.16 207.659 2146.16 198.932 Q2146.16 190.182 2149.21 185.599 Q2152.29 180.993 2158.1 180.993 Z\" fill=\"#000000\" fill-rule=\"evenodd\" fill-opacity=\"1\" /><path clip-path=\"url(#clip270)\" d=\"M2178.27 210.298 L2183.15 210.298 L2183.15 216.178 L2178.27 216.178 L2178.27 210.298 Z\" fill=\"#000000\" fill-rule=\"evenodd\" fill-opacity=\"1\" /><path clip-path=\"url(#clip270)\" d=\"M2194.14 212.242 L2201.78 212.242 L2201.78 185.877 L2193.47 187.543 L2193.47 183.284 L2201.74 181.618 L2206.41 181.618 L2206.41 212.242 L2214.05 212.242 L2214.05 216.178 L2194.14 216.178 L2194.14 212.242 Z\" fill=\"#000000\" fill-rule=\"evenodd\" fill-opacity=\"1\" /><path clip-path=\"url(#clip270)\" d=\"M2232.85 180.159 L2232.85 222.428 L2223.03 222.428 L2223.03 219.117 L2228.57 219.117 L2228.57 183.469 L2223.03 183.469 L2223.03 180.159 L2232.85 180.159 Z\" fill=\"#000000\" fill-rule=\"evenodd\" fill-opacity=\"1\" /></svg>\n"
      ]
     },
     "execution_count": 41,
     "metadata": {},
     "output_type": "execute_result"
    }
   ],
   "source": [
    "fig = plot(collect(1:length(zvalues)), zvalues, linewidth=3, label=\"z[t=0]\")\n",
    "plot!(fig, collect(1:length(zvalues)), zvalues_final, linewidth=3, label=\"z[t=0.1]\")"
   ]
  },
  {
   "cell_type": "markdown",
   "id": "21d6a0d8",
   "metadata": {},
   "source": [
    "## More advanced topics\n",
    "- The algorithm side\n",
    "    - Symmetries? $U(1)$ symmetric, $SU(2)$ symmetric matrix product states algorithms\n",
    "    - MPO based time evolution algorithms\n",
    "        - The $W^1$, $W^2$ algorithm [Time-evolving a matrix product state with long-ranged interactions](https://journals.aps.org/prb/abstract/10.1103/PhysRevB.91.165112)\n",
    "        - Time dependent variational principle (TDVP) algorithm [Unifying time evolution and optimization with matrix product states](https://journals.aps.org/prb/abstract/10.1103/PhysRevB.94.165116)\n",
    "    - **Infinite MPS** algorithms\n",
    "        - Infinite variational MPS algorithm\n",
    "        - Infinite TEBD algorithm\n",
    "    - Generalization to two-dimensional system. Two-dimensional finite size and infinite size projected entangled pair states (PEPS) algorithm\n",
    "    - Other tensor network states algorithms including tree tensor network, MERA...\n",
    "- The application side\n",
    "    - Application to Markovian or Lindblad open quantum systems (This generalization is fairly straightforward)\n",
    "        - compute the long-time steady state, similar to the ground state of unitary system\n",
    "        - Time evolution of open quantum system\n",
    "    - Application to non-Markovian open quantum systems by directly evolving the system plus the environment\n",
    "    - Applications in quantum information and quantum computing\n",
    "    - A new framework for machine learning\n",
    "    - A data structure for high-dimensional probability distribution\n",
    "    - ..."
   ]
  },
  {
   "cell_type": "markdown",
   "id": "88926511",
   "metadata": {},
   "source": [
    "A **warning**: Julia uses column-major array while python uses row-major array. Keep in mind: If you are using Julia, try not to use the two functions **reshape and kron at the same time**. Note that the function contract can be used as a substitution for kron. If you have to use these two functions in your code, just use one of them. You can use them together unless you really know what you are doing."
   ]
  }
 ],
 "metadata": {
  "kernelspec": {
   "display_name": "Julia 1.6.1",
   "language": "julia",
   "name": "julia-1.6"
  },
  "language_info": {
   "file_extension": ".jl",
   "mimetype": "application/julia",
   "name": "julia",
   "version": "1.6.1"
  }
 },
 "nbformat": 4,
 "nbformat_minor": 5
}
